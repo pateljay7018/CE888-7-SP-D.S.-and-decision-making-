{
  "nbformat": 4,
  "nbformat_minor": 0,
  "metadata": {
    "colab": {
      "name": "Untitled3.ipynb",
      "provenance": [],
      "collapsed_sections": [],
      "include_colab_link": true
    },
    "kernelspec": {
      "name": "python3",
      "display_name": "Python 3"
    }
  },
  "cells": [
    {
      "cell_type": "markdown",
      "metadata": {
        "id": "view-in-github",
        "colab_type": "text"
      },
      "source": [
        "<a href=\"https://colab.research.google.com/github/pateljay7018/CE888-7-SP-D.S.-and-decision-making-/blob/main/Assignment-1/dataset_marge.ipynb\" target=\"_parent\"><img src=\"https://colab.research.google.com/assets/colab-badge.svg\" alt=\"Open In Colab\"/></a>"
      ]
    },
    {
      "cell_type": "code",
      "metadata": {
        "id": "BiOKq3gLaPsk"
      },
      "source": [
        "import numpy as np\r\n",
        "import pandas as pd\r\n",
        "import warnings\r\n",
        "from google.colab import files\r\n",
        "warnings.filterwarnings(\"ignore\")"
      ],
      "execution_count": 153,
      "outputs": []
    },
    {
      "cell_type": "code",
      "metadata": {
        "colab": {
          "base_uri": "https://localhost:8080/"
        },
        "id": "yLLD-zfec_dh",
        "outputId": "1d6a6a57-7f5e-4e92-8576-56a7d4234cd5"
      },
      "source": [
        "#connecting google drive for importing datasets\r\n",
        "\r\n",
        "from google.colab import drive\r\n",
        "drive.mount(\"/content/gdrive\")"
      ],
      "execution_count": 154,
      "outputs": [
        {
          "output_type": "stream",
          "text": [
            "Drive already mounted at /content/gdrive; to attempt to forcibly remount, call drive.mount(\"/content/gdrive\", force_remount=True).\n"
          ],
          "name": "stdout"
        }
      ]
    },
    {
      "cell_type": "code",
      "metadata": {
        "colab": {
          "base_uri": "https://localhost:8080/",
          "height": 498
        },
        "id": "ZBkvBdtT0d95",
        "outputId": "160823e0-3af5-4d01-dc49-9476e98d0e56"
      },
      "source": [
        "#LONDON\r\n",
        "\r\n",
        "london20_1 = pd.read_csv('/content/gdrive/My Drive/CE888/2020-01/2020-01-city-of-london-stop-and-search.csv')\r\n",
        "london20_1[\"Date\"] = \"2020-01\"\r\n",
        "london20_2 = pd.read_csv('/content/gdrive/My Drive/CE888/2020-02/2020-02-city-of-london-stop-and-search.csv')\r\n",
        "london20_2[\"Date\"] = \"2020-02\"\r\n",
        "london20_3 = pd.read_csv('/content/gdrive/My Drive/CE888/2020-03/2020-03-city-of-london-stop-and-search.csv')\r\n",
        "london20_3[\"Date\"] = \"2020-03\"\r\n",
        "london20_4 = pd.read_csv('/content/gdrive/My Drive/CE888/2020-04/2020-04-city-of-london-stop-and-search.csv')\r\n",
        "london20_4[\"Date\"] = \"2020-04\"\r\n",
        "london20_5 = pd.read_csv('/content/gdrive/My Drive/CE888/2020-05/2020-05-city-of-london-stop-and-search.csv')\r\n",
        "london20_5[\"Date\"] = \"2020-05\"\r\n",
        "london20_6 = pd.read_csv('/content/gdrive/My Drive/CE888/2020-06/2020-06-city-of-london-stop-and-search.csv')\r\n",
        "london20_6[\"Date\"] = \"2020-06\"\r\n",
        "london20_7 = pd.read_csv('/content/gdrive/My Drive/CE888/2020-07/2020-07-city-of-london-stop-and-search.csv')\r\n",
        "london20_7[\"Date\"] = \"2020-07\"\r\n",
        "london20_8 = pd.read_csv('/content/gdrive/My Drive/CE888/2020-08/2020-08-city-of-london-stop-and-search.csv')\r\n",
        "london20_8[\"Date\"] = \"2020-08\"\r\n",
        "london20_9 = pd.read_csv('/content/gdrive/My Drive/CE888/2020-09/2020-09-city-of-london-stop-and-search.csv')\r\n",
        "london20_9[\"Date\"] = \"2020-09\"\r\n",
        "london20_10 = pd.read_csv('/content/gdrive/My Drive/CE888/2020-10/2020-10-city-of-london-stop-and-search.csv')\r\n",
        "london20_10[\"Date\"] = \"2020-10\"\r\n",
        "london20_11 = pd.read_csv('/content/gdrive/My Drive/CE888/2020-11/2020-11-city-of-london-stop-and-search.csv')\r\n",
        "london20_11[\"Date\"] = \"2020-11\"\r\n",
        "london20_12 = pd.read_csv('/content/gdrive/My Drive/CE888/2020-12/2020-12-city-of-london-stop-and-search.csv')\r\n",
        "london20 = pd.concat([london20_1,london20_2,london20_3,london20_4,london20_5,london20_6,london20_7,london20_8,london20_9,london20_10,london20_11,london20_12])\r\n",
        "london = pd.concat([london20])\r\n",
        "london[\"City\"] = \"London\"\r\n",
        "london= pd.DataFrame(london)\r\n",
        "london.head()"
      ],
      "execution_count": 155,
      "outputs": [
        {
          "output_type": "execute_result",
          "data": {
            "text/html": [
              "<div>\n",
              "<style scoped>\n",
              "    .dataframe tbody tr th:only-of-type {\n",
              "        vertical-align: middle;\n",
              "    }\n",
              "\n",
              "    .dataframe tbody tr th {\n",
              "        vertical-align: top;\n",
              "    }\n",
              "\n",
              "    .dataframe thead th {\n",
              "        text-align: right;\n",
              "    }\n",
              "</style>\n",
              "<table border=\"1\" class=\"dataframe\">\n",
              "  <thead>\n",
              "    <tr style=\"text-align: right;\">\n",
              "      <th></th>\n",
              "      <th>Type</th>\n",
              "      <th>Date</th>\n",
              "      <th>Part of a policing operation</th>\n",
              "      <th>Policing operation</th>\n",
              "      <th>Latitude</th>\n",
              "      <th>Longitude</th>\n",
              "      <th>Gender</th>\n",
              "      <th>Age range</th>\n",
              "      <th>Self-defined ethnicity</th>\n",
              "      <th>Officer-defined ethnicity</th>\n",
              "      <th>Legislation</th>\n",
              "      <th>Object of search</th>\n",
              "      <th>Outcome</th>\n",
              "      <th>Outcome linked to object of search</th>\n",
              "      <th>Removal of more than just outer clothing</th>\n",
              "      <th>City</th>\n",
              "    </tr>\n",
              "  </thead>\n",
              "  <tbody>\n",
              "    <tr>\n",
              "      <th>0</th>\n",
              "      <td>Person search</td>\n",
              "      <td>2020-01</td>\n",
              "      <td>NaN</td>\n",
              "      <td>NaN</td>\n",
              "      <td>NaN</td>\n",
              "      <td>NaN</td>\n",
              "      <td>Male</td>\n",
              "      <td>18-24</td>\n",
              "      <td>Other ethnic group - Any other ethnic group</td>\n",
              "      <td>White</td>\n",
              "      <td>Police and Criminal Evidence Act 1984 (section 1)</td>\n",
              "      <td>Stolen goods</td>\n",
              "      <td>A no further action disposal</td>\n",
              "      <td>False</td>\n",
              "      <td>False</td>\n",
              "      <td>London</td>\n",
              "    </tr>\n",
              "    <tr>\n",
              "      <th>1</th>\n",
              "      <td>Person search</td>\n",
              "      <td>2020-01</td>\n",
              "      <td>NaN</td>\n",
              "      <td>NaN</td>\n",
              "      <td>51.512598</td>\n",
              "      <td>-0.084967</td>\n",
              "      <td>Male</td>\n",
              "      <td>10-17</td>\n",
              "      <td>Other ethnic group - Not stated</td>\n",
              "      <td>Black</td>\n",
              "      <td>Misuse of Drugs Act 1971 (section 23)</td>\n",
              "      <td>Controlled drugs</td>\n",
              "      <td>A no further action disposal</td>\n",
              "      <td>False</td>\n",
              "      <td>False</td>\n",
              "      <td>London</td>\n",
              "    </tr>\n",
              "    <tr>\n",
              "      <th>2</th>\n",
              "      <td>Person search</td>\n",
              "      <td>2020-01</td>\n",
              "      <td>NaN</td>\n",
              "      <td>NaN</td>\n",
              "      <td>51.512598</td>\n",
              "      <td>-0.084967</td>\n",
              "      <td>Male</td>\n",
              "      <td>10-17</td>\n",
              "      <td>Black/African/Caribbean/Black British - African</td>\n",
              "      <td>Black</td>\n",
              "      <td>Misuse of Drugs Act 1971 (section 23)</td>\n",
              "      <td>Controlled drugs</td>\n",
              "      <td>A no further action disposal</td>\n",
              "      <td>False</td>\n",
              "      <td>False</td>\n",
              "      <td>London</td>\n",
              "    </tr>\n",
              "    <tr>\n",
              "      <th>3</th>\n",
              "      <td>Person search</td>\n",
              "      <td>2020-01</td>\n",
              "      <td>NaN</td>\n",
              "      <td>NaN</td>\n",
              "      <td>51.512598</td>\n",
              "      <td>-0.084967</td>\n",
              "      <td>Male</td>\n",
              "      <td>10-17</td>\n",
              "      <td>Other ethnic group - Not stated</td>\n",
              "      <td>Black</td>\n",
              "      <td>Misuse of Drugs Act 1971 (section 23)</td>\n",
              "      <td>Controlled drugs</td>\n",
              "      <td>A no further action disposal</td>\n",
              "      <td>False</td>\n",
              "      <td>False</td>\n",
              "      <td>London</td>\n",
              "    </tr>\n",
              "    <tr>\n",
              "      <th>4</th>\n",
              "      <td>Person search</td>\n",
              "      <td>2020-01</td>\n",
              "      <td>NaN</td>\n",
              "      <td>NaN</td>\n",
              "      <td>51.512745</td>\n",
              "      <td>-0.089040</td>\n",
              "      <td>Male</td>\n",
              "      <td>18-24</td>\n",
              "      <td>Other ethnic group - Not stated</td>\n",
              "      <td>Asian</td>\n",
              "      <td>Police and Criminal Evidence Act 1984 (section 1)</td>\n",
              "      <td>Offensive weapons</td>\n",
              "      <td>A no further action disposal</td>\n",
              "      <td>False</td>\n",
              "      <td>False</td>\n",
              "      <td>London</td>\n",
              "    </tr>\n",
              "  </tbody>\n",
              "</table>\n",
              "</div>"
            ],
            "text/plain": [
              "            Type     Date  ...  Removal of more than just outer clothing    City\n",
              "0  Person search  2020-01  ...                                     False  London\n",
              "1  Person search  2020-01  ...                                     False  London\n",
              "2  Person search  2020-01  ...                                     False  London\n",
              "3  Person search  2020-01  ...                                     False  London\n",
              "4  Person search  2020-01  ...                                     False  London\n",
              "\n",
              "[5 rows x 16 columns]"
            ]
          },
          "metadata": {
            "tags": []
          },
          "execution_count": 155
        }
      ]
    },
    {
      "cell_type": "code",
      "metadata": {
        "colab": {
          "base_uri": "https://localhost:8080/",
          "height": 195
        },
        "id": "or2o5Qd6RfF7",
        "outputId": "9f794756-a593-44ba-a296-a8a22f3d866c"
      },
      "source": [
        "#Getting subset\r\n",
        "df= pd.concat([london])\r\n",
        "sort = df[['City','Date','Officer-defined ethnicity','Type','Self-defined ethnicity','Gender','Age range','Removal of more than just outer clothing','Outcome']]\r\n",
        "data = sort.dropna()\r\n",
        "data = data.reset_index(drop=True)\r\n",
        "data.head()"
      ],
      "execution_count": 156,
      "outputs": [
        {
          "output_type": "execute_result",
          "data": {
            "text/html": [
              "<div>\n",
              "<style scoped>\n",
              "    .dataframe tbody tr th:only-of-type {\n",
              "        vertical-align: middle;\n",
              "    }\n",
              "\n",
              "    .dataframe tbody tr th {\n",
              "        vertical-align: top;\n",
              "    }\n",
              "\n",
              "    .dataframe thead th {\n",
              "        text-align: right;\n",
              "    }\n",
              "</style>\n",
              "<table border=\"1\" class=\"dataframe\">\n",
              "  <thead>\n",
              "    <tr style=\"text-align: right;\">\n",
              "      <th></th>\n",
              "      <th>City</th>\n",
              "      <th>Date</th>\n",
              "      <th>Officer-defined ethnicity</th>\n",
              "      <th>Type</th>\n",
              "      <th>Self-defined ethnicity</th>\n",
              "      <th>Gender</th>\n",
              "      <th>Age range</th>\n",
              "      <th>Removal of more than just outer clothing</th>\n",
              "      <th>Outcome</th>\n",
              "    </tr>\n",
              "  </thead>\n",
              "  <tbody>\n",
              "    <tr>\n",
              "      <th>0</th>\n",
              "      <td>London</td>\n",
              "      <td>2020-01</td>\n",
              "      <td>White</td>\n",
              "      <td>Person search</td>\n",
              "      <td>Other ethnic group - Any other ethnic group</td>\n",
              "      <td>Male</td>\n",
              "      <td>18-24</td>\n",
              "      <td>False</td>\n",
              "      <td>A no further action disposal</td>\n",
              "    </tr>\n",
              "    <tr>\n",
              "      <th>1</th>\n",
              "      <td>London</td>\n",
              "      <td>2020-01</td>\n",
              "      <td>Black</td>\n",
              "      <td>Person search</td>\n",
              "      <td>Other ethnic group - Not stated</td>\n",
              "      <td>Male</td>\n",
              "      <td>10-17</td>\n",
              "      <td>False</td>\n",
              "      <td>A no further action disposal</td>\n",
              "    </tr>\n",
              "    <tr>\n",
              "      <th>2</th>\n",
              "      <td>London</td>\n",
              "      <td>2020-01</td>\n",
              "      <td>Black</td>\n",
              "      <td>Person search</td>\n",
              "      <td>Black/African/Caribbean/Black British - African</td>\n",
              "      <td>Male</td>\n",
              "      <td>10-17</td>\n",
              "      <td>False</td>\n",
              "      <td>A no further action disposal</td>\n",
              "    </tr>\n",
              "    <tr>\n",
              "      <th>3</th>\n",
              "      <td>London</td>\n",
              "      <td>2020-01</td>\n",
              "      <td>Black</td>\n",
              "      <td>Person search</td>\n",
              "      <td>Other ethnic group - Not stated</td>\n",
              "      <td>Male</td>\n",
              "      <td>10-17</td>\n",
              "      <td>False</td>\n",
              "      <td>A no further action disposal</td>\n",
              "    </tr>\n",
              "    <tr>\n",
              "      <th>4</th>\n",
              "      <td>London</td>\n",
              "      <td>2020-01</td>\n",
              "      <td>Asian</td>\n",
              "      <td>Person search</td>\n",
              "      <td>Other ethnic group - Not stated</td>\n",
              "      <td>Male</td>\n",
              "      <td>18-24</td>\n",
              "      <td>False</td>\n",
              "      <td>A no further action disposal</td>\n",
              "    </tr>\n",
              "  </tbody>\n",
              "</table>\n",
              "</div>"
            ],
            "text/plain": [
              "     City  ...                       Outcome\n",
              "0  London  ...  A no further action disposal\n",
              "1  London  ...  A no further action disposal\n",
              "2  London  ...  A no further action disposal\n",
              "3  London  ...  A no further action disposal\n",
              "4  London  ...  A no further action disposal\n",
              "\n",
              "[5 rows x 9 columns]"
            ]
          },
          "metadata": {
            "tags": []
          },
          "execution_count": 156
        }
      ]
    },
    {
      "cell_type": "code",
      "metadata": {
        "colab": {
          "base_uri": "https://localhost:8080/"
        },
        "id": "bR0Ng3AYWMfd",
        "outputId": "2f7219ac-26dc-4ac4-fa43-e52bcdac8c1c"
      },
      "source": [
        "#shape of datae\r\n",
        "data.shape"
      ],
      "execution_count": 157,
      "outputs": [
        {
          "output_type": "execute_result",
          "data": {
            "text/plain": [
              "(2850, 9)"
            ]
          },
          "metadata": {
            "tags": []
          },
          "execution_count": 157
        }
      ]
    },
    {
      "cell_type": "code",
      "metadata": {
        "id": "a9tdHrs2XcJe"
      },
      "source": [
        "#To save file in my google drive\r\n",
        "data.to_csv('/content/gdrive/My Drive/CE888/2020-city-of-london_final.csv')"
      ],
      "execution_count": 158,
      "outputs": []
    },
    {
      "cell_type": "code",
      "metadata": {
        "id": "eVj0ex2LYVI_",
        "outputId": "407097c5-8909-46ab-f4c2-4f809ef23da2",
        "colab": {
          "base_uri": "https://localhost:8080/",
          "height": 17
        }
      },
      "source": [
        "data.to_csv('2020-city-of-london_final.csv') \r\n",
        "files.download('2020-city-of-london_final.csv')"
      ],
      "execution_count": 159,
      "outputs": [
        {
          "output_type": "display_data",
          "data": {
            "application/javascript": [
              "\n",
              "    async function download(id, filename, size) {\n",
              "      if (!google.colab.kernel.accessAllowed) {\n",
              "        return;\n",
              "      }\n",
              "      const div = document.createElement('div');\n",
              "      const label = document.createElement('label');\n",
              "      label.textContent = `Downloading \"${filename}\": `;\n",
              "      div.appendChild(label);\n",
              "      const progress = document.createElement('progress');\n",
              "      progress.max = size;\n",
              "      div.appendChild(progress);\n",
              "      document.body.appendChild(div);\n",
              "\n",
              "      const buffers = [];\n",
              "      let downloaded = 0;\n",
              "\n",
              "      const channel = await google.colab.kernel.comms.open(id);\n",
              "      // Send a message to notify the kernel that we're ready.\n",
              "      channel.send({})\n",
              "\n",
              "      for await (const message of channel.messages) {\n",
              "        // Send a message to notify the kernel that we're ready.\n",
              "        channel.send({})\n",
              "        if (message.buffers) {\n",
              "          for (const buffer of message.buffers) {\n",
              "            buffers.push(buffer);\n",
              "            downloaded += buffer.byteLength;\n",
              "            progress.value = downloaded;\n",
              "          }\n",
              "        }\n",
              "      }\n",
              "      const blob = new Blob(buffers, {type: 'application/binary'});\n",
              "      const a = document.createElement('a');\n",
              "      a.href = window.URL.createObjectURL(blob);\n",
              "      a.download = filename;\n",
              "      div.appendChild(a);\n",
              "      a.click();\n",
              "      div.remove();\n",
              "    }\n",
              "  "
            ],
            "text/plain": [
              "<IPython.core.display.Javascript object>"
            ]
          },
          "metadata": {
            "tags": []
          }
        },
        {
          "output_type": "display_data",
          "data": {
            "application/javascript": [
              "download(\"download_1bd9b3c6-95a3-48a0-a5e3-b24a2cf64e5f\", \"2020-city-of-london_final.csv\", 363283)"
            ],
            "text/plain": [
              "<IPython.core.display.Javascript object>"
            ]
          },
          "metadata": {
            "tags": []
          }
        }
      ]
    },
    {
      "cell_type": "code",
      "metadata": {
        "id": "5-c8LKBYYkye",
        "outputId": "ec83c1e6-b678-458e-948e-2ccf1032d697",
        "colab": {
          "base_uri": "https://localhost:8080/",
          "height": 195
        }
      },
      "source": [
        "#renaming the column name to standard\r\n",
        "\r\n",
        "data.head()"
      ],
      "execution_count": 160,
      "outputs": [
        {
          "output_type": "execute_result",
          "data": {
            "text/html": [
              "<div>\n",
              "<style scoped>\n",
              "    .dataframe tbody tr th:only-of-type {\n",
              "        vertical-align: middle;\n",
              "    }\n",
              "\n",
              "    .dataframe tbody tr th {\n",
              "        vertical-align: top;\n",
              "    }\n",
              "\n",
              "    .dataframe thead th {\n",
              "        text-align: right;\n",
              "    }\n",
              "</style>\n",
              "<table border=\"1\" class=\"dataframe\">\n",
              "  <thead>\n",
              "    <tr style=\"text-align: right;\">\n",
              "      <th></th>\n",
              "      <th>City</th>\n",
              "      <th>Date</th>\n",
              "      <th>Officer-defined ethnicity</th>\n",
              "      <th>Type</th>\n",
              "      <th>Self-defined ethnicity</th>\n",
              "      <th>Gender</th>\n",
              "      <th>Age range</th>\n",
              "      <th>Removal of more than just outer clothing</th>\n",
              "      <th>Outcome</th>\n",
              "    </tr>\n",
              "  </thead>\n",
              "  <tbody>\n",
              "    <tr>\n",
              "      <th>0</th>\n",
              "      <td>London</td>\n",
              "      <td>2020-01</td>\n",
              "      <td>White</td>\n",
              "      <td>Person search</td>\n",
              "      <td>Other ethnic group - Any other ethnic group</td>\n",
              "      <td>Male</td>\n",
              "      <td>18-24</td>\n",
              "      <td>False</td>\n",
              "      <td>A no further action disposal</td>\n",
              "    </tr>\n",
              "    <tr>\n",
              "      <th>1</th>\n",
              "      <td>London</td>\n",
              "      <td>2020-01</td>\n",
              "      <td>Black</td>\n",
              "      <td>Person search</td>\n",
              "      <td>Other ethnic group - Not stated</td>\n",
              "      <td>Male</td>\n",
              "      <td>10-17</td>\n",
              "      <td>False</td>\n",
              "      <td>A no further action disposal</td>\n",
              "    </tr>\n",
              "    <tr>\n",
              "      <th>2</th>\n",
              "      <td>London</td>\n",
              "      <td>2020-01</td>\n",
              "      <td>Black</td>\n",
              "      <td>Person search</td>\n",
              "      <td>Black/African/Caribbean/Black British - African</td>\n",
              "      <td>Male</td>\n",
              "      <td>10-17</td>\n",
              "      <td>False</td>\n",
              "      <td>A no further action disposal</td>\n",
              "    </tr>\n",
              "    <tr>\n",
              "      <th>3</th>\n",
              "      <td>London</td>\n",
              "      <td>2020-01</td>\n",
              "      <td>Black</td>\n",
              "      <td>Person search</td>\n",
              "      <td>Other ethnic group - Not stated</td>\n",
              "      <td>Male</td>\n",
              "      <td>10-17</td>\n",
              "      <td>False</td>\n",
              "      <td>A no further action disposal</td>\n",
              "    </tr>\n",
              "    <tr>\n",
              "      <th>4</th>\n",
              "      <td>London</td>\n",
              "      <td>2020-01</td>\n",
              "      <td>Asian</td>\n",
              "      <td>Person search</td>\n",
              "      <td>Other ethnic group - Not stated</td>\n",
              "      <td>Male</td>\n",
              "      <td>18-24</td>\n",
              "      <td>False</td>\n",
              "      <td>A no further action disposal</td>\n",
              "    </tr>\n",
              "  </tbody>\n",
              "</table>\n",
              "</div>"
            ],
            "text/plain": [
              "     City  ...                       Outcome\n",
              "0  London  ...  A no further action disposal\n",
              "1  London  ...  A no further action disposal\n",
              "2  London  ...  A no further action disposal\n",
              "3  London  ...  A no further action disposal\n",
              "4  London  ...  A no further action disposal\n",
              "\n",
              "[5 rows x 9 columns]"
            ]
          },
          "metadata": {
            "tags": []
          },
          "execution_count": 160
        }
      ]
    },
    {
      "cell_type": "code",
      "metadata": {
        "id": "DfUFhGcWYr4H",
        "outputId": "71f27878-4a1a-408a-e210-ce6ea44d5cb9",
        "colab": {
          "base_uri": "https://localhost:8080/"
        }
      },
      "source": [
        "#EDA frequency distribution of categorical data\r\n",
        "\r\n",
        "print(data['Self-defined ethnicity'].value_counts())"
      ],
      "execution_count": 161,
      "outputs": [
        {
          "output_type": "stream",
          "text": [
            "Other ethnic group - Not stated                                                         1062\n",
            "White - English/Welsh/Scottish/Northern Irish/British                                    583\n",
            "White - Any other White background                                                       363\n",
            "Black/African/Caribbean/Black British - African                                          209\n",
            "Asian/Asian British - Bangladeshi                                                        157\n",
            "Black/African/Caribbean/Black British - Caribbean                                         96\n",
            "Asian/Asian British - Any other Asian background                                          89\n",
            "Asian/Asian British - Pakistani                                                           50\n",
            "Other ethnic group - Any other ethnic group                                               49\n",
            "Black/African/Caribbean/Black British - Any other Black/African/Caribbean background      39\n",
            "Mixed/Multiple ethnic groups - Any other Mixed/Multiple ethnic background                 39\n",
            "Asian/Asian British - Indian                                                              31\n",
            "White - Irish                                                                             27\n",
            "Mixed/Multiple ethnic groups - White and Black African                                    21\n",
            "Mixed/Multiple ethnic groups - White and Black Caribbean                                  21\n",
            "Mixed/Multiple ethnic groups - White and Asian                                            10\n",
            "Asian/Asian British - Chinese                                                              4\n",
            "Name: Self-defined ethnicity, dtype: int64\n"
          ],
          "name": "stdout"
        }
      ]
    },
    {
      "cell_type": "code",
      "metadata": {
        "id": "OYmC9eD4YvuN",
        "outputId": "32ae9e84-0b4f-4bdf-a09a-b80d60dfe856",
        "colab": {
          "base_uri": "https://localhost:8080/",
          "height": 490
        }
      },
      "source": [
        "ax = data['Officer-defined ethnicity'].value_counts().plot(kind='bar', figsize=(10,7), fontsize=13, color=(0.1, 0.1, 0.1, 0.1),  edgecolor='blue');\r\n",
        "ax.set_alpha(0.8)\r\n",
        "ax.set_title(\"Frequency Distribution of Police Officers\", fontsize=12)\r\n",
        "ax.set_ylabel('Number of Occurrences in policing', fontsize=12)\r\n",
        "ax.set_xlabel('Police', fontsize=12)\r\n",
        "\r\n",
        "totals = []\r\n",
        "\r\n",
        "# find the values and append to list\r\n",
        "for i in ax.patches:\r\n",
        "    totals.append(i.get_height())\r\n",
        "\r\n",
        "# set individual bar lables using above list\r\n",
        "total = sum(totals)\r\n"
      ],
      "execution_count": 162,
      "outputs": [
        {
          "output_type": "display_data",
          "data": {
            "image/png": "[encoded data removed]",
            "text/plain": [
              "<Figure size 720x504 with 1 Axes>"
            ]
          },
          "metadata": {
            "tags": [],
            "needs_background": "light"
          }
        }
      ]
    },
    {
      "cell_type": "code",
      "metadata": {
        "id": "EfaBhzilaJvi",
        "outputId": "af2ff561-7043-42aa-b05a-d7a22a081aeb",
        "colab": {
          "base_uri": "https://localhost:8080/"
        }
      },
      "source": [
        "# set individual bar lables using above list\r\n",
        "print(\"percentage of while, black , asian and other police:\")\r\n",
        "for i in ax.patches:\r\n",
        "    # get_x pulls left or right; get_height pushes up or down\r\n",
        "    a = str(round((i.get_height()/total)*100, 2))\r\n",
        "    print(a)"
      ],
      "execution_count": 163,
      "outputs": [
        {
          "output_type": "stream",
          "text": [
            "percentage of while, black , asian and other police:\n",
            "49.96\n",
            "23.44\n",
            "20.25\n",
            "6.35\n"
          ],
          "name": "stdout"
        }
      ]
    },
    {
      "cell_type": "code",
      "metadata": {
        "id": "o32MNYVob-FJ",
        "outputId": "06afd40e-7073-464f-a9c3-c30049f2f950",
        "colab": {
          "base_uri": "https://localhost:8080/",
          "height": 464
        }
      },
      "source": [
        "cx = data['Self-defined ethnicity'].value_counts().plot(kind='barh', figsize=(10,7),\r\n",
        "                                        color=(0.1, 0.1, 0.1, 0.1),  edgecolor='blue', fontsize=13);\r\n",
        "cx.set_alpha(0.8)\r\n",
        "cx.set_title(\"Arrests\", fontsize=12)\r\n",
        "cx.set_ylabel('Ethnicity of people who was searched', fontsize=12)\r\n",
        "cx.set_xlabel('Number of search', fontsize=12)\r\n",
        "\r\n",
        "# create a list to collect the plt.patches data\r\n",
        "totals = []\r\n",
        "\r\n",
        "# find the values and append to list\r\n",
        "for i in cx.patches:\r\n",
        "    totals.append(i.get_width())\r\n",
        "\r\n",
        "# set individual bar lables using above list\r\n",
        "total = sum(totals)\r\n",
        "\r\n",
        "# invert for largest on top \r\n",
        "cx.invert_yaxis()"
      ],
      "execution_count": 164,
      "outputs": [
        {
          "output_type": "display_data",
          "data": {
            "image/png": "[encoded data removed]",
            "text/plain": [
              "<Figure size 720x504 with 1 Axes>"
            ]
          },
          "metadata": {
            "tags": [],
            "needs_background": "light"
          }
        }
      ]
    },
    {
      "cell_type": "code",
      "metadata": {
        "id": "EIwTQkDWdKPp",
        "outputId": "0407b622-f98f-425e-b763-0d38d0ec3429",
        "colab": {
          "base_uri": "https://localhost:8080/",
          "height": 484
        }
      },
      "source": [
        "bx = data['Removal of more than just outer clothing'].value_counts().plot(kind='bar', figsize=(10,7),color=(0.1, 0.1, 0.1, 0.1),  edgecolor='blue', fontsize=13);\r\n",
        "bx.set_alpha(0.8)\r\n",
        "bx.set_title(\"Frequency Distribution of Arrests\", fontsize=12)\r\n",
        "bx.set_ylabel('Number of Occurrences in policing', fontsize=12)\r\n",
        "bx.set_xlabel('Arrests', fontsize=12)\r\n",
        "\r\n",
        "\r\n",
        "totals = []\r\n",
        "\r\n",
        "# find the values and append to list\r\n",
        "for i in bx.patches:\r\n",
        "    totals.append(i.get_height())\r\n",
        "\r\n",
        "# set individual bar lables using above list\r\n",
        "total = sum(totals)\r\n",
        "\r\n"
      ],
      "execution_count": 165,
      "outputs": [
        {
          "output_type": "display_data",
          "data": {
            "image/png": "[encoded data removed]",
            "text/plain": [
              "<Figure size 720x504 with 1 Axes>"
            ]
          },
          "metadata": {
            "tags": [],
            "needs_background": "light"
          }
        }
      ]
    },
    {
      "cell_type": "code",
      "metadata": {
        "id": "wWG5jcSFc69p",
        "outputId": "94876714-8aa3-462d-8bc7-b7ee2849e69f",
        "colab": {
          "base_uri": "https://localhost:8080/",
          "height": 195
        }
      },
      "source": [
        "one = data[[\"City\",\"Officer-defined ethnicity\",\"Self-defined ethnicity\",\"Removal of more than just outer clothing\"]]\r\n",
        "one.head()"
      ],
      "execution_count": 166,
      "outputs": [
        {
          "output_type": "execute_result",
          "data": {
            "text/html": [
              "<div>\n",
              "<style scoped>\n",
              "    .dataframe tbody tr th:only-of-type {\n",
              "        vertical-align: middle;\n",
              "    }\n",
              "\n",
              "    .dataframe tbody tr th {\n",
              "        vertical-align: top;\n",
              "    }\n",
              "\n",
              "    .dataframe thead th {\n",
              "        text-align: right;\n",
              "    }\n",
              "</style>\n",
              "<table border=\"1\" class=\"dataframe\">\n",
              "  <thead>\n",
              "    <tr style=\"text-align: right;\">\n",
              "      <th></th>\n",
              "      <th>City</th>\n",
              "      <th>Officer-defined ethnicity</th>\n",
              "      <th>Self-defined ethnicity</th>\n",
              "      <th>Removal of more than just outer clothing</th>\n",
              "    </tr>\n",
              "  </thead>\n",
              "  <tbody>\n",
              "    <tr>\n",
              "      <th>0</th>\n",
              "      <td>London</td>\n",
              "      <td>White</td>\n",
              "      <td>Other ethnic group - Any other ethnic group</td>\n",
              "      <td>False</td>\n",
              "    </tr>\n",
              "    <tr>\n",
              "      <th>1</th>\n",
              "      <td>London</td>\n",
              "      <td>Black</td>\n",
              "      <td>Other ethnic group - Not stated</td>\n",
              "      <td>False</td>\n",
              "    </tr>\n",
              "    <tr>\n",
              "      <th>2</th>\n",
              "      <td>London</td>\n",
              "      <td>Black</td>\n",
              "      <td>Black/African/Caribbean/Black British - African</td>\n",
              "      <td>False</td>\n",
              "    </tr>\n",
              "    <tr>\n",
              "      <th>3</th>\n",
              "      <td>London</td>\n",
              "      <td>Black</td>\n",
              "      <td>Other ethnic group - Not stated</td>\n",
              "      <td>False</td>\n",
              "    </tr>\n",
              "    <tr>\n",
              "      <th>4</th>\n",
              "      <td>London</td>\n",
              "      <td>Asian</td>\n",
              "      <td>Other ethnic group - Not stated</td>\n",
              "      <td>False</td>\n",
              "    </tr>\n",
              "  </tbody>\n",
              "</table>\n",
              "</div>"
            ],
            "text/plain": [
              "     City  ... Removal of more than just outer clothing\n",
              "0  London  ...                                    False\n",
              "1  London  ...                                    False\n",
              "2  London  ...                                    False\n",
              "3  London  ...                                    False\n",
              "4  London  ...                                    False\n",
              "\n",
              "[5 rows x 4 columns]"
            ]
          },
          "metadata": {
            "tags": []
          },
          "execution_count": 166
        }
      ]
    },
    {
      "cell_type": "code",
      "metadata": {
        "id": "lR5-mP-0dtJI",
        "outputId": "f47dc101-9355-4dfd-be56-b105ebf03c58",
        "colab": {
          "base_uri": "https://localhost:8080/"
        }
      },
      "source": [
        "from sklearn.preprocessing import LabelEncoder\r\n",
        "labelencoder = LabelEncoder()\r\n",
        "one['Removal of more than just outer clothing'] = labelencoder.fit_transform(one['Removal of more than just outer clothing'])\r\n",
        "one['City'] = labelencoder.fit_transform(one['City'])\r\n",
        "one = pd.get_dummies(one, columns=['Self-defined ethnicity'], prefix = ['self'])\r\n",
        "print(one.head())"
      ],
      "execution_count": 167,
      "outputs": [
        {
          "output_type": "stream",
          "text": [
            "   City  ... self_White - Irish\n",
            "0     0  ...                  0\n",
            "1     0  ...                  0\n",
            "2     0  ...                  0\n",
            "3     0  ...                  0\n",
            "4     0  ...                  0\n",
            "\n",
            "[5 rows x 20 columns]\n"
          ],
          "name": "stdout"
        }
      ]
    },
    {
      "cell_type": "code",
      "metadata": {
        "id": "JtWxXKomehhn",
        "outputId": "378ccc5d-82c1-4713-efc6-c244f392091b",
        "colab": {
          "base_uri": "https://localhost:8080/"
        }
      },
      "source": [
        "\r\n",
        "search_count=one['Removal of more than just outer clothing'].value_counts()\r\n",
        "search_count"
      ],
      "execution_count": 168,
      "outputs": [
        {
          "output_type": "execute_result",
          "data": {
            "text/plain": [
              "0    2752\n",
              "1      98\n",
              "Name: Removal of more than just outer clothing, dtype: int64"
            ]
          },
          "metadata": {
            "tags": []
          },
          "execution_count": 168
        }
      ]
    }
  ]
}