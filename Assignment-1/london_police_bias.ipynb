{
  "nbformat": 4,
  "nbformat_minor": 0,
  "metadata": {
    "colab": {
      "name": "Untitled3.ipynb",
      "provenance": [],
      "collapsed_sections": [],
      "include_colab_link": true
    },
    "kernelspec": {
      "name": "python3",
      "display_name": "Python 3"
    }
  },
  "cells": [
    {
      "cell_type": "markdown",
      "metadata": {
        "id": "view-in-github",
        "colab_type": "text"
      },
      "source": [
        "<a href=\"https://colab.research.google.com/github/pateljay7018/CE888-7-SP-D.S.-and-decision-making-/blob/main/Assignment-1/london_police_bias.ipynb\" target=\"_parent\"><img src=\"https://colab.research.google.com/assets/colab-badge.svg\" alt=\"Open In Colab\"/></a>"
      ]
    },
    {
      "cell_type": "code",
      "metadata": {
        "id": "BiOKq3gLaPsk"
      },
      "source": [
        "#import libraries\r\n",
        "import numpy as np\r\n",
        "import pandas as pd\r\n",
        "import warnings\r\n",
        "from google.colab import files\r\n",
        "from datetime import datetime \r\n",
        "\r\n",
        "#data visualization\r\n",
        "import matplotlib.pyplot as plt\r\n",
        "import seaborn as sns\r\n",
        "\r\n",
        "#label encoder\r\n",
        "from sklearn.preprocessing import LabelEncoder\r\n",
        "#train-test-split and cross validation\r\n",
        "from sklearn.model_selection import train_test_split, cross_val_score\r\n",
        "#classifier\r\n",
        "from sklearn.ensemble import RandomForestClassifier\r\n",
        "#feature selection\r\n",
        "from sklearn.model_selection import GridSearchCV\r\n",
        "from sklearn.feature_selection import RFE"
      ],
      "execution_count": 82,
      "outputs": []
    },
    {
      "cell_type": "code",
      "metadata": {
        "colab": {
          "base_uri": "https://localhost:8080/"
        },
        "id": "yLLD-zfec_dh",
        "outputId": "a377c0af-5891-4ff1-e951-fc699ee46961"
      },
      "source": [
        "#connecting google drive for importing datasets\r\n",
        "\r\n",
        "from google.colab import drive\r\n",
        "drive.mount(\"/content/gdrive\")"
      ],
      "execution_count": 57,
      "outputs": [
        {
          "output_type": "stream",
          "text": [
            "Drive already mounted at /content/gdrive; to attempt to forcibly remount, call drive.mount(\"/content/gdrive\", force_remount=True).\n"
          ],
          "name": "stdout"
        }
      ]
    },
    {
      "cell_type": "code",
      "metadata": {
        "colab": {
          "base_uri": "https://localhost:8080/",
          "height": 498
        },
        "id": "ZBkvBdtT0d95",
        "outputId": "cd0b1224-c54b-489a-8735-359515f310e2"
      },
      "source": [
        "#LONDON\r\n",
        "\r\n",
        "london20_1 = pd.read_csv('/content/gdrive/My Drive/CE888/2020-01/2020-01-city-of-london-stop-and-search.csv')\r\n",
        "london20_1[\"Date\"] = \"2020-01\"\r\n",
        "london20_2 = pd.read_csv('/content/gdrive/My Drive/CE888/2020-02/2020-02-city-of-london-stop-and-search.csv')\r\n",
        "london20_2[\"Date\"] = \"2020-02\"\r\n",
        "london20_3 = pd.read_csv('/content/gdrive/My Drive/CE888/2020-03/2020-03-city-of-london-stop-and-search.csv')\r\n",
        "london20_3[\"Date\"] = \"2020-03\"\r\n",
        "london20_4 = pd.read_csv('/content/gdrive/My Drive/CE888/2020-04/2020-04-city-of-london-stop-and-search.csv')\r\n",
        "london20_4[\"Date\"] = \"2020-04\"\r\n",
        "london20_5 = pd.read_csv('/content/gdrive/My Drive/CE888/2020-05/2020-05-city-of-london-stop-and-search.csv')\r\n",
        "london20_5[\"Date\"] = \"2020-05\"\r\n",
        "london20_6 = pd.read_csv('/content/gdrive/My Drive/CE888/2020-06/2020-06-city-of-london-stop-and-search.csv')\r\n",
        "london20_6[\"Date\"] = \"2020-06\"\r\n",
        "london20_7 = pd.read_csv('/content/gdrive/My Drive/CE888/2020-07/2020-07-city-of-london-stop-and-search.csv')\r\n",
        "london20_7[\"Date\"] = \"2020-07\"\r\n",
        "london20_8 = pd.read_csv('/content/gdrive/My Drive/CE888/2020-08/2020-08-city-of-london-stop-and-search.csv')\r\n",
        "london20_8[\"Date\"] = \"2020-08\"\r\n",
        "london20_9 = pd.read_csv('/content/gdrive/My Drive/CE888/2020-09/2020-09-city-of-london-stop-and-search.csv')\r\n",
        "london20_9[\"Date\"] = \"2020-09\"\r\n",
        "london20_10 = pd.read_csv('/content/gdrive/My Drive/CE888/2020-10/2020-10-city-of-london-stop-and-search.csv')\r\n",
        "london20_10[\"Date\"] = \"2020-10\"\r\n",
        "london20_11 = pd.read_csv('/content/gdrive/My Drive/CE888/2020-11/2020-11-city-of-london-stop-and-search.csv')\r\n",
        "london20_11[\"Date\"] = \"2020-11\"\r\n",
        "london20_12 = pd.read_csv('/content/gdrive/My Drive/CE888/2020-12/2020-12-city-of-london-stop-and-search.csv')\r\n",
        "london20 = pd.concat([london20_1,london20_2,london20_3,london20_4,london20_5,london20_6,london20_7,london20_8,london20_9,london20_10,london20_11,london20_12])\r\n",
        "london = pd.concat([london20])\r\n",
        "london[\"City\"] = \"London\"\r\n",
        "london= pd.DataFrame(london)\r\n",
        "london.head()"
      ],
      "execution_count": 58,
      "outputs": [
        {
          "output_type": "execute_result",
          "data": {
            "text/html": [
              "<div>\n",
              "<style scoped>\n",
              "    .dataframe tbody tr th:only-of-type {\n",
              "        vertical-align: middle;\n",
              "    }\n",
              "\n",
              "    .dataframe tbody tr th {\n",
              "        vertical-align: top;\n",
              "    }\n",
              "\n",
              "    .dataframe thead th {\n",
              "        text-align: right;\n",
              "    }\n",
              "</style>\n",
              "<table border=\"1\" class=\"dataframe\">\n",
              "  <thead>\n",
              "    <tr style=\"text-align: right;\">\n",
              "      <th></th>\n",
              "      <th>Type</th>\n",
              "      <th>Date</th>\n",
              "      <th>Part of a policing operation</th>\n",
              "      <th>Policing operation</th>\n",
              "      <th>Latitude</th>\n",
              "      <th>Longitude</th>\n",
              "      <th>Gender</th>\n",
              "      <th>Age range</th>\n",
              "      <th>Self-defined ethnicity</th>\n",
              "      <th>Officer-defined ethnicity</th>\n",
              "      <th>Legislation</th>\n",
              "      <th>Object of search</th>\n",
              "      <th>Outcome</th>\n",
              "      <th>Outcome linked to object of search</th>\n",
              "      <th>Removal of more than just outer clothing</th>\n",
              "      <th>City</th>\n",
              "    </tr>\n",
              "  </thead>\n",
              "  <tbody>\n",
              "    <tr>\n",
              "      <th>0</th>\n",
              "      <td>Person search</td>\n",
              "      <td>2020-01</td>\n",
              "      <td>NaN</td>\n",
              "      <td>NaN</td>\n",
              "      <td>NaN</td>\n",
              "      <td>NaN</td>\n",
              "      <td>Male</td>\n",
              "      <td>18-24</td>\n",
              "      <td>Other ethnic group - Any other ethnic group</td>\n",
              "      <td>White</td>\n",
              "      <td>Police and Criminal Evidence Act 1984 (section 1)</td>\n",
              "      <td>Stolen goods</td>\n",
              "      <td>A no further action disposal</td>\n",
              "      <td>False</td>\n",
              "      <td>False</td>\n",
              "      <td>London</td>\n",
              "    </tr>\n",
              "    <tr>\n",
              "      <th>1</th>\n",
              "      <td>Person search</td>\n",
              "      <td>2020-01</td>\n",
              "      <td>NaN</td>\n",
              "      <td>NaN</td>\n",
              "      <td>51.512598</td>\n",
              "      <td>-0.084967</td>\n",
              "      <td>Male</td>\n",
              "      <td>10-17</td>\n",
              "      <td>Other ethnic group - Not stated</td>\n",
              "      <td>Black</td>\n",
              "      <td>Misuse of Drugs Act 1971 (section 23)</td>\n",
              "      <td>Controlled drugs</td>\n",
              "      <td>A no further action disposal</td>\n",
              "      <td>False</td>\n",
              "      <td>False</td>\n",
              "      <td>London</td>\n",
              "    </tr>\n",
              "    <tr>\n",
              "      <th>2</th>\n",
              "      <td>Person search</td>\n",
              "      <td>2020-01</td>\n",
              "      <td>NaN</td>\n",
              "      <td>NaN</td>\n",
              "      <td>51.512598</td>\n",
              "      <td>-0.084967</td>\n",
              "      <td>Male</td>\n",
              "      <td>10-17</td>\n",
              "      <td>Black/African/Caribbean/Black British - African</td>\n",
              "      <td>Black</td>\n",
              "      <td>Misuse of Drugs Act 1971 (section 23)</td>\n",
              "      <td>Controlled drugs</td>\n",
              "      <td>A no further action disposal</td>\n",
              "      <td>False</td>\n",
              "      <td>False</td>\n",
              "      <td>London</td>\n",
              "    </tr>\n",
              "    <tr>\n",
              "      <th>3</th>\n",
              "      <td>Person search</td>\n",
              "      <td>2020-01</td>\n",
              "      <td>NaN</td>\n",
              "      <td>NaN</td>\n",
              "      <td>51.512598</td>\n",
              "      <td>-0.084967</td>\n",
              "      <td>Male</td>\n",
              "      <td>10-17</td>\n",
              "      <td>Other ethnic group - Not stated</td>\n",
              "      <td>Black</td>\n",
              "      <td>Misuse of Drugs Act 1971 (section 23)</td>\n",
              "      <td>Controlled drugs</td>\n",
              "      <td>A no further action disposal</td>\n",
              "      <td>False</td>\n",
              "      <td>False</td>\n",
              "      <td>London</td>\n",
              "    </tr>\n",
              "    <tr>\n",
              "      <th>4</th>\n",
              "      <td>Person search</td>\n",
              "      <td>2020-01</td>\n",
              "      <td>NaN</td>\n",
              "      <td>NaN</td>\n",
              "      <td>51.512745</td>\n",
              "      <td>-0.089040</td>\n",
              "      <td>Male</td>\n",
              "      <td>18-24</td>\n",
              "      <td>Other ethnic group - Not stated</td>\n",
              "      <td>Asian</td>\n",
              "      <td>Police and Criminal Evidence Act 1984 (section 1)</td>\n",
              "      <td>Offensive weapons</td>\n",
              "      <td>A no further action disposal</td>\n",
              "      <td>False</td>\n",
              "      <td>False</td>\n",
              "      <td>London</td>\n",
              "    </tr>\n",
              "  </tbody>\n",
              "</table>\n",
              "</div>"
            ],
            "text/plain": [
              "            Type     Date  ...  Removal of more than just outer clothing    City\n",
              "0  Person search  2020-01  ...                                     False  London\n",
              "1  Person search  2020-01  ...                                     False  London\n",
              "2  Person search  2020-01  ...                                     False  London\n",
              "3  Person search  2020-01  ...                                     False  London\n",
              "4  Person search  2020-01  ...                                     False  London\n",
              "\n",
              "[5 rows x 16 columns]"
            ]
          },
          "metadata": {
            "tags": []
          },
          "execution_count": 58
        }
      ]
    },
    {
      "cell_type": "code",
      "metadata": {
        "colab": {
          "base_uri": "https://localhost:8080/",
          "height": 195
        },
        "id": "or2o5Qd6RfF7",
        "outputId": "95702713-18a1-4aaa-c54d-54e2159f373b"
      },
      "source": [
        "#Getting subset\r\n",
        "df= pd.concat([london])\r\n",
        "sort = df[['City','Date','Officer-defined ethnicity','Type','Self-defined ethnicity','Gender','Age range','Removal of more than just outer clothing','Outcome']]\r\n",
        "data = sort.dropna()\r\n",
        "data = data.reset_index(drop=True)\r\n",
        "data.head()"
      ],
      "execution_count": 59,
      "outputs": [
        {
          "output_type": "execute_result",
          "data": {
            "text/html": [
              "<div>\n",
              "<style scoped>\n",
              "    .dataframe tbody tr th:only-of-type {\n",
              "        vertical-align: middle;\n",
              "    }\n",
              "\n",
              "    .dataframe tbody tr th {\n",
              "        vertical-align: top;\n",
              "    }\n",
              "\n",
              "    .dataframe thead th {\n",
              "        text-align: right;\n",
              "    }\n",
              "</style>\n",
              "<table border=\"1\" class=\"dataframe\">\n",
              "  <thead>\n",
              "    <tr style=\"text-align: right;\">\n",
              "      <th></th>\n",
              "      <th>City</th>\n",
              "      <th>Date</th>\n",
              "      <th>Officer-defined ethnicity</th>\n",
              "      <th>Type</th>\n",
              "      <th>Self-defined ethnicity</th>\n",
              "      <th>Gender</th>\n",
              "      <th>Age range</th>\n",
              "      <th>Removal of more than just outer clothing</th>\n",
              "      <th>Outcome</th>\n",
              "    </tr>\n",
              "  </thead>\n",
              "  <tbody>\n",
              "    <tr>\n",
              "      <th>0</th>\n",
              "      <td>London</td>\n",
              "      <td>2020-01</td>\n",
              "      <td>White</td>\n",
              "      <td>Person search</td>\n",
              "      <td>Other ethnic group - Any other ethnic group</td>\n",
              "      <td>Male</td>\n",
              "      <td>18-24</td>\n",
              "      <td>False</td>\n",
              "      <td>A no further action disposal</td>\n",
              "    </tr>\n",
              "    <tr>\n",
              "      <th>1</th>\n",
              "      <td>London</td>\n",
              "      <td>2020-01</td>\n",
              "      <td>Black</td>\n",
              "      <td>Person search</td>\n",
              "      <td>Other ethnic group - Not stated</td>\n",
              "      <td>Male</td>\n",
              "      <td>10-17</td>\n",
              "      <td>False</td>\n",
              "      <td>A no further action disposal</td>\n",
              "    </tr>\n",
              "    <tr>\n",
              "      <th>2</th>\n",
              "      <td>London</td>\n",
              "      <td>2020-01</td>\n",
              "      <td>Black</td>\n",
              "      <td>Person search</td>\n",
              "      <td>Black/African/Caribbean/Black British - African</td>\n",
              "      <td>Male</td>\n",
              "      <td>10-17</td>\n",
              "      <td>False</td>\n",
              "      <td>A no further action disposal</td>\n",
              "    </tr>\n",
              "    <tr>\n",
              "      <th>3</th>\n",
              "      <td>London</td>\n",
              "      <td>2020-01</td>\n",
              "      <td>Black</td>\n",
              "      <td>Person search</td>\n",
              "      <td>Other ethnic group - Not stated</td>\n",
              "      <td>Male</td>\n",
              "      <td>10-17</td>\n",
              "      <td>False</td>\n",
              "      <td>A no further action disposal</td>\n",
              "    </tr>\n",
              "    <tr>\n",
              "      <th>4</th>\n",
              "      <td>London</td>\n",
              "      <td>2020-01</td>\n",
              "      <td>Asian</td>\n",
              "      <td>Person search</td>\n",
              "      <td>Other ethnic group - Not stated</td>\n",
              "      <td>Male</td>\n",
              "      <td>18-24</td>\n",
              "      <td>False</td>\n",
              "      <td>A no further action disposal</td>\n",
              "    </tr>\n",
              "  </tbody>\n",
              "</table>\n",
              "</div>"
            ],
            "text/plain": [
              "     City  ...                       Outcome\n",
              "0  London  ...  A no further action disposal\n",
              "1  London  ...  A no further action disposal\n",
              "2  London  ...  A no further action disposal\n",
              "3  London  ...  A no further action disposal\n",
              "4  London  ...  A no further action disposal\n",
              "\n",
              "[5 rows x 9 columns]"
            ]
          },
          "metadata": {
            "tags": []
          },
          "execution_count": 59
        }
      ]
    },
    {
      "cell_type": "code",
      "metadata": {
        "colab": {
          "base_uri": "https://localhost:8080/"
        },
        "id": "bR0Ng3AYWMfd",
        "outputId": "32e1f8f0-84fd-4121-eca1-8ea7b075371f"
      },
      "source": [
        "#shape of datae\r\n",
        "data.shape"
      ],
      "execution_count": 60,
      "outputs": [
        {
          "output_type": "execute_result",
          "data": {
            "text/plain": [
              "(2850, 9)"
            ]
          },
          "metadata": {
            "tags": []
          },
          "execution_count": 60
        }
      ]
    },
    {
      "cell_type": "code",
      "metadata": {
        "id": "eiFTa0C7i_if"
      },
      "source": [
        "#df.isnull().sum()"
      ],
      "execution_count": 61,
      "outputs": []
    },
    {
      "cell_type": "code",
      "metadata": {
        "id": "a9tdHrs2XcJe"
      },
      "source": [
        "#To save file in my google drive\r\n",
        "data.to_csv('/content/gdrive/My Drive/CE888/2020-city-of-london_final.csv')"
      ],
      "execution_count": 62,
      "outputs": []
    },
    {
      "cell_type": "code",
      "metadata": {
        "id": "MSgxv8ON1kdE"
      },
      "source": [
        "data = pd.read_csv(\"https://raw.githubusercontent.com/pateljay7018/CE888-7-SP-D.S.-and-decision-making-/main/Assignment-1/2020-city-of-london_final.csv\")"
      ],
      "execution_count": 115,
      "outputs": []
    },
    {
      "cell_type": "code",
      "metadata": {
        "colab": {
          "base_uri": "https://localhost:8080/",
          "height": 296
        },
        "id": "5-c8LKBYYkye",
        "outputId": "2530daf8-b0e3-4e17-b382-7ae2f77ef968"
      },
      "source": [
        "data.head()"
      ],
      "execution_count": 116,
      "outputs": [
        {
          "output_type": "execute_result",
          "data": {
            "text/html": [
              "<div>\n",
              "<style scoped>\n",
              "    .dataframe tbody tr th:only-of-type {\n",
              "        vertical-align: middle;\n",
              "    }\n",
              "\n",
              "    .dataframe tbody tr th {\n",
              "        vertical-align: top;\n",
              "    }\n",
              "\n",
              "    .dataframe thead th {\n",
              "        text-align: right;\n",
              "    }\n",
              "</style>\n",
              "<table border=\"1\" class=\"dataframe\">\n",
              "  <thead>\n",
              "    <tr style=\"text-align: right;\">\n",
              "      <th></th>\n",
              "      <th>Unnamed: 0</th>\n",
              "      <th>City</th>\n",
              "      <th>Date</th>\n",
              "      <th>Officer-defined ethnicity</th>\n",
              "      <th>Type</th>\n",
              "      <th>Self-defined ethnicity</th>\n",
              "      <th>Gender</th>\n",
              "      <th>Age range</th>\n",
              "      <th>Removal of more than just outer clothing</th>\n",
              "      <th>Outcome</th>\n",
              "    </tr>\n",
              "  </thead>\n",
              "  <tbody>\n",
              "    <tr>\n",
              "      <th>0</th>\n",
              "      <td>0</td>\n",
              "      <td>London</td>\n",
              "      <td>2020-01</td>\n",
              "      <td>White</td>\n",
              "      <td>Person search</td>\n",
              "      <td>Other ethnic group - Any other ethnic group</td>\n",
              "      <td>Male</td>\n",
              "      <td>18-24</td>\n",
              "      <td>False</td>\n",
              "      <td>A no further action disposal</td>\n",
              "    </tr>\n",
              "    <tr>\n",
              "      <th>1</th>\n",
              "      <td>1</td>\n",
              "      <td>London</td>\n",
              "      <td>2020-01</td>\n",
              "      <td>Black</td>\n",
              "      <td>Person search</td>\n",
              "      <td>Other ethnic group - Not stated</td>\n",
              "      <td>Male</td>\n",
              "      <td>10-17</td>\n",
              "      <td>False</td>\n",
              "      <td>A no further action disposal</td>\n",
              "    </tr>\n",
              "    <tr>\n",
              "      <th>2</th>\n",
              "      <td>2</td>\n",
              "      <td>London</td>\n",
              "      <td>2020-01</td>\n",
              "      <td>Black</td>\n",
              "      <td>Person search</td>\n",
              "      <td>Black/African/Caribbean/Black British - African</td>\n",
              "      <td>Male</td>\n",
              "      <td>10-17</td>\n",
              "      <td>False</td>\n",
              "      <td>A no further action disposal</td>\n",
              "    </tr>\n",
              "    <tr>\n",
              "      <th>3</th>\n",
              "      <td>3</td>\n",
              "      <td>London</td>\n",
              "      <td>2020-01</td>\n",
              "      <td>Black</td>\n",
              "      <td>Person search</td>\n",
              "      <td>Other ethnic group - Not stated</td>\n",
              "      <td>Male</td>\n",
              "      <td>10-17</td>\n",
              "      <td>False</td>\n",
              "      <td>A no further action disposal</td>\n",
              "    </tr>\n",
              "    <tr>\n",
              "      <th>4</th>\n",
              "      <td>4</td>\n",
              "      <td>London</td>\n",
              "      <td>2020-01</td>\n",
              "      <td>Asian</td>\n",
              "      <td>Person search</td>\n",
              "      <td>Other ethnic group - Not stated</td>\n",
              "      <td>Male</td>\n",
              "      <td>18-24</td>\n",
              "      <td>False</td>\n",
              "      <td>A no further action disposal</td>\n",
              "    </tr>\n",
              "  </tbody>\n",
              "</table>\n",
              "</div>"
            ],
            "text/plain": [
              "   Unnamed: 0  ...                       Outcome\n",
              "0           0  ...  A no further action disposal\n",
              "1           1  ...  A no further action disposal\n",
              "2           2  ...  A no further action disposal\n",
              "3           3  ...  A no further action disposal\n",
              "4           4  ...  A no further action disposal\n",
              "\n",
              "[5 rows x 10 columns]"
            ]
          },
          "metadata": {
            "tags": []
          },
          "execution_count": 116
        }
      ]
    },
    {
      "cell_type": "markdown",
      "metadata": {
        "id": "LLiBfMnpjd11"
      },
      "source": [
        "Data transformation and sensitive features:"
      ]
    },
    {
      "cell_type": "code",
      "metadata": {
        "colab": {
          "base_uri": "https://localhost:8080/"
        },
        "id": "KBdzdNOVjjfi",
        "outputId": "285394cc-1b4e-4356-a6f9-951f1cd17b0d"
      },
      "source": [
        "#Stops By Race\r\n",
        "df[\"Officer-defined ethnicity\"].value_counts()"
      ],
      "execution_count": 117,
      "outputs": [
        {
          "output_type": "execute_result",
          "data": {
            "text/plain": [
              "White    1444\n",
              "Black     685\n",
              "Asian     586\n",
              "Other     188\n",
              "Name: Officer-defined ethnicity, dtype: int64"
            ]
          },
          "metadata": {
            "tags": []
          },
          "execution_count": 117
        }
      ]
    },
    {
      "cell_type": "code",
      "metadata": {
        "colab": {
          "base_uri": "https://localhost:8080/"
        },
        "id": "4SoqesnmjnCg",
        "outputId": "806893be-a4a7-40e1-8fe2-647af478dffb"
      },
      "source": [
        "#Stops By Gender\r\n",
        "df[\"Gender\"].value_counts()"
      ],
      "execution_count": 118,
      "outputs": [
        {
          "output_type": "execute_result",
          "data": {
            "text/plain": [
              "Male      2747\n",
              "Female     299\n",
              "Name: Gender, dtype: int64"
            ]
          },
          "metadata": {
            "tags": []
          },
          "execution_count": 118
        }
      ]
    },
    {
      "cell_type": "code",
      "metadata": {
        "colab": {
          "base_uri": "https://localhost:8080/"
        },
        "id": "Ce5gYWNijp7Z",
        "outputId": "deda7070-0c12-42b6-d9e6-879e8f233633"
      },
      "source": [
        "#Age\r\n",
        "df['Age range'].value_counts()"
      ],
      "execution_count": 119,
      "outputs": [
        {
          "output_type": "execute_result",
          "data": {
            "text/plain": [
              "18-24       1052\n",
              "25-34        954\n",
              "over 34      646\n",
              "10-17        213\n",
              "under 10       3\n",
              "Name: Age range, dtype: int64"
            ]
          },
          "metadata": {
            "tags": []
          },
          "execution_count": 119
        }
      ]
    },
    {
      "cell_type": "code",
      "metadata": {
        "colab": {
          "base_uri": "https://localhost:8080/"
        },
        "id": "DfUFhGcWYr4H",
        "outputId": "1f50f241-ea14-48e1-f3b8-1247fa213ece"
      },
      "source": [
        "#EDA frequency distribution of categorical data\r\n",
        "\r\n",
        "print(data['Self-defined ethnicity'].value_counts())"
      ],
      "execution_count": 120,
      "outputs": [
        {
          "output_type": "stream",
          "text": [
            "Other ethnic group - Not stated                                                         1062\n",
            "White - English/Welsh/Scottish/Northern Irish/British                                    583\n",
            "White - Any other White background                                                       363\n",
            "Black/African/Caribbean/Black British - African                                          209\n",
            "Asian/Asian British - Bangladeshi                                                        157\n",
            "Black/African/Caribbean/Black British - Caribbean                                         96\n",
            "Asian/Asian British - Any other Asian background                                          89\n",
            "Asian/Asian British - Pakistani                                                           50\n",
            "Other ethnic group - Any other ethnic group                                               49\n",
            "Black/African/Caribbean/Black British - Any other Black/African/Caribbean background      39\n",
            "Mixed/Multiple ethnic groups - Any other Mixed/Multiple ethnic background                 39\n",
            "Asian/Asian British - Indian                                                              31\n",
            "White - Irish                                                                             27\n",
            "Mixed/Multiple ethnic groups - White and Black Caribbean                                  21\n",
            "Mixed/Multiple ethnic groups - White and Black African                                    21\n",
            "Mixed/Multiple ethnic groups - White and Asian                                            10\n",
            "Asian/Asian British - Chinese                                                              4\n",
            "Name: Self-defined ethnicity, dtype: int64\n"
          ],
          "name": "stdout"
        }
      ]
    },
    {
      "cell_type": "markdown",
      "metadata": {
        "id": "TW5EldoSj2-u"
      },
      "source": [
        "Pre Processing and Data visualization:"
      ]
    },
    {
      "cell_type": "code",
      "metadata": {
        "colab": {
          "base_uri": "https://localhost:8080/",
          "height": 516
        },
        "id": "TvtIqsuUkAs_",
        "outputId": "7e2f9bc5-4883-4982-898f-3d301ddacf4e"
      },
      "source": [
        "ax = data['Gender'].value_counts().plot(kind='bar', figsize=(10,7), fontsize=13, color=(0.1, 0.1, 0.1, 0.1),  edgecolor='blue');\r\n",
        "ax.set_alpha(0.8)\r\n",
        "ax.set_title(\"Frequency Distribution of Police Officers\", fontsize=12)\r\n",
        "ax.set_ylabel('Number of Occurrences in police', fontsize=12)\r\n",
        "ax.set_xlabel('Police', fontsize=12)\r\n",
        "\r\n"
      ],
      "execution_count": 121,
      "outputs": [
        {
          "output_type": "execute_result",
          "data": {
            "text/plain": [
              "Text(0.5, 0, 'Police')"
            ]
          },
          "metadata": {
            "tags": []
          },
          "execution_count": 121
        },
        {
          "output_type": "display_data",
          "data": {
            "image/png": "[encoded data removed]",
            "text/plain": [
              "<Figure size 720x504 with 1 Axes>"
            ]
          },
          "metadata": {
            "tags": [],
            "needs_background": "light"
          }
        }
      ]
    },
    {
      "cell_type": "code",
      "metadata": {
        "colab": {
          "base_uri": "https://localhost:8080/",
          "height": 527
        },
        "id": "-Xdy5DbzkTR7",
        "outputId": "163402d8-93d5-476f-97ff-1c508058c370"
      },
      "source": [
        "ax = data['Age range'].value_counts().plot(kind='bar', figsize=(10,7), fontsize=13, color=(0.1, 0.1, 0.1, 0.1),  edgecolor='blue');\r\n",
        "ax.set_alpha(0.8)\r\n",
        "ax.set_title(\"Frequency Distribution of Police Officers\", fontsize=12)\r\n",
        "ax.set_ylabel('Number of Occurrences in police', fontsize=12)\r\n",
        "ax.set_xlabel('Police', fontsize=12)\r\n",
        "\r\n"
      ],
      "execution_count": 122,
      "outputs": [
        {
          "output_type": "execute_result",
          "data": {
            "text/plain": [
              "Text(0.5, 0, 'Police')"
            ]
          },
          "metadata": {
            "tags": []
          },
          "execution_count": 122
        },
        {
          "output_type": "display_data",
          "data": {
            "image/png": "[encoded data removed]",
            "text/plain": [
              "<Figure size 720x504 with 1 Axes>"
            ]
          },
          "metadata": {
            "tags": [],
            "needs_background": "light"
          }
        }
      ]
    },
    {
      "cell_type": "code",
      "metadata": {
        "colab": {
          "base_uri": "https://localhost:8080/",
          "height": 501
        },
        "id": "uwryRvufkfBn",
        "outputId": "acc7276f-b3fa-42c5-a137-4cb70dbe937b"
      },
      "source": [
        "bx = data['Removal of more than just outer clothing'].value_counts().plot(kind='bar', figsize=(10,7),color=(0.1, 0.1, 0.1, 0.1),  edgecolor='blue', fontsize=13);\r\n",
        "bx.set_alpha(0.8)\r\n",
        "bx.set_title(\"Frequency Distribution of Arrests\", fontsize=12)\r\n",
        "bx.set_ylabel('Number of Occurrences in police', fontsize=12)\r\n",
        "bx.set_xlabel('Arrests', fontsize=12)\r\n",
        "\r\n"
      ],
      "execution_count": 123,
      "outputs": [
        {
          "output_type": "execute_result",
          "data": {
            "text/plain": [
              "Text(0.5, 0, 'Arrests')"
            ]
          },
          "metadata": {
            "tags": []
          },
          "execution_count": 123
        },
        {
          "output_type": "display_data",
          "data": {
            "image/png": "[encoded data removed]",
            "text/plain": [
              "<Figure size 720x504 with 1 Axes>"
            ]
          },
          "metadata": {
            "tags": [],
            "needs_background": "light"
          }
        }
      ]
    },
    {
      "cell_type": "code",
      "metadata": {
        "colab": {
          "base_uri": "https://localhost:8080/",
          "height": 507
        },
        "id": "OYmC9eD4YvuN",
        "outputId": "da73a530-4671-427c-9552-36dc76b7000e"
      },
      "source": [
        "ax = data['Officer-defined ethnicity'].value_counts().plot(kind='bar', figsize=(10,7), fontsize=13, color=(0.1, 0.1, 0.1, 0.1),  edgecolor='blue');\r\n",
        "ax.set_alpha(0.8)\r\n",
        "ax.set_title(\"Frequency Distribution of Police Officers\", fontsize=12)\r\n",
        "ax.set_ylabel('Number of Occurrences in police', fontsize=12)\r\n",
        "ax.set_xlabel('Police', fontsize=12)\r\n",
        "\r\n"
      ],
      "execution_count": 124,
      "outputs": [
        {
          "output_type": "execute_result",
          "data": {
            "text/plain": [
              "Text(0.5, 0, 'Police')"
            ]
          },
          "metadata": {
            "tags": []
          },
          "execution_count": 124
        },
        {
          "output_type": "display_data",
          "data": {
            "image/png": "[encoded data removed]",
            "text/plain": [
              "<Figure size 720x504 with 1 Axes>"
            ]
          },
          "metadata": {
            "tags": [],
            "needs_background": "light"
          }
        }
      ]
    },
    {
      "cell_type": "code",
      "metadata": {
        "colab": {
          "base_uri": "https://localhost:8080/"
        },
        "id": "EfaBhzilaJvi",
        "outputId": "bf83b754-5a71-4b58-d334-9d95fc2fc9bf"
      },
      "source": [
        "# set individual bar lables using above list\r\n",
        "print(\"percentage of while, black , asian and other police:\")\r\n",
        "for i in ax.patches:\r\n",
        "    # get_x pulls left or right; get_height pushes up or down\r\n",
        "    a = str(round((i.get_height()/total)*100, 2))\r\n",
        "    print(a)"
      ],
      "execution_count": 125,
      "outputs": [
        {
          "output_type": "stream",
          "text": [
            "percentage of while, black , asian and other police:\n",
            "49.96\n",
            "23.44\n",
            "20.25\n",
            "6.35\n"
          ],
          "name": "stdout"
        }
      ]
    },
    {
      "cell_type": "code",
      "metadata": {
        "colab": {
          "base_uri": "https://localhost:8080/",
          "height": 1000
        },
        "id": "o32MNYVob-FJ",
        "outputId": "1b1f53a7-8a82-4bcc-86af-a5fb7ca57280"
      },
      "source": [
        "cx = data['Self-defined ethnicity'].value_counts().plot(kind='bar', figsize=(10,7),\r\n",
        "                                        color=(0.1, 0.1, 0.1, 0.1),  edgecolor='blue', fontsize=13);\r\n",
        "cx.set_alpha(0.8)\r\n",
        "cx.set_title(\"Arrests\", fontsize=12)\r\n",
        "cx.set_ylabel('Ethnicity of people who was searched', fontsize=12)\r\n",
        "cx.set_xlabel('Number of search', fontsize=12)\r\n"
      ],
      "execution_count": 126,
      "outputs": [
        {
          "output_type": "execute_result",
          "data": {
            "text/plain": [
              "Text(0.5, 0, 'Number of search')"
            ]
          },
          "metadata": {
            "tags": []
          },
          "execution_count": 126
        },
        {
          "output_type": "display_data",
          "data": {
            "image/png": "[encoded data removed]",
            "text/plain": [
              "<Figure size 720x504 with 1 Axes>"
            ]
          },
          "metadata": {
            "tags": [],
            "needs_background": "light"
          }
        }
      ]
    },
    {
      "cell_type": "code",
      "metadata": {
        "colab": {
          "base_uri": "https://localhost:8080/",
          "height": 195
        },
        "id": "wWG5jcSFc69p",
        "outputId": "2f777fb0-6568-449d-928c-fc0efd094266"
      },
      "source": [
        "one = data[[\"City\",\"Officer-defined ethnicity\",\"Self-defined ethnicity\",\"Removal of more than just outer clothing\"]]\r\n",
        "one.head()"
      ],
      "execution_count": 127,
      "outputs": [
        {
          "output_type": "execute_result",
          "data": {
            "text/html": [
              "<div>\n",
              "<style scoped>\n",
              "    .dataframe tbody tr th:only-of-type {\n",
              "        vertical-align: middle;\n",
              "    }\n",
              "\n",
              "    .dataframe tbody tr th {\n",
              "        vertical-align: top;\n",
              "    }\n",
              "\n",
              "    .dataframe thead th {\n",
              "        text-align: right;\n",
              "    }\n",
              "</style>\n",
              "<table border=\"1\" class=\"dataframe\">\n",
              "  <thead>\n",
              "    <tr style=\"text-align: right;\">\n",
              "      <th></th>\n",
              "      <th>City</th>\n",
              "      <th>Officer-defined ethnicity</th>\n",
              "      <th>Self-defined ethnicity</th>\n",
              "      <th>Removal of more than just outer clothing</th>\n",
              "    </tr>\n",
              "  </thead>\n",
              "  <tbody>\n",
              "    <tr>\n",
              "      <th>0</th>\n",
              "      <td>London</td>\n",
              "      <td>White</td>\n",
              "      <td>Other ethnic group - Any other ethnic group</td>\n",
              "      <td>False</td>\n",
              "    </tr>\n",
              "    <tr>\n",
              "      <th>1</th>\n",
              "      <td>London</td>\n",
              "      <td>Black</td>\n",
              "      <td>Other ethnic group - Not stated</td>\n",
              "      <td>False</td>\n",
              "    </tr>\n",
              "    <tr>\n",
              "      <th>2</th>\n",
              "      <td>London</td>\n",
              "      <td>Black</td>\n",
              "      <td>Black/African/Caribbean/Black British - African</td>\n",
              "      <td>False</td>\n",
              "    </tr>\n",
              "    <tr>\n",
              "      <th>3</th>\n",
              "      <td>London</td>\n",
              "      <td>Black</td>\n",
              "      <td>Other ethnic group - Not stated</td>\n",
              "      <td>False</td>\n",
              "    </tr>\n",
              "    <tr>\n",
              "      <th>4</th>\n",
              "      <td>London</td>\n",
              "      <td>Asian</td>\n",
              "      <td>Other ethnic group - Not stated</td>\n",
              "      <td>False</td>\n",
              "    </tr>\n",
              "  </tbody>\n",
              "</table>\n",
              "</div>"
            ],
            "text/plain": [
              "     City  ... Removal of more than just outer clothing\n",
              "0  London  ...                                    False\n",
              "1  London  ...                                    False\n",
              "2  London  ...                                    False\n",
              "3  London  ...                                    False\n",
              "4  London  ...                                    False\n",
              "\n",
              "[5 rows x 4 columns]"
            ]
          },
          "metadata": {
            "tags": []
          },
          "execution_count": 127
        }
      ]
    },
    {
      "cell_type": "code",
      "metadata": {
        "colab": {
          "base_uri": "https://localhost:8080/"
        },
        "id": "90qD7eRzluaG",
        "outputId": "b6481442-ded6-4f9d-90ab-46d7ba23bbaf"
      },
      "source": [
        "from sklearn.preprocessing import LabelEncoder\r\n",
        "labelencoder = LabelEncoder()\r\n",
        "one['Removal of more than just outer clothing'] = labelencoder.fit_transform(one['Removal of more than just outer clothing'])\r\n",
        "one['City'] = labelencoder.fit_transform(one['City'])\r\n",
        "one = pd.get_dummies(one, columns=['Self-defined ethnicity'], prefix = ['self'])\r\n",
        "print(one.head())"
      ],
      "execution_count": 128,
      "outputs": [
        {
          "output_type": "stream",
          "text": [
            "   City  ... self_White - Irish\n",
            "0     0  ...                  0\n",
            "1     0  ...                  0\n",
            "2     0  ...                  0\n",
            "3     0  ...                  0\n",
            "4     0  ...                  0\n",
            "\n",
            "[5 rows x 20 columns]\n"
          ],
          "name": "stdout"
        }
      ]
    },
    {
      "cell_type": "code",
      "metadata": {
        "colab": {
          "base_uri": "https://localhost:8080/"
        },
        "id": "7zwSaA2Tk_8I",
        "outputId": "091bed17-7210-4578-9e54-139be6007090"
      },
      "source": [
        "#helper function\r\n",
        "def compute_outcome_stats(dfdf):\r\n",
        "    \"\"\"Compute statistics regarding the relative quanties of arrests, warnings, and citations\"\"\"\r\n",
        "    n_total = len(dfdf)\r\n",
        "    n_warnings = len(dfdf[dfdf['Outcome'] == 'Khat or Cannabis warning'])\r\n",
        "    n_penalty = len(dfdf[dfdf['Outcome'] == 'Penalty Notice for Disorder'])\r\n",
        "    n_arrests = len(dfdf[dfdf['Outcome'] == 'Arrest'])\r\n",
        "    penalty_per_warning = n_penalty / n_warnings\r\n",
        "    arrest_rate = n_arrests / n_total\r\n",
        "\r\n",
        "    return(pd.Series(data = {\r\n",
        "        'n_total': n_total,\r\n",
        "        'n_warnings': n_warnings,\r\n",
        "        'n_penalty': n_penalty,\r\n",
        "        'n_arrests': n_arrests,\r\n",
        "        'penalty_per_warning': penalty_per_warning,\r\n",
        "        'arrest_rate': arrest_rate\r\n",
        "    }))\r\n",
        "compute_outcome_stats(df)"
      ],
      "execution_count": 129,
      "outputs": [
        {
          "output_type": "execute_result",
          "data": {
            "text/plain": [
              "n_total                3047.000000\n",
              "n_warnings              167.000000\n",
              "n_penalty                12.000000\n",
              "n_arrests               529.000000\n",
              "penalty_per_warning       0.071856\n",
              "arrest_rate               0.173613\n",
              "dtype: float64"
            ]
          },
          "metadata": {
            "tags": []
          },
          "execution_count": 129
        }
      ]
    },
    {
      "cell_type": "code",
      "metadata": {
        "colab": {
          "base_uri": "https://localhost:8080/",
          "height": 136
        },
        "id": "BLBCOY5RlDlS",
        "outputId": "ba17c867-d8b2-4fb3-99c1-96c066600ca4"
      },
      "source": [
        "#breakdown by gender (using helper function)\r\n",
        "df.groupby('Gender').apply(compute_outcome_stats)"
      ],
      "execution_count": 130,
      "outputs": [
        {
          "output_type": "execute_result",
          "data": {
            "text/html": [
              "<div>\n",
              "<style scoped>\n",
              "    .dataframe tbody tr th:only-of-type {\n",
              "        vertical-align: middle;\n",
              "    }\n",
              "\n",
              "    .dataframe tbody tr th {\n",
              "        vertical-align: top;\n",
              "    }\n",
              "\n",
              "    .dataframe thead th {\n",
              "        text-align: right;\n",
              "    }\n",
              "</style>\n",
              "<table border=\"1\" class=\"dataframe\">\n",
              "  <thead>\n",
              "    <tr style=\"text-align: right;\">\n",
              "      <th></th>\n",
              "      <th>n_total</th>\n",
              "      <th>n_warnings</th>\n",
              "      <th>n_penalty</th>\n",
              "      <th>n_arrests</th>\n",
              "      <th>penalty_per_warning</th>\n",
              "      <th>arrest_rate</th>\n",
              "    </tr>\n",
              "    <tr>\n",
              "      <th>Gender</th>\n",
              "      <th></th>\n",
              "      <th></th>\n",
              "      <th></th>\n",
              "      <th></th>\n",
              "      <th></th>\n",
              "      <th></th>\n",
              "    </tr>\n",
              "  </thead>\n",
              "  <tbody>\n",
              "    <tr>\n",
              "      <th>Female</th>\n",
              "      <td>299.0</td>\n",
              "      <td>16.0</td>\n",
              "      <td>2.0</td>\n",
              "      <td>50.0</td>\n",
              "      <td>0.125000</td>\n",
              "      <td>0.167224</td>\n",
              "    </tr>\n",
              "    <tr>\n",
              "      <th>Male</th>\n",
              "      <td>2747.0</td>\n",
              "      <td>151.0</td>\n",
              "      <td>10.0</td>\n",
              "      <td>479.0</td>\n",
              "      <td>0.066225</td>\n",
              "      <td>0.174372</td>\n",
              "    </tr>\n",
              "  </tbody>\n",
              "</table>\n",
              "</div>"
            ],
            "text/plain": [
              "        n_total  n_warnings  ...  penalty_per_warning  arrest_rate\n",
              "Gender                       ...                                  \n",
              "Female    299.0        16.0  ...             0.125000     0.167224\n",
              "Male     2747.0       151.0  ...             0.066225     0.174372\n",
              "\n",
              "[2 rows x 6 columns]"
            ]
          },
          "metadata": {
            "tags": []
          },
          "execution_count": 130
        }
      ]
    },
    {
      "cell_type": "code",
      "metadata": {
        "colab": {
          "base_uri": "https://localhost:8080/",
          "height": 369
        },
        "id": "t7MYuEs3oYjb",
        "outputId": "5ccfdb38-4219-4b97-f677-a7a0af3724f5"
      },
      "source": [
        "#penalty Gender and arrest gender by gender\r\n",
        "figsize = (10,5)\r\n",
        "race_agg = df.groupby(['Gender']).apply(compute_outcome_stats)\r\n",
        "fig, axes = plt.subplots(nrows=1, ncols=2, figsize=figsize)\r\n",
        "race_agg['penalty_per_warning'].plot.bar(ax=axes[0], figsize=figsize,color=(0.1, 0.1, 0.1, 0.1),  edgecolor='blue', title=\"Penalty Rate By Race\")\r\n",
        "race_agg['arrest_rate'].plot.bar(ax=axes[1], figsize=figsize,color=(0.1, 0.1, 0.1, 0.1),  edgecolor='blue', title='Arrest Rate By Race')\r\n",
        "plt.tight_layout()"
      ],
      "execution_count": 131,
      "outputs": [
        {
          "output_type": "display_data",
          "data": {
            "image/png": "[encoded data removed]",
            "text/plain": [
              "<Figure size 720x360 with 2 Axes>"
            ]
          },
          "metadata": {
            "tags": [],
            "needs_background": "light"
          }
        }
      ]
    },
    {
      "cell_type": "code",
      "metadata": {
        "colab": {
          "base_uri": "https://localhost:8080/",
          "height": 195
        },
        "id": "uvZYyeFilMQI",
        "outputId": "aff3c7ef-fd33-4db5-a25f-a5d41924eb51"
      },
      "source": [
        "#breakdown by race (using helper function)\r\n",
        "df.groupby('Officer-defined ethnicity').apply(compute_outcome_stats)"
      ],
      "execution_count": 132,
      "outputs": [
        {
          "output_type": "execute_result",
          "data": {
            "text/html": [
              "<div>\n",
              "<style scoped>\n",
              "    .dataframe tbody tr th:only-of-type {\n",
              "        vertical-align: middle;\n",
              "    }\n",
              "\n",
              "    .dataframe tbody tr th {\n",
              "        vertical-align: top;\n",
              "    }\n",
              "\n",
              "    .dataframe thead th {\n",
              "        text-align: right;\n",
              "    }\n",
              "</style>\n",
              "<table border=\"1\" class=\"dataframe\">\n",
              "  <thead>\n",
              "    <tr style=\"text-align: right;\">\n",
              "      <th></th>\n",
              "      <th>n_total</th>\n",
              "      <th>n_warnings</th>\n",
              "      <th>n_penalty</th>\n",
              "      <th>n_arrests</th>\n",
              "      <th>penalty_per_warning</th>\n",
              "      <th>arrest_rate</th>\n",
              "    </tr>\n",
              "    <tr>\n",
              "      <th>Officer-defined ethnicity</th>\n",
              "      <th></th>\n",
              "      <th></th>\n",
              "      <th></th>\n",
              "      <th></th>\n",
              "      <th></th>\n",
              "      <th></th>\n",
              "    </tr>\n",
              "  </thead>\n",
              "  <tbody>\n",
              "    <tr>\n",
              "      <th>Asian</th>\n",
              "      <td>586.0</td>\n",
              "      <td>36.0</td>\n",
              "      <td>5.0</td>\n",
              "      <td>95.0</td>\n",
              "      <td>0.138889</td>\n",
              "      <td>0.162116</td>\n",
              "    </tr>\n",
              "    <tr>\n",
              "      <th>Black</th>\n",
              "      <td>685.0</td>\n",
              "      <td>37.0</td>\n",
              "      <td>2.0</td>\n",
              "      <td>136.0</td>\n",
              "      <td>0.054054</td>\n",
              "      <td>0.198540</td>\n",
              "    </tr>\n",
              "    <tr>\n",
              "      <th>Other</th>\n",
              "      <td>188.0</td>\n",
              "      <td>4.0</td>\n",
              "      <td>2.0</td>\n",
              "      <td>38.0</td>\n",
              "      <td>0.500000</td>\n",
              "      <td>0.202128</td>\n",
              "    </tr>\n",
              "    <tr>\n",
              "      <th>White</th>\n",
              "      <td>1444.0</td>\n",
              "      <td>88.0</td>\n",
              "      <td>3.0</td>\n",
              "      <td>246.0</td>\n",
              "      <td>0.034091</td>\n",
              "      <td>0.170360</td>\n",
              "    </tr>\n",
              "  </tbody>\n",
              "</table>\n",
              "</div>"
            ],
            "text/plain": [
              "                           n_total  ...  arrest_rate\n",
              "Officer-defined ethnicity           ...             \n",
              "Asian                        586.0  ...     0.162116\n",
              "Black                        685.0  ...     0.198540\n",
              "Other                        188.0  ...     0.202128\n",
              "White                       1444.0  ...     0.170360\n",
              "\n",
              "[4 rows x 6 columns]"
            ]
          },
          "metadata": {
            "tags": []
          },
          "execution_count": 132
        }
      ]
    },
    {
      "cell_type": "code",
      "metadata": {
        "colab": {
          "base_uri": "https://localhost:8080/",
          "height": 369
        },
        "id": "p9J87RUGlziE",
        "outputId": "fb58f5f5-6589-4d2a-f5c0-f84e748e01b1"
      },
      "source": [
        "#penalty rate and arrest rate by race\r\n",
        "figsize = (10,5)\r\n",
        "race_agg = df.groupby(['Officer-defined ethnicity']).apply(compute_outcome_stats)\r\n",
        "fig, axes = plt.subplots(nrows=1, ncols=2, figsize=figsize)\r\n",
        "race_agg['penalty_per_warning'].plot.bar(ax=axes[0], figsize=figsize,color=(0.1, 0.1, 0.1, 0.1),  edgecolor='blue', title=\"Penalty Rate By Race\")\r\n",
        "race_agg['arrest_rate'].plot.bar(ax=axes[1], figsize=figsize,color=(0.1, 0.1, 0.1, 0.1),  edgecolor='blue', title='Arrest Rate By Race')\r\n",
        "plt.tight_layout()"
      ],
      "execution_count": 133,
      "outputs": [
        {
          "output_type": "display_data",
          "data": {
            "image/png": "[encoded data removed]",
            "text/plain": [
              "<Figure size 720x360 with 2 Axes>"
            ]
          },
          "metadata": {
            "tags": [],
            "needs_background": "light"
          }
        }
      ]
    },
    {
      "cell_type": "code",
      "metadata": {
        "id": "XGQM3qadyYUE"
      },
      "source": [
        "#Racial bias\r\n",
        "privileged_group = df[df[\"Officer-defined ethnicity\"] == \"White\"]\r\n",
        "#privileged_group.head()\r\n",
        "underprivileged_group = df[df[\"Officer-defined ethnicity\"] != \"White\"]\r\n",
        "#underprivileged_group.head()"
      ],
      "execution_count": 134,
      "outputs": []
    },
    {
      "cell_type": "code",
      "metadata": {
        "id": "V6sNP9dOybGY"
      },
      "source": [
        "#gender bias\r\n",
        "privileged_group = df[df[\"Gender\"] == \"FEMALE\"]\r\n",
        "#privileged_group.head()\r\n",
        "underprivileged_group = df[df[\"Gender\"] == \"MALE\"]\r\n",
        "#underprivileged_group.head()"
      ],
      "execution_count": 135,
      "outputs": []
    }
  ]
}