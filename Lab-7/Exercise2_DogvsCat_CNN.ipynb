{
  "nbformat": 4,
  "nbformat_minor": 0,
  "metadata": {
    "accelerator": "GPU",
    "colab": {
      "name": "Copy of Exercise2_DogvsCat_CNN.ipynb",
      "provenance": [],
      "collapsed_sections": [],
      "include_colab_link": true
    },
    "kernelspec": {
      "display_name": "Python 3",
      "name": "python3"
    }
  },
  "cells": [
    {
      "cell_type": "markdown",
      "metadata": {
        "id": "view-in-github",
        "colab_type": "text"
      },
      "source": [
        "<a href=\"https://colab.research.google.com/github/pateljay7018/CE888-7-SP-D.S.-and-decision-making-/blob/main/Lab-7/Exercise2_DogvsCat_CNN.ipynb\" target=\"_parent\"><img src=\"https://colab.research.google.com/assets/colab-badge.svg\" alt=\"Open In Colab\"/></a>"
      ]
    },
    {
      "cell_type": "markdown",
      "metadata": {
        "id": "qTh9DiKVslsJ"
      },
      "source": [
        "## Dogs vs. Cats \n",
        "\n",
        "In this competition, you'll write an algorithm to classify whether images contain either a dog or a cat.  This is easy for humans, dogs, and cats. Your computer will find it a bit more difficult.\n",
        "\n",
        "![alt text](https://miro.medium.com/max/3000/1*bhFifratH9DjKqMBTeQG5A.gif)\n",
        "\n",
        "Ref: https://medium.com/@thegrigorian/rolling-in-the-deep-cnn-c8d3f7108c8c"
      ]
    },
    {
      "cell_type": "code",
      "metadata": {
        "colab": {
          "base_uri": "https://localhost:8080/"
        },
        "id": "tBIEmWPLReRM",
        "outputId": "25c4bf24-49f5-4ebf-a2ef-ffe895156f70"
      },
      "source": [
        "from google.colab import drive\n",
        "drive.mount('/content/drive')"
      ],
      "execution_count": null,
      "outputs": [
        {
          "output_type": "stream",
          "text": [
            "Drive already mounted at /content/drive; to attempt to forcibly remount, call drive.mount(\"/content/drive\", force_remount=True).\n"
          ],
          "name": "stdout"
        }
      ]
    },
    {
      "cell_type": "markdown",
      "metadata": {
        "id": "RSBI-_mSSY1g"
      },
      "source": [
        "Get your API Key from Kaggle using following steps:\n",
        "1. Login to [Kaggle](https://www.kaggle.com/) or Register if you don't have account\n",
        "2. Open Dataset (https://www.kaggle.com/c/dogs-vs-cats/rules) and accept terms and condition. \n",
        "3. On the top right corner click on your Icon and go to accounts and press a button \"Create New API Token\". It will download a JSON file containing your username and key. \n",
        "4. Now, paste both below. \n"
      ]
    },
    {
      "cell_type": "code",
      "metadata": {
        "colab": {
          "base_uri": "https://localhost:8080/"
        },
        "id": "YmXSOc0tZIGA",
        "outputId": "0ccc54fd-95b3-463a-ce4d-2ed87452b445"
      },
      "source": [
        "!pip install --upgrade --force-reinstall --no-deps kaggle"
      ],
      "execution_count": null,
      "outputs": [
        {
          "output_type": "stream",
          "text": [
            "Processing /root/.cache/pip/wheels/a1/6a/26/d30b7499ff85a4a4593377a87ecf55f7d08af42f0de9b60303/kaggle-1.5.12-cp37-none-any.whl\n",
            "Installing collected packages: kaggle\n",
            "  Found existing installation: kaggle 1.5.12\n",
            "    Uninstalling kaggle-1.5.12:\n",
            "      Successfully uninstalled kaggle-1.5.12\n",
            "Successfully installed kaggle-1.5.12\n"
          ],
          "name": "stdout"
        }
      ]
    },
    {
      "cell_type": "code",
      "metadata": {
        "id": "NyOhHXKyQjtB",
        "colab": {
          "base_uri": "https://localhost:8080/"
        },
        "outputId": "f56d9ce6-8303-48ad-f425-bb8802fedcca"
      },
      "source": [
        "import os\n",
        "os.environ['KAGGLE_USERNAME'] = \"jaypatel1298\"               # username from the json file {\"username\":\"jaypatel1298\",\"key\":\"a045eb4f73821a89322fa5a0689868b4\"}\n",
        "os.environ['KAGGLE_KEY'] = \"a045eb4f73821a89322fa5a0689868b4\"   # key from the json file\n",
        "!kaggle competitions download -c dogs-vs-cats                   # api copied from kaggle (https://www.kaggle.com/c/dogs-vs-cats/data)"
      ],
      "execution_count": null,
      "outputs": [
        {
          "output_type": "stream",
          "text": [
            "Downloading dogs-vs-cats.zip to /content\n",
            " 98% 797M/812M [00:11<00:00, 51.2MB/s]\n",
            "100% 812M/812M [00:11<00:00, 75.1MB/s]\n"
          ],
          "name": "stdout"
        }
      ]
    },
    {
      "cell_type": "code",
      "metadata": {
        "colab": {
          "base_uri": "https://localhost:8080/"
        },
        "id": "PiwIL8d1n7eS",
        "outputId": "ac507ed9-8298-4ac0-ddfc-854e4c65a461"
      },
      "source": [
        "# Unzip training data\n",
        "from zipfile import ZipFile\n",
        "file_name = \"/content/dogs-vs-cats.zip\"\n",
        "with ZipFile(file_name, 'r') as zip:\n",
        "  zip.extractall()\n",
        "  print('done')"
      ],
      "execution_count": null,
      "outputs": [
        {
          "output_type": "stream",
          "text": [
            "done\n"
          ],
          "name": "stdout"
        }
      ]
    },
    {
      "cell_type": "code",
      "metadata": {
        "id": "4xzP8YuOTQwV",
        "colab": {
          "base_uri": "https://localhost:8080/"
        },
        "outputId": "d7222d40-beb4-4b1f-a342-dfbcd04e90d7"
      },
      "source": [
        "from zipfile import ZipFile\n",
        "file_name = \"/content/train.zip\"\n",
        "with ZipFile(file_name, 'r') as zip:\n",
        "  zip.extractall()\n",
        "  print('done')\n"
      ],
      "execution_count": null,
      "outputs": [
        {
          "output_type": "stream",
          "text": [
            "done\n"
          ],
          "name": "stdout"
        }
      ]
    },
    {
      "cell_type": "code",
      "metadata": {
        "id": "KPS4zbhpTTLF",
        "colab": {
          "base_uri": "https://localhost:8080/"
        },
        "outputId": "39f29cab-9543-46a1-b8f5-ad394ff18669"
      },
      "source": [
        "\n",
        "from zipfile import ZipFile\n",
        "file_name = \"/content/test1.zip\"\n",
        "with ZipFile(file_name, 'r') as zip:\n",
        "  zip.extractall()\n",
        "  print('done')"
      ],
      "execution_count": null,
      "outputs": [
        {
          "output_type": "stream",
          "text": [
            "done\n"
          ],
          "name": "stdout"
        }
      ]
    },
    {
      "cell_type": "code",
      "metadata": {
        "id": "sa2Bj5i7pPKV",
        "colab": {
          "base_uri": "https://localhost:8080/"
        },
        "outputId": "fbec26f4-a277-4c9e-ce3a-9abdc3beeeba"
      },
      "source": [
        "# Get all the paths\n",
        "data_dir_list = os.listdir('/content/train')\n",
        "#print(data_dir_list)\n",
        "path, dirs, files = next(os.walk(\"/content/train\"))\n",
        "file_count = len(files)\n",
        "print(file_count)"
      ],
      "execution_count": null,
      "outputs": [
        {
          "output_type": "stream",
          "text": [
            "25000\n"
          ],
          "name": "stdout"
        }
      ]
    },
    {
      "cell_type": "code",
      "metadata": {
        "id": "0ERlHkfHqpK8"
      },
      "source": [
        "# Make new base directory\n",
        "original_dataset_dir = '/content/train'\n",
        "base_dir = '/content/cats_and_dogs_small'\n",
        "os.mkdir(base_dir)"
      ],
      "execution_count": null,
      "outputs": []
    },
    {
      "cell_type": "code",
      "metadata": {
        "id": "AANB1UJ6rQhM"
      },
      "source": [
        "train_dir = os.path.join(base_dir, 'train')\n",
        "os.mkdir(train_dir)\n",
        "\n",
        "validation_dir = os.path.join(base_dir, 'validation')\n",
        "os.mkdir(validation_dir)\n",
        "\n",
        "test_dir = os.path.join(base_dir, 'test')\n",
        "os.mkdir(test_dir)\n",
        "\n",
        "train_cats_dir = os.path.join(train_dir, 'cats')\n",
        "os.mkdir(train_cats_dir)\n",
        "\n",
        "train_dogs_dir = os.path.join(train_dir, 'dogs')\n",
        "os.mkdir(train_dogs_dir)\n",
        "\n",
        "validation_cats_dir = os.path.join(validation_dir, 'cats')\n",
        "os.mkdir(validation_cats_dir)\n",
        "\n",
        "validation_dogs_dir = os.path.join(validation_dir, 'dogs')\n",
        "os.mkdir(validation_dogs_dir)\n",
        "\n",
        "test_cats_dir = os.path.join(test_dir, 'cats')\n",
        "os.mkdir(test_cats_dir)\n",
        "\n",
        "test_dogs_dir = os.path.join(test_dir, 'dogs')\n",
        "os.mkdir(test_dogs_dir)"
      ],
      "execution_count": null,
      "outputs": []
    },
    {
      "cell_type": "code",
      "metadata": {
        "id": "ULRgL9s9rV8T"
      },
      "source": [
        "import shutil\n",
        "fnames = ['cat.{}.jpg'.format(i) for i in range(1000)]\n",
        "for fname in fnames:\n",
        "    src = os.path.join(original_dataset_dir, fname)\n",
        "    dst = os.path.join(train_cats_dir, fname)\n",
        "    #print(src,dst)\n",
        "    shutil.copyfile(src, dst)\n",
        "    \n",
        "fnames = ['cat.{}.jpg'.format(i) for i in range(1000, 1500)]\n",
        "for fname in fnames:\n",
        "    src = os.path.join(original_dataset_dir, fname)\n",
        "    dst = os.path.join(validation_cats_dir, fname)\n",
        "    shutil.copyfile(src, dst)\n",
        "\n",
        "fnames = ['cat.{}.jpg'.format(i) for i in range(1500, 2000)]\n",
        "for fname in fnames:\n",
        "    src = os.path.join(original_dataset_dir, fname)\n",
        "    dst = os.path.join(test_cats_dir, fname)\n",
        "    shutil.copyfile(src, dst)\n",
        "    \n",
        "fnames = ['dog.{}.jpg'.format(i) for i in range(1000)]\n",
        "for fname in fnames:\n",
        "    src = os.path.join(original_dataset_dir, fname)\n",
        "    dst = os.path.join(train_dogs_dir, fname)\n",
        "    shutil.copyfile(src, dst)\n",
        "\n",
        "fnames = ['dog.{}.jpg'.format(i) for i in range(1000, 1500)]\n",
        "for fname in fnames:\n",
        "    src = os.path.join(original_dataset_dir, fname)\n",
        "    dst = os.path.join(validation_dogs_dir, fname)\n",
        "    shutil.copyfile(src, dst)\n",
        "\n",
        "fnames = ['dog.{}.jpg'.format(i) for i in range(1500, 2000)]\n",
        "for fname in fnames:\n",
        "    src = os.path.join(original_dataset_dir, fname)\n",
        "    dst = os.path.join(test_dogs_dir, fname)\n",
        "    shutil.copyfile(src, dst)"
      ],
      "execution_count": null,
      "outputs": []
    },
    {
      "cell_type": "code",
      "metadata": {
        "id": "ul3XAbIyr7vC",
        "colab": {
          "base_uri": "https://localhost:8080/"
        },
        "outputId": "8cae8a2b-24c4-4a3c-c64b-844890d83181"
      },
      "source": [
        "print('total training cat images:', len(os.listdir(train_cats_dir)))\n",
        "print('total training dog images:', len(os.listdir(train_dogs_dir)))\n",
        "print('total validation cat images:', len(os.listdir(validation_cats_dir)))\n",
        "\n",
        "print('total validation dog images:', len(os.listdir(validation_dogs_dir)))\n",
        "print('total test cat images:', len(os.listdir(test_cats_dir)))\n",
        "print('total test dog images:', len(os.listdir(test_dogs_dir)))"
      ],
      "execution_count": null,
      "outputs": [
        {
          "output_type": "stream",
          "text": [
            "total training cat images: 1000\n",
            "total training dog images: 1000\n",
            "total validation cat images: 500\n",
            "total validation dog images: 500\n",
            "total test cat images: 500\n",
            "total test dog images: 500\n"
          ],
          "name": "stdout"
        }
      ]
    },
    {
      "cell_type": "code",
      "metadata": {
        "id": "o9yTA21_r-ma",
        "colab": {
          "base_uri": "https://localhost:8080/"
        },
        "outputId": "a570909f-3e4c-4280-c979-1bd345437a82"
      },
      "source": [
        "from keras import layers\n",
        "from keras import models\n",
        "\n",
        "model = models.Sequential()\n",
        "model.add(layers.Conv2D(32, (3, 3), activation='relu', input_shape=(150, 150, 3)))\n",
        "model.add(layers.MaxPooling2D((2, 2)))\n",
        "model.add(layers.Conv2D(64, (3, 3), activation='relu'))\n",
        "model.add(layers.MaxPooling2D((2, 2)))\n",
        "model.add(layers.Conv2D(128, (3, 3), activation='relu'))\n",
        "model.add(layers.MaxPooling2D((2, 2)))\n",
        "model.add(layers.Conv2D(128, (3, 3), activation='relu'))\n",
        "model.add(layers.MaxPooling2D((2, 2)))\n",
        "model.add(layers.Flatten())\n",
        "model.add(layers.Dense(512, activation='relu'))\n",
        "model.add(layers.Dense(1, activation='sigmoid'))\n",
        "model.summary()"
      ],
      "execution_count": null,
      "outputs": [
        {
          "output_type": "stream",
          "text": [
            "Model: \"sequential\"\n",
            "_________________________________________________________________\n",
            "Layer (type)                 Output Shape              Param #   \n",
            "=================================================================\n",
            "conv2d (Conv2D)              (None, 148, 148, 32)      896       \n",
            "_________________________________________________________________\n",
            "max_pooling2d (MaxPooling2D) (None, 74, 74, 32)        0         \n",
            "_________________________________________________________________\n",
            "conv2d_1 (Conv2D)            (None, 72, 72, 64)        18496     \n",
            "_________________________________________________________________\n",
            "max_pooling2d_1 (MaxPooling2 (None, 36, 36, 64)        0         \n",
            "_________________________________________________________________\n",
            "conv2d_2 (Conv2D)            (None, 34, 34, 128)       73856     \n",
            "_________________________________________________________________\n",
            "max_pooling2d_2 (MaxPooling2 (None, 17, 17, 128)       0         \n",
            "_________________________________________________________________\n",
            "conv2d_3 (Conv2D)            (None, 15, 15, 128)       147584    \n",
            "_________________________________________________________________\n",
            "max_pooling2d_3 (MaxPooling2 (None, 7, 7, 128)         0         \n",
            "_________________________________________________________________\n",
            "flatten (Flatten)            (None, 6272)              0         \n",
            "_________________________________________________________________\n",
            "dense (Dense)                (None, 512)               3211776   \n",
            "_________________________________________________________________\n",
            "dense_1 (Dense)              (None, 1)                 513       \n",
            "=================================================================\n",
            "Total params: 3,453,121\n",
            "Trainable params: 3,453,121\n",
            "Non-trainable params: 0\n",
            "_________________________________________________________________\n"
          ],
          "name": "stdout"
        }
      ]
    },
    {
      "cell_type": "code",
      "metadata": {
        "id": "2mG8wekxsBVS"
      },
      "source": [
        "from keras import optimizers\n",
        "model.compile(loss='binary_crossentropy', \n",
        "              optimizer=optimizers.RMSprop(lr=1e-4),\n",
        "              metrics=['acc'])"
      ],
      "execution_count": null,
      "outputs": []
    },
    {
      "cell_type": "markdown",
      "metadata": {
        "id": "7zS4Klm8qWp6"
      },
      "source": [
        "## Using ImageDataGenerator to read images from directories\n",
        "As you know by now, data should be formatted into appropriately preprocessed floatingpoint tensors before being fed into the network. Currently, the data sits on a drive as JPEG files, so the steps for getting it into the network are roughly as follows:\n",
        "\n",
        "* Read the picture files.\n",
        "* Decode the JPEG content to RGB grids of pixels.\n",
        "* Convert these into floating-point tensors.\n",
        "* Rescale the pixel values (between 0 and 255) to the [0, 1] interval (as you know, neural networks prefer to deal with small input values).\n",
        "\n",
        "It may seem a bit daunting, but fortunately Keras has utilities to take care of these steps automatically. Keras has a module with image-processing helper tools, located at keras.preprocessing.image. In particular, it contains the class ImageDataGenerator,which lets you quickly set up Python generators that can automatically turn image files on disk into batches of preprocessed tensors."
      ]
    },
    {
      "cell_type": "code",
      "metadata": {
        "id": "XJ7XU7t9sEh6",
        "colab": {
          "base_uri": "https://localhost:8080/"
        },
        "outputId": "61938046-e5cc-46f8-b9ea-33cfb1a56e82"
      },
      "source": [
        "from keras.preprocessing.image import ImageDataGenerator\n",
        "\n",
        "train_datagen = ImageDataGenerator(rescale=1./255)\n",
        "test_datagen = ImageDataGenerator(rescale=1./255)\n",
        "\n",
        "train_generator = train_datagen.flow_from_directory(train_dir,\n",
        "                                                    target_size=(150, 150), \n",
        "                                                    batch_size=20,\n",
        "                                                    class_mode='binary')\n",
        "\n",
        "validation_generator = test_datagen.flow_from_directory(validation_dir,\n",
        "                                                        target_size=(150, 150),\n",
        "                                                        batch_size=20,\n",
        "                                                        class_mode='binary')"
      ],
      "execution_count": null,
      "outputs": [
        {
          "output_type": "stream",
          "text": [
            "Found 2000 images belonging to 2 classes.\n",
            "Found 1000 images belonging to 2 classes.\n"
          ],
          "name": "stdout"
        }
      ]
    },
    {
      "cell_type": "markdown",
      "metadata": {
        "id": "SEgLywySqm4u"
      },
      "source": [
        "Let’s fit the model to the data using the generator. You do so using the fit_generator method, the equivalent of fit for data generators like this one. It expects as its first argument a Python generator that will yield batches of inputs and targets indefinitely,like this one does. Because the data is being generated endlessly, the Keras model needs to know how many samples to draw from the generator before declaring anepoch over. This is the role of the `steps_per_epoch` argument: after having drawn `steps_per_epoch` batches from the generator—that is, after having run for `steps_per_epoch` gradient descent steps—the fitting process will go to the next epoch. In this case, batches are 20 samples, so it will take 100 batches until you see your target of 2,000 samples.\n",
        "\n",
        "When using fit_generator, you can pass a validation_data argument, much as with the fit method. It’s important to note that this argument is allowed to be a data generator, but it could also be a tuple of Numpy arrays. If you pass a generator as validation_data, then this generator is expected to yield batches of validation data endlessly; thus you should also specify the validation_steps argument, which tells the process how many batches to draw from the validation generator for evaluation."
      ]
    },
    {
      "cell_type": "code",
      "metadata": {
        "id": "yMyfPphJsJG6",
        "colab": {
          "base_uri": "https://localhost:8080/"
        },
        "outputId": "52994fc7-5c54-4846-e8c3-06cab58c1bd0"
      },
      "source": [
        "history = model.fit(train_generator,\n",
        "                              steps_per_epoch=100,\n",
        "                              epochs=30,\n",
        "                              validation_data=validation_generator,\n",
        "                              validation_steps=10)"
      ],
      "execution_count": null,
      "outputs": [
        {
          "output_type": "stream",
          "text": [
            "Epoch 1/30\n",
            "100/100 [==============================] - 40s 71ms/step - loss: 0.7030 - acc: 0.5102 - val_loss: 0.6795 - val_acc: 0.5200\n",
            "Epoch 2/30\n",
            "100/100 [==============================] - 7s 67ms/step - loss: 0.6665 - acc: 0.6074 - val_loss: 0.6364 - val_acc: 0.6350\n",
            "Epoch 3/30\n",
            "100/100 [==============================] - 7s 68ms/step - loss: 0.6267 - acc: 0.6403 - val_loss: 0.6283 - val_acc: 0.6600\n",
            "Epoch 4/30\n",
            "100/100 [==============================] - 7s 67ms/step - loss: 0.5740 - acc: 0.7054 - val_loss: 0.5692 - val_acc: 0.7100\n",
            "Epoch 5/30\n",
            "100/100 [==============================] - 7s 67ms/step - loss: 0.5329 - acc: 0.7309 - val_loss: 0.6015 - val_acc: 0.6900\n",
            "Epoch 6/30\n",
            "100/100 [==============================] - 7s 68ms/step - loss: 0.5147 - acc: 0.7406 - val_loss: 0.6529 - val_acc: 0.6900\n",
            "Epoch 7/30\n",
            "100/100 [==============================] - 7s 67ms/step - loss: 0.5039 - acc: 0.7598 - val_loss: 0.5743 - val_acc: 0.7150\n",
            "Epoch 8/30\n",
            "100/100 [==============================] - 7s 67ms/step - loss: 0.4655 - acc: 0.7763 - val_loss: 0.5443 - val_acc: 0.6900\n",
            "Epoch 9/30\n",
            "100/100 [==============================] - 7s 67ms/step - loss: 0.4321 - acc: 0.7902 - val_loss: 0.6277 - val_acc: 0.6850\n",
            "Epoch 10/30\n",
            "100/100 [==============================] - 7s 67ms/step - loss: 0.3841 - acc: 0.8282 - val_loss: 0.5966 - val_acc: 0.7100\n",
            "Epoch 11/30\n",
            "100/100 [==============================] - 7s 68ms/step - loss: 0.3724 - acc: 0.8320 - val_loss: 0.5261 - val_acc: 0.7300\n",
            "Epoch 12/30\n",
            "100/100 [==============================] - 7s 68ms/step - loss: 0.3378 - acc: 0.8613 - val_loss: 0.5319 - val_acc: 0.7850\n",
            "Epoch 13/30\n",
            "100/100 [==============================] - 7s 68ms/step - loss: 0.3188 - acc: 0.8627 - val_loss: 0.5689 - val_acc: 0.7250\n",
            "Epoch 14/30\n",
            "100/100 [==============================] - 7s 67ms/step - loss: 0.2819 - acc: 0.8919 - val_loss: 0.6933 - val_acc: 0.7000\n",
            "Epoch 15/30\n",
            "100/100 [==============================] - 7s 68ms/step - loss: 0.2638 - acc: 0.8906 - val_loss: 0.6661 - val_acc: 0.7300\n",
            "Epoch 16/30\n",
            "100/100 [==============================] - 7s 67ms/step - loss: 0.2470 - acc: 0.8976 - val_loss: 0.6939 - val_acc: 0.7200\n",
            "Epoch 17/30\n",
            "100/100 [==============================] - 7s 68ms/step - loss: 0.2275 - acc: 0.9091 - val_loss: 0.7712 - val_acc: 0.6750\n",
            "Epoch 18/30\n",
            "100/100 [==============================] - 7s 67ms/step - loss: 0.1894 - acc: 0.9350 - val_loss: 0.7633 - val_acc: 0.6600\n",
            "Epoch 19/30\n",
            "100/100 [==============================] - 7s 69ms/step - loss: 0.1729 - acc: 0.9407 - val_loss: 0.6308 - val_acc: 0.7150\n",
            "Epoch 20/30\n",
            "100/100 [==============================] - 7s 68ms/step - loss: 0.1463 - acc: 0.9527 - val_loss: 0.7121 - val_acc: 0.6850\n",
            "Epoch 21/30\n",
            "100/100 [==============================] - 7s 69ms/step - loss: 0.1345 - acc: 0.9567 - val_loss: 0.8081 - val_acc: 0.6750\n",
            "Epoch 22/30\n",
            "100/100 [==============================] - 7s 67ms/step - loss: 0.1080 - acc: 0.9666 - val_loss: 0.8138 - val_acc: 0.6850\n",
            "Epoch 23/30\n",
            "100/100 [==============================] - 7s 67ms/step - loss: 0.0931 - acc: 0.9688 - val_loss: 0.9015 - val_acc: 0.7250\n",
            "Epoch 24/30\n",
            "100/100 [==============================] - 7s 67ms/step - loss: 0.0884 - acc: 0.9765 - val_loss: 0.7955 - val_acc: 0.7300\n",
            "Epoch 25/30\n",
            "100/100 [==============================] - 7s 68ms/step - loss: 0.0674 - acc: 0.9823 - val_loss: 0.8107 - val_acc: 0.7550\n",
            "Epoch 26/30\n",
            "100/100 [==============================] - 7s 68ms/step - loss: 0.0527 - acc: 0.9936 - val_loss: 1.3861 - val_acc: 0.6650\n",
            "Epoch 27/30\n",
            "100/100 [==============================] - 7s 66ms/step - loss: 0.0459 - acc: 0.9875 - val_loss: 1.1265 - val_acc: 0.6400\n",
            "Epoch 28/30\n",
            "100/100 [==============================] - 7s 66ms/step - loss: 0.0401 - acc: 0.9902 - val_loss: 0.8888 - val_acc: 0.7300\n",
            "Epoch 29/30\n",
            "100/100 [==============================] - 7s 67ms/step - loss: 0.0358 - acc: 0.9915 - val_loss: 1.1597 - val_acc: 0.7400\n",
            "Epoch 30/30\n",
            "100/100 [==============================] - 7s 66ms/step - loss: 0.0240 - acc: 0.9956 - val_loss: 1.1826 - val_acc: 0.6950\n"
          ],
          "name": "stdout"
        }
      ]
    },
    {
      "cell_type": "code",
      "metadata": {
        "id": "MZaZ2HWZsNUi",
        "colab": {
          "base_uri": "https://localhost:8080/",
          "height": 545
        },
        "outputId": "05d7d46f-5f54-4883-c5c4-f8b442816e53"
      },
      "source": [
        "model.save('cats_and_dogs_small_1.h5')\n",
        "\n",
        "import matplotlib.pyplot as plt\n",
        "\n",
        "acc = history.history['acc']\n",
        "val_acc = history.history['val_acc']\n",
        "loss = history.history['loss']\n",
        "val_loss = history.history['val_loss']\n",
        "\n",
        "epochs = range(1, len(acc) + 1)\n",
        "\n",
        "plt.plot(epochs, acc, 'bo', label='Training acc')\n",
        "plt.plot(epochs, val_acc, 'b', label='Validation acc')\n",
        "plt.title('Training and validation accuracy')\n",
        "plt.legend()\n",
        "\n",
        "plt.figure()\n",
        "\n",
        "plt.plot(epochs, loss, 'bo', label='Training loss')\n",
        "plt.plot(epochs, val_loss, 'b', label='Validation loss')\n",
        "plt.title('Training and validation loss')\n",
        "plt.legend()\n",
        "\n",
        "plt.show()"
      ],
      "execution_count": null,
      "outputs": [
        {
          "output_type": "display_data",
          "data": {
            "image/png": "[encoded data removed]",
            "text/plain": [
              "<Figure size 432x288 with 1 Axes>"
            ]
          },
          "metadata": {
            "tags": [],
            "needs_background": "light"
          }
        },
        {
          "output_type": "display_data",
          "data": {
            "image/png": "[encoded data removed]",
            "text/plain": [
              "<Figure size 432x288 with 1 Axes>"
            ]
          },
          "metadata": {
            "tags": [],
            "needs_background": "light"
          }
        }
      ]
    },
    {
      "cell_type": "markdown",
      "metadata": {
        "id": "XKZmXmBcq_8-"
      },
      "source": [
        "## Convolutional Networks with Dropout\n",
        "\n",
        "![alt text](https://camo.githubusercontent.com/ee6fa1073247cd2c3d241300caf110d7a7541bc5/68747470733a2f2f63646e2d696d616765732d312e6d656469756d2e636f6d2f6d61782f3830302f312a4972644a355067684439596f4f7956415137334d4a772e676966)\n",
        "\n",
        "Ref: https://github.com/mneha4/Training-Neural-Nets---Guidelines"
      ]
    },
    {
      "cell_type": "code",
      "metadata": {
        "id": "wu3cqeYQrDeN"
      },
      "source": [
        "model = models.Sequential()\n",
        "model.add(layers.Conv2D(32, (3, 3), activation='relu',\n",
        "input_shape=(150, 150, 3)))\n",
        "model.add(layers.MaxPooling2D((2, 2)))\n",
        "model.add(layers.Conv2D(64, (3, 3), activation='relu'))\n",
        "model.add(layers.MaxPooling2D((2, 2)))\n",
        "model.add(layers.Conv2D(128, (3, 3), activation='relu'))\n",
        "model.add(layers.MaxPooling2D((2, 2)))\n",
        "model.add(layers.Conv2D(128, (3, 3), activation='relu'))\n",
        "model.add(layers.MaxPooling2D((2, 2)))\n",
        "model.add(layers.Flatten())\n",
        "model.add(layers.Dropout(0.5))\n",
        "model.add(layers.Dense(512, activation='relu'))\n",
        "model.add(layers.Dense(1, activation='sigmoid'))\n",
        "\n",
        "model.compile(loss='binary_crossentropy',\n",
        "              optimizer=optimizers.RMSprop(lr=1e-4),\n",
        "              metrics=['acc'])"
      ],
      "execution_count": null,
      "outputs": []
    },
    {
      "cell_type": "code",
      "metadata": {
        "id": "QSeLpvY0rH7F",
        "colab": {
          "base_uri": "https://localhost:8080/"
        },
        "outputId": "830ce5a1-3a83-4ca6-9e19-30106c821039"
      },
      "source": [
        "\n",
        "train_datagen = ImageDataGenerator(rescale=1./255,\n",
        "                                   rotation_range=40,\n",
        "                                   width_shift_range=0.2,\n",
        "                                   height_shift_range=0.2,\n",
        "                                   shear_range=0.2,\n",
        "                                   zoom_range=0.2,\n",
        "                                   horizontal_flip=True,)\n",
        "\n",
        "test_datagen = ImageDataGenerator(rescale=1./255)\n",
        "\n",
        "train_generator = train_datagen.flow_from_directory(train_dir,\n",
        "                                                    target_size=(150, 150),\n",
        "                                                    batch_size=20,\n",
        "                                                    class_mode='binary')\n",
        "\n",
        "validation_generator = test_datagen.flow_from_directory(validation_dir,\n",
        "                                                        target_size=(150, 150),\n",
        "                                                        batch_size=20,\n",
        "                                                        class_mode='binary')\n"
      ],
      "execution_count": null,
      "outputs": [
        {
          "output_type": "stream",
          "text": [
            "Found 2000 images belonging to 2 classes.\n",
            "Found 1000 images belonging to 2 classes.\n"
          ],
          "name": "stdout"
        }
      ]
    },
    {
      "cell_type": "code",
      "metadata": {
        "id": "1GnTZ2R8U7Cr",
        "colab": {
          "base_uri": "https://localhost:8080/"
        },
        "outputId": "cea66cae-417f-472b-bc85-a753dc1a443f"
      },
      "source": [
        "\n",
        "history = model.fit(train_generator,\n",
        "                              steps_per_epoch=100,\n",
        "                              epochs=20,\n",
        "                              validation_data=validation_generator,\n",
        "                              validation_steps=50)"
      ],
      "execution_count": null,
      "outputs": [
        {
          "output_type": "stream",
          "text": [
            "Epoch 1/20\n",
            "100/100 [==============================] - 19s 178ms/step - loss: 0.6933 - acc: 0.5087 - val_loss: 0.6810 - val_acc: 0.5790\n",
            "Epoch 2/20\n",
            "100/100 [==============================] - 17s 174ms/step - loss: 0.6866 - acc: 0.5407 - val_loss: 0.6968 - val_acc: 0.5080\n",
            "Epoch 3/20\n",
            "100/100 [==============================] - 18s 176ms/step - loss: 0.6677 - acc: 0.5730 - val_loss: 0.6464 - val_acc: 0.6220\n",
            "Epoch 4/20\n",
            "100/100 [==============================] - 18s 182ms/step - loss: 0.6607 - acc: 0.6063 - val_loss: 0.6510 - val_acc: 0.6080\n",
            "Epoch 5/20\n",
            "100/100 [==============================] - 17s 174ms/step - loss: 0.6526 - acc: 0.6156 - val_loss: 0.6051 - val_acc: 0.6550\n",
            "Epoch 6/20\n",
            "100/100 [==============================] - 17s 174ms/step - loss: 0.6189 - acc: 0.6388 - val_loss: 0.6341 - val_acc: 0.6430\n",
            "Epoch 7/20\n",
            "100/100 [==============================] - 17s 174ms/step - loss: 0.6195 - acc: 0.6400 - val_loss: 0.5769 - val_acc: 0.6870\n",
            "Epoch 8/20\n",
            "100/100 [==============================] - 18s 175ms/step - loss: 0.6010 - acc: 0.6719 - val_loss: 0.5789 - val_acc: 0.6810\n",
            "Epoch 9/20\n",
            "100/100 [==============================] - 18s 175ms/step - loss: 0.5998 - acc: 0.6528 - val_loss: 0.5611 - val_acc: 0.7110\n",
            "Epoch 10/20\n",
            "100/100 [==============================] - 18s 178ms/step - loss: 0.5996 - acc: 0.6560 - val_loss: 0.5542 - val_acc: 0.7030\n",
            "Epoch 11/20\n",
            "100/100 [==============================] - 18s 176ms/step - loss: 0.5779 - acc: 0.6889 - val_loss: 0.5424 - val_acc: 0.7150\n",
            "Epoch 12/20\n",
            "100/100 [==============================] - 17s 174ms/step - loss: 0.5823 - acc: 0.6952 - val_loss: 0.5743 - val_acc: 0.7020\n",
            "Epoch 13/20\n",
            "100/100 [==============================] - 18s 176ms/step - loss: 0.5617 - acc: 0.7012 - val_loss: 0.6210 - val_acc: 0.6760\n",
            "Epoch 14/20\n",
            "100/100 [==============================] - 18s 177ms/step - loss: 0.5721 - acc: 0.6927 - val_loss: 0.5441 - val_acc: 0.7240\n",
            "Epoch 15/20\n",
            "100/100 [==============================] - 17s 174ms/step - loss: 0.5645 - acc: 0.6972 - val_loss: 0.5547 - val_acc: 0.7000\n",
            "Epoch 16/20\n",
            "100/100 [==============================] - 17s 174ms/step - loss: 0.5686 - acc: 0.7110 - val_loss: 0.5530 - val_acc: 0.7060\n",
            "Epoch 17/20\n",
            "100/100 [==============================] - 17s 175ms/step - loss: 0.5633 - acc: 0.6982 - val_loss: 0.5486 - val_acc: 0.7090\n",
            "Epoch 18/20\n",
            "100/100 [==============================] - 17s 174ms/step - loss: 0.5547 - acc: 0.7043 - val_loss: 0.5318 - val_acc: 0.7210\n",
            "Epoch 19/20\n",
            "100/100 [==============================] - 17s 174ms/step - loss: 0.5502 - acc: 0.7079 - val_loss: 0.5562 - val_acc: 0.7090\n",
            "Epoch 20/20\n",
            "100/100 [==============================] - 17s 175ms/step - loss: 0.5741 - acc: 0.6969 - val_loss: 0.5070 - val_acc: 0.7380\n"
          ],
          "name": "stdout"
        }
      ]
    },
    {
      "cell_type": "markdown",
      "metadata": {
        "id": "BRdU5yrkUF_b"
      },
      "source": [
        "# Task 2:\n",
        "\n",
        "We have used Dropout to enhance the performance of the CNN model. Can you please use whatever you like to further enhance the performance from `val_acc: 0.7506`? "
      ]
    },
    {
      "cell_type": "code",
      "metadata": {
        "id": "LLVf0F9IAetK"
      },
      "source": [
        "from keras import layers\n",
        "from keras import models"
      ],
      "execution_count": null,
      "outputs": []
    },
    {
      "cell_type": "code",
      "metadata": {
        "id": "2q5HSSJ0gDiS"
      },
      "source": [
        "model = models.Sequential()\n",
        "model.add(layers.Conv2D(32, (3, 3), activation='relu',\n",
        "input_shape=(150, 150, 3)))\n",
        "model.add(layers.MaxPooling2D((2, 2)))\n",
        "model.add(layers.Conv2D(64, (3, 3), activation='relu'))\n",
        "model.add(layers.MaxPooling2D((2, 2)))\n",
        "model.add(layers.Conv2D(128, (3, 3), activation='relu'))\n",
        "model.add(layers.MaxPooling2D((2, 2)))\n",
        "model.add(layers.Conv2D(128, (3, 3), activation='relu'))\n",
        "model.add(layers.MaxPooling2D((2, 2)))\n",
        "model.add(layers.Flatten())\n",
        "model.add(layers.Dropout(0.8))\n",
        "model.add(layers.Dense(512, activation='relu'))\n",
        "model.add(layers.Dense(1, activation='sigmoid'))\n",
        "model.compile(loss='binary_crossentropy',optimizer='adam',metrics=['acc'])"
      ],
      "execution_count": null,
      "outputs": []
    },
    {
      "cell_type": "code",
      "metadata": {
        "id": "BDCZTY1sgN9c",
        "colab": {
          "base_uri": "https://localhost:8080/"
        },
        "outputId": "2a2a4536-c001-45cf-f295-7a9f72f141b6"
      },
      "source": [
        "train_datagen = ImageDataGenerator(rescale=1./255,\n",
        "                                   rotation_range=40,\n",
        "                                   width_shift_range=0.2,\n",
        "                                   height_shift_range=0.2,\n",
        "                                   shear_range=0.2,\n",
        "                                   zoom_range=0.2,\n",
        "                                   horizontal_flip=True,)\n",
        "\n",
        "test_datagen = ImageDataGenerator(rescale=1./255)\n",
        "\n",
        "train_generator = train_datagen.flow_from_directory(train_dir,\n",
        "                                                    target_size=(150, 150),\n",
        "                                                    batch_size=20,\n",
        "                                                    class_mode='binary')\n",
        "\n",
        "validation_generator = test_datagen.flow_from_directory(validation_dir,\n",
        "                                                        target_size=(150, 150),\n",
        "                                                        batch_size=20,\n",
        "                                                        class_mode='binary')"
      ],
      "execution_count": null,
      "outputs": [
        {
          "output_type": "stream",
          "text": [
            "Found 2000 images belonging to 2 classes.\n",
            "Found 1000 images belonging to 2 classes.\n"
          ],
          "name": "stdout"
        }
      ]
    },
    {
      "cell_type": "code",
      "metadata": {
        "id": "n0aE0ZdbgPjO",
        "colab": {
          "base_uri": "https://localhost:8080/"
        },
        "outputId": "49ebd36b-a899-4a8e-8cb6-630f621a9c27"
      },
      "source": [
        "history = model.fit(train_generator,\n",
        "                    steps_per_epoch=100,\n",
        "                              epochs=30,\n",
        "                              validation_data=validation_generator,\n",
        "                              validation_steps=50)"
      ],
      "execution_count": null,
      "outputs": [
        {
          "output_type": "stream",
          "text": [
            "Epoch 1/30\n",
            "100/100 [==============================] - 18s 175ms/step - loss: 0.7107 - acc: 0.4999 - val_loss: 0.6926 - val_acc: 0.5020\n",
            "Epoch 2/30\n",
            "100/100 [==============================] - 17s 173ms/step - loss: 0.6959 - acc: 0.4971 - val_loss: 0.6926 - val_acc: 0.4950\n",
            "Epoch 3/30\n",
            "100/100 [==============================] - 17s 173ms/step - loss: 0.6932 - acc: 0.5135 - val_loss: 0.6914 - val_acc: 0.5020\n",
            "Epoch 4/30\n",
            "100/100 [==============================] - 17s 173ms/step - loss: 0.6904 - acc: 0.5356 - val_loss: 0.6853 - val_acc: 0.5520\n",
            "Epoch 5/30\n",
            "100/100 [==============================] - 17s 174ms/step - loss: 0.6848 - acc: 0.5413 - val_loss: 0.6813 - val_acc: 0.5550\n",
            "Epoch 6/30\n",
            "100/100 [==============================] - 17s 172ms/step - loss: 0.6904 - acc: 0.5316 - val_loss: 0.6942 - val_acc: 0.5040\n",
            "Epoch 7/30\n",
            "100/100 [==============================] - 17s 174ms/step - loss: 0.6920 - acc: 0.5263 - val_loss: 0.6947 - val_acc: 0.5620\n",
            "Epoch 8/30\n",
            "100/100 [==============================] - 17s 174ms/step - loss: 0.6869 - acc: 0.5760 - val_loss: 0.6581 - val_acc: 0.5990\n",
            "Epoch 9/30\n",
            "100/100 [==============================] - 17s 174ms/step - loss: 0.6627 - acc: 0.5699 - val_loss: 0.6607 - val_acc: 0.5930\n",
            "Epoch 10/30\n",
            "100/100 [==============================] - 17s 173ms/step - loss: 0.6452 - acc: 0.5809 - val_loss: 0.6487 - val_acc: 0.5910\n",
            "Epoch 11/30\n",
            "100/100 [==============================] - 17s 174ms/step - loss: 0.6596 - acc: 0.5919 - val_loss: 0.7885 - val_acc: 0.5660\n",
            "Epoch 12/30\n",
            "100/100 [==============================] - 17s 174ms/step - loss: 0.6461 - acc: 0.6127 - val_loss: 0.6589 - val_acc: 0.5920\n",
            "Epoch 13/30\n",
            "100/100 [==============================] - 17s 173ms/step - loss: 0.6405 - acc: 0.6287 - val_loss: 0.6495 - val_acc: 0.6120\n",
            "Epoch 14/30\n",
            "100/100 [==============================] - 17s 174ms/step - loss: 0.6549 - acc: 0.6091 - val_loss: 0.6870 - val_acc: 0.6310\n",
            "Epoch 15/30\n",
            "100/100 [==============================] - 17s 173ms/step - loss: 0.6432 - acc: 0.6300 - val_loss: 0.6271 - val_acc: 0.6260\n",
            "Epoch 16/30\n",
            "100/100 [==============================] - 17s 173ms/step - loss: 0.6315 - acc: 0.6347 - val_loss: 0.6267 - val_acc: 0.6530\n",
            "Epoch 17/30\n",
            "100/100 [==============================] - 17s 174ms/step - loss: 0.6248 - acc: 0.6658 - val_loss: 0.6129 - val_acc: 0.6770\n",
            "Epoch 18/30\n",
            "100/100 [==============================] - 18s 176ms/step - loss: 0.6332 - acc: 0.6301 - val_loss: 0.6130 - val_acc: 0.6560\n",
            "Epoch 19/30\n",
            "100/100 [==============================] - 18s 175ms/step - loss: 0.6116 - acc: 0.6702 - val_loss: 0.5786 - val_acc: 0.6940\n",
            "Epoch 20/30\n",
            "100/100 [==============================] - 18s 178ms/step - loss: 0.5942 - acc: 0.6575 - val_loss: 0.5747 - val_acc: 0.6930\n",
            "Epoch 21/30\n",
            "100/100 [==============================] - 18s 177ms/step - loss: 0.6346 - acc: 0.6492 - val_loss: 0.5980 - val_acc: 0.6670\n",
            "Epoch 22/30\n",
            "100/100 [==============================] - 17s 175ms/step - loss: 0.6055 - acc: 0.6750 - val_loss: 0.6264 - val_acc: 0.6620\n",
            "Epoch 23/30\n",
            "100/100 [==============================] - 17s 174ms/step - loss: 0.5959 - acc: 0.6841 - val_loss: 0.5896 - val_acc: 0.6800\n",
            "Epoch 24/30\n",
            "100/100 [==============================] - 17s 173ms/step - loss: 0.5846 - acc: 0.6833 - val_loss: 0.6067 - val_acc: 0.7030\n",
            "Epoch 25/30\n",
            "100/100 [==============================] - 17s 173ms/step - loss: 0.6041 - acc: 0.6648 - val_loss: 0.5738 - val_acc: 0.7140\n",
            "Epoch 26/30\n",
            "100/100 [==============================] - 17s 172ms/step - loss: 0.5872 - acc: 0.6874 - val_loss: 0.5619 - val_acc: 0.7210\n",
            "Epoch 27/30\n",
            "100/100 [==============================] - 17s 172ms/step - loss: 0.6056 - acc: 0.6758 - val_loss: 0.5838 - val_acc: 0.6730\n",
            "Epoch 28/30\n",
            "100/100 [==============================] - 17s 174ms/step - loss: 0.5823 - acc: 0.6731 - val_loss: 0.5637 - val_acc: 0.7220\n",
            "Epoch 29/30\n",
            "100/100 [==============================] - 17s 173ms/step - loss: 0.5662 - acc: 0.7012 - val_loss: 0.6253 - val_acc: 0.6250\n",
            "Epoch 30/30\n",
            "100/100 [==============================] - 17s 173ms/step - loss: 0.5807 - acc: 0.7117 - val_loss: 0.5530 - val_acc: 0.7310\n"
          ],
          "name": "stdout"
        }
      ]
    }
  ]
}