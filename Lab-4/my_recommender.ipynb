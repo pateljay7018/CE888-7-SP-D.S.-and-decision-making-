{
  "nbformat": 4,
  "nbformat_minor": 0,
  "metadata": {
    "colab": {
      "name": "Copy of my_recommender.ipynb",
      "provenance": [],
      "include_colab_link": true
    },
    "kernelspec": {
      "name": "python3",
      "display_name": "Python 3"
    },
    "language_info": {
      "name": "python"
    }
  },
  "cells": [
    {
      "cell_type": "markdown",
      "metadata": {
        "id": "view-in-github",
        "colab_type": "text"
      },
      "source": [
        "<a href=\"https://colab.research.google.com/github/pateljay7018/CE888-7-SP-D.S.-and-decision-making-/blob/main/Lab-4/my_recommender.ipynb\" target=\"_parent\"><img src=\"https://colab.research.google.com/assets/colab-badge.svg\" alt=\"Open In Colab\"/></a>"
      ]
    },
    {
      "cell_type": "markdown",
      "metadata": {
        "id": "iD3tvkgRaSmW"
      },
      "source": [
        "# Import packages/libraries"
      ]
    },
    {
      "cell_type": "code",
      "metadata": {
        "id": "OUnxWB3FFeaL"
      },
      "source": [
        "import pandas as pd\n",
        "import numpy as np\n",
        "import matplotlib.pyplot as plt\n"
      ],
      "execution_count": null,
      "outputs": []
    },
    {
      "cell_type": "markdown",
      "metadata": {
        "id": "vj658OypaYJE"
      },
      "source": [
        "# Load the data files"
      ]
    },
    {
      "cell_type": "code",
      "metadata": {
        "id": "ECPhByhUGQ_a"
      },
      "source": [
        "data=pd.read_csv('https://raw.githubusercontent.com/albanda/CE888/master/lab4-recommender/jester-data-1.csv', header=None)"
      ],
      "execution_count": null,
      "outputs": []
    },
    {
      "cell_type": "code",
      "metadata": {
        "id": "y6s7l2F5HS8Q"
      },
      "source": [
        "test_data=pd.DataFrame(data)\n",
        "test_data=pd.concat([test_data.loc[:, 0], test_data.loc[:, 1:].replace(99.00, np.NaN)], axis=1)\n",
        "test_data.drop(columns=[0], inplace=True)"
      ],
      "execution_count": null,
      "outputs": []
    },
    {
      "cell_type": "code",
      "metadata": {
        "id": "otueWz1wccC0"
      },
      "source": [
        "data=pd.concat([data.loc[:, 0], data.loc[:, 1:].replace(99.00, np.NaN)], axis=1)\n",
        "data.drop(columns=[0], inplace=True)"
      ],
      "execution_count": null,
      "outputs": []
    },
    {
      "cell_type": "code",
      "metadata": {
        "id": "sabQoglucqH9"
      },
      "source": [
        "val_data=pd.read_csv('https://raw.githubusercontent.com/albanda/CE888/master/lab4-recommender/jester-data-1.csv', header=None)\n",
        "val_data.drop(columns=[0], inplace=True)\n",
        "# val_data.head()"
      ],
      "execution_count": null,
      "outputs": []
    },
    {
      "cell_type": "markdown",
      "metadata": {
        "id": "e--FFgeNdJOL"
      },
      "source": [
        "# Highest and lowest rated joke"
      ]
    },
    {
      "cell_type": "code",
      "metadata": {
        "colab": {
          "base_uri": "https://localhost:8080/"
        },
        "id": "5KwTHPq1tYjT",
        "outputId": "27994b3a-c647-4c35-c7e1-922be4a7c69d"
      },
      "source": [
        "print('Joke with highest rating : ', test_data.max(axis=0).idxmax())\n",
        "print('Joke with lowest rating : ', test_data.min(axis=0).idxmin())"
      ],
      "execution_count": null,
      "outputs": [
        {
          "output_type": "stream",
          "text": [
            "Joke with highest rating :  45\n",
            "Joke with lowest rating :  1\n"
          ],
          "name": "stdout"
        }
      ]
    },
    {
      "cell_type": "code",
      "metadata": {
        "id": "4uh3la1WxlyI"
      },
      "source": [
        "# val_data=pd.DataFrame(data)\n",
        "# val_data.drop(columns=[0], inplace=True)"
      ],
      "execution_count": null,
      "outputs": []
    },
    {
      "cell_type": "markdown",
      "metadata": {
        "id": "6yxASbetgDMy"
      },
      "source": [
        "# Prepare Validation Data"
      ]
    },
    {
      "cell_type": "code",
      "metadata": {
        "colab": {
          "base_uri": "https://localhost:8080/"
        },
        "id": "y9HObTv_WFwe",
        "outputId": "a609940c-7e1e-48d0-c7eb-6dc00ffd7edd"
      },
      "source": [
        "arr = val_data.values\n",
        "arr.shape"
      ],
      "execution_count": null,
      "outputs": [
        {
          "output_type": "execute_result",
          "data": {
            "text/plain": [
              "(24983, 100)"
            ]
          },
          "metadata": {
            "tags": []
          },
          "execution_count": 8
        }
      ]
    },
    {
      "cell_type": "code",
      "metadata": {
        "colab": {
          "base_uri": "https://localhost:8080/"
        },
        "id": "sf-JXNOeWKg1",
        "outputId": "c94e265a-1f23-47b1-c40d-9ea471d0c951"
      },
      "source": [
        "rated = np.where(arr!=99)\n",
        "print(len(rated[0]), rated[1].shape)"
      ],
      "execution_count": null,
      "outputs": [
        {
          "output_type": "stream",
          "text": [
            "1810455 (1810455,)\n"
          ],
          "name": "stdout"
        }
      ]
    },
    {
      "cell_type": "code",
      "metadata": {
        "id": "5yNfg37WZae8"
      },
      "source": [
        "# data.drop(columns=[0], inplace=True)"
      ],
      "execution_count": null,
      "outputs": []
    },
    {
      "cell_type": "code",
      "metadata": {
        "id": "dkpajZh27ARd",
        "colab": {
          "base_uri": "https://localhost:8080/"
        },
        "outputId": "7b4e9333-a772-4b5f-e4f5-2c7783d3120d"
      },
      "source": [
        "len(np.where(arr!=99)[1])"
      ],
      "execution_count": null,
      "outputs": [
        {
          "output_type": "execute_result",
          "data": {
            "text/plain": [
              "1810455"
            ]
          },
          "metadata": {
            "tags": []
          },
          "execution_count": 11
        }
      ]
    },
    {
      "cell_type": "code",
      "metadata": {
        "id": "unyFgE5_W7Os"
      },
      "source": [
        "def replace(orig, percentage=0.1):\n",
        "  \"\"\"\n",
        "  Replaces 'percentage'% of the original values in 'orig' with 99's\n",
        "  :param orig: original data array\n",
        "  :param percentage: percentage of values to replace (0<percentage<1)\n",
        "  \"\"\"\n",
        "  new_data = orig.copy()\n",
        "  rated = np.where(arr!=99)\n",
        "  n_rated = len(rated[0])\n",
        "  idx = np.random.choice(n_rated, size=int(percentage*n_rated), replace=False)\n",
        "  new_data[rated[0][idx], rated[1][idx]] = 99\n",
        "  return new_data, (rated[0][idx], rated[1][idx])"
      ],
      "execution_count": null,
      "outputs": []
    },
    {
      "cell_type": "code",
      "metadata": {
        "id": "dI1adC-Zd4am"
      },
      "source": [
        "new_arr, idx = replace(arr, 0.1)"
      ],
      "execution_count": null,
      "outputs": []
    },
    {
      "cell_type": "code",
      "metadata": {
        "colab": {
          "base_uri": "https://localhost:8080/"
        },
        "id": "VewVl1-uwDW-",
        "outputId": "662a5e4a-2cbb-4cc8-9307-3d7e2312314c"
      },
      "source": [
        "arr[idx[0][0], idx[1][0]]"
      ],
      "execution_count": null,
      "outputs": [
        {
          "output_type": "execute_result",
          "data": {
            "text/plain": [
              "-4.76"
            ]
          },
          "metadata": {
            "tags": []
          },
          "execution_count": 14
        }
      ]
    },
    {
      "cell_type": "code",
      "metadata": {
        "colab": {
          "base_uri": "https://localhost:8080/"
        },
        "id": "qoBuorg7wF7Q",
        "outputId": "9bf766a7-7752-450f-bcc1-ffc47600449f"
      },
      "source": [
        "new_arr[idx[0][0], idx[1][0]]"
      ],
      "execution_count": null,
      "outputs": [
        {
          "output_type": "execute_result",
          "data": {
            "text/plain": [
              "99.0"
            ]
          },
          "metadata": {
            "tags": []
          },
          "execution_count": 15
        }
      ]
    },
    {
      "cell_type": "code",
      "metadata": {
        "id": "9VmabXr_dCDO",
        "colab": {
          "base_uri": "https://localhost:8080/",
          "height": 244
        },
        "outputId": "a1402279-8e7e-45dc-bfc6-27c858f6be9f"
      },
      "source": [
        "val_data=pd.DataFrame(new_arr)\n",
        "val_data=pd.DataFrame(val_data.loc[:, 0:].replace(99.00, np.NaN))\n",
        "val_data.head()"
      ],
      "execution_count": null,
      "outputs": [
        {
          "output_type": "execute_result",
          "data": {
            "text/html": [
              "<div>\n",
              "<style scoped>\n",
              "    .dataframe tbody tr th:only-of-type {\n",
              "        vertical-align: middle;\n",
              "    }\n",
              "\n",
              "    .dataframe tbody tr th {\n",
              "        vertical-align: top;\n",
              "    }\n",
              "\n",
              "    .dataframe thead th {\n",
              "        text-align: right;\n",
              "    }\n",
              "</style>\n",
              "<table border=\"1\" class=\"dataframe\">\n",
              "  <thead>\n",
              "    <tr style=\"text-align: right;\">\n",
              "      <th></th>\n",
              "      <th>0</th>\n",
              "      <th>1</th>\n",
              "      <th>2</th>\n",
              "      <th>3</th>\n",
              "      <th>4</th>\n",
              "      <th>5</th>\n",
              "      <th>6</th>\n",
              "      <th>7</th>\n",
              "      <th>8</th>\n",
              "      <th>9</th>\n",
              "      <th>10</th>\n",
              "      <th>11</th>\n",
              "      <th>12</th>\n",
              "      <th>13</th>\n",
              "      <th>14</th>\n",
              "      <th>15</th>\n",
              "      <th>16</th>\n",
              "      <th>17</th>\n",
              "      <th>18</th>\n",
              "      <th>19</th>\n",
              "      <th>20</th>\n",
              "      <th>21</th>\n",
              "      <th>22</th>\n",
              "      <th>23</th>\n",
              "      <th>24</th>\n",
              "      <th>25</th>\n",
              "      <th>26</th>\n",
              "      <th>27</th>\n",
              "      <th>28</th>\n",
              "      <th>29</th>\n",
              "      <th>30</th>\n",
              "      <th>31</th>\n",
              "      <th>32</th>\n",
              "      <th>33</th>\n",
              "      <th>34</th>\n",
              "      <th>35</th>\n",
              "      <th>36</th>\n",
              "      <th>37</th>\n",
              "      <th>38</th>\n",
              "      <th>39</th>\n",
              "      <th>...</th>\n",
              "      <th>60</th>\n",
              "      <th>61</th>\n",
              "      <th>62</th>\n",
              "      <th>63</th>\n",
              "      <th>64</th>\n",
              "      <th>65</th>\n",
              "      <th>66</th>\n",
              "      <th>67</th>\n",
              "      <th>68</th>\n",
              "      <th>69</th>\n",
              "      <th>70</th>\n",
              "      <th>71</th>\n",
              "      <th>72</th>\n",
              "      <th>73</th>\n",
              "      <th>74</th>\n",
              "      <th>75</th>\n",
              "      <th>76</th>\n",
              "      <th>77</th>\n",
              "      <th>78</th>\n",
              "      <th>79</th>\n",
              "      <th>80</th>\n",
              "      <th>81</th>\n",
              "      <th>82</th>\n",
              "      <th>83</th>\n",
              "      <th>84</th>\n",
              "      <th>85</th>\n",
              "      <th>86</th>\n",
              "      <th>87</th>\n",
              "      <th>88</th>\n",
              "      <th>89</th>\n",
              "      <th>90</th>\n",
              "      <th>91</th>\n",
              "      <th>92</th>\n",
              "      <th>93</th>\n",
              "      <th>94</th>\n",
              "      <th>95</th>\n",
              "      <th>96</th>\n",
              "      <th>97</th>\n",
              "      <th>98</th>\n",
              "      <th>99</th>\n",
              "    </tr>\n",
              "  </thead>\n",
              "  <tbody>\n",
              "    <tr>\n",
              "      <th>0</th>\n",
              "      <td>-7.82</td>\n",
              "      <td>8.79</td>\n",
              "      <td>-9.66</td>\n",
              "      <td>-8.16</td>\n",
              "      <td>-7.52</td>\n",
              "      <td>-8.50</td>\n",
              "      <td>-9.85</td>\n",
              "      <td>4.17</td>\n",
              "      <td>-8.98</td>\n",
              "      <td>NaN</td>\n",
              "      <td>-8.50</td>\n",
              "      <td>-6.75</td>\n",
              "      <td>-7.18</td>\n",
              "      <td>8.45</td>\n",
              "      <td>-7.18</td>\n",
              "      <td>-7.52</td>\n",
              "      <td>-7.43</td>\n",
              "      <td>-9.81</td>\n",
              "      <td>-9.85</td>\n",
              "      <td>-9.85</td>\n",
              "      <td>-9.37</td>\n",
              "      <td>1.50</td>\n",
              "      <td>-4.37</td>\n",
              "      <td>-9.81</td>\n",
              "      <td>-8.50</td>\n",
              "      <td>1.12</td>\n",
              "      <td>7.82</td>\n",
              "      <td>2.86</td>\n",
              "      <td>9.13</td>\n",
              "      <td>-7.43</td>\n",
              "      <td>2.14</td>\n",
              "      <td>-4.08</td>\n",
              "      <td>-9.08</td>\n",
              "      <td>7.82</td>\n",
              "      <td>5.05</td>\n",
              "      <td>4.95</td>\n",
              "      <td>-9.17</td>\n",
              "      <td>-8.4</td>\n",
              "      <td>-8.40</td>\n",
              "      <td>-8.40</td>\n",
              "      <td>...</td>\n",
              "      <td>8.59</td>\n",
              "      <td>3.59</td>\n",
              "      <td>NaN</td>\n",
              "      <td>-9.03</td>\n",
              "      <td>2.82</td>\n",
              "      <td>NaN</td>\n",
              "      <td>-9.08</td>\n",
              "      <td>NaN</td>\n",
              "      <td>5.68</td>\n",
              "      <td>-4.81</td>\n",
              "      <td>NaN</td>\n",
              "      <td>NaN</td>\n",
              "      <td>NaN</td>\n",
              "      <td>NaN</td>\n",
              "      <td>NaN</td>\n",
              "      <td>NaN</td>\n",
              "      <td>NaN</td>\n",
              "      <td>-9.42</td>\n",
              "      <td>NaN</td>\n",
              "      <td>NaN</td>\n",
              "      <td>NaN</td>\n",
              "      <td>-7.72</td>\n",
              "      <td>NaN</td>\n",
              "      <td>NaN</td>\n",
              "      <td>NaN</td>\n",
              "      <td>NaN</td>\n",
              "      <td>NaN</td>\n",
              "      <td>NaN</td>\n",
              "      <td>NaN</td>\n",
              "      <td>NaN</td>\n",
              "      <td>2.82</td>\n",
              "      <td>NaN</td>\n",
              "      <td>NaN</td>\n",
              "      <td>NaN</td>\n",
              "      <td>NaN</td>\n",
              "      <td>NaN</td>\n",
              "      <td>NaN</td>\n",
              "      <td>NaN</td>\n",
              "      <td>NaN</td>\n",
              "      <td>NaN</td>\n",
              "    </tr>\n",
              "    <tr>\n",
              "      <th>1</th>\n",
              "      <td>4.08</td>\n",
              "      <td>-0.29</td>\n",
              "      <td>6.36</td>\n",
              "      <td>4.37</td>\n",
              "      <td>-2.38</td>\n",
              "      <td>-9.66</td>\n",
              "      <td>-0.73</td>\n",
              "      <td>-5.34</td>\n",
              "      <td>8.88</td>\n",
              "      <td>9.22</td>\n",
              "      <td>NaN</td>\n",
              "      <td>8.64</td>\n",
              "      <td>4.42</td>\n",
              "      <td>7.43</td>\n",
              "      <td>4.56</td>\n",
              "      <td>-0.97</td>\n",
              "      <td>4.66</td>\n",
              "      <td>-0.68</td>\n",
              "      <td>3.30</td>\n",
              "      <td>-1.21</td>\n",
              "      <td>0.87</td>\n",
              "      <td>8.64</td>\n",
              "      <td>8.35</td>\n",
              "      <td>9.17</td>\n",
              "      <td>0.05</td>\n",
              "      <td>7.57</td>\n",
              "      <td>4.71</td>\n",
              "      <td>0.87</td>\n",
              "      <td>-0.39</td>\n",
              "      <td>6.99</td>\n",
              "      <td>6.50</td>\n",
              "      <td>-0.92</td>\n",
              "      <td>7.14</td>\n",
              "      <td>9.03</td>\n",
              "      <td>-1.80</td>\n",
              "      <td>0.73</td>\n",
              "      <td>7.09</td>\n",
              "      <td>3.4</td>\n",
              "      <td>-0.87</td>\n",
              "      <td>7.91</td>\n",
              "      <td>...</td>\n",
              "      <td>-6.70</td>\n",
              "      <td>-3.35</td>\n",
              "      <td>NaN</td>\n",
              "      <td>4.47</td>\n",
              "      <td>4.08</td>\n",
              "      <td>-3.83</td>\n",
              "      <td>8.74</td>\n",
              "      <td>1.12</td>\n",
              "      <td>0.78</td>\n",
              "      <td>7.52</td>\n",
              "      <td>-5.0</td>\n",
              "      <td>2.77</td>\n",
              "      <td>8.3</td>\n",
              "      <td>NaN</td>\n",
              "      <td>NaN</td>\n",
              "      <td>6.21</td>\n",
              "      <td>7.72</td>\n",
              "      <td>8.98</td>\n",
              "      <td>8.64</td>\n",
              "      <td>8.20</td>\n",
              "      <td>3.93</td>\n",
              "      <td>4.85</td>\n",
              "      <td>4.85</td>\n",
              "      <td>6.07</td>\n",
              "      <td>8.98</td>\n",
              "      <td>4.51</td>\n",
              "      <td>-0.05</td>\n",
              "      <td>3.69</td>\n",
              "      <td>4.56</td>\n",
              "      <td>0.58</td>\n",
              "      <td>2.82</td>\n",
              "      <td>-4.95</td>\n",
              "      <td>-0.29</td>\n",
              "      <td>7.86</td>\n",
              "      <td>-0.19</td>\n",
              "      <td>-2.14</td>\n",
              "      <td>3.06</td>\n",
              "      <td>NaN</td>\n",
              "      <td>-4.32</td>\n",
              "      <td>1.07</td>\n",
              "    </tr>\n",
              "    <tr>\n",
              "      <th>2</th>\n",
              "      <td>NaN</td>\n",
              "      <td>NaN</td>\n",
              "      <td>NaN</td>\n",
              "      <td>NaN</td>\n",
              "      <td>9.03</td>\n",
              "      <td>9.27</td>\n",
              "      <td>9.03</td>\n",
              "      <td>9.27</td>\n",
              "      <td>NaN</td>\n",
              "      <td>NaN</td>\n",
              "      <td>7.33</td>\n",
              "      <td>NaN</td>\n",
              "      <td>9.37</td>\n",
              "      <td>6.17</td>\n",
              "      <td>NaN</td>\n",
              "      <td>-6.89</td>\n",
              "      <td>NaN</td>\n",
              "      <td>9.03</td>\n",
              "      <td>NaN</td>\n",
              "      <td>9.03</td>\n",
              "      <td>7.28</td>\n",
              "      <td>NaN</td>\n",
              "      <td>8.25</td>\n",
              "      <td>NaN</td>\n",
              "      <td>NaN</td>\n",
              "      <td>NaN</td>\n",
              "      <td>7.28</td>\n",
              "      <td>7.28</td>\n",
              "      <td>8.93</td>\n",
              "      <td>NaN</td>\n",
              "      <td>6.17</td>\n",
              "      <td>7.28</td>\n",
              "      <td>NaN</td>\n",
              "      <td>NaN</td>\n",
              "      <td>8.98</td>\n",
              "      <td>7.33</td>\n",
              "      <td>NaN</td>\n",
              "      <td>NaN</td>\n",
              "      <td>9.08</td>\n",
              "      <td>NaN</td>\n",
              "      <td>...</td>\n",
              "      <td>6.46</td>\n",
              "      <td>7.28</td>\n",
              "      <td>NaN</td>\n",
              "      <td>NaN</td>\n",
              "      <td>7.04</td>\n",
              "      <td>7.28</td>\n",
              "      <td>NaN</td>\n",
              "      <td>7.28</td>\n",
              "      <td>8.25</td>\n",
              "      <td>NaN</td>\n",
              "      <td>NaN</td>\n",
              "      <td>NaN</td>\n",
              "      <td>NaN</td>\n",
              "      <td>NaN</td>\n",
              "      <td>NaN</td>\n",
              "      <td>8.93</td>\n",
              "      <td>NaN</td>\n",
              "      <td>NaN</td>\n",
              "      <td>NaN</td>\n",
              "      <td>9.08</td>\n",
              "      <td>NaN</td>\n",
              "      <td>NaN</td>\n",
              "      <td>NaN</td>\n",
              "      <td>NaN</td>\n",
              "      <td>NaN</td>\n",
              "      <td>NaN</td>\n",
              "      <td>NaN</td>\n",
              "      <td>NaN</td>\n",
              "      <td>NaN</td>\n",
              "      <td>9.03</td>\n",
              "      <td>NaN</td>\n",
              "      <td>NaN</td>\n",
              "      <td>NaN</td>\n",
              "      <td>9.08</td>\n",
              "      <td>NaN</td>\n",
              "      <td>NaN</td>\n",
              "      <td>NaN</td>\n",
              "      <td>NaN</td>\n",
              "      <td>NaN</td>\n",
              "      <td>NaN</td>\n",
              "    </tr>\n",
              "    <tr>\n",
              "      <th>3</th>\n",
              "      <td>NaN</td>\n",
              "      <td>8.35</td>\n",
              "      <td>NaN</td>\n",
              "      <td>NaN</td>\n",
              "      <td>1.80</td>\n",
              "      <td>NaN</td>\n",
              "      <td>NaN</td>\n",
              "      <td>6.21</td>\n",
              "      <td>NaN</td>\n",
              "      <td>1.84</td>\n",
              "      <td>NaN</td>\n",
              "      <td>NaN</td>\n",
              "      <td>6.31</td>\n",
              "      <td>8.11</td>\n",
              "      <td>-7.23</td>\n",
              "      <td>-6.65</td>\n",
              "      <td>1.17</td>\n",
              "      <td>-6.60</td>\n",
              "      <td>-3.64</td>\n",
              "      <td>NaN</td>\n",
              "      <td>5.34</td>\n",
              "      <td>NaN</td>\n",
              "      <td>NaN</td>\n",
              "      <td>NaN</td>\n",
              "      <td>NaN</td>\n",
              "      <td>2.91</td>\n",
              "      <td>3.93</td>\n",
              "      <td>6.75</td>\n",
              "      <td>6.60</td>\n",
              "      <td>NaN</td>\n",
              "      <td>6.65</td>\n",
              "      <td>-6.12</td>\n",
              "      <td>NaN</td>\n",
              "      <td>7.57</td>\n",
              "      <td>6.21</td>\n",
              "      <td>6.65</td>\n",
              "      <td>NaN</td>\n",
              "      <td>-8.3</td>\n",
              "      <td>7.18</td>\n",
              "      <td>2.82</td>\n",
              "      <td>...</td>\n",
              "      <td>0.00</td>\n",
              "      <td>-3.69</td>\n",
              "      <td>NaN</td>\n",
              "      <td>NaN</td>\n",
              "      <td>7.82</td>\n",
              "      <td>0.24</td>\n",
              "      <td>NaN</td>\n",
              "      <td>7.28</td>\n",
              "      <td>-2.33</td>\n",
              "      <td>NaN</td>\n",
              "      <td>NaN</td>\n",
              "      <td>NaN</td>\n",
              "      <td>NaN</td>\n",
              "      <td>NaN</td>\n",
              "      <td>NaN</td>\n",
              "      <td>NaN</td>\n",
              "      <td>NaN</td>\n",
              "      <td>NaN</td>\n",
              "      <td>NaN</td>\n",
              "      <td>NaN</td>\n",
              "      <td>NaN</td>\n",
              "      <td>NaN</td>\n",
              "      <td>NaN</td>\n",
              "      <td>NaN</td>\n",
              "      <td>0.63</td>\n",
              "      <td>NaN</td>\n",
              "      <td>NaN</td>\n",
              "      <td>-2.33</td>\n",
              "      <td>NaN</td>\n",
              "      <td>NaN</td>\n",
              "      <td>NaN</td>\n",
              "      <td>NaN</td>\n",
              "      <td>NaN</td>\n",
              "      <td>0.53</td>\n",
              "      <td>NaN</td>\n",
              "      <td>NaN</td>\n",
              "      <td>NaN</td>\n",
              "      <td>NaN</td>\n",
              "      <td>NaN</td>\n",
              "      <td>NaN</td>\n",
              "    </tr>\n",
              "    <tr>\n",
              "      <th>4</th>\n",
              "      <td>NaN</td>\n",
              "      <td>4.61</td>\n",
              "      <td>-4.17</td>\n",
              "      <td>-5.39</td>\n",
              "      <td>NaN</td>\n",
              "      <td>1.60</td>\n",
              "      <td>NaN</td>\n",
              "      <td>NaN</td>\n",
              "      <td>-0.44</td>\n",
              "      <td>5.73</td>\n",
              "      <td>8.25</td>\n",
              "      <td>6.84</td>\n",
              "      <td>-3.93</td>\n",
              "      <td>7.23</td>\n",
              "      <td>-2.33</td>\n",
              "      <td>-9.66</td>\n",
              "      <td>2.72</td>\n",
              "      <td>-1.36</td>\n",
              "      <td>2.57</td>\n",
              "      <td>4.51</td>\n",
              "      <td>8.20</td>\n",
              "      <td>6.12</td>\n",
              "      <td>8.30</td>\n",
              "      <td>-1.26</td>\n",
              "      <td>7.77</td>\n",
              "      <td>1.89</td>\n",
              "      <td>-1.17</td>\n",
              "      <td>5.68</td>\n",
              "      <td>8.45</td>\n",
              "      <td>NaN</td>\n",
              "      <td>8.06</td>\n",
              "      <td>-9.47</td>\n",
              "      <td>7.28</td>\n",
              "      <td>5.68</td>\n",
              "      <td>2.48</td>\n",
              "      <td>3.20</td>\n",
              "      <td>-1.26</td>\n",
              "      <td>6.8</td>\n",
              "      <td>4.51</td>\n",
              "      <td>2.48</td>\n",
              "      <td>...</td>\n",
              "      <td>7.38</td>\n",
              "      <td>6.17</td>\n",
              "      <td>4.71</td>\n",
              "      <td>-2.28</td>\n",
              "      <td>7.38</td>\n",
              "      <td>NaN</td>\n",
              "      <td>7.14</td>\n",
              "      <td>4.22</td>\n",
              "      <td>3.01</td>\n",
              "      <td>3.83</td>\n",
              "      <td>NaN</td>\n",
              "      <td>NaN</td>\n",
              "      <td>NaN</td>\n",
              "      <td>NaN</td>\n",
              "      <td>NaN</td>\n",
              "      <td>NaN</td>\n",
              "      <td>4.13</td>\n",
              "      <td>NaN</td>\n",
              "      <td>NaN</td>\n",
              "      <td>NaN</td>\n",
              "      <td>5.24</td>\n",
              "      <td>5.92</td>\n",
              "      <td>0.87</td>\n",
              "      <td>NaN</td>\n",
              "      <td>3.93</td>\n",
              "      <td>NaN</td>\n",
              "      <td>6.31</td>\n",
              "      <td>4.71</td>\n",
              "      <td>2.82</td>\n",
              "      <td>2.96</td>\n",
              "      <td>5.19</td>\n",
              "      <td>5.58</td>\n",
              "      <td>NaN</td>\n",
              "      <td>5.19</td>\n",
              "      <td>5.73</td>\n",
              "      <td>NaN</td>\n",
              "      <td>3.11</td>\n",
              "      <td>6.55</td>\n",
              "      <td>NaN</td>\n",
              "      <td>1.60</td>\n",
              "    </tr>\n",
              "  </tbody>\n",
              "</table>\n",
              "<p>5 rows × 100 columns</p>\n",
              "</div>"
            ],
            "text/plain": [
              "     0     1     2     3     4     5   ...    94    95    96    97    98    99\n",
              "0 -7.82  8.79 -9.66 -8.16 -7.52 -8.50  ...   NaN   NaN   NaN   NaN   NaN   NaN\n",
              "1  4.08 -0.29  6.36  4.37 -2.38 -9.66  ... -0.19 -2.14  3.06   NaN -4.32  1.07\n",
              "2   NaN   NaN   NaN   NaN  9.03  9.27  ...   NaN   NaN   NaN   NaN   NaN   NaN\n",
              "3   NaN  8.35   NaN   NaN  1.80   NaN  ...   NaN   NaN   NaN   NaN   NaN   NaN\n",
              "4   NaN  4.61 -4.17 -5.39   NaN  1.60  ...  5.73   NaN  3.11  6.55   NaN  1.60\n",
              "\n",
              "[5 rows x 100 columns]"
            ]
          },
          "metadata": {
            "tags": []
          },
          "execution_count": 16
        }
      ]
    },
    {
      "cell_type": "markdown",
      "metadata": {
        "id": "1CCaVUn08ylY"
      },
      "source": [
        "# Training"
      ]
    },
    {
      "cell_type": "code",
      "metadata": {
        "id": "C4N5BPUV6xhu"
      },
      "source": [
        "n_latent_factors = 2\n",
        "\n",
        "user_ratings = data.values\n",
        "# Initialise as random values\n",
        "latent_user_preferences = np.random.random((user_ratings.shape[0], n_latent_factors))\n",
        "latent_item_features = np.random.random((user_ratings.shape[1], n_latent_factors))"
      ],
      "execution_count": null,
      "outputs": []
    },
    {
      "cell_type": "code",
      "metadata": {
        "id": "POHBvBF2wIOp"
      },
      "source": [
        "def predict_rating(user_id, item_id):\n",
        "    \"\"\" Predict a rating given a user_id and an item_id.\n",
        "    \"\"\"\n",
        "    user_preference = latent_user_preferences[user_id]\n",
        "    item_preference = latent_item_features[item_id]\n",
        "    return user_preference.dot(item_preference)\n",
        "\n",
        "\n",
        "def train(user_id, item_id, rating, alpha=0.0001):\n",
        "    #print(item_id)\n",
        "    predicted_rating = predict_rating(user_id, item_id)\n",
        "    err =  predicted_rating - rating\n",
        "    #print(err)\n",
        "    user_pref_values = latent_user_preferences[user_id]\n",
        "    latent_user_preferences[user_id] -= alpha * err * latent_item_features[item_id]\n",
        "    latent_item_features[item_id] -= alpha * err * user_pref_values\n",
        "    return err\n",
        "    \n",
        "\n",
        "def sgd(iterations):\n",
        "    \"\"\" Iterate over all users and all items and train for \n",
        "        a certain number of iterations\n",
        "    \"\"\"\n",
        "    mse_history = []\n",
        "    for iteration in range(iterations):\n",
        "        error = []\n",
        "        for user_id in range(latent_user_preferences.shape[0]):\n",
        "            for item_id in range(latent_item_features.shape[0]):\n",
        "                rating = user_ratings[user_id, item_id]\n",
        "                if not np.isnan(rating):\n",
        "                    err = train(user_id, item_id, rating)\n",
        "                    error.append(err)\n",
        "        mse = (np.array(error) ** 2).mean()   \n",
        "        if (iteration % 2) == 0:\n",
        "            print('Iteration %d/%d:\\tMSE=%.6f' % (iteration, iterations, mse))\n",
        "            mse_history.append(mse)\n",
        "    return mse_history"
      ],
      "execution_count": null,
      "outputs": []
    },
    {
      "cell_type": "code",
      "metadata": {
        "colab": {
          "base_uri": "https://localhost:8080/"
        },
        "id": "tHVLcbkt35ov",
        "outputId": "ab2dfc43-1721-46a7-ebb1-2112c213758a"
      },
      "source": [
        "num_iter = 10\n",
        "hist = sgd(num_iter)  # Note how the MSE decreases with the number of iterations"
      ],
      "execution_count": null,
      "outputs": [
        {
          "output_type": "stream",
          "text": [
            "Iteration 0/10:\tMSE=26.142418\n",
            "Iteration 2/10:\tMSE=24.904724\n",
            "Iteration 4/10:\tMSE=24.434833\n",
            "Iteration 6/10:\tMSE=23.960496\n",
            "Iteration 8/10:\tMSE=23.483579\n"
          ],
          "name": "stdout"
        }
      ]
    },
    {
      "cell_type": "code",
      "metadata": {
        "colab": {
          "base_uri": "https://localhost:8080/",
          "height": 279
        },
        "id": "2TlgJFYK7Lgm",
        "outputId": "99df64d7-1236-47d0-8d0e-9e117f7be354"
      },
      "source": [
        "plt.figure()\n",
        "plt.plot(np.arange(0, num_iter, 2), hist)\n",
        "plt.xlabel(\"Iterations\")\n",
        "plt.ylabel(\"MSE\")\n",
        "plt.show()"
      ],
      "execution_count": null,
      "outputs": [
        {
          "output_type": "display_data",
          "data": {
            "image/png": "[encoded data removed]",
            "text/plain": [
              "<Figure size 432x288 with 1 Axes>"
            ]
          },
          "metadata": {
            "tags": [],
            "needs_background": "light"
          }
        }
      ]
    },
    {
      "cell_type": "markdown",
      "metadata": {
        "id": "VE9P4o5n82N7"
      },
      "source": [
        "# Predicting"
      ]
    },
    {
      "cell_type": "code",
      "metadata": {
        "colab": {
          "base_uri": "https://localhost:8080/"
        },
        "id": "0wFebMUX97UW",
        "outputId": "ae6ec8be-f6db-458f-bd8c-6517ede4fe5d"
      },
      "source": [
        "predictions = latent_user_preferences.dot(latent_item_features.T)\n",
        "predictions"
      ],
      "execution_count": null,
      "outputs": [
        {
          "output_type": "execute_result",
          "data": {
            "text/plain": [
              "array([[1.72410868, 1.13047476, 1.09513096, ..., 1.99135405, 0.88248876,\n",
              "        2.64809921],\n",
              "       [1.00912717, 0.66749716, 0.67130644, ..., 1.1895625 , 0.47152638,\n",
              "        1.57058208],\n",
              "       [1.32441545, 0.86398881, 0.81828608, ..., 1.51151777, 0.71198453,\n",
              "        2.01856902],\n",
              "       ...,\n",
              "       [0.78169045, 0.51800738, 0.52495451, ..., 0.92537733, 0.35791288,\n",
              "        1.21997212],\n",
              "       [1.43460328, 0.94473732, 0.93251371, ..., 1.67382218, 0.70273651,\n",
              "        2.21792103],\n",
              "       [1.90712551, 1.25642688, 1.24235024, ..., 2.22726759, 0.93020838,\n",
              "        2.95027944]])"
            ]
          },
          "metadata": {
            "tags": []
          },
          "execution_count": 21
        }
      ]
    },
    {
      "cell_type": "markdown",
      "metadata": {
        "id": "d9Nx8r-2XuNS"
      },
      "source": [
        "# Predicting on Validation set"
      ]
    },
    {
      "cell_type": "code",
      "metadata": {
        "id": "6muIo2Lj_V6N"
      },
      "source": [
        "val_data=pd.read_csv('https://raw.githubusercontent.com/albanda/CE888/master/lab4-recommender/jester-data-1.csv', header=None)\n",
        "val_data.drop(columns=[0], inplace=True)\n",
        "val_data=pd.DataFrame(val_data.loc[:, 0:].replace(99.00, np.NaN))\n",
        "\n",
        "v_data=pd.DataFrame(new_arr)\n",
        "v_data=pd.DataFrame(v_data.loc[:, 0:].replace(99.00, np.NaN))\n",
        "\n",
        "v_user_ratings=v_data.values\n",
        "\n",
        "v_values = [zip(v_user_ratings[i], predictions[i]) for i in range(predictions.shape[0])]\n",
        "v_comparison_data = pd.DataFrame(v_values)\n",
        "v_comparison_data.columns = data.columns\n",
        "\n",
        "# v_comparison_data"
      ],
      "execution_count": null,
      "outputs": []
    },
    {
      "cell_type": "code",
      "metadata": {
        "colab": {
          "base_uri": "https://localhost:8080/"
        },
        "id": "gY9AUFBN_Zbc",
        "outputId": "bb950496-1670-4e40-9344-d8e57ce17aab"
      },
      "source": [
        "val_user_ratings=val_data.values\n",
        "\n",
        "error = []\n",
        "\n",
        "for user_id in range(latent_user_preferences.shape[0]):\n",
        "    for item_id in range(latent_item_features.shape[0]):\n",
        "        rating = val_user_ratings[user_id, item_id]\n",
        "        \n",
        "        if not np.isnan(rating):\n",
        "             val_predicted_rating = predict_rating(user_id, item_id)\n",
        "             err =  val_predicted_rating - rating\n",
        "             \n",
        "            #  err = train(user_id, item_id, rating)\n",
        "             error.append(err)\n",
        "val_mse = (np.array(error) ** 2).mean()\n",
        "print('MSE on Validation Set :', val_mse)"
      ],
      "execution_count": null,
      "outputs": [
        {
          "output_type": "stream",
          "text": [
            "MSE on Validation Set : 23.118021959107747\n"
          ],
          "name": "stdout"
        }
      ]
    },
    {
      "cell_type": "markdown",
      "metadata": {
        "id": "335b1wlKZU1q"
      },
      "source": [
        "# Predicting on Test Set"
      ]
    },
    {
      "cell_type": "code",
      "metadata": {
        "id": "hGkTsg4Y_cCr",
        "colab": {
          "base_uri": "https://localhost:8080/",
          "height": 606
        },
        "outputId": "b1b8e4ad-e025-4630-ec73-c7608d4bed85"
      },
      "source": [
        "test_user_ratings=test_data.values\n",
        "values = [zip(test_user_ratings[i], predictions[i]) for i in range(predictions.shape[0])]\n",
        "comparison_data = pd.DataFrame(values)\n",
        "comparison_data.columns = data.columns\n",
        "comparison_data"
      ],
      "execution_count": null,
      "outputs": [
        {
          "output_type": "execute_result",
          "data": {
            "text/html": [
              "<div>\n",
              "<style scoped>\n",
              "    .dataframe tbody tr th:only-of-type {\n",
              "        vertical-align: middle;\n",
              "    }\n",
              "\n",
              "    .dataframe tbody tr th {\n",
              "        vertical-align: top;\n",
              "    }\n",
              "\n",
              "    .dataframe thead th {\n",
              "        text-align: right;\n",
              "    }\n",
              "</style>\n",
              "<table border=\"1\" class=\"dataframe\">\n",
              "  <thead>\n",
              "    <tr style=\"text-align: right;\">\n",
              "      <th></th>\n",
              "      <th>1</th>\n",
              "      <th>2</th>\n",
              "      <th>3</th>\n",
              "      <th>4</th>\n",
              "      <th>5</th>\n",
              "      <th>6</th>\n",
              "      <th>7</th>\n",
              "      <th>8</th>\n",
              "      <th>9</th>\n",
              "      <th>10</th>\n",
              "      <th>11</th>\n",
              "      <th>12</th>\n",
              "      <th>13</th>\n",
              "      <th>14</th>\n",
              "      <th>15</th>\n",
              "      <th>16</th>\n",
              "      <th>17</th>\n",
              "      <th>18</th>\n",
              "      <th>19</th>\n",
              "      <th>20</th>\n",
              "      <th>21</th>\n",
              "      <th>22</th>\n",
              "      <th>23</th>\n",
              "      <th>24</th>\n",
              "      <th>25</th>\n",
              "      <th>26</th>\n",
              "      <th>27</th>\n",
              "      <th>28</th>\n",
              "      <th>29</th>\n",
              "      <th>30</th>\n",
              "      <th>31</th>\n",
              "      <th>32</th>\n",
              "      <th>33</th>\n",
              "      <th>34</th>\n",
              "      <th>35</th>\n",
              "      <th>36</th>\n",
              "      <th>37</th>\n",
              "      <th>38</th>\n",
              "      <th>39</th>\n",
              "      <th>40</th>\n",
              "      <th>...</th>\n",
              "      <th>61</th>\n",
              "      <th>62</th>\n",
              "      <th>63</th>\n",
              "      <th>64</th>\n",
              "      <th>65</th>\n",
              "      <th>66</th>\n",
              "      <th>67</th>\n",
              "      <th>68</th>\n",
              "      <th>69</th>\n",
              "      <th>70</th>\n",
              "      <th>71</th>\n",
              "      <th>72</th>\n",
              "      <th>73</th>\n",
              "      <th>74</th>\n",
              "      <th>75</th>\n",
              "      <th>76</th>\n",
              "      <th>77</th>\n",
              "      <th>78</th>\n",
              "      <th>79</th>\n",
              "      <th>80</th>\n",
              "      <th>81</th>\n",
              "      <th>82</th>\n",
              "      <th>83</th>\n",
              "      <th>84</th>\n",
              "      <th>85</th>\n",
              "      <th>86</th>\n",
              "      <th>87</th>\n",
              "      <th>88</th>\n",
              "      <th>89</th>\n",
              "      <th>90</th>\n",
              "      <th>91</th>\n",
              "      <th>92</th>\n",
              "      <th>93</th>\n",
              "      <th>94</th>\n",
              "      <th>95</th>\n",
              "      <th>96</th>\n",
              "      <th>97</th>\n",
              "      <th>98</th>\n",
              "      <th>99</th>\n",
              "      <th>100</th>\n",
              "    </tr>\n",
              "  </thead>\n",
              "  <tbody>\n",
              "    <tr>\n",
              "      <th>0</th>\n",
              "      <td>(-7.82, 1.7241086825615308)</td>\n",
              "      <td>(8.79, 1.1304747579341843)</td>\n",
              "      <td>(-9.66, 1.0951309562073785)</td>\n",
              "      <td>(-8.16, -0.9352467762216709)</td>\n",
              "      <td>(-7.52, 1.1773634899737366)</td>\n",
              "      <td>(-8.5, 2.9512815954293634)</td>\n",
              "      <td>(-9.85, 0.01003009107611799)</td>\n",
              "      <td>(4.17, -0.4594822988797396)</td>\n",
              "      <td>(-8.98, 0.010011903633755127)</td>\n",
              "      <td>(-4.76, 2.1459072434291118)</td>\n",
              "      <td>(-8.5, 3.1171210994692977)</td>\n",
              "      <td>(-6.75, 2.89094783579484)</td>\n",
              "      <td>(-7.18, -1.7971575427126356)</td>\n",
              "      <td>(8.45, 2.8770056072150054)</td>\n",
              "      <td>(-7.18, -1.9228256393044252)</td>\n",
              "      <td>(-7.52, -3.590150840538983)</td>\n",
              "      <td>(-7.43, -0.8537611574333859)</td>\n",
              "      <td>(-9.81, -0.3965315245061181)</td>\n",
              "      <td>(-9.85, 0.8374845082265647)</td>\n",
              "      <td>(-9.85, -0.493671139511485)</td>\n",
              "      <td>(-9.37, 3.6897931924071723)</td>\n",
              "      <td>(1.5, 2.006357264116636)</td>\n",
              "      <td>(-4.37, 0.9225091817741915)</td>\n",
              "      <td>(-9.81, -1.4026386779904436)</td>\n",
              "      <td>(-8.5, 1.4330351328519775)</td>\n",
              "      <td>(1.12, 2.6895294881522402)</td>\n",
              "      <td>(7.82, 4.769901271768761)</td>\n",
              "      <td>(2.86, 2.866437007776641)</td>\n",
              "      <td>(9.13, 4.523683130811355)</td>\n",
              "      <td>(-7.43, 0.41972759572448975)</td>\n",
              "      <td>(2.14, 3.749241322775526)</td>\n",
              "      <td>(-4.08, 4.756957422262276)</td>\n",
              "      <td>(-9.08, -0.817737910728849)</td>\n",
              "      <td>(7.82, 2.1834028979904234)</td>\n",
              "      <td>(5.05, 4.627955457319278)</td>\n",
              "      <td>(4.95, 4.8395345133820475)</td>\n",
              "      <td>(-9.17, -1.020455880021275)</td>\n",
              "      <td>(-8.4, 2.3975263219255103)</td>\n",
              "      <td>(-8.4, 2.4198360516832795)</td>\n",
              "      <td>(-8.4, 2.2654483107909464)</td>\n",
              "      <td>...</td>\n",
              "      <td>(8.59, 4.081862519650477)</td>\n",
              "      <td>(3.59, 4.589380529433961)</td>\n",
              "      <td>(-6.84, 1.2768469486711203)</td>\n",
              "      <td>(-9.03, -0.10137428069590126)</td>\n",
              "      <td>(2.82, 3.8863638439361896)</td>\n",
              "      <td>(-1.36, 4.093821584993361)</td>\n",
              "      <td>(-9.08, -0.24777183119800336)</td>\n",
              "      <td>(8.3, 4.166739533435015)</td>\n",
              "      <td>(5.68, 4.2003737176085085)</td>\n",
              "      <td>(-4.81, 1.5677421225305272)</td>\n",
              "      <td>(nan, -0.0336908928143126)</td>\n",
              "      <td>(nan, 4.228407665298275)</td>\n",
              "      <td>(nan, 2.3587623582872257)</td>\n",
              "      <td>(nan, -0.909934817402934)</td>\n",
              "      <td>(nan, 0.5297977100153045)</td>\n",
              "      <td>(nan, 3.83883101459222)</td>\n",
              "      <td>(nan, 1.8578193566590344)</td>\n",
              "      <td>(-9.42, 3.115210353074567)</td>\n",
              "      <td>(nan, 1.1748162129838466)</td>\n",
              "      <td>(nan, 2.5335994675507054)</td>\n",
              "      <td>(nan, 3.132624727548426)</td>\n",
              "      <td>(-7.72, 1.901500433328544)</td>\n",
              "      <td>(nan, 3.4452749751439176)</td>\n",
              "      <td>(nan, 1.7243936806229219)</td>\n",
              "      <td>(nan, 2.113624676117227)</td>\n",
              "      <td>(nan, 1.0349463350099946)</td>\n",
              "      <td>(nan, 3.110808791837325)</td>\n",
              "      <td>(nan, 3.3258969651914234)</td>\n",
              "      <td>(nan, 5.014258201246667)</td>\n",
              "      <td>(nan, 1.6730460495235802)</td>\n",
              "      <td>(2.82, 3.1839728921079358)</td>\n",
              "      <td>(nan, 2.351213276425965)</td>\n",
              "      <td>(nan, 3.824755496387667)</td>\n",
              "      <td>(nan, 2.1372381814311714)</td>\n",
              "      <td>(nan, 2.0432540148392198)</td>\n",
              "      <td>(nan, 2.619784483606916)</td>\n",
              "      <td>(-5.63, 2.8123292246626885)</td>\n",
              "      <td>(nan, 1.9913540526394367)</td>\n",
              "      <td>(nan, 0.8824887566090591)</td>\n",
              "      <td>(nan, 2.6480992093989126)</td>\n",
              "    </tr>\n",
              "    <tr>\n",
              "      <th>1</th>\n",
              "      <td>(4.08, 1.0091271677055602)</td>\n",
              "      <td>(-0.29, 0.6674971559568534)</td>\n",
              "      <td>(6.36, 0.6713064353932493)</td>\n",
              "      <td>(4.37, -0.5355865316431272)</td>\n",
              "      <td>(-2.38, 0.6822059310770208)</td>\n",
              "      <td>(-9.66, 1.6901020227627723)</td>\n",
              "      <td>(-0.73, 0.010124721381059262)</td>\n",
              "      <td>(-5.34, -0.2719884723943856)</td>\n",
              "      <td>(8.88, -0.022472098442620485)</td>\n",
              "      <td>(9.22, 1.2687190347511854)</td>\n",
              "      <td>(6.75, 1.8204732464505982)</td>\n",
              "      <td>(8.64, 1.686225054290702)</td>\n",
              "      <td>(4.42, -1.081243145971238)</td>\n",
              "      <td>(7.43, 1.6684700575455034)</td>\n",
              "      <td>(4.56, -1.1261996258212619)</td>\n",
              "      <td>(-0.97, -2.110734650580729)</td>\n",
              "      <td>(4.66, -0.5086584577940384)</td>\n",
              "      <td>(-0.68, -0.23567618040523533)</td>\n",
              "      <td>(3.3, 0.4971575507736708)</td>\n",
              "      <td>(-1.21, -0.27854867920303855)</td>\n",
              "      <td>(0.87, 2.1407836194400773)</td>\n",
              "      <td>(8.64, 1.161132872438477)</td>\n",
              "      <td>(8.35, 0.53987455860713)</td>\n",
              "      <td>(9.17, -0.8400413126144008)</td>\n",
              "      <td>(0.05, 0.8511663942643416)</td>\n",
              "      <td>(7.57, 1.5542628695898637)</td>\n",
              "      <td>(4.71, 2.8029146711865813)</td>\n",
              "      <td>(0.87, 1.6207133459080882)</td>\n",
              "      <td>(-0.39, 2.639295688749255)</td>\n",
              "      <td>(6.99, 0.2272682438624366)</td>\n",
              "      <td>(6.5, 2.178333356068188)</td>\n",
              "      <td>(-0.92, 2.764784944863415)</td>\n",
              "      <td>(7.14, -0.4482888024844567)</td>\n",
              "      <td>(9.03, 1.2527243067463496)</td>\n",
              "      <td>(-1.8, 2.6991284525055246)</td>\n",
              "      <td>(0.73, 2.8178358584310335)</td>\n",
              "      <td>(7.09, -0.5991296441275791)</td>\n",
              "      <td>(3.4, 1.3781249898385097)</td>\n",
              "      <td>(-0.87, 1.4030504424935317)</td>\n",
              "      <td>(7.91, 1.305721011334068)</td>\n",
              "      <td>...</td>\n",
              "      <td>(-6.7, 2.3572502528650294)</td>\n",
              "      <td>(-3.35, 2.6604629869867202)</td>\n",
              "      <td>(-9.03, 0.7019512245715274)</td>\n",
              "      <td>(4.47, -0.06672418339733739)</td>\n",
              "      <td>(4.08, 2.257312814757474)</td>\n",
              "      <td>(-3.83, 2.3748635527802713)</td>\n",
              "      <td>(8.74, -0.19475650046702056)</td>\n",
              "      <td>(1.12, 2.4310875143080373)</td>\n",
              "      <td>(0.78, 2.4472054556860816)</td>\n",
              "      <td>(7.52, 0.8892947422050758)</td>\n",
              "      <td>(-5.0, -0.003482754094530035)</td>\n",
              "      <td>(2.77, 2.4532587812947475)</td>\n",
              "      <td>(8.3, 1.3513158024262875)</td>\n",
              "      <td>(7.77, -0.5726145073641901)</td>\n",
              "      <td>(7.33, 0.3064873263984122)</td>\n",
              "      <td>(6.21, 2.2524876158164435)</td>\n",
              "      <td>(7.72, 1.0518482627058254)</td>\n",
              "      <td>(8.98, 1.7803867878533295)</td>\n",
              "      <td>(8.64, 0.7056393389459057)</td>\n",
              "      <td>(8.2, 1.4795280248054885)</td>\n",
              "      <td>(3.93, 1.8305750609746885)</td>\n",
              "      <td>(4.85, 1.1347152226266615)</td>\n",
              "      <td>(4.85, 2.0043638164524054)</td>\n",
              "      <td>(6.07, 1.026164352739184)</td>\n",
              "      <td>(8.98, 1.235135396332925)</td>\n",
              "      <td>(4.51, 0.6090413410668699)</td>\n",
              "      <td>(-0.05, 1.817181461051853)</td>\n",
              "      <td>(3.69, 1.9372771461483842)</td>\n",
              "      <td>(4.56, 2.9589290460222712)</td>\n",
              "      <td>(0.58, 0.9589053600977124)</td>\n",
              "      <td>(2.82, 1.8799688368799918)</td>\n",
              "      <td>(-4.95, 1.3578776373217687)</td>\n",
              "      <td>(-0.29, 2.246178754492649)</td>\n",
              "      <td>(7.86, 1.223332232739774)</td>\n",
              "      <td>(-0.19, 1.1640971097725852)</td>\n",
              "      <td>(-2.14, 1.5590646336825214)</td>\n",
              "      <td>(3.06, 1.6098290501875003)</td>\n",
              "      <td>(0.34, 1.1895624989348554)</td>\n",
              "      <td>(-4.32, 0.47152637682750453)</td>\n",
              "      <td>(1.07, 1.5705820782814701)</td>\n",
              "    </tr>\n",
              "    <tr>\n",
              "      <th>2</th>\n",
              "      <td>(nan, 1.324415452066487)</td>\n",
              "      <td>(nan, 0.8639888093449746)</td>\n",
              "      <td>(nan, 0.8182860770521904)</td>\n",
              "      <td>(nan, -0.7273819355325817)</td>\n",
              "      <td>(9.03, 0.9096528530096469)</td>\n",
              "      <td>(9.27, 2.2953429605254283)</td>\n",
              "      <td>(9.03, 0.004482965241681406)</td>\n",
              "      <td>(9.27, -0.35065103105747614)</td>\n",
              "      <td>(nan, 0.029148657220479518)</td>\n",
              "      <td>(nan, 1.6388027915594439)</td>\n",
              "      <td>(7.33, 2.3975126664788293)</td>\n",
              "      <td>(7.57, 2.225187118555393)</td>\n",
              "      <td>(9.37, -1.358293258914549)</td>\n",
              "      <td>(6.17, 2.221743654581683)</td>\n",
              "      <td>(-6.36, -1.4764870142026452)</td>\n",
              "      <td>(-6.89, -2.750736625958061)</td>\n",
              "      <td>(-7.86, -0.6490595208329296)</td>\n",
              "      <td>(9.03, -0.30189018574585713)</td>\n",
              "      <td>(9.03, 0.6380513569287479)</td>\n",
              "      <td>(9.03, -0.3871010734788839)</td>\n",
              "      <td>(7.28, 2.8486915936693413)</td>\n",
              "      <td>(nan, 1.551225243543652)</td>\n",
              "      <td>(8.25, 0.708703203131262)</td>\n",
              "      <td>(nan, -1.0630262783976918)</td>\n",
              "      <td>(nan, 1.0914247038885132)</td>\n",
              "      <td>(7.48, 2.081119894636382)</td>\n",
              "      <td>(7.28, 3.6557271333250134)</td>\n",
              "      <td>(7.28, 2.2451094989527167)</td>\n",
              "      <td>(8.93, 3.4813623953438695)</td>\n",
              "      <td>(nan, 0.33635925707056075)</td>\n",
              "      <td>(6.17, 2.892271916263669)</td>\n",
              "      <td>(7.28, 3.6689242977179193)</td>\n",
              "      <td>(nan, -0.6511406137131717)</td>\n",
              "      <td>(nan, 1.6963412595801624)</td>\n",
              "      <td>(8.98, 3.5623691709502445)</td>\n",
              "      <td>(7.33, 3.7287844384123474)</td>\n",
              "      <td>(nan, -0.7824842271106249)</td>\n",
              "      <td>(6.17, 1.8607696739158992)</td>\n",
              "      <td>(9.08, 1.8689193971761484)</td>\n",
              "      <td>(7.33, 1.7555983476266237)</td>\n",
              "      <td>...</td>\n",
              "      <td>(6.46, 3.1597246510185095)</td>\n",
              "      <td>(7.28, 3.5449209791441456)</td>\n",
              "      <td>(nan, 1.0152189816400359)</td>\n",
              "      <td>(nan, -0.07227657247983704)</td>\n",
              "      <td>(7.04, 2.9985744349470824)</td>\n",
              "      <td>(7.28, 3.160872902186511)</td>\n",
              "      <td>(nan, -0.15266447672326544)</td>\n",
              "      <td>(7.28, 3.206628188618576)</td>\n",
              "      <td>(8.25, 3.2351675812916048)</td>\n",
              "      <td>(nan, 1.2257401404907258)</td>\n",
              "      <td>(nan, -0.03817755526553051)</td>\n",
              "      <td>(nan, 3.2645450923598442)</td>\n",
              "      <td>(nan, 1.8341129294814076)</td>\n",
              "      <td>(nan, -0.6686736976978778)</td>\n",
              "      <td>(nan, 0.4097072988055915)</td>\n",
              "      <td>(8.93, 2.944644605864889)</td>\n",
              "      <td>(nan, 1.4540454982579483)</td>\n",
              "      <td>(nan, 2.425557991332062)</td>\n",
              "      <td>(nan, 0.8888192527345288)</td>\n",
              "      <td>(9.08, 1.9488180569207403)</td>\n",
              "      <td>(nan, 2.408643968962994)</td>\n",
              "      <td>(nan, 1.444202888943138)</td>\n",
              "      <td>(nan, 2.655786514891473)</td>\n",
              "      <td>(nan, 1.3118573308053165)</td>\n",
              "      <td>(nan, 1.6251287592689285)</td>\n",
              "      <td>(nan, 0.7925320963420648)</td>\n",
              "      <td>(nan, 2.3923586249842144)</td>\n",
              "      <td>(nan, 2.561973623182556)</td>\n",
              "      <td>(nan, 3.833596553978461)</td>\n",
              "      <td>(9.03, 1.3005912470864116)</td>\n",
              "      <td>(nan, 2.433441207977103)</td>\n",
              "      <td>(nan, 1.819997783887248)</td>\n",
              "      <td>(nan, 2.932370751797284)</td>\n",
              "      <td>(9.08, 1.6626749663922105)</td>\n",
              "      <td>(nan, 1.593679284523702)</td>\n",
              "      <td>(nan, 1.9929896986899036)</td>\n",
              "      <td>(nan, 2.1878033100097958)</td>\n",
              "      <td>(nan, 1.511517771190597)</td>\n",
              "      <td>(nan, 0.711984526866386)</td>\n",
              "      <td>(nan, 2.01856902374413)</td>\n",
              "    </tr>\n",
              "    <tr>\n",
              "      <th>3</th>\n",
              "      <td>(nan, 1.088531406449845)</td>\n",
              "      <td>(8.35, 0.7046824873696282)</td>\n",
              "      <td>(nan, 0.6443048068439877)</td>\n",
              "      <td>(nan, -0.60883789070729)</td>\n",
              "      <td>(1.8, 0.7540748270503587)</td>\n",
              "      <td>(8.16, 1.9212668159092374)</td>\n",
              "      <td>(-2.82, -0.00027755612367726443)</td>\n",
              "      <td>(6.21, -0.28535626166377875)</td>\n",
              "      <td>(nan, 0.050344634073002936)</td>\n",
              "      <td>(1.84, 1.3350858890861035)</td>\n",
              "      <td>(7.33, 1.9742208426420862)</td>\n",
              "      <td>(6.6, 1.8343271338991052)</td>\n",
              "      <td>(6.31, -1.0890304116714928)</td>\n",
              "      <td>(8.11, 1.8404329845048744)</td>\n",
              "      <td>(-7.23, -1.2128080321046029)</td>\n",
              "      <td>(-6.65, -2.252058168641824)</td>\n",
              "      <td>(1.17, -0.5251245688586511)</td>\n",
              "      <td>(-6.6, -0.24478348810338038)</td>\n",
              "      <td>(-3.64, 0.5179156325644559)</td>\n",
              "      <td>(-2.09, -0.3278418339033608)</td>\n",
              "      <td>(5.34, 2.3588985007039773)</td>\n",
              "      <td>(nan, 1.2872351440225598)</td>\n",
              "      <td>(nan, 0.5825485611332162)</td>\n",
              "      <td>(nan, -0.8559340592164116)</td>\n",
              "      <td>(nan, 0.8854831411182239)</td>\n",
              "      <td>(2.91, 1.729024372722717)</td>\n",
              "      <td>(3.93, 2.994312727976863)</td>\n",
              "      <td>(6.75, 1.8983548512672714)</td>\n",
              "      <td>(6.6, 2.869170820246593)</td>\n",
              "      <td>(nan, 0.29358919453014853)</td>\n",
              "      <td>(6.65, 2.392151516995878)</td>\n",
              "      <td>(-6.12, 3.0336159596254557)</td>\n",
              "      <td>(nan, -0.5634237209889894)</td>\n",
              "      <td>(7.57, 1.4177134286014361)</td>\n",
              "      <td>(6.21, 2.9368659151075907)</td>\n",
              "      <td>(6.65, 3.0784203608452447)</td>\n",
              "      <td>(nan, -0.6413945781665462)</td>\n",
              "      <td>(-8.3, 1.552788028356367)</td>\n",
              "      <td>(7.18, 1.5484333119991618)</td>\n",
              "      <td>(2.82, 1.461782837708896)</td>\n",
              "      <td>...</td>\n",
              "      <td>(0.0, 2.6266550617711317)</td>\n",
              "      <td>(-3.69, 2.9375085495568967)</td>\n",
              "      <td>(nan, 0.8766805861555074)</td>\n",
              "      <td>(nan, -0.052521551073990806)</td>\n",
              "      <td>(7.82, 2.4807121849847036)</td>\n",
              "      <td>(0.24, 2.617713674392361)</td>\n",
              "      <td>(nan, -0.07915318144956902)</td>\n",
              "      <td>(7.28, 2.642704604691867)</td>\n",
              "      <td>(-2.33, 2.6694843655642955)</td>\n",
              "      <td>(nan, 1.0337979477795205)</td>\n",
              "      <td>(nan, -0.046500187374238)</td>\n",
              "      <td>(nan, 2.7032739263088468)</td>\n",
              "      <td>(nan, 1.5347166427089054)</td>\n",
              "      <td>(nan, -0.512301031640739)</td>\n",
              "      <td>(nan, 0.34009445501319935)</td>\n",
              "      <td>(nan, 2.4149699156528746)</td>\n",
              "      <td>(nan, 1.2281746734114882)</td>\n",
              "      <td>(nan, 2.0335646212237624)</td>\n",
              "      <td>(nan, 0.7137381687640538)</td>\n",
              "      <td>(nan, 1.6048891604353988)</td>\n",
              "      <td>(nan, 1.9824126520049055)</td>\n",
              "      <td>(nan, 1.166717718053404)</td>\n",
              "      <td>(nan, 2.1941127316627314)</td>\n",
              "      <td>(nan, 1.0624974944368892)</td>\n",
              "      <td>(0.63, 1.3375276189052099)</td>\n",
              "      <td>(nan, 0.6483206755286943)</td>\n",
              "      <td>(nan, 1.969609575485866)</td>\n",
              "      <td>(-2.33, 2.1144138003245696)</td>\n",
              "      <td>(nan, 3.1284031681778877)</td>\n",
              "      <td>(nan, 1.087889347918026)</td>\n",
              "      <td>(nan, 1.9847812931802908)</td>\n",
              "      <td>(nan, 1.512888780101694)</td>\n",
              "      <td>(nan, 2.4030849370340928)</td>\n",
              "      <td>(0.53, 1.3922521555475036)</td>\n",
              "      <td>(nan, 1.3394806944615785)</td>\n",
              "      <td>(nan, 1.6140982391574241)</td>\n",
              "      <td>(nan, 1.8318965792852626)</td>\n",
              "      <td>(nan, 1.2199427294344125)</td>\n",
              "      <td>(nan, 0.6270861005619597)</td>\n",
              "      <td>(nan, 1.6398300684424119)</td>\n",
              "    </tr>\n",
              "    <tr>\n",
              "      <th>4</th>\n",
              "      <td>(8.5, 1.1618083711753473)</td>\n",
              "      <td>(4.61, 0.7676148565024845)</td>\n",
              "      <td>(-4.17, 0.7683223763448662)</td>\n",
              "      <td>(-5.39, -0.6183952187591287)</td>\n",
              "      <td>(1.36, 0.786461294324519)</td>\n",
              "      <td>(1.6, 1.9514146042173495)</td>\n",
              "      <td>(7.04, 0.011017843769594313)</td>\n",
              "      <td>(4.61, -0.312682171834813)</td>\n",
              "      <td>(-0.44, -0.021618056477675014)</td>\n",
              "      <td>(5.73, 1.4587679014625101)</td>\n",
              "      <td>(8.25, 2.096510306651028)</td>\n",
              "      <td>(6.84, 1.9422308310591123)</td>\n",
              "      <td>(-3.93, -1.24042706852427)</td>\n",
              "      <td>(7.23, 1.9232301254722166)</td>\n",
              "      <td>(-2.33, -1.296479404395381)</td>\n",
              "      <td>(-9.66, -2.4286770193796796)</td>\n",
              "      <td>(2.72, -0.5842749334229521)</td>\n",
              "      <td>(-1.36, -0.2707957861933878)</td>\n",
              "      <td>(2.57, 0.5713303517019505)</td>\n",
              "      <td>(4.51, -0.3222545596660915)</td>\n",
              "      <td>(8.2, 2.4675174670156412)</td>\n",
              "      <td>(6.12, 1.3387938777235917)</td>\n",
              "      <td>(8.3, 0.6215687510111023)</td>\n",
              "      <td>(-1.26, -0.9642761553502732)</td>\n",
              "      <td>(7.77, 0.9780853785957583)</td>\n",
              "      <td>(1.89, 1.7924155421326387)</td>\n",
              "      <td>(-1.17, 3.225333645059817)</td>\n",
              "      <td>(5.68, 1.8744896935761297)</td>\n",
              "      <td>(8.45, 3.039887991112758)</td>\n",
              "      <td>(4.61, 0.264416735370903)</td>\n",
              "      <td>(8.06, 2.510334895305875)</td>\n",
              "      <td>(-9.47, 3.1860225227669914)</td>\n",
              "      <td>(7.28, -0.5206700091482491)</td>\n",
              "      <td>(5.68, 1.4460500339189235)</td>\n",
              "      <td>(2.48, 3.108953379822202)</td>\n",
              "      <td>(3.2, 3.2463916081380213)</td>\n",
              "      <td>(-1.26, -0.6894998783849211)</td>\n",
              "      <td>(6.8, 1.5904128439407654)</td>\n",
              "      <td>(4.51, 1.6173276164607953)</td>\n",
              "      <td>(2.48, 1.506318122183721)</td>\n",
              "      <td>...</td>\n",
              "      <td>(7.38, 2.718689463919679)</td>\n",
              "      <td>(6.17, 3.0668533514230027)</td>\n",
              "      <td>(4.71, 0.8149722546267356)</td>\n",
              "      <td>(-2.28, -0.07571004193894028)</td>\n",
              "      <td>(7.38, 2.6014559877746386)</td>\n",
              "      <td>(4.56, 2.737374022262505)</td>\n",
              "      <td>(7.14, -0.21675551987589511)</td>\n",
              "      <td>(4.22, 2.800070924159604)</td>\n",
              "      <td>(3.01, 2.819163291500957)</td>\n",
              "      <td>(3.83, 1.0280961013734382)</td>\n",
              "      <td>(nan, -0.0064476350162289)</td>\n",
              "      <td>(nan, 2.82768730127045)</td>\n",
              "      <td>(nan, 1.5601661136667655)</td>\n",
              "      <td>(nan, -0.653241266259)</td>\n",
              "      <td>(nan, 0.35340026490731496)</td>\n",
              "      <td>(nan, 2.592447885365725)</td>\n",
              "      <td>(4.13, 1.2163295622880002)</td>\n",
              "      <td>(nan, 2.0562098306801158)</td>\n",
              "      <td>(nan, 0.8096977837070389)</td>\n",
              "      <td>(nan, 1.7038910739672553)</td>\n",
              "      <td>(5.24, 2.1079862512410696)</td>\n",
              "      <td>(5.92, 1.3031306576074337)</td>\n",
              "      <td>(0.87, 2.309451663366291)</td>\n",
              "      <td>(7.28, 1.1788901933754359)</td>\n",
              "      <td>(3.93, 1.4223085387577357)</td>\n",
              "      <td>(-0.63, 0.7006964455034709)</td>\n",
              "      <td>(6.31, 2.0926599879515266)</td>\n",
              "      <td>(4.71, 2.2317964855603356)</td>\n",
              "      <td>(2.82, 3.4030023771842712)</td>\n",
              "      <td>(2.96, 1.1070412482045626)</td>\n",
              "      <td>(5.19, 2.161949483913804)</td>\n",
              "      <td>(5.58, 1.5660720534812762)</td>\n",
              "      <td>(4.27, 2.5848947627780476)</td>\n",
              "      <td>(5.19, 1.412567042423315)</td>\n",
              "      <td>(5.73, 1.3450041420176793)</td>\n",
              "      <td>(1.55, 1.7910933870594399)</td>\n",
              "      <td>(3.11, 1.8588376967611746)</td>\n",
              "      <td>(6.55, 1.3659376586337773)</td>\n",
              "      <td>(1.8, 0.5496248396667416)</td>\n",
              "      <td>(1.6, 1.8051124746201135)</td>\n",
              "    </tr>\n",
              "    <tr>\n",
              "      <th>...</th>\n",
              "      <td>...</td>\n",
              "      <td>...</td>\n",
              "      <td>...</td>\n",
              "      <td>...</td>\n",
              "      <td>...</td>\n",
              "      <td>...</td>\n",
              "      <td>...</td>\n",
              "      <td>...</td>\n",
              "      <td>...</td>\n",
              "      <td>...</td>\n",
              "      <td>...</td>\n",
              "      <td>...</td>\n",
              "      <td>...</td>\n",
              "      <td>...</td>\n",
              "      <td>...</td>\n",
              "      <td>...</td>\n",
              "      <td>...</td>\n",
              "      <td>...</td>\n",
              "      <td>...</td>\n",
              "      <td>...</td>\n",
              "      <td>...</td>\n",
              "      <td>...</td>\n",
              "      <td>...</td>\n",
              "      <td>...</td>\n",
              "      <td>...</td>\n",
              "      <td>...</td>\n",
              "      <td>...</td>\n",
              "      <td>...</td>\n",
              "      <td>...</td>\n",
              "      <td>...</td>\n",
              "      <td>...</td>\n",
              "      <td>...</td>\n",
              "      <td>...</td>\n",
              "      <td>...</td>\n",
              "      <td>...</td>\n",
              "      <td>...</td>\n",
              "      <td>...</td>\n",
              "      <td>...</td>\n",
              "      <td>...</td>\n",
              "      <td>...</td>\n",
              "      <td>...</td>\n",
              "      <td>...</td>\n",
              "      <td>...</td>\n",
              "      <td>...</td>\n",
              "      <td>...</td>\n",
              "      <td>...</td>\n",
              "      <td>...</td>\n",
              "      <td>...</td>\n",
              "      <td>...</td>\n",
              "      <td>...</td>\n",
              "      <td>...</td>\n",
              "      <td>...</td>\n",
              "      <td>...</td>\n",
              "      <td>...</td>\n",
              "      <td>...</td>\n",
              "      <td>...</td>\n",
              "      <td>...</td>\n",
              "      <td>...</td>\n",
              "      <td>...</td>\n",
              "      <td>...</td>\n",
              "      <td>...</td>\n",
              "      <td>...</td>\n",
              "      <td>...</td>\n",
              "      <td>...</td>\n",
              "      <td>...</td>\n",
              "      <td>...</td>\n",
              "      <td>...</td>\n",
              "      <td>...</td>\n",
              "      <td>...</td>\n",
              "      <td>...</td>\n",
              "      <td>...</td>\n",
              "      <td>...</td>\n",
              "      <td>...</td>\n",
              "      <td>...</td>\n",
              "      <td>...</td>\n",
              "      <td>...</td>\n",
              "      <td>...</td>\n",
              "      <td>...</td>\n",
              "      <td>...</td>\n",
              "      <td>...</td>\n",
              "      <td>...</td>\n",
              "    </tr>\n",
              "    <tr>\n",
              "      <th>24978</th>\n",
              "      <td>(0.44, 1.8281468041039057)</td>\n",
              "      <td>(7.43, 1.2294865486116575)</td>\n",
              "      <td>(9.08, 1.321490553251831)</td>\n",
              "      <td>(2.33, -0.9292215093948735)</td>\n",
              "      <td>(3.2, 1.2118886425739612)</td>\n",
              "      <td>(6.75, 2.932244387439266)</td>\n",
              "      <td>(-8.79, 0.03312131832181639)</td>\n",
              "      <td>(-0.53, -0.5033399079386952)</td>\n",
              "      <td>(-8.74, -0.13914048108587487)</td>\n",
              "      <td>(7.23, 2.342588483475485)</td>\n",
              "      <td>(-0.53, 3.28413189746686)</td>\n",
              "      <td>(5.63, 3.0344360632169716)</td>\n",
              "      <td>(-7.14, -2.0607945252011524)</td>\n",
              "      <td>(-4.08, 2.968938035079697)</td>\n",
              "      <td>(-3.5, -2.0428863609293955)</td>\n",
              "      <td>(-8.2, -3.85651028052045)</td>\n",
              "      <td>(-3.98, -0.9525814951574924)</td>\n",
              "      <td>(-9.22, -0.43940794327873256)</td>\n",
              "      <td>(-0.15, 0.9248879261456769)</td>\n",
              "      <td>(-6.46, -0.4684949910157692)</td>\n",
              "      <td>(5.63, 3.8127261629179263)</td>\n",
              "      <td>(-0.92, 2.057679345267926)</td>\n",
              "      <td>(-2.91, 0.9777879525513412)</td>\n",
              "      <td>(-4.17, -1.5880867382697061)</td>\n",
              "      <td>(2.82, 1.5850821732394298)</td>\n",
              "      <td>(3.4, 2.746486154187621)</td>\n",
              "      <td>(8.64, 5.116265836158973)</td>\n",
              "      <td>(6.84, 2.7379982786409074)</td>\n",
              "      <td>(6.8, 4.752083041577915)</td>\n",
              "      <td>(-0.87, 0.34779810671781786)</td>\n",
              "      <td>(7.38, 3.890321331669107)</td>\n",
              "      <td>(-3.5, 4.9410418601329)</td>\n",
              "      <td>(8.88, -0.706733018805152)</td>\n",
              "      <td>(7.43, 2.1817995524139038)</td>\n",
              "      <td>(5.39, 4.856314025689802)</td>\n",
              "      <td>(2.23, 5.053541357310521)</td>\n",
              "      <td>(-0.68, -1.0918281834030852)</td>\n",
              "      <td>(3.4, 2.409232113126845)</td>\n",
              "      <td>(-0.58, 2.4956166954855394)</td>\n",
              "      <td>(4.42, 2.2950936440202923)</td>\n",
              "      <td>...</td>\n",
              "      <td>(8.59, 4.15967071815599)</td>\n",
              "      <td>(3.45, 4.730377225911671)</td>\n",
              "      <td>(0.87, 1.113964925944294)</td>\n",
              "      <td>(9.27, -0.14655030405982214)</td>\n",
              "      <td>(-4.66, 4.028958523963873)</td>\n",
              "      <td>(5.73, 4.2284523920539545)</td>\n",
              "      <td>(-0.49, -0.5256087482208295)</td>\n",
              "      <td>(8.35, 4.377365016089193)</td>\n",
              "      <td>(1.94, 4.394167790448985)</td>\n",
              "      <td>(5.0, 1.5127022393342497)</td>\n",
              "      <td>(-9.66, 0.05009903478123616)</td>\n",
              "      <td>(8.98, 4.3691591579644085)</td>\n",
              "      <td>(8.98, 2.346349077621871)</td>\n",
              "      <td>(-9.81, -1.176412348501268)</td>\n",
              "      <td>(9.13, 0.5427110235189673)</td>\n",
              "      <td>(9.08, 4.100108311545701)</td>\n",
              "      <td>(9.08, 1.7820689393317681)</td>\n",
              "      <td>(3.98, 3.0761300903844186)</td>\n",
              "      <td>(0.73, 1.3409315855246728)</td>\n",
              "      <td>(9.03, 2.6685286513246624)</td>\n",
              "      <td>(8.98, 3.3060020903213663)</td>\n",
              "      <td>(9.22, 2.1312609927238517)</td>\n",
              "      <td>(8.93, 3.5888548764308688)</td>\n",
              "      <td>(9.13, 1.917621655909521)</td>\n",
              "      <td>(9.27, 2.2307179088841895)</td>\n",
              "      <td>(-1.99, 1.114753676316071)</td>\n",
              "      <td>(-9.95, 3.279567953911741)</td>\n",
              "      <td>(-9.9, 3.4769978495354454)</td>\n",
              "      <td>(9.13, 5.444037183241211)</td>\n",
              "      <td>(8.83, 1.6665188728109064)</td>\n",
              "      <td>(8.83, 3.4626726415407956)</td>\n",
              "      <td>(-1.21, 2.3963838422375083)</td>\n",
              "      <td>(9.22, 4.095382778439224)</td>\n",
              "      <td>(-6.7, 2.1203129138290397)</td>\n",
              "      <td>(8.45, 1.998320675829434)</td>\n",
              "      <td>(9.03, 2.9136885708325844)</td>\n",
              "      <td>(6.55, 2.79049086660042)</td>\n",
              "      <td>(8.69, 2.2384593231881413)</td>\n",
              "      <td>(8.79, 0.6978949212793317)</td>\n",
              "      <td>(7.43, 2.916990986924987)</td>\n",
              "    </tr>\n",
              "    <tr>\n",
              "      <th>24979</th>\n",
              "      <td>(9.13, 0.30137028827753487)</td>\n",
              "      <td>(-8.16, 0.20514079588224826)</td>\n",
              "      <td>(8.59, 0.230649771823632)</td>\n",
              "      <td>(9.08, -0.14819331706719094)</td>\n",
              "      <td>(0.87, 0.1968629911742121)</td>\n",
              "      <td>(-8.93, 0.4676356877636959)</td>\n",
              "      <td>(-3.5, 0.007256094655133618)</td>\n",
              "      <td>(5.78, -0.08426410744343803)</td>\n",
              "      <td>(-8.11, -0.03489894994528738)</td>\n",
              "      <td>(4.9, 0.39154283665747436)</td>\n",
              "      <td>(8.88, 0.5397054368762263)</td>\n",
              "      <td>(-8.69, 0.49775432037324835)</td>\n",
              "      <td>(-7.48, -0.35211798185560905)</td>\n",
              "      <td>(-8.83, 0.48290620301679954)</td>\n",
              "      <td>(-1.75, -0.33709214083063693)</td>\n",
              "      <td>(6.6, -0.6397175296672378)</td>\n",
              "      <td>(3.54, -0.16081137578485935)</td>\n",
              "      <td>(1.5, -0.07394995391669922)</td>\n",
              "      <td>(7.67, 0.15541262483734633)</td>\n",
              "      <td>(-0.44, -0.07284114604644765)</td>\n",
              "      <td>(9.22, 0.6205634378360806)</td>\n",
              "      <td>(8.74, 0.33363774335617263)</td>\n",
              "      <td>(9.03, 0.16115748086540144)</td>\n",
              "      <td>(9.08, -0.26984829982964925)</td>\n",
              "      <td>(8.93, 0.2665386253959114)</td>\n",
              "      <td>(3.74, 0.4443449330780913)</td>\n",
              "      <td>(3.2, 0.8480925413709188)</td>\n",
              "      <td>(-9.17, 0.42728481049287875)</td>\n",
              "      <td>(-8.98, 0.7798213987222479)</td>\n",
              "      <td>(8.79, 0.04956627547612202)</td>\n",
              "      <td>(-7.67, 0.6345179559597667)</td>\n",
              "      <td>(-3.06, 0.8063073022293054)</td>\n",
              "      <td>(9.13, -0.10369730863983867)</td>\n",
              "      <td>(8.4, 0.3490182948468448)</td>\n",
              "      <td>(-0.63, 0.7964980153814132)</td>\n",
              "      <td>(-7.18, 0.8268448697053632)</td>\n",
              "      <td>(0.58, -0.1807703952478941)</td>\n",
              "      <td>(8.88, 0.3865415999167169)</td>\n",
              "      <td>(9.27, 0.40579248308398325)</td>\n",
              "      <td>(8.5, 0.36979534835191286)</td>\n",
              "      <td>...</td>\n",
              "      <td>(2.77, 0.6722633074150105)</td>\n",
              "      <td>(8.11, 0.768945316361645)</td>\n",
              "      <td>(-7.96, 0.16447310100439652)</td>\n",
              "      <td>(8.93, -0.027278613014071647)</td>\n",
              "      <td>(-0.87, 0.6568323936430439)</td>\n",
              "      <td>(-5.87, 0.6880829727266148)</td>\n",
              "      <td>(8.88, -0.10764434918775988)</td>\n",
              "      <td>(-1.12, 0.7183497714534158)</td>\n",
              "      <td>(-8.74, 0.7196132120259001)</td>\n",
              "      <td>(8.74, 0.23741670222193667)</td>\n",
              "      <td>(nan, 0.015113836107434914)</td>\n",
              "      <td>(nan, 0.7111187049337913)</td>\n",
              "      <td>(nan, 0.37443567616529133)</td>\n",
              "      <td>(nan, -0.2108305924211369)</td>\n",
              "      <td>(nan, 0.08794389573264565)</td>\n",
              "      <td>(4.9, 0.6782701763175025)</td>\n",
              "      <td>(nan, 0.2787694924554567)</td>\n",
              "      <td>(nan, 0.4889642447001371)</td>\n",
              "      <td>(nan, 0.22865862570847434)</td>\n",
              "      <td>(nan, 0.4384731426165836)</td>\n",
              "      <td>(-0.29, 0.5437445382596034)</td>\n",
              "      <td>(0.92, 0.36052563690909756)</td>\n",
              "      <td>(-0.78, 0.5864859065422647)</td>\n",
              "      <td>(0.15, 0.3232427883516653)</td>\n",
              "      <td>(-0.1, 0.3668995568536941)</td>\n",
              "      <td>(0.0, 0.1851535630970975)</td>\n",
              "      <td>(-0.19, 0.5391231427766989)</td>\n",
              "      <td>(-0.87, 0.5692223695520825)</td>\n",
              "      <td>(-1.36, 0.907610564119166)</td>\n",
              "      <td>(-0.58, 0.26614074401815646)</td>\n",
              "      <td>(-1.17, 0.5777367102777134)</td>\n",
              "      <td>(-5.73, 0.3873197395086011)</td>\n",
              "      <td>(-1.46, 0.6783058317086563)</td>\n",
              "      <td>(0.24, 0.3378808993154499)</td>\n",
              "      <td>(9.22, 0.31598633736611786)</td>\n",
              "      <td>(-8.2, 0.49117032214069223)</td>\n",
              "      <td>(-7.23, 0.4447135864714648)</td>\n",
              "      <td>(-8.59, 0.3791496065867505)</td>\n",
              "      <td>(9.13, 0.09605043183201355)</td>\n",
              "      <td>(8.45, 0.4895804260770757)</td>\n",
              "    </tr>\n",
              "    <tr>\n",
              "      <th>24980</th>\n",
              "      <td>(nan, 0.7816904544436565)</td>\n",
              "      <td>(nan, 0.5180073817963566)</td>\n",
              "      <td>(nan, 0.5249545091371912)</td>\n",
              "      <td>(nan, -0.41294839312559317)</td>\n",
              "      <td>(-7.77, 0.5273234071491811)</td>\n",
              "      <td>(nan, 1.303103180764067)</td>\n",
              "      <td>(6.7, 0.008536838954107789)</td>\n",
              "      <td>(-6.75, -0.21118568871069726)</td>\n",
              "      <td>(nan, -0.022029539304019418)</td>\n",
              "      <td>(nan, 0.9848494165143606)</td>\n",
              "      <td>(nan, 1.4095248342727915)</td>\n",
              "      <td>(nan, 1.3052286749403226)</td>\n",
              "      <td>(-6.46, -0.8423428831116205)</td>\n",
              "      <td>(-1.65, 1.2899100043673783)</td>\n",
              "      <td>(-6.8, -0.8725015925496993)</td>\n",
              "      <td>(-6.41, -1.6365525917219141)</td>\n",
              "      <td>(-6.99, -0.3954771543406248)</td>\n",
              "      <td>(7.23, -0.18314440788214975)</td>\n",
              "      <td>(6.75, 0.38624625230477716)</td>\n",
              "      <td>(-6.99, -0.2140729747373705)</td>\n",
              "      <td>(6.55, 1.655216735112014)</td>\n",
              "      <td>(nan, 0.897284422057554)</td>\n",
              "      <td>(nan, 0.4181858418255988)</td>\n",
              "      <td>(nan, -0.653824532699124)</td>\n",
              "      <td>(nan, 0.6613547216012016)</td>\n",
              "      <td>(0.49, 1.2007124429854046)</td>\n",
              "      <td>(-0.53, 2.173001412933726)</td>\n",
              "      <td>(-6.94, 1.2461346716255048)</td>\n",
              "      <td>(-0.49, 2.043076445497687)</td>\n",
              "      <td>(nan, 0.17304479418069427)</td>\n",
              "      <td>(6.46, 1.684752908519208)</td>\n",
              "      <td>(-0.53, 2.1384807265750663)</td>\n",
              "      <td>(nan, -0.3423044843442724)</td>\n",
              "      <td>(nan, 0.9662697406228503)</td>\n",
              "      <td>(-7.86, 2.0892286422232)</td>\n",
              "      <td>(-0.34, 2.1803447937020466)</td>\n",
              "      <td>(nan, -0.4644003370215002)</td>\n",
              "      <td>(-6.94, 1.0634196469493207)</td>\n",
              "      <td>(nan, 1.0846635115640049)</td>\n",
              "      <td>(nan, 1.008133741650589)</td>\n",
              "      <td>...</td>\n",
              "      <td>(0.49, 1.8207732149042368)</td>\n",
              "      <td>(-0.24, 2.0566530299069745)</td>\n",
              "      <td>(nan, 0.536340310077234)</td>\n",
              "      <td>(nan, -0.05289144980494369)</td>\n",
              "      <td>(-3.11, 1.7457233683405353)</td>\n",
              "      <td>(-6.65, 1.836148376427747)</td>\n",
              "      <td>(nan, -0.15897624270352603)</td>\n",
              "      <td>(-0.58, 1.8819103489458804)</td>\n",
              "      <td>(6.31, 1.8938134949377503)</td>\n",
              "      <td>(nan, 0.6842471471798127)</td>\n",
              "      <td>(nan, -4.8910771396388516e-05)</td>\n",
              "      <td>(-7.86, 1.896813167082876)</td>\n",
              "      <td>(nan, 1.0419804727929691)</td>\n",
              "      <td>(nan, -0.45008888390648594)</td>\n",
              "      <td>(nan, 0.23682315576593915)</td>\n",
              "      <td>(nan, 1.7457373059561385)</td>\n",
              "      <td>(nan, 0.8089849281668258)</td>\n",
              "      <td>(nan, 1.372115661950883)</td>\n",
              "      <td>(nan, 0.5495416422540429)</td>\n",
              "      <td>(nan, 1.1455183262256943)</td>\n",
              "      <td>(nan, 1.4175175326831158)</td>\n",
              "      <td>(nan, 0.8825235201991469)</td>\n",
              "      <td>(nan, 1.5506358483150764)</td>\n",
              "      <td>(nan, 0.7976400944118839)</td>\n",
              "      <td>(nan, 0.9564385097913364)</td>\n",
              "      <td>(nan, 0.4723114963422325)</td>\n",
              "      <td>(nan, 1.407040669553807)</td>\n",
              "      <td>(nan, 1.4991236188523411)</td>\n",
              "      <td>(nan, 2.295972779390136)</td>\n",
              "      <td>(nan, 0.7394701548667514)</td>\n",
              "      <td>(nan, 1.458934069222244)</td>\n",
              "      <td>(nan, 1.0488547732753253)</td>\n",
              "      <td>(nan, 1.74116513350483)</td>\n",
              "      <td>(nan, 0.9431151152317309)</td>\n",
              "      <td>(nan, 0.8965409643619198)</td>\n",
              "      <td>(nan, 1.211875202454236)</td>\n",
              "      <td>(nan, 1.2410944399742987)</td>\n",
              "      <td>(nan, 0.9253773270490551)</td>\n",
              "      <td>(nan, 0.3579128833840212)</td>\n",
              "      <td>(nan, 1.2199721160850119)</td>\n",
              "    </tr>\n",
              "    <tr>\n",
              "      <th>24981</th>\n",
              "      <td>(nan, 1.434603277919281)</td>\n",
              "      <td>(nan, 0.9447373189415806)</td>\n",
              "      <td>(nan, 0.9325137063545451)</td>\n",
              "      <td>(nan, -0.769913714989665)</td>\n",
              "      <td>(-9.71, 0.9748181125599789)</td>\n",
              "      <td>(nan, 2.4295504508759973)</td>\n",
              "      <td>(4.56, 0.011330346212917368)</td>\n",
              "      <td>(-8.3, -0.384468876294161)</td>\n",
              "      <td>(nan, -0.011545797799862964)</td>\n",
              "      <td>(nan, 1.7944930219237332)</td>\n",
              "      <td>(nan, 2.5909079830034876)</td>\n",
              "      <td>(nan, 2.4014022163385698)</td>\n",
              "      <td>(-9.47, -1.5159838849303322)</td>\n",
              "      <td>(nan, 2.3830699950275926)</td>\n",
              "      <td>(3.45, -1.6004875514062589)</td>\n",
              "      <td>(-0.92, -2.9939060536958033)</td>\n",
              "      <td>(-4.51, -0.7166791669007747)</td>\n",
              "      <td>(-4.13, -0.33246249204924494)</td>\n",
              "      <td>(-5.73, 0.7017506695038426)</td>\n",
              "      <td>(-9.51, -0.40348048809921183)</td>\n",
              "      <td>(2.82, 3.056982437547076)</td>\n",
              "      <td>(nan, 1.6602004843179208)</td>\n",
              "      <td>(nan, 0.7675536048180426)</td>\n",
              "      <td>(nan, -1.180493098159848)</td>\n",
              "      <td>(nan, 1.2011088804323133)</td>\n",
              "      <td>(-0.49, 2.223933442173858)</td>\n",
              "      <td>(2.91, 3.9767275463900527)</td>\n",
              "      <td>(2.62, 2.345111758247618)</td>\n",
              "      <td>(8.3, 3.7581684060519795)</td>\n",
              "      <td>(nan, 0.3363400968842652)</td>\n",
              "      <td>(3.06, 3.1083807301009534)</td>\n",
              "      <td>(5.44, 3.944522099009459)</td>\n",
              "      <td>(nan, -0.6591441091512023)</td>\n",
              "      <td>(nan, 1.799074787887032)</td>\n",
              "      <td>(-0.68, 3.844091129152205)</td>\n",
              "      <td>(2.04, 4.016543282374448)</td>\n",
              "      <td>(nan, -0.8504050490317134)</td>\n",
              "      <td>(nan, 1.977294998414699)</td>\n",
              "      <td>(1.55, 2.004184267924221)</td>\n",
              "      <td>(nan, 1.8708338589736675)</td>\n",
              "      <td>...</td>\n",
              "      <td>(-8.83, 3.3740877239081417)</td>\n",
              "      <td>(-0.78, 3.800707331376049)</td>\n",
              "      <td>(nan, 1.030598928862653)</td>\n",
              "      <td>(nan, -0.08953602330465928)</td>\n",
              "      <td>(4.51, 3.2215809981066066)</td>\n",
              "      <td>(-2.48, 3.391484711090084)</td>\n",
              "      <td>(nan, -0.241058657655283)</td>\n",
              "      <td>(1.26, 3.4616610119374793)</td>\n",
              "      <td>(5.78, 3.487144139080889)</td>\n",
              "      <td>(nan, 1.2846317741185374)</td>\n",
              "      <td>(nan, -0.016642742302689573)</td>\n",
              "      <td>(nan, 3.503206098326427)</td>\n",
              "      <td>(nan, 1.9421493667352017)</td>\n",
              "      <td>(nan, -0.7852228923988565)</td>\n",
              "      <td>(-4.56, 0.43830694020313377)</td>\n",
              "      <td>(nan, 3.198162619977504)</td>\n",
              "      <td>(nan, 1.5209283304848307)</td>\n",
              "      <td>(nan, 2.561979801839252)</td>\n",
              "      <td>(nan, 0.9901843712071907)</td>\n",
              "      <td>(3.16, 2.1057843791720443)</td>\n",
              "      <td>(nan, 2.6045291410958487)</td>\n",
              "      <td>(nan, 1.5974739729350789)</td>\n",
              "      <td>(nan, 2.8582214830716244)</td>\n",
              "      <td>(nan, 1.4466759246023504)</td>\n",
              "      <td>(nan, 1.7573263924776965)</td>\n",
              "      <td>(nan, 0.8634658161526261)</td>\n",
              "      <td>(nan, 2.585938221394164)</td>\n",
              "      <td>(nan, 2.7608432855644685)</td>\n",
              "      <td>(nan, 4.189167204298187)</td>\n",
              "      <td>(nan, 1.377848984071308)</td>\n",
              "      <td>(nan, 2.660822865133477)</td>\n",
              "      <td>(nan, 1.9435712146967918)</td>\n",
              "      <td>(nan, 3.1878043217187755)</td>\n",
              "      <td>(nan, 1.7589979892374226)</td>\n",
              "      <td>(nan, 1.6778306023680862)</td>\n",
              "      <td>(nan, 2.1979073477543083)</td>\n",
              "      <td>(nan, 2.314671500847819)</td>\n",
              "      <td>(nan, 1.6738221772456325)</td>\n",
              "      <td>(nan, 0.7027365130408173)</td>\n",
              "      <td>(nan, 2.2179210268278045)</td>\n",
              "    </tr>\n",
              "    <tr>\n",
              "      <th>24982</th>\n",
              "      <td>(2.43, 1.907125510072178)</td>\n",
              "      <td>(2.67, 1.2564268776710583)</td>\n",
              "      <td>(-3.98, 1.242350235737046)</td>\n",
              "      <td>(4.27, -1.0224556190989924)</td>\n",
              "      <td>(-2.28, 1.2952857373241895)</td>\n",
              "      <td>(7.33, 3.226474800482909)</td>\n",
              "      <td>(2.33, 0.0154396679320863)</td>\n",
              "      <td>(4.56, -0.511373985571921)</td>\n",
              "      <td>(6.75, -0.017862113608382617)</td>\n",
              "      <td>(4.61, 2.3866815657330136)</td>\n",
              "      <td>(-3.16, 3.4439340027635295)</td>\n",
              "      <td>(7.38, 3.191844075011054)</td>\n",
              "      <td>(-8.2, -2.0179154687460708)</td>\n",
              "      <td>(9.08, 3.166622520856717)</td>\n",
              "      <td>(-8.83, -2.127715550852338)</td>\n",
              "      <td>(-7.77, -3.9808578398886483)</td>\n",
              "      <td>(5.49, -0.9535291388560018)</td>\n",
              "      <td>(1.36, -0.4422852930227058)</td>\n",
              "      <td>(-9.32, 0.9335084398347604)</td>\n",
              "      <td>(7.04, -0.5354542993084264)</td>\n",
              "      <td>(7.28, 4.06220190335957)</td>\n",
              "      <td>(3.2, 2.205858157606353)</td>\n",
              "      <td>(-0.05, 1.020359936957429)</td>\n",
              "      <td>(-1.26, -1.5710097354779053)</td>\n",
              "      <td>(6.94, 1.5978244715508725)</td>\n",
              "      <td>(5.49, 2.954673247789655)</td>\n",
              "      <td>(1.21, 5.287543959570485)</td>\n",
              "      <td>(5.0, 3.1124739268789128)</td>\n",
              "      <td>(7.38, 4.995266451248053)</td>\n",
              "      <td>(2.33, 0.44548976036939875)</td>\n",
              "      <td>(3.35, 4.130773862363347)</td>\n",
              "      <td>(6.17, 5.242020348364059)</td>\n",
              "      <td>(-4.81, -0.8735583873072854)</td>\n",
              "      <td>(3.79, 2.389406590938226)</td>\n",
              "      <td>(6.26, 5.10938366106924)</td>\n",
              "      <td>(8.54, 5.338182065958744)</td>\n",
              "      <td>(5.29, -1.130671469936582)</td>\n",
              "      <td>(1.12, 2.626334571951173)</td>\n",
              "      <td>(0.83, 2.663133288436486)</td>\n",
              "      <td>(0.19, 2.4852426608631104)</td>\n",
              "      <td>...</td>\n",
              "      <td>(6.17, 4.482599275389471)</td>\n",
              "      <td>(-0.29, 5.050283171560334)</td>\n",
              "      <td>(0.83, 1.3660254391736806)</td>\n",
              "      <td>(4.22, -0.11968247536853732)</td>\n",
              "      <td>(4.27, 4.281145999959118)</td>\n",
              "      <td>(7.38, 4.506667956133768)</td>\n",
              "      <td>(6.21, -0.3248694236964808)</td>\n",
              "      <td>(7.48, 4.601160164018366)</td>\n",
              "      <td>(5.15, 4.634720240897215)</td>\n",
              "      <td>(3.2, 1.7052456613105602)</td>\n",
              "      <td>(6.26, -0.020684044139434827)</td>\n",
              "      <td>(nan, 4.655153980125751)</td>\n",
              "      <td>(nan, 2.579247312454251)</td>\n",
              "      <td>(nan, -1.0474064067495135)</td>\n",
              "      <td>(nan, 0.5823543908884523)</td>\n",
              "      <td>(nan, 4.252054231752597)</td>\n",
              "      <td>(nan, 2.018730987483343)</td>\n",
              "      <td>(nan, 3.4020206374753257)</td>\n",
              "      <td>(nan, 1.3179243631505628)</td>\n",
              "      <td>(nan, 2.7990754176237487)</td>\n",
              "      <td>(nan, 3.4621327786706835)</td>\n",
              "      <td>(nan, 2.1255721065780957)</td>\n",
              "      <td>(nan, 3.798568254226597)</td>\n",
              "      <td>(nan, 1.9246712012332405)</td>\n",
              "      <td>(nan, 2.335970122451918)</td>\n",
              "      <td>(nan, 1.1481610182514876)</td>\n",
              "      <td>(7.23, 3.4373630630120444)</td>\n",
              "      <td>(nan, 3.669363256981376)</td>\n",
              "      <td>(nan, 5.571108397196538)</td>\n",
              "      <td>(nan, 1.8298738346259826)</td>\n",
              "      <td>(nan, 3.5386839012568396)</td>\n",
              "      <td>(nan, 2.5821115782210753)</td>\n",
              "      <td>(nan, 4.238455350085344)</td>\n",
              "      <td>(nan, 2.3359191032003084)</td>\n",
              "      <td>(nan, 2.227642334389736)</td>\n",
              "      <td>(nan, 2.924122225636751)</td>\n",
              "      <td>(nan, 3.0738513269735677)</td>\n",
              "      <td>(nan, 2.2272675913811897)</td>\n",
              "      <td>(nan, 0.9302083842795936)</td>\n",
              "      <td>(nan, 2.9502794400481154)</td>\n",
              "    </tr>\n",
              "  </tbody>\n",
              "</table>\n",
              "<p>24983 rows × 100 columns</p>\n",
              "</div>"
            ],
            "text/plain": [
              "                               1    ...                         100\n",
              "0      (-7.82, 1.7241086825615308)  ...   (nan, 2.6480992093989126)\n",
              "1       (4.08, 1.0091271677055602)  ...  (1.07, 1.5705820782814701)\n",
              "2         (nan, 1.324415452066487)  ...     (nan, 2.01856902374413)\n",
              "3         (nan, 1.088531406449845)  ...   (nan, 1.6398300684424119)\n",
              "4        (8.5, 1.1618083711753473)  ...   (1.6, 1.8051124746201135)\n",
              "...                            ...  ...                         ...\n",
              "24978   (0.44, 1.8281468041039057)  ...   (7.43, 2.916990986924987)\n",
              "24979  (9.13, 0.30137028827753487)  ...  (8.45, 0.4895804260770757)\n",
              "24980    (nan, 0.7816904544436565)  ...   (nan, 1.2199721160850119)\n",
              "24981     (nan, 1.434603277919281)  ...   (nan, 2.2179210268278045)\n",
              "24982    (2.43, 1.907125510072178)  ...   (nan, 2.9502794400481154)\n",
              "\n",
              "[24983 rows x 100 columns]"
            ]
          },
          "metadata": {
            "tags": []
          },
          "execution_count": 24
        }
      ]
    },
    {
      "cell_type": "code",
      "metadata": {
        "id": "XmFmmgWiZjMx"
      },
      "source": [
        "# while 1: pass"
      ],
      "execution_count": null,
      "outputs": []
    },
    {
      "cell_type": "markdown",
      "metadata": {
        "id": "pRBJmE-O0SZC"
      },
      "source": [
        "# For Quiz"
      ]
    },
    {
      "cell_type": "code",
      "metadata": {
        "id": "yItBZqyGzgur"
      },
      "source": [
        "quiz_users = pd.read_excel(\"https://raw.githubusercontent.com/albanda/CE888/master/lab4-recommender/movies_latent_factors.xlsx\",sheet_name='Users')\n",
        "quiz_items = pd.read_excel(\"https://raw.githubusercontent.com/albanda/CE888/master/lab4-recommender/movies_latent_factors.xlsx\",sheet_name='Items')"
      ],
      "execution_count": null,
      "outputs": []
    },
    {
      "cell_type": "code",
      "metadata": {
        "id": "H0lb8VPN1Fn6"
      },
      "source": [
        "# quiz_movies"
      ],
      "execution_count": null,
      "outputs": []
    },
    {
      "cell_type": "code",
      "metadata": {
        "colab": {
          "base_uri": "https://localhost:8080/"
        },
        "id": "SjH9MI_c1tw5",
        "outputId": "931af272-39cc-4415-97f3-357ba83183da"
      },
      "source": [
        "test_data.loc[8243, 61]"
      ],
      "execution_count": null,
      "outputs": [
        {
          "output_type": "execute_result",
          "data": {
            "text/plain": [
              "-1.02"
            ]
          },
          "metadata": {
            "tags": []
          },
          "execution_count": 44
        }
      ]
    },
    {
      "cell_type": "code",
      "metadata": {
        "id": "76TVOxVpV_9O",
        "colab": {
          "base_uri": "https://localhost:8080/"
        },
        "outputId": "dad67a0e-8ef6-41b1-8985-5f200c764394"
      },
      "source": [
        "comparison_data.loc[8243, 61]"
      ],
      "execution_count": null,
      "outputs": [
        {
          "output_type": "execute_result",
          "data": {
            "text/plain": [
              "(-1.02, 3.6386506882686147)"
            ]
          },
          "metadata": {
            "tags": []
          },
          "execution_count": 45
        }
      ]
    },
    {
      "cell_type": "code",
      "metadata": {
        "colab": {
          "base_uri": "https://localhost:8080/"
        },
        "id": "-limcnBs3DA_",
        "outputId": "6237ec5a-7aa1-4bba-db55-277c0bdbde77"
      },
      "source": [
        "comparison_data.loc[23437, 58]"
      ],
      "execution_count": null,
      "outputs": [
        {
          "output_type": "execute_result",
          "data": {
            "text/plain": [
              "(nan, -3.7157774766806337)"
            ]
          },
          "metadata": {
            "tags": []
          },
          "execution_count": 46
        }
      ]
    },
    {
      "cell_type": "code",
      "metadata": {
        "id": "U0VrRF4-SHha",
        "colab": {
          "base_uri": "https://localhost:8080/"
        },
        "outputId": "1c7f7ccd-2b20-4922-81e8-a430fa0aa196"
      },
      "source": [
        "quiz_users.loc[quiz_users['User']==4327, 'Factor14']"
      ],
      "execution_count": null,
      "outputs": [
        {
          "output_type": "execute_result",
          "data": {
            "text/plain": [
              "21   -0.09349\n",
              "Name: Factor14, dtype: float64"
            ]
          },
          "metadata": {
            "tags": []
          },
          "execution_count": 47
        }
      ]
    },
    {
      "cell_type": "code",
      "metadata": {
        "id": "v4xeHYbKSrKK",
        "colab": {
          "base_uri": "https://localhost:8080/"
        },
        "outputId": "2fe6d11b-0c6f-4203-e60e-5bacb5a23448"
      },
      "source": [
        "round(-0.09349, 3)"
      ],
      "execution_count": null,
      "outputs": [
        {
          "output_type": "execute_result",
          "data": {
            "text/plain": [
              "-0.093"
            ]
          },
          "metadata": {
            "tags": []
          },
          "execution_count": 48
        }
      ]
    },
    {
      "cell_type": "code",
      "metadata": {
        "colab": {
          "base_uri": "https://localhost:8080/"
        },
        "id": "fDJY9EXC3UBw",
        "outputId": "e41ce494-fe66-47f3-e4d8-6719c8daa0e1"
      },
      "source": [
        "quiz_items.loc[quiz_items['Movie ID']==629, 'Factor12']"
      ],
      "execution_count": null,
      "outputs": [
        {
          "output_type": "execute_result",
          "data": {
            "text/plain": [
              "53    0.452338\n",
              "Name: Factor12, dtype: float64"
            ]
          },
          "metadata": {
            "tags": []
          },
          "execution_count": 49
        }
      ]
    },
    {
      "cell_type": "code",
      "metadata": {
        "colab": {
          "base_uri": "https://localhost:8080/",
          "height": 77
        },
        "id": "yD8QWojM4Mlm",
        "outputId": "8638b7bd-ec99-498d-953a-052fc9a5e089"
      },
      "source": [
        "(quiz_items.loc[quiz_items['Factor5']==np.max(quiz_items['Factor5']), ['Movie ID', 'Factor5']])"
      ],
      "execution_count": null,
      "outputs": [
        {
          "output_type": "execute_result",
          "data": {
            "text/html": [
              "<div>\n",
              "<style scoped>\n",
              "    .dataframe tbody tr th:only-of-type {\n",
              "        vertical-align: middle;\n",
              "    }\n",
              "\n",
              "    .dataframe tbody tr th {\n",
              "        vertical-align: top;\n",
              "    }\n",
              "\n",
              "    .dataframe thead th {\n",
              "        text-align: right;\n",
              "    }\n",
              "</style>\n",
              "<table border=\"1\" class=\"dataframe\">\n",
              "  <thead>\n",
              "    <tr style=\"text-align: right;\">\n",
              "      <th></th>\n",
              "      <th>Movie ID</th>\n",
              "      <th>Factor5</th>\n",
              "    </tr>\n",
              "  </thead>\n",
              "  <tbody>\n",
              "    <tr>\n",
              "      <th>15</th>\n",
              "      <td>121</td>\n",
              "      <td>2.750878</td>\n",
              "    </tr>\n",
              "  </tbody>\n",
              "</table>\n",
              "</div>"
            ],
            "text/plain": [
              "    Movie ID   Factor5\n",
              "15       121  2.750878"
            ]
          },
          "metadata": {
            "tags": []
          },
          "execution_count": 50
        }
      ]
    },
    {
      "cell_type": "code",
      "metadata": {
        "colab": {
          "base_uri": "https://localhost:8080/",
          "height": 246
        },
        "id": "XTznqlq941Ww",
        "outputId": "11040ffc-acf0-421a-bc8f-4642edf6623e"
      },
      "source": [
        "quiz_items.head()"
      ],
      "execution_count": null,
      "outputs": [
        {
          "output_type": "execute_result",
          "data": {
            "text/html": [
              "<div>\n",
              "<style scoped>\n",
              "    .dataframe tbody tr th:only-of-type {\n",
              "        vertical-align: middle;\n",
              "    }\n",
              "\n",
              "    .dataframe tbody tr th {\n",
              "        vertical-align: top;\n",
              "    }\n",
              "\n",
              "    .dataframe thead th {\n",
              "        text-align: right;\n",
              "    }\n",
              "</style>\n",
              "<table border=\"1\" class=\"dataframe\">\n",
              "  <thead>\n",
              "    <tr style=\"text-align: right;\">\n",
              "      <th></th>\n",
              "      <th>Movie ID</th>\n",
              "      <th>Title</th>\n",
              "      <th>Factor1</th>\n",
              "      <th>Factor2</th>\n",
              "      <th>Factor3</th>\n",
              "      <th>Factor4</th>\n",
              "      <th>Factor5</th>\n",
              "      <th>Factor6</th>\n",
              "      <th>Factor7</th>\n",
              "      <th>Factor8</th>\n",
              "      <th>Factor9</th>\n",
              "      <th>Factor10</th>\n",
              "      <th>Factor11</th>\n",
              "      <th>Factor12</th>\n",
              "      <th>Factor13</th>\n",
              "      <th>Factor14</th>\n",
              "      <th>Factor15</th>\n",
              "    </tr>\n",
              "  </thead>\n",
              "  <tbody>\n",
              "    <tr>\n",
              "      <th>0</th>\n",
              "      <td>11</td>\n",
              "      <td>Star Wars: Episode IV - A New Hope (1977)</td>\n",
              "      <td>-1.521848</td>\n",
              "      <td>-1.038507</td>\n",
              "      <td>2.027269</td>\n",
              "      <td>0.247933</td>\n",
              "      <td>-0.594548</td>\n",
              "      <td>2.513260</td>\n",
              "      <td>-1.848910</td>\n",
              "      <td>0.476710</td>\n",
              "      <td>-0.224146</td>\n",
              "      <td>-0.760681</td>\n",
              "      <td>-0.973915</td>\n",
              "      <td>0.862379</td>\n",
              "      <td>0.403861</td>\n",
              "      <td>1.129616</td>\n",
              "      <td>-0.248806</td>\n",
              "    </tr>\n",
              "    <tr>\n",
              "      <th>1</th>\n",
              "      <td>12</td>\n",
              "      <td>Finding Nemo (2003)</td>\n",
              "      <td>-0.342185</td>\n",
              "      <td>-0.296586</td>\n",
              "      <td>-0.385962</td>\n",
              "      <td>2.443297</td>\n",
              "      <td>-1.097015</td>\n",
              "      <td>-0.619465</td>\n",
              "      <td>0.572887</td>\n",
              "      <td>0.329516</td>\n",
              "      <td>-0.712228</td>\n",
              "      <td>0.323554</td>\n",
              "      <td>-0.561948</td>\n",
              "      <td>-0.142405</td>\n",
              "      <td>-0.564415</td>\n",
              "      <td>0.506876</td>\n",
              "      <td>1.274993</td>\n",
              "    </tr>\n",
              "    <tr>\n",
              "      <th>2</th>\n",
              "      <td>13</td>\n",
              "      <td>Forrest Gump (1994)</td>\n",
              "      <td>-2.240888</td>\n",
              "      <td>-0.438815</td>\n",
              "      <td>-2.275177</td>\n",
              "      <td>0.614548</td>\n",
              "      <td>0.904469</td>\n",
              "      <td>0.711919</td>\n",
              "      <td>-0.420876</td>\n",
              "      <td>1.302036</td>\n",
              "      <td>-0.868418</td>\n",
              "      <td>-0.160122</td>\n",
              "      <td>0.633667</td>\n",
              "      <td>0.133138</td>\n",
              "      <td>-0.330276</td>\n",
              "      <td>-2.209004</td>\n",
              "      <td>-0.419092</td>\n",
              "    </tr>\n",
              "    <tr>\n",
              "      <th>3</th>\n",
              "      <td>14</td>\n",
              "      <td>American Beauty (1999)</td>\n",
              "      <td>-0.634531</td>\n",
              "      <td>2.186059</td>\n",
              "      <td>-0.066681</td>\n",
              "      <td>0.086197</td>\n",
              "      <td>0.517558</td>\n",
              "      <td>-0.185319</td>\n",
              "      <td>-0.412352</td>\n",
              "      <td>0.063841</td>\n",
              "      <td>0.075937</td>\n",
              "      <td>-0.577682</td>\n",
              "      <td>0.526803</td>\n",
              "      <td>-1.465557</td>\n",
              "      <td>-0.819682</td>\n",
              "      <td>0.549010</td>\n",
              "      <td>-0.681191</td>\n",
              "    </tr>\n",
              "    <tr>\n",
              "      <th>4</th>\n",
              "      <td>22</td>\n",
              "      <td>Pirates of the Caribbean: The Curse of the Bla...</td>\n",
              "      <td>0.517348</td>\n",
              "      <td>-1.456763</td>\n",
              "      <td>0.369161</td>\n",
              "      <td>0.073903</td>\n",
              "      <td>-0.098332</td>\n",
              "      <td>-0.594722</td>\n",
              "      <td>0.828888</td>\n",
              "      <td>0.033626</td>\n",
              "      <td>-0.707414</td>\n",
              "      <td>0.717877</td>\n",
              "      <td>1.394326</td>\n",
              "      <td>-0.786986</td>\n",
              "      <td>1.429191</td>\n",
              "      <td>0.855746</td>\n",
              "      <td>-2.292566</td>\n",
              "    </tr>\n",
              "  </tbody>\n",
              "</table>\n",
              "</div>"
            ],
            "text/plain": [
              "   Movie ID  ...  Factor15\n",
              "0        11  ... -0.248806\n",
              "1        12  ...  1.274993\n",
              "2        13  ... -0.419092\n",
              "3        14  ... -0.681191\n",
              "4        22  ... -2.292566\n",
              "\n",
              "[5 rows x 17 columns]"
            ]
          },
          "metadata": {
            "tags": []
          },
          "execution_count": 51
        }
      ]
    },
    {
      "cell_type": "code",
      "metadata": {
        "id": "dVSt9IARTDz4",
        "colab": {
          "base_uri": "https://localhost:8080/"
        },
        "outputId": "22af1134-0a3d-4767-cbc5-b21af1d08a55"
      },
      "source": [
        "np.argmin(quiz_items.loc[:, 'Factor3'].values)"
      ],
      "execution_count": null,
      "outputs": [
        {
          "output_type": "execute_result",
          "data": {
            "text/plain": [
              "47"
            ]
          },
          "metadata": {
            "tags": []
          },
          "execution_count": 52
        }
      ]
    },
    {
      "cell_type": "code",
      "metadata": {
        "id": "cy0BPUI1TDrB",
        "colab": {
          "base_uri": "https://localhost:8080/"
        },
        "outputId": "395ccf29-b20d-46d6-c12e-2e9a7e4ba0d2"
      },
      "source": [
        "quiz_items.loc[47, ['Title', 'Factor3']]"
      ],
      "execution_count": null,
      "outputs": [
        {
          "output_type": "execute_result",
          "data": {
            "text/plain": [
              "Title      Titanic (1997)\n",
              "Factor3          -2.52338\n",
              "Name: 47, dtype: object"
            ]
          },
          "metadata": {
            "tags": []
          },
          "execution_count": 53
        }
      ]
    },
    {
      "cell_type": "code",
      "metadata": {
        "id": "GDMMDtdg7Xdu"
      },
      "source": [
        "a=quiz_items.loc[quiz_items['Movie ID']==680]"
      ],
      "execution_count": null,
      "outputs": []
    },
    {
      "cell_type": "code",
      "metadata": {
        "id": "7pVIIdv775cu"
      },
      "source": [
        "a=a.values.squeeze()"
      ],
      "execution_count": null,
      "outputs": []
    },
    {
      "cell_type": "code",
      "metadata": {
        "colab": {
          "base_uri": "https://localhost:8080/"
        },
        "id": "FJmQBp9N838F",
        "outputId": "9464c578-00a2-487e-8a8b-8a7186725162"
      },
      "source": [
        "a=a[2:]\n",
        "a"
      ],
      "execution_count": null,
      "outputs": [
        {
          "output_type": "execute_result",
          "data": {
            "text/plain": [
              "array([-2.3827392477100444, 2.085395388462736, 0.683163859129389,\n",
              "       -0.8413931398162213, -0.062048815712846456, 0.32606256907923137,\n",
              "       0.6249807034681429, 1.0716252740536079, -0.03782040288565136,\n",
              "       -0.7297955075135498, 0.4125435112858254, -0.033414557487240634,\n",
              "       0.06267091882517746, 0.22891022325813315, -1.8338999569970884],\n",
              "      dtype=object)"
            ]
          },
          "metadata": {
            "tags": []
          },
          "execution_count": 99
        }
      ]
    },
    {
      "cell_type": "code",
      "metadata": {
        "id": "79yRez-V9hXa"
      },
      "source": [
        "b=quiz_users.loc[quiz_users['User']==525]"
      ],
      "execution_count": null,
      "outputs": []
    },
    {
      "cell_type": "code",
      "metadata": {
        "id": "koXsLwTX-FbM"
      },
      "source": [
        "b=b.values.squeeze()"
      ],
      "execution_count": null,
      "outputs": []
    },
    {
      "cell_type": "code",
      "metadata": {
        "colab": {
          "base_uri": "https://localhost:8080/"
        },
        "id": "wVg3crTo-GSM",
        "outputId": "b875c991-c9b7-4b3a-b48a-f310db035668"
      },
      "source": [
        "b=b[1:]\n",
        "b"
      ],
      "execution_count": null,
      "outputs": [
        {
          "output_type": "execute_result",
          "data": {
            "text/plain": [
              "array([-0.04029047,  0.01438336, -0.09896682, -0.0189566 ,  0.0123881 ,\n",
              "        0.03554635,  0.00090304,  0.01283525, -0.02108043,  0.018742  ,\n",
              "       -0.05048254, -0.02539382,  0.03407865,  0.03833042, -0.00134082])"
            ]
          },
          "metadata": {
            "tags": []
          },
          "execution_count": 102
        }
      ]
    },
    {
      "cell_type": "code",
      "metadata": {
        "id": "Lyugtr-T-Km8"
      },
      "source": [
        "quiz_pred=np.dot(b, a.T)"
      ],
      "execution_count": null,
      "outputs": []
    },
    {
      "cell_type": "code",
      "metadata": {
        "colab": {
          "base_uri": "https://localhost:8080/"
        },
        "id": "Uh_GnfqB--rk",
        "outputId": "128a8b51-3aab-4e1b-ef3e-d3eee96b2932"
      },
      "source": [
        "round(quiz_pred, 2)"
      ],
      "execution_count": null,
      "outputs": [
        {
          "output_type": "execute_result",
          "data": {
            "text/plain": [
              "0.08"
            ]
          },
          "metadata": {
            "tags": []
          },
          "execution_count": 104
        }
      ]
    },
    {
      "cell_type": "code",
      "metadata": {
        "colab": {
          "base_uri": "https://localhost:8080/"
        },
        "id": "TQ7BZL9q_TQr",
        "outputId": "47842a1f-bcf2-4675-c43d-cd3238807968"
      },
      "source": [
        "c=quiz_items.loc[quiz_items['Movie ID']==812]\n",
        "c=c.values.squeeze()\n",
        "c=c[2:]\n",
        "c"
      ],
      "execution_count": null,
      "outputs": [
        {
          "output_type": "execute_result",
          "data": {
            "text/plain": [
              "array([0.9444072873203204, -0.17405053859224534, 0.12318628233184109,\n",
              "       2.2243105344641236, -0.5695513857263874, 0.018065057433469225,\n",
              "       0.3010679396871695, 0.03472533646290326, -0.20630092072921338,\n",
              "       0.5333225541299694, -0.8823041399125704, -0.4469824426741521,\n",
              "       1.3020155376267466, 0.8368295247444454, -0.46760653696757254],\n",
              "      dtype=object)"
            ]
          },
          "metadata": {
            "tags": []
          },
          "execution_count": 95
        }
      ]
    },
    {
      "cell_type": "code",
      "metadata": {
        "colab": {
          "base_uri": "https://localhost:8080/"
        },
        "id": "Fsrd98Ok_-Ch",
        "outputId": "3529d1c9-d573-43aa-e3c1-21daf49e6654"
      },
      "source": [
        "quiz_pred=np.dot(b, c.T)\n",
        "round(quiz_pred, 2)"
      ],
      "execution_count": null,
      "outputs": [
        {
          "output_type": "execute_result",
          "data": {
            "text/plain": [
              "-0.13"
            ]
          },
          "metadata": {
            "tags": []
          },
          "execution_count": 96
        }
      ]
    },
    {
      "cell_type": "code",
      "metadata": {
        "colab": {
          "base_uri": "https://localhost:8080/"
        },
        "id": "dbOJr-oqAHdL",
        "outputId": "8d9f1bdc-a33b-4ecc-b190-409fcad34afd"
      },
      "source": [
        "u_2067=quiz_users.loc[quiz_users['User']==3806]\n",
        "u_2067=u_2067.values.squeeze()\n",
        "u_2067=u_2067[1:]\n",
        "u_2067"
      ],
      "execution_count": null,
      "outputs": [
        {
          "output_type": "execute_result",
          "data": {
            "text/plain": [
              "array([-0.04234433, -0.04075545, -0.05571989, -0.07372552,  0.01820304,\n",
              "        0.09194021,  0.12395867, -0.1574026 , -0.02038777,  0.08249335,\n",
              "        0.22305742, -0.04091509, -0.1303082 , -0.02181588,  0.03454886])"
            ]
          },
          "metadata": {
            "tags": []
          },
          "execution_count": 105
        }
      ]
    },
    {
      "cell_type": "code",
      "metadata": {
        "id": "N9kezRMnB8wh"
      },
      "source": [
        "all_item_factors=quiz_items.values[:, 2:]"
      ],
      "execution_count": null,
      "outputs": []
    },
    {
      "cell_type": "code",
      "metadata": {
        "id": "rSooDA9YBlXJ"
      },
      "source": [
        "quiz_ratings=np.dot(u_2067, all_item_factors.T)"
      ],
      "execution_count": null,
      "outputs": []
    },
    {
      "cell_type": "code",
      "metadata": {
        "colab": {
          "base_uri": "https://localhost:8080/"
        },
        "id": "rX4skNreC3VJ",
        "outputId": "a06c2bc5-83cb-42f3-f7af-4a531a92e517"
      },
      "source": [
        "np.argmax(quiz_ratings)"
      ],
      "execution_count": null,
      "outputs": [
        {
          "output_type": "execute_result",
          "data": {
            "text/plain": [
              "50"
            ]
          },
          "metadata": {
            "tags": []
          },
          "execution_count": 108
        }
      ]
    },
    {
      "cell_type": "code",
      "metadata": {
        "colab": {
          "base_uri": "https://localhost:8080/"
        },
        "id": "QhORFODyE87b",
        "outputId": "a3862de6-a5df-4cda-9c3c-7106eb2b04c9"
      },
      "source": [
        "np.argsort(quiz_ratings)[::-1][:2]"
      ],
      "execution_count": null,
      "outputs": [
        {
          "output_type": "execute_result",
          "data": {
            "text/plain": [
              "array([50, 68])"
            ]
          },
          "metadata": {
            "tags": []
          },
          "execution_count": 110
        }
      ]
    },
    {
      "cell_type": "code",
      "metadata": {
        "colab": {
          "base_uri": "https://localhost:8080/",
          "height": 170
        },
        "id": "2f9D2LyxC9tB",
        "outputId": "f09ceffb-f603-4848-fff8-388e343fde15"
      },
      "source": [
        "quiz_items.loc[np.argsort(quiz_ratings)[::-1][:3], :]"
      ],
      "execution_count": null,
      "outputs": [
        {
          "output_type": "execute_result",
          "data": {
            "text/html": [
              "<div>\n",
              "<style scoped>\n",
              "    .dataframe tbody tr th:only-of-type {\n",
              "        vertical-align: middle;\n",
              "    }\n",
              "\n",
              "    .dataframe tbody tr th {\n",
              "        vertical-align: top;\n",
              "    }\n",
              "\n",
              "    .dataframe thead th {\n",
              "        text-align: right;\n",
              "    }\n",
              "</style>\n",
              "<table border=\"1\" class=\"dataframe\">\n",
              "  <thead>\n",
              "    <tr style=\"text-align: right;\">\n",
              "      <th></th>\n",
              "      <th>Movie ID</th>\n",
              "      <th>Title</th>\n",
              "      <th>Factor1</th>\n",
              "      <th>Factor2</th>\n",
              "      <th>Factor3</th>\n",
              "      <th>Factor4</th>\n",
              "      <th>Factor5</th>\n",
              "      <th>Factor6</th>\n",
              "      <th>Factor7</th>\n",
              "      <th>Factor8</th>\n",
              "      <th>Factor9</th>\n",
              "      <th>Factor10</th>\n",
              "      <th>Factor11</th>\n",
              "      <th>Factor12</th>\n",
              "      <th>Factor13</th>\n",
              "      <th>Factor14</th>\n",
              "      <th>Factor15</th>\n",
              "    </tr>\n",
              "  </thead>\n",
              "  <tbody>\n",
              "    <tr>\n",
              "      <th>50</th>\n",
              "      <td>603</td>\n",
              "      <td>The Matrix (1999)</td>\n",
              "      <td>-3.063639</td>\n",
              "      <td>-1.319283</td>\n",
              "      <td>-0.043618</td>\n",
              "      <td>-0.994612</td>\n",
              "      <td>-0.954054</td>\n",
              "      <td>0.190838</td>\n",
              "      <td>0.197918</td>\n",
              "      <td>-0.093962</td>\n",
              "      <td>-1.082840</td>\n",
              "      <td>-0.003843</td>\n",
              "      <td>1.377453</td>\n",
              "      <td>-1.668189</td>\n",
              "      <td>-1.348377</td>\n",
              "      <td>0.223797</td>\n",
              "      <td>0.752413</td>\n",
              "    </tr>\n",
              "    <tr>\n",
              "      <th>68</th>\n",
              "      <td>854</td>\n",
              "      <td>The Mask (1994)</td>\n",
              "      <td>2.263142</td>\n",
              "      <td>-0.067761</td>\n",
              "      <td>-0.205463</td>\n",
              "      <td>0.068880</td>\n",
              "      <td>-0.189090</td>\n",
              "      <td>2.078554</td>\n",
              "      <td>2.444922</td>\n",
              "      <td>-0.075971</td>\n",
              "      <td>-0.674767</td>\n",
              "      <td>-0.198560</td>\n",
              "      <td>1.641380</td>\n",
              "      <td>-0.839276</td>\n",
              "      <td>-0.517086</td>\n",
              "      <td>-1.058431</td>\n",
              "      <td>-0.931746</td>\n",
              "    </tr>\n",
              "    <tr>\n",
              "      <th>51</th>\n",
              "      <td>604</td>\n",
              "      <td>The Matrix Reloaded (2003)</td>\n",
              "      <td>0.503414</td>\n",
              "      <td>-2.004450</td>\n",
              "      <td>0.001084</td>\n",
              "      <td>-2.255945</td>\n",
              "      <td>0.882547</td>\n",
              "      <td>-0.188600</td>\n",
              "      <td>-0.235434</td>\n",
              "      <td>0.570028</td>\n",
              "      <td>-3.492897</td>\n",
              "      <td>-0.312214</td>\n",
              "      <td>0.902742</td>\n",
              "      <td>-2.063318</td>\n",
              "      <td>-1.895101</td>\n",
              "      <td>0.748458</td>\n",
              "      <td>2.120907</td>\n",
              "    </tr>\n",
              "  </tbody>\n",
              "</table>\n",
              "</div>"
            ],
            "text/plain": [
              "    Movie ID                       Title  ...  Factor14  Factor15\n",
              "50       603           The Matrix (1999)  ...  0.223797  0.752413\n",
              "68       854             The Mask (1994)  ... -1.058431 -0.931746\n",
              "51       604  The Matrix Reloaded (2003)  ...  0.748458  2.120907\n",
              "\n",
              "[3 rows x 17 columns]"
            ]
          },
          "metadata": {
            "tags": []
          },
          "execution_count": 111
        }
      ]
    },
    {
      "cell_type": "code",
      "metadata": {
        "id": "M2a2J4UkDECp"
      },
      "source": [
        ""
      ],
      "execution_count": null,
      "outputs": []
    },
    {
      "cell_type": "code",
      "metadata": {
        "colab": {
          "base_uri": "https://localhost:8080/"
        },
        "id": "KHQeAl_wENl5",
        "outputId": "57368167-f6ec-4e16-f3f7-bd77feb36662"
      },
      "source": [
        "u_4940=quiz_users.loc[quiz_users['User']==2067]\n",
        "u_4940=u_4940.values.squeeze()\n",
        "u_4940=u_4940[1:]\n",
        "u_4940"
      ],
      "execution_count": null,
      "outputs": [
        {
          "output_type": "execute_result",
          "data": {
            "text/plain": [
              "array([-8.32419876e-02,  1.81170624e-01, -3.44267114e-01, -1.97126297e-02,\n",
              "       -2.43198543e-01,  3.92197164e-02, -9.20858062e-02,  1.14807987e-01,\n",
              "       -3.64718778e-02,  4.23861148e-02, -1.86812335e-01, -1.27038258e-01,\n",
              "        1.76660761e-01, -5.58122216e-02, -4.16354710e-05])"
            ]
          },
          "metadata": {
            "tags": []
          },
          "execution_count": 112
        }
      ]
    },
    {
      "cell_type": "code",
      "metadata": {
        "colab": {
          "base_uri": "https://localhost:8080/"
        },
        "id": "MqytbIb1FiDG",
        "outputId": "f89b9d61-e5a8-44cb-8b0d-a0797e9dfecb"
      },
      "source": [
        "quiz_ratings=np.dot(u_4940, all_item_factors.T)\n",
        "np.argsort(quiz_ratings)[::-1][:3]"
      ],
      "execution_count": null,
      "outputs": [
        {
          "output_type": "execute_result",
          "data": {
            "text/plain": [
              "array([ 2, 10, 33])"
            ]
          },
          "metadata": {
            "tags": []
          },
          "execution_count": 113
        }
      ]
    },
    {
      "cell_type": "code",
      "metadata": {
        "colab": {
          "base_uri": "https://localhost:8080/",
          "height": 170
        },
        "id": "8i0lK_ueFsev",
        "outputId": "1f16af5f-3030-4337-f624-ae201113f767"
      },
      "source": [
        "quiz_items.loc[np.argsort(quiz_ratings)[::-1][:3], :]"
      ],
      "execution_count": null,
      "outputs": [
        {
          "output_type": "execute_result",
          "data": {
            "text/html": [
              "<div>\n",
              "<style scoped>\n",
              "    .dataframe tbody tr th:only-of-type {\n",
              "        vertical-align: middle;\n",
              "    }\n",
              "\n",
              "    .dataframe tbody tr th {\n",
              "        vertical-align: top;\n",
              "    }\n",
              "\n",
              "    .dataframe thead th {\n",
              "        text-align: right;\n",
              "    }\n",
              "</style>\n",
              "<table border=\"1\" class=\"dataframe\">\n",
              "  <thead>\n",
              "    <tr style=\"text-align: right;\">\n",
              "      <th></th>\n",
              "      <th>Movie ID</th>\n",
              "      <th>Title</th>\n",
              "      <th>Factor1</th>\n",
              "      <th>Factor2</th>\n",
              "      <th>Factor3</th>\n",
              "      <th>Factor4</th>\n",
              "      <th>Factor5</th>\n",
              "      <th>Factor6</th>\n",
              "      <th>Factor7</th>\n",
              "      <th>Factor8</th>\n",
              "      <th>Factor9</th>\n",
              "      <th>Factor10</th>\n",
              "      <th>Factor11</th>\n",
              "      <th>Factor12</th>\n",
              "      <th>Factor13</th>\n",
              "      <th>Factor14</th>\n",
              "      <th>Factor15</th>\n",
              "    </tr>\n",
              "  </thead>\n",
              "  <tbody>\n",
              "    <tr>\n",
              "      <th>2</th>\n",
              "      <td>13</td>\n",
              "      <td>Forrest Gump (1994)</td>\n",
              "      <td>-2.240888</td>\n",
              "      <td>-0.438815</td>\n",
              "      <td>-2.275177</td>\n",
              "      <td>0.614548</td>\n",
              "      <td>0.904469</td>\n",
              "      <td>0.711919</td>\n",
              "      <td>-0.420876</td>\n",
              "      <td>1.302036</td>\n",
              "      <td>-0.868418</td>\n",
              "      <td>-0.160122</td>\n",
              "      <td>0.633667</td>\n",
              "      <td>0.133138</td>\n",
              "      <td>-0.330276</td>\n",
              "      <td>-2.209004</td>\n",
              "      <td>-0.419092</td>\n",
              "    </tr>\n",
              "    <tr>\n",
              "      <th>10</th>\n",
              "      <td>98</td>\n",
              "      <td>Gladiator (2000)</td>\n",
              "      <td>-1.364852</td>\n",
              "      <td>-1.304136</td>\n",
              "      <td>-1.941623</td>\n",
              "      <td>-0.661007</td>\n",
              "      <td>0.128877</td>\n",
              "      <td>0.007048</td>\n",
              "      <td>0.371097</td>\n",
              "      <td>0.086026</td>\n",
              "      <td>-0.133839</td>\n",
              "      <td>0.548053</td>\n",
              "      <td>-0.827216</td>\n",
              "      <td>0.141476</td>\n",
              "      <td>0.735983</td>\n",
              "      <td>-0.338100</td>\n",
              "      <td>-0.175565</td>\n",
              "    </tr>\n",
              "    <tr>\n",
              "      <th>33</th>\n",
              "      <td>278</td>\n",
              "      <td>The Shawshank Redemption (1994)</td>\n",
              "      <td>-2.780308</td>\n",
              "      <td>-0.088747</td>\n",
              "      <td>-1.821590</td>\n",
              "      <td>-0.157495</td>\n",
              "      <td>0.323285</td>\n",
              "      <td>-0.114768</td>\n",
              "      <td>0.281397</td>\n",
              "      <td>-0.130262</td>\n",
              "      <td>0.028689</td>\n",
              "      <td>-0.810090</td>\n",
              "      <td>-0.229137</td>\n",
              "      <td>0.587575</td>\n",
              "      <td>0.194144</td>\n",
              "      <td>-0.976664</td>\n",
              "      <td>-0.779991</td>\n",
              "    </tr>\n",
              "  </tbody>\n",
              "</table>\n",
              "</div>"
            ],
            "text/plain": [
              "    Movie ID                            Title  ...  Factor14  Factor15\n",
              "2         13              Forrest Gump (1994)  ... -2.209004 -0.419092\n",
              "10        98                 Gladiator (2000)  ... -0.338100 -0.175565\n",
              "33       278  The Shawshank Redemption (1994)  ... -0.976664 -0.779991\n",
              "\n",
              "[3 rows x 17 columns]"
            ]
          },
          "metadata": {
            "tags": []
          },
          "execution_count": 114
        }
      ]
    },
    {
      "cell_type": "code",
      "metadata": {
        "id": "r1YeIeStOIX-",
        "colab": {
          "base_uri": "https://localhost:8080/"
        },
        "outputId": "f0035ead-0f52-4398-bc53-39d05376a7f5"
      },
      "source": [
        "np.average(data.loc[:, 45].values[~np.isnan(data.loc[:, 45].values)])"
      ],
      "execution_count": null,
      "outputs": [
        {
          "output_type": "execute_result",
          "data": {
            "text/plain": [
              "1.1086161781946073"
            ]
          },
          "metadata": {
            "tags": []
          },
          "execution_count": 73
        }
      ]
    },
    {
      "cell_type": "code",
      "metadata": {
        "id": "Gufu8-06Q50p"
      },
      "source": [
        ""
      ],
      "execution_count": null,
      "outputs": []
    }
  ]
}