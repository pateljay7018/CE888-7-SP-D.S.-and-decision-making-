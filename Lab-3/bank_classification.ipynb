{
  "nbformat": 4,
  "nbformat_minor": 0,
  "metadata": {
    "colab": {
      "name": "Untitled3.ipynb",
      "provenance": [],
      "authorship_tag": "ABX9TyNBoiqbEXR6p7w6IgUjeaU5",
      "include_colab_link": true
    },
    "kernelspec": {
      "display_name": "Python 3",
      "name": "python3"
    }
  },
  "cells": [
    {
      "cell_type": "markdown",
      "metadata": {
        "id": "view-in-github",
        "colab_type": "text"
      },
      "source": [
        "<a href=\"https://colab.research.google.com/github/pateljay7018/CE888-7-SP-D.S.-and-decision-making-/blob/main/Lab-3/bank_classification.ipynb\" target=\"_parent\"><img src=\"https://colab.research.google.com/assets/colab-badge.svg\" alt=\"Open In Colab\"/></a>"
      ]
    },
    {
      "cell_type": "code",
      "metadata": {
        "colab": {
          "base_uri": "https://localhost:8080/"
        },
        "id": "XjACZeMIj_wc",
        "outputId": "18d619e4-e8c9-4bd2-e2fb-6dd48c9ffe38"
      },
      "source": [
        "import numpy as np\r\n",
        "import pandas as pd\r\n",
        "import matplotlib as plt\r\n",
        "import seaborn as sns\r\n",
        "import sklearn\r\n",
        "\r\n",
        "from sklearn.model_selection import train_test_split\r\n",
        "from sklearn.dummy import DummyRegressor, DummyClassifier\r\n",
        "from sklearn.preprocessing import LabelEncoder\r\n",
        "from sklearn.ensemble import RandomForestClassifier\r\n",
        "from sklearn.model_selection import GridSearchCV, StratifiedKFold\r\n",
        "from sklearn.model_selection import cross_val_score, cross_val_predict\r\n",
        "from sklearn.metrics import f1_score\r\n",
        "\r\n",
        "df=pd.read_csv(\"https://raw.githubusercontent.com/pateljay7018/CE888-7-SP-D.S.-and-decision-making-/main/Lab-3/bank-additional-full.csv\", delimiter = \";\")\r\n",
        "# Uploaded the file to session storage. Not fetching using the http link.\r\n",
        "df.head()\r\n",
        "df.columns"
      ],
      "execution_count": null,
      "outputs": [
        {
          "output_type": "execute_result",
          "data": {
            "text/plain": [
              "Index(['age', 'job', 'marital', 'education', 'default', 'housing', 'loan',\n",
              "       'contact', 'month', 'day_of_week', 'duration', 'campaign', 'pdays',\n",
              "       'previous', 'poutcome', 'emp.var.rate', 'cons.price.idx',\n",
              "       'cons.conf.idx', 'euribor3m', 'nr.employed', 'y'],\n",
              "      dtype='object')"
            ]
          },
          "metadata": {
            "tags": []
          },
          "execution_count": 6
        }
      ]
    },
    {
      "cell_type": "code",
      "metadata": {
        "colab": {
          "base_uri": "https://localhost:8080/",
          "height": 215
        },
        "id": "SbK5wQ5tmF5d",
        "outputId": "dcba04f6-a594-4085-e062-7f97b8cde7c3"
      },
      "source": [
        "#Task 1 and 3 : Use LabelEncoder to convert the label into numbers. & Column \"duration\" must be deleted.\r\n",
        "feature = df.drop(['y','duration'], axis=1)\r\n",
        "for column in feature.columns:\r\n",
        "  if feature[column].dtypes == type(object):\r\n",
        "    le = LabelEncoder()\r\n",
        "    feature[column] = le.fit_transform(feature[column])\r\n",
        "feature.head()"
      ],
      "execution_count": null,
      "outputs": [
        {
          "output_type": "execute_result",
          "data": {
            "text/html": [
              "<div>\n",
              "<style scoped>\n",
              "    .dataframe tbody tr th:only-of-type {\n",
              "        vertical-align: middle;\n",
              "    }\n",
              "\n",
              "    .dataframe tbody tr th {\n",
              "        vertical-align: top;\n",
              "    }\n",
              "\n",
              "    .dataframe thead th {\n",
              "        text-align: right;\n",
              "    }\n",
              "</style>\n",
              "<table border=\"1\" class=\"dataframe\">\n",
              "  <thead>\n",
              "    <tr style=\"text-align: right;\">\n",
              "      <th></th>\n",
              "      <th>age</th>\n",
              "      <th>job</th>\n",
              "      <th>marital</th>\n",
              "      <th>education</th>\n",
              "      <th>default</th>\n",
              "      <th>housing</th>\n",
              "      <th>loan</th>\n",
              "      <th>contact</th>\n",
              "      <th>month</th>\n",
              "      <th>day_of_week</th>\n",
              "      <th>campaign</th>\n",
              "      <th>pdays</th>\n",
              "      <th>previous</th>\n",
              "      <th>poutcome</th>\n",
              "      <th>emp.var.rate</th>\n",
              "      <th>cons.price.idx</th>\n",
              "      <th>cons.conf.idx</th>\n",
              "      <th>euribor3m</th>\n",
              "      <th>nr.employed</th>\n",
              "    </tr>\n",
              "  </thead>\n",
              "  <tbody>\n",
              "    <tr>\n",
              "      <th>0</th>\n",
              "      <td>56</td>\n",
              "      <td>3</td>\n",
              "      <td>1</td>\n",
              "      <td>0</td>\n",
              "      <td>0</td>\n",
              "      <td>0</td>\n",
              "      <td>0</td>\n",
              "      <td>1</td>\n",
              "      <td>6</td>\n",
              "      <td>1</td>\n",
              "      <td>1</td>\n",
              "      <td>999</td>\n",
              "      <td>0</td>\n",
              "      <td>1</td>\n",
              "      <td>1.1</td>\n",
              "      <td>93.994</td>\n",
              "      <td>-36.4</td>\n",
              "      <td>4.857</td>\n",
              "      <td>5191.0</td>\n",
              "    </tr>\n",
              "    <tr>\n",
              "      <th>1</th>\n",
              "      <td>57</td>\n",
              "      <td>7</td>\n",
              "      <td>1</td>\n",
              "      <td>3</td>\n",
              "      <td>1</td>\n",
              "      <td>0</td>\n",
              "      <td>0</td>\n",
              "      <td>1</td>\n",
              "      <td>6</td>\n",
              "      <td>1</td>\n",
              "      <td>1</td>\n",
              "      <td>999</td>\n",
              "      <td>0</td>\n",
              "      <td>1</td>\n",
              "      <td>1.1</td>\n",
              "      <td>93.994</td>\n",
              "      <td>-36.4</td>\n",
              "      <td>4.857</td>\n",
              "      <td>5191.0</td>\n",
              "    </tr>\n",
              "    <tr>\n",
              "      <th>2</th>\n",
              "      <td>37</td>\n",
              "      <td>7</td>\n",
              "      <td>1</td>\n",
              "      <td>3</td>\n",
              "      <td>0</td>\n",
              "      <td>2</td>\n",
              "      <td>0</td>\n",
              "      <td>1</td>\n",
              "      <td>6</td>\n",
              "      <td>1</td>\n",
              "      <td>1</td>\n",
              "      <td>999</td>\n",
              "      <td>0</td>\n",
              "      <td>1</td>\n",
              "      <td>1.1</td>\n",
              "      <td>93.994</td>\n",
              "      <td>-36.4</td>\n",
              "      <td>4.857</td>\n",
              "      <td>5191.0</td>\n",
              "    </tr>\n",
              "    <tr>\n",
              "      <th>3</th>\n",
              "      <td>40</td>\n",
              "      <td>0</td>\n",
              "      <td>1</td>\n",
              "      <td>1</td>\n",
              "      <td>0</td>\n",
              "      <td>0</td>\n",
              "      <td>0</td>\n",
              "      <td>1</td>\n",
              "      <td>6</td>\n",
              "      <td>1</td>\n",
              "      <td>1</td>\n",
              "      <td>999</td>\n",
              "      <td>0</td>\n",
              "      <td>1</td>\n",
              "      <td>1.1</td>\n",
              "      <td>93.994</td>\n",
              "      <td>-36.4</td>\n",
              "      <td>4.857</td>\n",
              "      <td>5191.0</td>\n",
              "    </tr>\n",
              "    <tr>\n",
              "      <th>4</th>\n",
              "      <td>56</td>\n",
              "      <td>7</td>\n",
              "      <td>1</td>\n",
              "      <td>3</td>\n",
              "      <td>0</td>\n",
              "      <td>0</td>\n",
              "      <td>2</td>\n",
              "      <td>1</td>\n",
              "      <td>6</td>\n",
              "      <td>1</td>\n",
              "      <td>1</td>\n",
              "      <td>999</td>\n",
              "      <td>0</td>\n",
              "      <td>1</td>\n",
              "      <td>1.1</td>\n",
              "      <td>93.994</td>\n",
              "      <td>-36.4</td>\n",
              "      <td>4.857</td>\n",
              "      <td>5191.0</td>\n",
              "    </tr>\n",
              "  </tbody>\n",
              "</table>\n",
              "</div>"
            ],
            "text/plain": [
              "   age  job  marital  ...  cons.conf.idx  euribor3m  nr.employed\n",
              "0   56    3        1  ...          -36.4      4.857       5191.0\n",
              "1   57    7        1  ...          -36.4      4.857       5191.0\n",
              "2   37    7        1  ...          -36.4      4.857       5191.0\n",
              "3   40    0        1  ...          -36.4      4.857       5191.0\n",
              "4   56    7        1  ...          -36.4      4.857       5191.0\n",
              "\n",
              "[5 rows x 19 columns]"
            ]
          },
          "metadata": {
            "tags": []
          },
          "execution_count": 7
        }
      ]
    },
    {
      "cell_type": "code",
      "metadata": {
        "colab": {
          "base_uri": "https://localhost:8080/"
        },
        "id": "_j7TCnK-oC2u",
        "outputId": "445d2c88-9f49-4d46-b4c1-de482a5fd5dd"
      },
      "source": [
        "#Tasl 4 : Check if there are any missing values in the dataset. If there are, drop the rows. \r\n",
        "df.isnull().sum()"
      ],
      "execution_count": null,
      "outputs": [
        {
          "output_type": "execute_result",
          "data": {
            "text/plain": [
              "age               0\n",
              "job               0\n",
              "marital           0\n",
              "education         0\n",
              "default           0\n",
              "housing           0\n",
              "loan              0\n",
              "contact           0\n",
              "month             0\n",
              "day_of_week       0\n",
              "duration          0\n",
              "campaign          0\n",
              "pdays             0\n",
              "previous          0\n",
              "poutcome          0\n",
              "emp.var.rate      0\n",
              "cons.price.idx    0\n",
              "cons.conf.idx     0\n",
              "euribor3m         0\n",
              "nr.employed       0\n",
              "y                 0\n",
              "dtype: int64"
            ]
          },
          "metadata": {
            "tags": []
          },
          "execution_count": 8
        }
      ]
    },
    {
      "cell_type": "code",
      "metadata": {
        "colab": {
          "base_uri": "https://localhost:8080/",
          "height": 369
        },
        "id": "4ufRNDbroSt0",
        "outputId": "db87330c-cae3-456e-8fa0-7a44901c4fa8"
      },
      "source": [
        "# Task 5 : Plot histogram of the label and calculate the imbalance in the dataset.\r\n",
        "#Visualize propotion of label that are imbalance. \r\n",
        "sns_plot = sns.displot(x=df['y'], data=df, hue=\"y\")"
      ],
      "execution_count": null,
      "outputs": [
        {
          "output_type": "display_data",
          "data": {
            "image/png": "[encoded data removed]",
            "text/plain": [
              "<Figure size 413.25x360 with 1 Axes>"
            ]
          },
          "metadata": {
            "tags": []
          }
        }
      ]
    },
    {
      "cell_type": "code",
      "metadata": {
        "id": "8KL8PAzCrtlu"
      },
      "source": [
        "\r\n",
        "#Applied LabelEncoder to covert non-numeric data to numerical data\r\n",
        "df[['y']] = df[['y']].apply(LabelEncoder().fit_transform)\r\n",
        "label = df['y']"
      ],
      "execution_count": null,
      "outputs": []
    },
    {
      "cell_type": "markdown",
      "metadata": {
        "id": "awyecrcFrGPy"
      },
      "source": [
        " Model the data:"
      ]
    },
    {
      "cell_type": "code",
      "metadata": {
        "id": "bikhel3QrPJb"
      },
      "source": [
        "#Task 1 : Using the train_test_split function in scikit-learn, separate your dataset into a training and a test set, with a test size of 20% and random_state=50. Make sure the train/test split is stratified (and check that it is!). Stratified means that the percentages of classes in each fold remains constant.\r\n",
        "#divided dataset to 80 percent training and 20 percent  for test \r\n",
        "x_train,x_test,y_train,y_test = train_test_split(feature,label,\r\n",
        "                                                 test_size=0.2,\r\n",
        "                                                 random_state=50,\r\n",
        "                                                 stratify=label)"
      ],
      "execution_count": null,
      "outputs": []
    },
    {
      "cell_type": "code",
      "metadata": {
        "id": "I06gfr40r9UR"
      },
      "source": [
        "#Task 2 : Report the results of 10-fold stratified cross-validation on the training set using a random forest classifier with 100 trees and depth=3. Ensure you're using an appropriate metric (Use sorted(sklearn.metrics.SCORERS.keys()) to see what are the valid options).\r\n",
        "kf = StratifiedKFold(n_splits=10)"
      ],
      "execution_count": null,
      "outputs": []
    },
    {
      "cell_type": "code",
      "metadata": {
        "colab": {
          "base_uri": "https://localhost:8080/"
        },
        "id": "5pWTPOxur_yN",
        "outputId": "7e480164-5065-4ac3-d558-b6473c7bd673"
      },
      "source": [
        "\r\n",
        "for i in range(len(score)) :\r\n",
        "  print('Fold',i+1,' ', score[i])\r\n",
        "  \r\n",
        "print('Average', score.mean())"
      ],
      "execution_count": null,
      "outputs": [
        {
          "output_type": "stream",
          "text": [
            "Fold 1   0.25162689804772237\n",
            "Fold 2   0.30303030303030304\n",
            "Fold 3   0.23946784922394682\n",
            "Fold 4   0.2875816993464052\n",
            "Fold 5   0.24070021881838072\n",
            "Fold 6   0.29257641921397376\n",
            "Fold 7   0.3744855967078189\n",
            "Fold 8   0.2576419213973799\n",
            "Fold 9   0.27074235807860264\n",
            "Fold 10   0.2771855010660981\n",
            "Average 0.2795038764930632\n"
          ],
          "name": "stdout"
        }
      ]
    },
    {
      "cell_type": "code",
      "metadata": {
        "id": "yT0hB11Ur98E"
      },
      "source": [
        "\r\n",
        "#Create RandomForest model with 100 trees and depth = 3 and evaluate by use F1 score\r\n",
        "clf = RandomForestClassifier(n_estimators=100,max_depth=3)\r\n",
        "score = cross_val_score(clf,x_train,y_train, cv = kf, scoring='f1')"
      ],
      "execution_count": null,
      "outputs": []
    },
    {
      "cell_type": "code",
      "metadata": {
        "colab": {
          "base_uri": "https://localhost:8080/"
        },
        "id": "OFZknB0hsHhh",
        "outputId": "b4dd0b26-1ec7-4885-8206-5f94fc940f94"
      },
      "source": [
        "#Create RandomForest model with 150 trees and depth = 6 and evaluate by use F1 score\r\n",
        "clf2 = RandomForestClassifier(n_estimators=150,max_depth=6, random_state=60)\r\n",
        "score2 = cross_val_score(clf2,x_train,y_train, cv = kf, scoring='f1')\r\n",
        "print('Average', score2.mean())"
      ],
      "execution_count": null,
      "outputs": [
        {
          "output_type": "stream",
          "text": [
            "Average 0.3050884934171324\n"
          ],
          "name": "stdout"
        }
      ]
    },
    {
      "cell_type": "code",
      "metadata": {
        "colab": {
          "background_save": true
        },
        "id": "vJuWADdYsJr4",
        "outputId": "363f2e43-c667-4935-cf2e-138778279718"
      },
      "source": [
        "\r\n",
        "#Create RandomForest model with 1000 trees and depth = 8 and evaluate by use F1 score\r\n",
        "clf3 = RandomForestClassifier(n_estimators=1000,max_depth=8, random_state=60)\r\n",
        "clf3.fit(x_train,y_train)\r\n",
        "score3 = cross_val_score(clf3,x_train,y_train, cv = kf, scoring='f1')\r\n",
        "print('Average', score3.mean())"
      ],
      "execution_count": null,
      "outputs": [
        {
          "output_type": "stream",
          "text": [
            "Average 0.3305730580476827\n"
          ],
          "name": "stdout"
        }
      ]
    },
    {
      "cell_type": "code",
      "metadata": {
        "id": "svI_sbjisOdD",
        "colab": {
          "base_uri": "https://localhost:8080/"
        },
        "outputId": "17aa2166-884d-4d69-fa22-d92cd6c6112b"
      },
      "source": [
        "\r\n",
        "#Create RandomForest model with 750 trees and depth = 6 and evaluate by use F1 score\r\n",
        "clf4 = RandomForestClassifier(n_estimators=750,max_depth=6, random_state=60)\r\n",
        "clf4.fit(x_train,y_train)\r\n",
        "\r\n",
        "score4 = cross_val_score(clf4,x_train,y_train, cv = kf, scoring='f1')\r\n",
        "print('Average', score4.mean())"
      ],
      "execution_count": 41,
      "outputs": [
        {
          "output_type": "stream",
          "text": [
            "Average 0.2991679130485785\n"
          ],
          "name": "stdout"
        }
      ]
    },
    {
      "cell_type": "code",
      "metadata": {
        "colab": {
          "base_uri": "https://localhost:8080/"
        },
        "id": "X9MN5mOksDN9",
        "outputId": "eedc8427-49ef-4b80-b84e-8ad14b853623"
      },
      "source": [
        "#Task 3 : Compare the results of your classifier with that of a dummy classifier.\r\n",
        "dummy_clf = DummyClassifier(strategy='stratified')\r\n",
        "dummy_clf.fit(x_train, y_train)\r\n",
        "score_dummy = cross_val_score(dummy_clf,x_train,y_train, cv = kf, scoring='f1')\r\n",
        "print('Average', score_dummy.mean())"
      ],
      "execution_count": null,
      "outputs": [
        {
          "output_type": "stream",
          "text": [
            "Average 0.11557592590306076\n"
          ],
          "name": "stdout"
        }
      ]
    },
    {
      "cell_type": "code",
      "metadata": {
        "id": "DPymb0EnsWiP"
      },
      "source": [
        "param_grid = { \r\n",
        "    'n_estimators': [100, 500,1000],\r\n",
        "    'max_features': ['auto', 'sqrt', 'log2'],\r\n",
        "    'max_depth' : [3,6,9],\r\n",
        "    'criterion' :['gini', 'entropy']\r\n",
        "}"
      ],
      "execution_count": null,
      "outputs": []
    },
    {
      "cell_type": "code",
      "metadata": {
        "id": "u-rh6-6VsYTd"
      },
      "source": [
        "#Task 4: Use GridSearchCV to find a better set of parameters for your random forest.\r\n",
        "CV_clf = GridSearchCV(estimator=RandomForestClassifier(), param_grid=param_grid, cv= 10, scoring='f1')\r\n",
        "#Train with new parameter\r\n",
        "CV_clf.fit(x_train,y_train)\r\n",
        "CV_clf.best_params_"
      ],
      "execution_count": null,
      "outputs": []
    },
    {
      "cell_type": "code",
      "metadata": {
        "colab": {
          "base_uri": "https://localhost:8080/"
        },
        "id": "agBU69Pou9zB",
        "outputId": "bd24c219-aa9d-4008-a4cf-61ada4fe0e33"
      },
      "source": [
        "#Task 5:Print the cross-validation metric (whichever you previously chose) that you obtain for the random forest for the best parameters found with GridSearchCV\r\n",
        "features = ['age', 'job', 'marital', 'education', 'default', 'housing', 'loan',\r\n",
        "       'contact', 'month', 'day_of_week', 'campaign', 'pdays',\r\n",
        "       'previous', 'poutcome', 'emp.var.rate', 'cons.price.idx',\r\n",
        "       'cons.conf.idx', 'euribor3m', 'nr.employed']\r\n",
        "\r\n",
        "#Find the important of features\r\n",
        "importances = clf4.feature_importances_\r\n",
        "std = np.std([tree.feature_importances_ for tree in clf4.estimators_],\r\n",
        "             axis=0)\r\n",
        "indices = np.argsort(importances)[::-1]\r\n",
        "print(indices)\r\n",
        "\r\n",
        "# Print the feature ranking\r\n",
        "print(\"Feature ranking:\")\r\n",
        "\r\n",
        "for f in range(x_train.shape[1]):\r\n",
        "    print(\"%d. %s (%f)\" % (f + 1, features[indices[f]],  importances[indices[f]]))"
      ],
      "execution_count": 42,
      "outputs": [
        {
          "output_type": "stream",
          "text": [
            "[18 17 11 13 14 16 15  8  0 12  7  9 10  3  1  4  2  5  6]\n",
            "Feature ranking:\n",
            "1. nr.employed (0.241276)\n",
            "2. euribor3m (0.185985)\n",
            "3. pdays (0.127250)\n",
            "4. poutcome (0.103808)\n",
            "5. emp.var.rate (0.079133)\n",
            "6. cons.conf.idx (0.075059)\n",
            "7. cons.price.idx (0.055928)\n",
            "8. month (0.038261)\n",
            "9. age (0.023078)\n",
            "10. previous (0.016197)\n",
            "11. contact (0.014052)\n",
            "12. day_of_week (0.010818)\n",
            "13. campaign (0.006765)\n",
            "14. education (0.006672)\n",
            "15. job (0.005804)\n",
            "16. default (0.003454)\n",
            "17. marital (0.003086)\n",
            "18. housing (0.001789)\n",
            "19. loan (0.001587)\n"
          ],
          "name": "stdout"
        }
      ]
    },
    {
      "cell_type": "code",
      "metadata": {
        "id": "AUARr-wSsaJU"
      },
      "source": [
        "#task 6 : Report the generalisation error (still using the same metric) on your test set.\r\n",
        "#Predict test data set and evaluate with F1-score\r\n",
        "y_pred = clf3.predict(x_test)\r\n",
        "f1_score(y_test,y_pred)"
      ],
      "execution_count": null,
      "outputs": []
    }
  ]
}