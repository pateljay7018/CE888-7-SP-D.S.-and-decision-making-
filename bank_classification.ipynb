{
  "nbformat": 4,
  "nbformat_minor": 0,
  "metadata": {
    "colab": {
      "name": "Copy of bank_classification.ipynb",
      "provenance": [],
      "collapsed_sections": [],
      "include_colab_link": true
    },
    "kernelspec": {
      "name": "python3",
      "display_name": "Python 3"
    }
  },
  "cells": [
    {
      "cell_type": "markdown",
      "metadata": {
        "id": "view-in-github",
        "colab_type": "text"
      },
      "source": [
        "<a href=\"https://colab.research.google.com/github/pateljay7018/CE888-7-SP-D.S.-and-decision-making-/blob/main/bank_classification.ipynb\" target=\"_parent\"><img src=\"https://colab.research.google.com/assets/colab-badge.svg\" alt=\"Open In Colab\"/></a>"
      ]
    },
    {
      "cell_type": "code",
      "metadata": {
        "id": "AXyAs4MkoWXK"
      },
      "source": [
        "#Loading the Libraries\n",
        "%matplotlib inline\n",
        "import matplotlib\n",
        "import numpy as np\n",
        "import matplotlib.pyplot as plt\n",
        "import pandas as pd\n",
        "import seaborn as sns\n",
        "import itertools\n",
        "\n",
        "from sklearn.tree import DecisionTreeRegressor\n",
        "from sklearn.ensemble import RandomForestClassifier, ExtraTreesClassifier\n",
        "from sklearn.model_selection import cross_val_score,cross_val_predict\n",
        "from sklearn.metrics import mean_squared_error as mse\n",
        "from sklearn.metrics import mean_absolute_error as mae\n",
        "from sklearn.metrics import accuracy_score as acc\n",
        "from sklearn.metrics import make_scorer, confusion_matrix\n",
        "from sklearn.dummy import DummyRegressor, DummyClassifier\n",
        "from sklearn.preprocessing import LabelEncoder\n",
        "from sklearn.model_selection import GridSearchCV"
      ],
      "execution_count": null,
      "outputs": []
    },
    {
      "cell_type": "code",
      "metadata": {
        "colab": {
          "base_uri": "https://localhost:8080/",
          "height": 215
        },
        "id": "EAXZj-oGn6vu",
        "outputId": "47f086f6-e0d5-47c8-b3b8-42c063c1d828"
      },
      "source": [
        "# Load the data\n",
        "df = pd.read_csv('https://raw.githubusercontent.com/albanda/CE888/master/lab3/bank-additional-full.csv', delimiter=\";\")\n",
        "df.head()"
      ],
      "execution_count": null,
      "outputs": [
        {
          "output_type": "execute_result",
          "data": {
            "text/html": [
              "<div>\n",
              "<style scoped>\n",
              "    .dataframe tbody tr th:only-of-type {\n",
              "        vertical-align: middle;\n",
              "    }\n",
              "\n",
              "    .dataframe tbody tr th {\n",
              "        vertical-align: top;\n",
              "    }\n",
              "\n",
              "    .dataframe thead th {\n",
              "        text-align: right;\n",
              "    }\n",
              "</style>\n",
              "<table border=\"1\" class=\"dataframe\">\n",
              "  <thead>\n",
              "    <tr style=\"text-align: right;\">\n",
              "      <th></th>\n",
              "      <th>age</th>\n",
              "      <th>job</th>\n",
              "      <th>marital</th>\n",
              "      <th>education</th>\n",
              "      <th>default</th>\n",
              "      <th>housing</th>\n",
              "      <th>loan</th>\n",
              "      <th>contact</th>\n",
              "      <th>month</th>\n",
              "      <th>day_of_week</th>\n",
              "      <th>duration</th>\n",
              "      <th>campaign</th>\n",
              "      <th>pdays</th>\n",
              "      <th>previous</th>\n",
              "      <th>poutcome</th>\n",
              "      <th>emp.var.rate</th>\n",
              "      <th>cons.price.idx</th>\n",
              "      <th>cons.conf.idx</th>\n",
              "      <th>euribor3m</th>\n",
              "      <th>nr.employed</th>\n",
              "      <th>y</th>\n",
              "    </tr>\n",
              "  </thead>\n",
              "  <tbody>\n",
              "    <tr>\n",
              "      <th>0</th>\n",
              "      <td>56</td>\n",
              "      <td>housemaid</td>\n",
              "      <td>married</td>\n",
              "      <td>basic.4y</td>\n",
              "      <td>no</td>\n",
              "      <td>no</td>\n",
              "      <td>no</td>\n",
              "      <td>telephone</td>\n",
              "      <td>may</td>\n",
              "      <td>mon</td>\n",
              "      <td>261</td>\n",
              "      <td>1</td>\n",
              "      <td>999</td>\n",
              "      <td>0</td>\n",
              "      <td>nonexistent</td>\n",
              "      <td>1.1</td>\n",
              "      <td>93.994</td>\n",
              "      <td>-36.4</td>\n",
              "      <td>4.857</td>\n",
              "      <td>5191.0</td>\n",
              "      <td>no</td>\n",
              "    </tr>\n",
              "    <tr>\n",
              "      <th>1</th>\n",
              "      <td>57</td>\n",
              "      <td>services</td>\n",
              "      <td>married</td>\n",
              "      <td>high.school</td>\n",
              "      <td>unknown</td>\n",
              "      <td>no</td>\n",
              "      <td>no</td>\n",
              "      <td>telephone</td>\n",
              "      <td>may</td>\n",
              "      <td>mon</td>\n",
              "      <td>149</td>\n",
              "      <td>1</td>\n",
              "      <td>999</td>\n",
              "      <td>0</td>\n",
              "      <td>nonexistent</td>\n",
              "      <td>1.1</td>\n",
              "      <td>93.994</td>\n",
              "      <td>-36.4</td>\n",
              "      <td>4.857</td>\n",
              "      <td>5191.0</td>\n",
              "      <td>no</td>\n",
              "    </tr>\n",
              "    <tr>\n",
              "      <th>2</th>\n",
              "      <td>37</td>\n",
              "      <td>services</td>\n",
              "      <td>married</td>\n",
              "      <td>high.school</td>\n",
              "      <td>no</td>\n",
              "      <td>yes</td>\n",
              "      <td>no</td>\n",
              "      <td>telephone</td>\n",
              "      <td>may</td>\n",
              "      <td>mon</td>\n",
              "      <td>226</td>\n",
              "      <td>1</td>\n",
              "      <td>999</td>\n",
              "      <td>0</td>\n",
              "      <td>nonexistent</td>\n",
              "      <td>1.1</td>\n",
              "      <td>93.994</td>\n",
              "      <td>-36.4</td>\n",
              "      <td>4.857</td>\n",
              "      <td>5191.0</td>\n",
              "      <td>no</td>\n",
              "    </tr>\n",
              "    <tr>\n",
              "      <th>3</th>\n",
              "      <td>40</td>\n",
              "      <td>admin.</td>\n",
              "      <td>married</td>\n",
              "      <td>basic.6y</td>\n",
              "      <td>no</td>\n",
              "      <td>no</td>\n",
              "      <td>no</td>\n",
              "      <td>telephone</td>\n",
              "      <td>may</td>\n",
              "      <td>mon</td>\n",
              "      <td>151</td>\n",
              "      <td>1</td>\n",
              "      <td>999</td>\n",
              "      <td>0</td>\n",
              "      <td>nonexistent</td>\n",
              "      <td>1.1</td>\n",
              "      <td>93.994</td>\n",
              "      <td>-36.4</td>\n",
              "      <td>4.857</td>\n",
              "      <td>5191.0</td>\n",
              "      <td>no</td>\n",
              "    </tr>\n",
              "    <tr>\n",
              "      <th>4</th>\n",
              "      <td>56</td>\n",
              "      <td>services</td>\n",
              "      <td>married</td>\n",
              "      <td>high.school</td>\n",
              "      <td>no</td>\n",
              "      <td>no</td>\n",
              "      <td>yes</td>\n",
              "      <td>telephone</td>\n",
              "      <td>may</td>\n",
              "      <td>mon</td>\n",
              "      <td>307</td>\n",
              "      <td>1</td>\n",
              "      <td>999</td>\n",
              "      <td>0</td>\n",
              "      <td>nonexistent</td>\n",
              "      <td>1.1</td>\n",
              "      <td>93.994</td>\n",
              "      <td>-36.4</td>\n",
              "      <td>4.857</td>\n",
              "      <td>5191.0</td>\n",
              "      <td>no</td>\n",
              "    </tr>\n",
              "  </tbody>\n",
              "</table>\n",
              "</div>"
            ],
            "text/plain": [
              "   age        job  marital  ... euribor3m nr.employed   y\n",
              "0   56  housemaid  married  ...     4.857      5191.0  no\n",
              "1   57   services  married  ...     4.857      5191.0  no\n",
              "2   37   services  married  ...     4.857      5191.0  no\n",
              "3   40     admin.  married  ...     4.857      5191.0  no\n",
              "4   56   services  married  ...     4.857      5191.0  no\n",
              "\n",
              "[5 rows x 21 columns]"
            ]
          },
          "metadata": {
            "tags": []
          },
          "execution_count": 9
        }
      ]
    },
    {
      "cell_type": "code",
      "metadata": {
        "id": "Z0IwqjLKpy7D"
      },
      "source": [
        "# converting label into numbers\n",
        "df[[\"y\"]] = df[[\"y\"]].apply(LabelEncoder().fit_transform)"
      ],
      "execution_count": null,
      "outputs": []
    },
    {
      "cell_type": "code",
      "metadata": {
        "colab": {
          "base_uri": "https://localhost:8080/"
        },
        "id": "ypba5-8eyrzn",
        "outputId": "a540c110-6720-464a-82b4-6f77672a12cd"
      },
      "source": [
        "#Creating dummies to convert the categorical columns to numerical columns\n",
        "df_dummies = pd.get_dummies(df)\n",
        "print(df_dummies)"
      ],
      "execution_count": null,
      "outputs": [
        {
          "output_type": "stream",
          "text": [
            "       age  duration  ...  poutcome_nonexistent  poutcome_success\n",
            "0       56       261  ...                     1                 0\n",
            "1       57       149  ...                     1                 0\n",
            "2       37       226  ...                     1                 0\n",
            "3       40       151  ...                     1                 0\n",
            "4       56       307  ...                     1                 0\n",
            "...    ...       ...  ...                   ...               ...\n",
            "41183   73       334  ...                     1                 0\n",
            "41184   46       383  ...                     1                 0\n",
            "41185   56       189  ...                     1                 0\n",
            "41186   44       442  ...                     1                 0\n",
            "41187   74       239  ...                     0                 0\n",
            "\n",
            "[41188 rows x 64 columns]\n"
          ],
          "name": "stdout"
        }
      ]
    },
    {
      "cell_type": "code",
      "metadata": {
        "id": "1Zaj1v7B2KLG"
      },
      "source": [
        "#Dropping the duration column\n",
        "df_dummies.drop(['duration'],axis = 1, inplace = True)"
      ],
      "execution_count": null,
      "outputs": []
    },
    {
      "cell_type": "code",
      "metadata": {
        "colab": {
          "base_uri": "https://localhost:8080/"
        },
        "id": "dMV2g_WN0vLi",
        "outputId": "325127d2-63b3-41dc-b668-a5c8f66c02d4"
      },
      "source": [
        "print(df_dummies.columns)"
      ],
      "execution_count": null,
      "outputs": [
        {
          "output_type": "stream",
          "text": [
            "Index(['age', 'campaign', 'pdays', 'previous', 'emp.var.rate',\n",
            "       'cons.price.idx', 'cons.conf.idx', 'euribor3m', 'nr.employed', 'y',\n",
            "       'job_admin.', 'job_blue-collar', 'job_entrepreneur', 'job_housemaid',\n",
            "       'job_management', 'job_retired', 'job_self-employed', 'job_services',\n",
            "       'job_student', 'job_technician', 'job_unemployed', 'job_unknown',\n",
            "       'marital_divorced', 'marital_married', 'marital_single',\n",
            "       'marital_unknown', 'education_basic.4y', 'education_basic.6y',\n",
            "       'education_basic.9y', 'education_high.school', 'education_illiterate',\n",
            "       'education_professional.course', 'education_university.degree',\n",
            "       'education_unknown', 'default_no', 'default_unknown', 'default_yes',\n",
            "       'housing_no', 'housing_unknown', 'housing_yes', 'loan_no',\n",
            "       'loan_unknown', 'loan_yes', 'contact_cellular', 'contact_telephone',\n",
            "       'month_apr', 'month_aug', 'month_dec', 'month_jul', 'month_jun',\n",
            "       'month_mar', 'month_may', 'month_nov', 'month_oct', 'month_sep',\n",
            "       'day_of_week_fri', 'day_of_week_mon', 'day_of_week_thu',\n",
            "       'day_of_week_tue', 'day_of_week_wed', 'poutcome_failure',\n",
            "       'poutcome_nonexistent', 'poutcome_success'],\n",
            "      dtype='object')\n"
          ],
          "name": "stdout"
        }
      ]
    },
    {
      "cell_type": "code",
      "metadata": {
        "id": "aC_B2_w225dW",
        "colab": {
          "base_uri": "https://localhost:8080/"
        },
        "outputId": "5c62c4d5-dba7-470f-91da-1642f6332a83"
      },
      "source": [
        "#Checking for missing values\n",
        "df_dummies.isnull().sum()   \n",
        "#Since there are no missing values no rows are dropped"
      ],
      "execution_count": null,
      "outputs": [
        {
          "output_type": "execute_result",
          "data": {
            "text/plain": [
              "age                     0\n",
              "campaign                0\n",
              "pdays                   0\n",
              "previous                0\n",
              "emp.var.rate            0\n",
              "                       ..\n",
              "day_of_week_tue         0\n",
              "day_of_week_wed         0\n",
              "poutcome_failure        0\n",
              "poutcome_nonexistent    0\n",
              "poutcome_success        0\n",
              "Length: 63, dtype: int64"
            ]
          },
          "metadata": {
            "tags": []
          },
          "execution_count": 14
        }
      ]
    },
    {
      "cell_type": "code",
      "metadata": {
        "colab": {
          "base_uri": "https://localhost:8080/",
          "height": 279
        },
        "id": "_ZobQmAhBMtC",
        "outputId": "0080f501-6ae7-455c-e77e-a1201c47dec0"
      },
      "source": [
        "#Histogram plot of the label\n",
        "sns_plot = sns.histplot(df_dummies['y'])"
      ],
      "execution_count": null,
      "outputs": [
        {
          "output_type": "display_data",
          "data": {
            "image/png": "[encoded data removed]",
            "text/plain": [
              "<Figure size 432x288 with 1 Axes>"
            ]
          },
          "metadata": {
            "tags": [],
            "needs_background": "light"
          }
        }
      ]
    },
    {
      "cell_type": "code",
      "metadata": {
        "colab": {
          "base_uri": "https://localhost:8080/"
        },
        "id": "pNwi2ZziD4_P",
        "outputId": "348d867f-8da1-41e2-c6dc-95e252cb82b7"
      },
      "source": [
        "#Calculating the imbalance in the dataset\n",
        "values=df_dummies['y'].value_counts()\n",
        "values"
      ],
      "execution_count": null,
      "outputs": [
        {
          "output_type": "execute_result",
          "data": {
            "text/plain": [
              "0    36548\n",
              "1     4640\n",
              "Name: y, dtype: int64"
            ]
          },
          "metadata": {
            "tags": []
          },
          "execution_count": 56
        }
      ]
    },
    {
      "cell_type": "code",
      "metadata": {
        "colab": {
          "base_uri": "https://localhost:8080/"
        },
        "id": "To4afWxZEPTe",
        "outputId": "1e761f0f-c6a4-425f-92d4-9a8f19d3e30b"
      },
      "source": [
        "values[0]"
      ],
      "execution_count": null,
      "outputs": [
        {
          "output_type": "execute_result",
          "data": {
            "text/plain": [
              "36548"
            ]
          },
          "metadata": {
            "tags": []
          },
          "execution_count": 17
        }
      ]
    },
    {
      "cell_type": "code",
      "metadata": {
        "colab": {
          "base_uri": "https://localhost:8080/"
        },
        "id": "xg8M04zrESm2",
        "outputId": "6fdb2a1f-4dec-4099-dd00-7b34f52634d9"
      },
      "source": [
        "values[1]"
      ],
      "execution_count": null,
      "outputs": [
        {
          "output_type": "execute_result",
          "data": {
            "text/plain": [
              "4640"
            ]
          },
          "metadata": {
            "tags": []
          },
          "execution_count": 18
        }
      ]
    },
    {
      "cell_type": "code",
      "metadata": {
        "colab": {
          "base_uri": "https://localhost:8080/"
        },
        "id": "uVpxFdz6D66q",
        "outputId": "226acf56-3e2e-4351-f5fe-87166a459541"
      },
      "source": [
        "Imbalance=(values[1]/values[0])\n",
        "Imbalance"
      ],
      "execution_count": null,
      "outputs": [
        {
          "output_type": "execute_result",
          "data": {
            "text/plain": [
              "0.126956331399803"
            ]
          },
          "metadata": {
            "tags": []
          },
          "execution_count": 19
        }
      ]
    },
    {
      "cell_type": "code",
      "metadata": {
        "colab": {
          "base_uri": "https://localhost:8080/"
        },
        "id": "C2SpgnvYENoI",
        "outputId": "394c9f33-20e0-4781-906f-3347fe5e4ca2"
      },
      "source": [
        "Imbalance_1=(values[1]/values)\n",
        "Imbalance_1"
      ],
      "execution_count": null,
      "outputs": [
        {
          "output_type": "execute_result",
          "data": {
            "text/plain": [
              "0    0.126956\n",
              "1    1.000000\n",
              "Name: y, dtype: float64"
            ]
          },
          "metadata": {
            "tags": []
          },
          "execution_count": 20
        }
      ]
    },
    {
      "cell_type": "code",
      "metadata": {
        "id": "4zrV0eUKEWCc"
      },
      "source": [
        "#split dataset in features and target variable\n",
        "X = df_dummies.drop('y',axis=1) # Features\n",
        "y = df_dummies.y # Target variable"
      ],
      "execution_count": null,
      "outputs": []
    },
    {
      "cell_type": "code",
      "metadata": {
        "id": "4pHLgPEEE1Kc"
      },
      "source": [
        "#Spliting the data into test and train set\n",
        "from sklearn.model_selection import train_test_split\n",
        "X_train, X_test, y_train, y_test = train_test_split(X, y,stratify=y,test_size=0.20,random_state=50)"
      ],
      "execution_count": null,
      "outputs": []
    },
    {
      "cell_type": "code",
      "metadata": {
        "colab": {
          "base_uri": "https://localhost:8080/"
        },
        "id": "uYeEeQV3E7e4",
        "outputId": "b699340d-7fac-4dc2-acbf-20830eef32b3"
      },
      "source": [
        "from sklearn.metrics import f1_score\n",
        "# Fitting Random Forest Classifier to the dataset \n",
        "#Create a Random Forest Classifier\n",
        "RF_Classifier = RandomForestClassifier(n_estimators=100,max_depth=3)\n",
        "\n",
        "#Train the model using the training sets\n",
        "RF_Classifier.fit(X_train, y_train)\n",
        "\n",
        "#Predict the response for test dataset\n",
        "y_pred = RF_Classifier.predict(X_test)\n",
        "\n",
        "print(\"F1 score:\", f1_score(y_test, y_pred))"
      ],
      "execution_count": null,
      "outputs": [
        {
          "output_type": "stream",
          "text": [
            "F1 score: 0.2824956672443674\n"
          ],
          "name": "stdout"
        }
      ]
    },
    {
      "cell_type": "code",
      "metadata": {
        "colab": {
          "base_uri": "https://localhost:8080/"
        },
        "id": "a5HcJJOtE_AS",
        "outputId": "9d6d0e34-d767-4dbe-ab96-91acee4725ac"
      },
      "source": [
        "import sklearn\n",
        "sorted(sklearn.metrics.SCORERS.keys())"
      ],
      "execution_count": null,
      "outputs": [
        {
          "output_type": "execute_result",
          "data": {
            "text/plain": [
              "['accuracy',\n",
              " 'adjusted_mutual_info_score',\n",
              " 'adjusted_rand_score',\n",
              " 'average_precision',\n",
              " 'balanced_accuracy',\n",
              " 'completeness_score',\n",
              " 'explained_variance',\n",
              " 'f1',\n",
              " 'f1_macro',\n",
              " 'f1_micro',\n",
              " 'f1_samples',\n",
              " 'f1_weighted',\n",
              " 'fowlkes_mallows_score',\n",
              " 'homogeneity_score',\n",
              " 'jaccard',\n",
              " 'jaccard_macro',\n",
              " 'jaccard_micro',\n",
              " 'jaccard_samples',\n",
              " 'jaccard_weighted',\n",
              " 'max_error',\n",
              " 'mutual_info_score',\n",
              " 'neg_brier_score',\n",
              " 'neg_log_loss',\n",
              " 'neg_mean_absolute_error',\n",
              " 'neg_mean_gamma_deviance',\n",
              " 'neg_mean_poisson_deviance',\n",
              " 'neg_mean_squared_error',\n",
              " 'neg_mean_squared_log_error',\n",
              " 'neg_median_absolute_error',\n",
              " 'neg_root_mean_squared_error',\n",
              " 'normalized_mutual_info_score',\n",
              " 'precision',\n",
              " 'precision_macro',\n",
              " 'precision_micro',\n",
              " 'precision_samples',\n",
              " 'precision_weighted',\n",
              " 'r2',\n",
              " 'recall',\n",
              " 'recall_macro',\n",
              " 'recall_micro',\n",
              " 'recall_samples',\n",
              " 'recall_weighted',\n",
              " 'roc_auc',\n",
              " 'roc_auc_ovo',\n",
              " 'roc_auc_ovo_weighted',\n",
              " 'roc_auc_ovr',\n",
              " 'roc_auc_ovr_weighted',\n",
              " 'v_measure_score']"
            ]
          },
          "metadata": {
            "tags": []
          },
          "execution_count": 24
        }
      ]
    },
    {
      "cell_type": "code",
      "metadata": {
        "colab": {
          "base_uri": "https://localhost:8080/"
        },
        "id": "a4qTaDLyFC6s",
        "outputId": "23e48b9a-adad-495c-9e51-1628f731ad53"
      },
      "source": [
        "from sklearn.metrics import f1_score\n",
        "#Checking the cross validation scores and prediction\n",
        "score=cross_val_score(RF_Classifier, X_train, y_train, cv=10,)\n",
        "print('cross_val_score=',score)\n",
        "predictions = cross_val_predict(RF_Classifier, X_train, y_train, cv=10)\n",
        "f1_score_clf = f1_score(y_train,predictions)\n",
        "print('Cross-Predicted f1_score:', f1_score_clf)"
      ],
      "execution_count": null,
      "outputs": [
        {
          "output_type": "stream",
          "text": [
            "cross_val_score= [0.89408194 0.90045524 0.89499241 0.89954476 0.89438543 0.90197269\n",
            " 0.90682853 0.89772382 0.89468892 0.89590288]\n",
            "Cross-Predicted f1_score: 0.24097472924187727\n"
          ],
          "name": "stdout"
        }
      ]
    },
    {
      "cell_type": "code",
      "metadata": {
        "colab": {
          "base_uri": "https://localhost:8080/"
        },
        "id": "EeEqVh5VFH9v",
        "outputId": "cb62a3e1-7121-4cbd-b691-58a376e294c0"
      },
      "source": [
        "#Checking the cross validation average scores\n",
        "score=cross_val_score(RF_Classifier, X_train, y_train, cv=10,scoring=\"f1\")\n",
        "print('cross_val_mean:', score.mean())"
      ],
      "execution_count": null,
      "outputs": [
        {
          "output_type": "stream",
          "text": [
            "cross_val_mean: 0.24868620182402212\n"
          ],
          "name": "stdout"
        }
      ]
    },
    {
      "cell_type": "code",
      "metadata": {
        "colab": {
          "base_uri": "https://localhost:8080/"
        },
        "id": "c8Mtlpq8FPXu",
        "outputId": "289088a5-88f3-48b0-fe87-bb25df064ffc"
      },
      "source": [
        "dummy_clf = DummyClassifier(strategy='stratified')\n",
        "dummy_clf.fit(X_train, y_train)\n",
        "print(\"Dummy f1_score: \" , f1_score(y_test, dummy_clf.predict(X_test)))"
      ],
      "execution_count": null,
      "outputs": [
        {
          "output_type": "stream",
          "text": [
            "Dummy f1_score:  0.10242290748898679\n"
          ],
          "name": "stdout"
        }
      ]
    },
    {
      "cell_type": "code",
      "metadata": {
        "colab": {
          "base_uri": "https://localhost:8080/"
        },
        "id": "b095OmPHFS3_",
        "outputId": "511986cc-921f-4d80-c182-62425e0b764a"
      },
      "source": [
        "#Using the Grid search CV we can tune the hyperparameters\n",
        "# defining parameter range \n",
        "param_grid = { \n",
        "    'n_estimators': [100,200,500], \n",
        "    'max_features': ['auto'],\n",
        "    'max_depth' : [5,10,15,20,25,30],\n",
        "    'criterion' :['gini', 'entropy']\n",
        "}\n",
        "grid_search = GridSearchCV(estimator=RF_Classifier, param_grid=param_grid, cv= 5)\n",
        "# fitting the model for grid search \n",
        "grid_search.fit(X_train, y_train)"
      ],
      "execution_count": null,
      "outputs": [
        {
          "output_type": "execute_result",
          "data": {
            "text/plain": [
              "GridSearchCV(cv=5, error_score=nan,\n",
              "             estimator=RandomForestClassifier(bootstrap=True, ccp_alpha=0.0,\n",
              "                                              class_weight=None,\n",
              "                                              criterion='gini', max_depth=3,\n",
              "                                              max_features='auto',\n",
              "                                              max_leaf_nodes=None,\n",
              "                                              max_samples=None,\n",
              "                                              min_impurity_decrease=0.0,\n",
              "                                              min_impurity_split=None,\n",
              "                                              min_samples_leaf=1,\n",
              "                                              min_samples_split=2,\n",
              "                                              min_weight_fraction_leaf=0.0,\n",
              "                                              n_estimators=100, n_jobs=None,\n",
              "                                              oob_score=False,\n",
              "                                              random_state=None, verbose=0,\n",
              "                                              warm_start=False),\n",
              "             iid='deprecated', n_jobs=None,\n",
              "             param_grid={'criterion': ['gini', 'entropy'],\n",
              "                         'max_depth': [5, 10, 15, 20, 25, 30],\n",
              "                         'max_features': ['auto'],\n",
              "                         'n_estimators': [100, 200, 500]},\n",
              "             pre_dispatch='2*n_jobs', refit=True, return_train_score=False,\n",
              "             scoring=None, verbose=0)"
            ]
          },
          "metadata": {
            "tags": []
          },
          "execution_count": 28
        }
      ]
    },
    {
      "cell_type": "code",
      "metadata": {
        "colab": {
          "base_uri": "https://localhost:8080/"
        },
        "id": "wHh1ayfchzTG",
        "outputId": "a01b77ed-0e8d-4263-d615-d72b66b4bf06"
      },
      "source": [
        "# print best parameter after tuning \n",
        "print(grid_search.best_params_)"
      ],
      "execution_count": null,
      "outputs": [
        {
          "output_type": "stream",
          "text": [
            "{'criterion': 'entropy', 'max_depth': 10, 'max_features': 'auto', 'n_estimators': 500}\n"
          ],
          "name": "stdout"
        }
      ]
    },
    {
      "cell_type": "code",
      "metadata": {
        "colab": {
          "base_uri": "https://localhost:8080/"
        },
        "id": "Mzlf2NYYFgEp",
        "outputId": "62512468-3426-4508-9a1b-51911f944f34"
      },
      "source": [
        "# Fitting Random Forest Classifier to the dataset after hyperparameter tuning\n",
        "#Create a Random Forest Classifier\n",
        "RF_Classifier = RandomForestClassifier(n_estimators=200,max_depth=10,max_features='auto',criterion='entropy')\n",
        "\n",
        "#Train the model using the training sets\n",
        "RF_Classifier.fit(X_train, y_train)\n",
        "\n",
        "#Predict the response for test dataset\n",
        "y_pred = RF_Classifier.predict(X_test)\n",
        "\n",
        "print(\"F1 score:\", f1_score(y_test, y_pred,average='weighted'))"
      ],
      "execution_count": null,
      "outputs": [
        {
          "output_type": "stream",
          "text": [
            "F1 score: 0.8795528622919715\n"
          ],
          "name": "stdout"
        }
      ]
    },
    {
      "cell_type": "code",
      "metadata": {
        "colab": {
          "base_uri": "https://localhost:8080/"
        },
        "id": "hK1EeBokFjjl",
        "outputId": "a92aa4d3-d57a-4c5d-81ff-65b97aaa8537"
      },
      "source": [
        "from sklearn.metrics import f1_score\n",
        "#Checking the cross validation scores and prediction\n",
        "score=cross_val_score(RF_Classifier, X_train, y_train, cv=10,)\n",
        "print('cross_val_score=',score)\n",
        "predictions = cross_val_predict(RF_Classifier, X_train, y_train, cv=10)\n",
        "f1_score_clf = f1_score(y_train,predictions,average='weighted')\n",
        "print('Cross-Predicted f1_score:', f1_score_clf)"
      ],
      "execution_count": null,
      "outputs": [
        {
          "output_type": "stream",
          "text": [
            "cross_val_score= [0.89924127 0.90409712 0.89650986 0.90045524 0.89317147 0.90379363\n",
            " 0.91138088 0.89772382 0.90227618 0.89802731]\n",
            "Cross-Predicted f1_score: 0.8767203095966415\n"
          ],
          "name": "stdout"
        }
      ]
    },
    {
      "cell_type": "code",
      "metadata": {
        "colab": {
          "base_uri": "https://localhost:8080/"
        },
        "id": "NwvbiMHOFnCF",
        "outputId": "8fbb886b-542b-4fec-a3f8-5f11a4bba34a"
      },
      "source": [
        "#Checking the cross validation average scores\n",
        "score=cross_val_score(RF_Classifier, X_train, y_train, cv=10,scoring=\"f1\")\n",
        "print('cross_val_mean:', score.mean())"
      ],
      "execution_count": null,
      "outputs": [
        {
          "output_type": "stream",
          "text": [
            "cross_val_mean: 0.3310651232174934\n"
          ],
          "name": "stdout"
        }
      ]
    },
    {
      "cell_type": "code",
      "metadata": {
        "id": "JiCznQwnFqR2"
      },
      "source": [
        "#Assigning the column names to features\n",
        "features=['age', 'campaign', 'pdays', 'previous', 'emp.var.rate',\n",
        "       'cons.price.idx', 'cons.conf.idx', 'euribor3m', 'nr.employed', 'y',\n",
        "       'job_admin.', 'job_blue-collar', 'job_entrepreneur', 'job_housemaid',\n",
        "       'job_management', 'job_retired', 'job_self-employed', 'job_services',\n",
        "       'job_student', 'job_technician', 'job_unemployed', 'job_unknown',\n",
        "       'marital_divorced', 'marital_married', 'marital_single',\n",
        "       'marital_unknown', 'education_basic.4y', 'education_basic.6y',\n",
        "       'education_basic.9y', 'education_high.school', 'education_illiterate',\n",
        "       'education_professional.course', 'education_university.degree',\n",
        "       'education_unknown', 'default_no', 'default_unknown', 'default_yes',\n",
        "       'housing_no', 'housing_unknown', 'housing_yes', 'loan_no',\n",
        "       'loan_unknown', 'loan_yes', 'contact_cellular', 'contact_telephone',\n",
        "       'month_apr', 'month_aug', 'month_dec', 'month_jul', 'month_jun',\n",
        "       'month_mar', 'month_may', 'month_nov', 'month_oct', 'month_sep',\n",
        "       'day_of_week_fri', 'day_of_week_mon', 'day_of_week_thu',\n",
        "       'day_of_week_tue', 'day_of_week_wed', 'poutcome_failure',\n",
        "       'poutcome_nonexistent', 'poutcome_success']"
      ],
      "execution_count": null,
      "outputs": []
    },
    {
      "cell_type": "code",
      "metadata": {
        "colab": {
          "base_uri": "https://localhost:8080/",
          "height": 1000
        },
        "id": "Zw5do7UBFuUN",
        "outputId": "995aff33-82cd-4973-d984-775f43b58a2d"
      },
      "source": [
        "#Feature importance\n",
        "importances = RF_Classifier.feature_importances_\n",
        "std = np.std([tree.feature_importances_ for tree in RF_Classifier.estimators_],\n",
        "             axis=0)\n",
        "indices = np.argsort(importances)[::-1]\n",
        "print(indices)\n",
        "\n",
        "# Print the feature ranking\n",
        "print(\"Feature ranking:\")\n",
        "\n",
        "for f in range(X.shape[1]):\n",
        "    print(\"%d. %s (%f)\" % (f + 1, features[indices[f]],  importances[indices[f]]))\n",
        "\n",
        "# Plot the feature importances of the forest\n",
        "fig = plt.figure()\n",
        "plt.title(\"Feature importances\")\n",
        "plt.bar(range(X.shape[1]), importances[indices],\n",
        "       color=\"r\", yerr=std[indices], align=\"center\")\n",
        "plt.xticks(range(X.shape[1]), np.array(features)[indices])\n",
        "plt.xlim([-1, X.shape[1]])\n",
        "plt.ylim([0, None])\n",
        "\n",
        "fig.set_size_inches(15, 8)\n",
        "\n",
        "# plt.savefig(\"importances.pdf\", bbox_inches='tight')"
      ],
      "execution_count": null,
      "outputs": [
        {
          "output_type": "stream",
          "text": [
            "[ 7  8  4  6 61  2  5  0  3 42  1 60 50 59 43 52 49 44 34 33 55 10 54 31\n",
            " 56 22 38 36 23 48 57 28 14 58  9 39 27 17 41 30 18 25 45 21 53 16 32 13\n",
            " 15 51 26 12 47 19 40 11 37 20 46 24 29 35]\n",
            "Feature ranking:\n",
            "1. euribor3m (0.159030)\n",
            "2. nr.employed (0.148182)\n",
            "3. emp.var.rate (0.095701)\n",
            "4. cons.conf.idx (0.062211)\n",
            "5. poutcome_nonexistent (0.059262)\n",
            "6. pdays (0.059076)\n",
            "7. cons.price.idx (0.056137)\n",
            "8. age (0.039543)\n",
            "9. previous (0.025181)\n",
            "10. loan_yes (0.020049)\n",
            "11. campaign (0.019188)\n",
            "12. poutcome_failure (0.017248)\n",
            "13. month_mar (0.016614)\n",
            "14. day_of_week_wed (0.015045)\n",
            "15. contact_cellular (0.012982)\n",
            "16. month_nov (0.012211)\n",
            "17. month_jun (0.011174)\n",
            "18. contact_telephone (0.008635)\n",
            "19. default_no (0.008136)\n",
            "20. education_unknown (0.007984)\n",
            "21. day_of_week_fri (0.007554)\n",
            "22. job_admin. (0.006285)\n",
            "23. month_sep (0.005899)\n",
            "24. education_professional.course (0.005759)\n",
            "25. day_of_week_mon (0.005164)\n",
            "26. marital_divorced (0.005033)\n",
            "27. housing_unknown (0.004901)\n",
            "28. default_yes (0.004872)\n",
            "29. marital_married (0.004809)\n",
            "30. month_jul (0.004752)\n",
            "31. day_of_week_thu (0.004696)\n",
            "32. education_basic.9y (0.004520)\n",
            "33. job_management (0.004449)\n",
            "34. day_of_week_tue (0.004391)\n",
            "35. y (0.004335)\n",
            "36. housing_yes (0.004315)\n",
            "37. education_basic.6y (0.004042)\n",
            "38. job_services (0.004003)\n",
            "39. loan_unknown (0.003852)\n",
            "40. education_illiterate (0.003680)\n",
            "41. job_student (0.003637)\n",
            "42. marital_unknown (0.003434)\n",
            "43. month_apr (0.003241)\n",
            "44. job_unknown (0.003219)\n",
            "45. month_oct (0.003084)\n",
            "46. job_self-employed (0.003054)\n",
            "47. education_university.degree (0.003003)\n",
            "48. job_housemaid (0.002960)\n",
            "49. job_retired (0.002574)\n",
            "50. month_may (0.002557)\n",
            "51. education_basic.4y (0.002253)\n",
            "52. job_entrepreneur (0.002246)\n",
            "53. month_dec (0.002205)\n",
            "54. job_technician (0.002145)\n",
            "55. loan_no (0.002082)\n",
            "56. job_blue-collar (0.001908)\n",
            "57. housing_no (0.001883)\n",
            "58. job_unemployed (0.001604)\n",
            "59. month_aug (0.001073)\n",
            "60. marital_single (0.000729)\n",
            "61. education_high.school (0.000208)\n",
            "62. default_unknown (0.000000)\n"
          ],
          "name": "stdout"
        },
        {
          "output_type": "display_data",
          "data": {
            "image/png": "[encoded data removed]",
            "text/plain": [
              "<Figure size 1080x576 with 1 Axes>"
            ]
          },
          "metadata": {
            "tags": [],
            "needs_background": "light"
          }
        }
      ]
    },
    {
      "cell_type": "markdown",
      "metadata": {
        "id": "LEWyBW5QZPV4"
      },
      "source": [
        "# For Moodle Quiz"
      ]
    },
    {
      "cell_type": "code",
      "metadata": {
        "colab": {
          "base_uri": "https://localhost:8080/"
        },
        "id": "7kpfHBQvZYzu",
        "outputId": "75275c1e-d70d-4a41-963b-ce258c1bf4cc"
      },
      "source": [
        "#For n_estimators=100,max_depth=6 #6\n",
        "from sklearn.metrics import f1_score\n",
        "# Fitting Random Forest Classifier to the dataset \n",
        "#Create a Random Forest Classifier\n",
        "RF_Classifier = RandomForestClassifier(n_estimators=300,max_depth=6)\n",
        "\n",
        "#Train the model using the training sets\n",
        "RF_Classifier.fit(X_train, y_train)\n",
        "\n",
        "#Predict the response for test dataset\n",
        "y_pred = RF_Classifier.predict(X_test)\n",
        "\n",
        "print(\"F1 score:\", f1_score(y_test, y_pred))"
      ],
      "execution_count": null,
      "outputs": [
        {
          "output_type": "stream",
          "text": [
            "F1 score: 0.30756302521008405\n"
          ],
          "name": "stdout"
        }
      ]
    },
    {
      "cell_type": "code",
      "metadata": {
        "colab": {
          "base_uri": "https://localhost:8080/"
        },
        "id": "6k9QaHrKZdBF",
        "outputId": "e44559bf-6d5e-4978-de3e-d4e1752d7d53"
      },
      "source": [
        "from sklearn.metrics import f1_score #6\n",
        "#Checking the cross validation scores and prediction\n",
        "score=cross_val_score(RF_Classifier, X_train, y_train, cv=10,)\n",
        "print('cross_val_score=',score)\n",
        "predictions = cross_val_predict(RF_Classifier, X_train, y_train, cv=10)\n",
        "f1_score_clf = f1_score(y_train,predictions)\n",
        "print('Cross-Predicted f1_score:', f1_score_clf)"
      ],
      "execution_count": null,
      "outputs": [
        {
          "output_type": "stream",
          "text": [
            "cross_val_score= [0.89559939 0.90197269 0.89438543 0.90045524 0.89438543 0.90379363\n",
            " 0.91047041 0.89681335 0.89893778 0.89772382]\n",
            "Cross-Predicted f1_score: 0.2844175491679274\n"
          ],
          "name": "stdout"
        }
      ]
    },
    {
      "cell_type": "code",
      "metadata": {
        "colab": {
          "base_uri": "https://localhost:8080/"
        },
        "id": "pFNqlW4KZfeU",
        "outputId": "c7788d10-0237-4643-807b-819bee727c8b"
      },
      "source": [
        "#Checking the cross validation average scores #6 output\n",
        "score=cross_val_score(RF_Classifier, X_train, y_train, cv=10,scoring=\"f1\")\n",
        "print('cross_val_mean:', score.mean())"
      ],
      "execution_count": null,
      "outputs": [
        {
          "output_type": "stream",
          "text": [
            "cross_val_mean: 0.2829430194469866\n"
          ],
          "name": "stdout"
        }
      ]
    },
    {
      "cell_type": "code",
      "metadata": {
        "colab": {
          "base_uri": "https://localhost:8080/"
        },
        "id": "xIrqp_GCZh-W",
        "outputId": "49b8ce5a-41a0-46cd-d017-c24884277a3d"
      },
      "source": [
        "#For n_estimators=200,max_depth=8\n",
        "from sklearn.metrics import f1_score\n",
        "# Fitting Random Forest Classifier to the dataset \n",
        "#Create a Random Forest Classifier\n",
        "RF_Classifier = RandomForestClassifier(n_estimators=200,max_depth=8)\n",
        "\n",
        "#Train the model using the training sets\n",
        "RF_Classifier.fit(X_train, y_train)\n",
        "\n",
        "#Predict the response for test dataset\n",
        "y_pred = RF_Classifier.predict(X_test)\n",
        "\n",
        "print(\"F1 score:\", f1_score(y_test, y_pred))"
      ],
      "execution_count": null,
      "outputs": [
        {
          "output_type": "stream",
          "text": [
            "F1 score: 0.329795918367347\n"
          ],
          "name": "stdout"
        }
      ]
    },
    {
      "cell_type": "code",
      "metadata": {
        "colab": {
          "base_uri": "https://localhost:8080/"
        },
        "id": "RAn5iB7DZlEP",
        "outputId": "fe827625-ca53-4d14-8b62-3d8f020a73e2"
      },
      "source": [
        "from sklearn.metrics import f1_score\n",
        "#Checking the cross validation scores and prediction\n",
        "score=cross_val_score(RF_Classifier, X_train, y_train, cv=10,)\n",
        "print('cross_val_score=',score)\n",
        "predictions = cross_val_predict(RF_Classifier, X_train, y_train, cv=10)\n",
        "f1_score_clf = f1_score(y_train,predictions)\n",
        "print('Cross-Predicted f1_score:', f1_score_clf)"
      ],
      "execution_count": null,
      "outputs": [
        {
          "output_type": "stream",
          "text": [
            "cross_val_score= [0.89802731 0.90288316 0.89620637 0.89984825 0.89347496 0.90409712\n",
            " 0.91138088 0.89711684 0.89984825 0.89742033]\n",
            "Cross-Predicted f1_score: 0.3014799154334038\n"
          ],
          "name": "stdout"
        }
      ]
    },
    {
      "cell_type": "code",
      "metadata": {
        "colab": {
          "base_uri": "https://localhost:8080/"
        },
        "id": "pozhgdixZpT_",
        "outputId": "f4614f38-fdaf-4c55-8246-7bcdc89d29ad"
      },
      "source": [
        "#Checking the cross validation average scores\n",
        "score=cross_val_score(RF_Classifier, X_train, y_train, cv=10,scoring=\"f1\")\n",
        "print('cross_val_mean:', score.mean())"
      ],
      "execution_count": null,
      "outputs": [
        {
          "output_type": "stream",
          "text": [
            "cross_val_mean: 0.30362820023792775\n"
          ],
          "name": "stdout"
        }
      ]
    },
    {
      "cell_type": "code",
      "metadata": {
        "id": "GVsOKUiuXCtF",
        "colab": {
          "base_uri": "https://localhost:8080/"
        },
        "outputId": "193a87dd-c886-4f18-d602-c076033eb245"
      },
      "source": [
        "#For n_estimators=400,max_depth=6,random_state=60 generalisation error\n",
        "from sklearn.metrics import f1_score\n",
        "# Fitting Random Forest Classifier to the dataset \n",
        "#Create a Random Forest Classifier\n",
        "RF_Classifier = RandomForestClassifier(n_estimators=400,max_depth=6,random_state=60)\n",
        "\n",
        "#Train the model using the training sets\n",
        "RF_Classifier.fit(X_train, y_train)\n",
        "\n",
        "#Predict the response for test dataset\n",
        "y_pred = RF_Classifier.predict(X_test)\n",
        "\n",
        "print(\"F1 score:\", f1_score(y_test, y_pred))"
      ],
      "execution_count": null,
      "outputs": [
        {
          "output_type": "stream",
          "text": [
            "F1 score: 0.30846605196982396\n"
          ],
          "name": "stdout"
        }
      ]
    },
    {
      "cell_type": "code",
      "metadata": {
        "colab": {
          "base_uri": "https://localhost:8080/"
        },
        "id": "E3sYSMd-ZtNj",
        "outputId": "4b0dd425-0506-4286-9382-260b75a4340b"
      },
      "source": [
        "#For n_estimators=750,max_depth=6,random_state=60 top 3 features #8\n",
        "from sklearn.metrics import f1_score\n",
        "# Fitting Random Forest Classifier to the dataset \n",
        "#Create a Random Forest Classifier\n",
        "RF_Classifier = RandomForestClassifier(n_estimators=100,max_depth=8,random_state=60)\n",
        "\n",
        "#Train the model using the training sets\n",
        "RF_Classifier.fit(X_train, y_train)\n",
        "\n",
        "#Predict the response for test dataset\n",
        "y_pred = RF_Classifier.predict(X_test)\n",
        "\n",
        "print(\"F1 score:\", f1_score(y_test, y_pred))\n"
      ],
      "execution_count": null,
      "outputs": [
        {
          "output_type": "stream",
          "text": [
            "F1 score: 0.3360522022838499\n"
          ],
          "name": "stdout"
        }
      ]
    },
    {
      "cell_type": "code",
      "metadata": {
        "colab": {
          "base_uri": "https://localhost:8080/",
          "height": 1000
        },
        "id": "ChjCqaJvZv2y",
        "outputId": "5de51b14-b956-4301-d785-0d8f22fc06ff"
      },
      "source": [
        "#Feature importance for n_estimators=750,max_depth=6,random_state=60 #8 and 9\n",
        "importances = RF_Classifier.feature_importances_\n",
        "std = np.std([tree.feature_importances_ for tree in RF_Classifier.estimators_],\n",
        "             axis=0)\n",
        "indices = np.argsort(importances)[::-1]\n",
        "print(indices)\n",
        "\n",
        "# Print the feature ranking\n",
        "print(\"Feature ranking:\")\n",
        "\n",
        "for f in range(X.shape[1]):\n",
        "    print(\"%d. %s (%f)\" % (f + 1, features[indices[f]],  importances[indices[f]]))\n",
        "\n",
        "# Plot the feature importances of the forest\n",
        "fig = plt.figure()\n",
        "plt.title(\"Feature importances\")\n",
        "plt.bar(range(X.shape[1]), importances[indices],\n",
        "       color=\"r\", yerr=std[indices], align=\"center\")\n",
        "plt.xticks(range(X.shape[1]), np.array(features)[indices])\n",
        "plt.xlim([-1, X.shape[1]])\n",
        "plt.ylim([0, None])\n",
        "\n",
        "fig.set_size_inches(15, 8)\n",
        "\n",
        "# plt.savefig(\"importances.pdf\", bbox_inches='tight')"
      ],
      "execution_count": null,
      "outputs": [
        {
          "output_type": "stream",
          "text": [
            "[ 7  8 61  2  4  6  5  0  3 49 59 60 52 50 42 43  1 44 48 55 53 10 33 31\n",
            " 14 17 23 54 56 57 36 34 22 38 58 18 39  9 28 27 30 51 47 45 46 41 32 21\n",
            " 16 26 25 13 15 20 40 19 37 11 12 24 29 35]\n",
            "Feature ranking:\n",
            "1. euribor3m (0.156645)\n",
            "2. nr.employed (0.148858)\n",
            "3. poutcome_nonexistent (0.096065)\n",
            "4. pdays (0.094882)\n",
            "5. emp.var.rate (0.078392)\n",
            "6. cons.conf.idx (0.067258)\n",
            "7. cons.price.idx (0.061024)\n",
            "8. age (0.036042)\n",
            "9. previous (0.035091)\n",
            "10. month_jun (0.019808)\n",
            "11. day_of_week_wed (0.016357)\n",
            "12. poutcome_failure (0.014280)\n",
            "13. month_nov (0.013255)\n",
            "14. month_mar (0.012720)\n",
            "15. loan_yes (0.012565)\n",
            "16. contact_cellular (0.010993)\n",
            "17. campaign (0.009347)\n",
            "18. contact_telephone (0.008878)\n",
            "19. month_jul (0.006478)\n",
            "20. day_of_week_fri (0.006304)\n",
            "21. month_oct (0.005798)\n",
            "22. job_admin. (0.004419)\n",
            "23. education_unknown (0.004231)\n",
            "24. education_professional.course (0.004199)\n",
            "25. job_management (0.003970)\n",
            "26. job_services (0.003630)\n",
            "27. marital_married (0.003469)\n",
            "28. month_sep (0.003251)\n",
            "29. day_of_week_mon (0.003140)\n",
            "30. day_of_week_thu (0.002968)\n",
            "31. default_yes (0.002868)\n",
            "32. default_no (0.002745)\n",
            "33. marital_divorced (0.002693)\n",
            "34. housing_unknown (0.002660)\n",
            "35. day_of_week_tue (0.002618)\n",
            "36. job_student (0.002515)\n",
            "37. housing_yes (0.002489)\n",
            "38. y (0.002397)\n",
            "39. education_basic.9y (0.002318)\n",
            "40. education_basic.6y (0.002259)\n",
            "41. education_illiterate (0.002206)\n",
            "42. month_may (0.002178)\n",
            "43. month_dec (0.002064)\n",
            "44. month_apr (0.001913)\n",
            "45. month_aug (0.001849)\n",
            "46. loan_unknown (0.001836)\n",
            "47. education_university.degree (0.001736)\n",
            "48. job_unknown (0.001689)\n",
            "49. job_self-employed (0.001595)\n",
            "50. education_basic.4y (0.001574)\n",
            "51. marital_unknown (0.001559)\n",
            "52. job_housemaid (0.001401)\n",
            "53. job_retired (0.001383)\n",
            "54. job_unemployed (0.001321)\n",
            "55. loan_no (0.001138)\n",
            "56. job_technician (0.001114)\n",
            "57. housing_no (0.001050)\n",
            "58. job_blue-collar (0.000943)\n",
            "59. job_entrepreneur (0.000846)\n",
            "60. marital_single (0.000566)\n",
            "61. education_high.school (0.000159)\n",
            "62. default_unknown (0.000000)\n"
          ],
          "name": "stdout"
        },
        {
          "output_type": "display_data",
          "data": {
            "image/png": "[encoded data removed]",
            "text/plain": [
              "<Figure size 1080x576 with 1 Axes>"
            ]
          },
          "metadata": {
            "tags": [],
            "needs_background": "light"
          }
        }
      ]
    }
  ]
}