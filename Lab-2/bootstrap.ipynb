{
  "nbformat": 4,
  "nbformat_minor": 0,
  "metadata": {
    "colab": {
      "name": "bootstrap.ipynb",
      "provenance": [],
      "collapsed_sections": [],
      "include_colab_link": true
    },
    "kernelspec": {
      "display_name": "Python 3",
      "language": "python",
      "name": "python3"
    },
    "language_info": {
      "codemirror_mode": {
        "name": "ipython",
        "version": 3
      },
      "file_extension": ".py",
      "mimetype": "text/x-python",
      "name": "python",
      "nbconvert_exporter": "python",
      "pygments_lexer": "ipython3",
      "version": "3.7.6"
    },
    "pycharm": {
      "stem_cell": {
        "cell_type": "raw",
        "metadata": {
          "collapsed": false
        },
        "source": []
      }
    }
  },
  "cells": [
    {
      "cell_type": "markdown",
      "metadata": {
        "id": "view-in-github",
        "colab_type": "text"
      },
      "source": [
        "<a href=\"https://colab.research.google.com/github/pateljay7018/CE888-7-SP-D.S.-and-decision-making-/blob/main/Lab-2/bootstrap.ipynb\" target=\"_parent\"><img src=\"https://colab.research.google.com/assets/colab-badge.svg\" alt=\"Open In Colab\"/></a>"
      ]
    },
    {
      "cell_type": "markdown",
      "metadata": {
        "id": "nCi_99yMYIb1"
      },
      "source": [
        "In this notebook you'll create your own bootstrap function following the bootstrap algorithm (check the lecture notes!)"
      ]
    },
    {
      "cell_type": "code",
      "metadata": {
        "id": "LY5zujI2YC37",
        "pycharm": {
          "name": "#%%# Imports\n"
        }
      },
      "source": [
        "import matplotlib\n",
        "import pandas as pd\n",
        "import seaborn as sns\n",
        "import numpy as np\n",
        "import statistics as st\n"
      ],
      "execution_count": null,
      "outputs": []
    },
    {
      "cell_type": "code",
      "metadata": {
        "id": "Eqkwj4SMY38t"
      },
      "source": [
        "# Load the data\n",
        "df = pd.read_csv('https://raw.githubusercontent.com/albanda/CE888/master/lab2%20-%20bootstrap/customers.csv')\n",
        "data = df.values.T[1]"
      ],
      "execution_count": null,
      "outputs": []
    },
    {
      "cell_type": "code",
      "metadata": {
        "id": "Gxvc_bScYC4H",
        "pycharm": {
          "name": "#%%\n"
        }
      },
      "source": [
        "# Checking the notes from the lecture, create here your own bootstrap function:\n",
        "# 1. Sample from the input array x to create an array of samples of shape (n_bootstraps, sample_size)\n",
        "# Hint: Check the function random.choice() on Numpy\n",
        "# 2. Calculate and save the mean of the array (this is \"data_mean\" that is returned by the function)\n",
        "# 3. Calculate the mean from each bootstrap (i.e., row) and store it.\n",
        "# (This should be an array of n_bootstraps values)\n",
        "# 4. Calculate the lower and upper bounds for a 95% CI (hint: check the percentile function on Numpy)\n",
        "# 5. Return data_mean, and the lower and upper bounds of your interval\n",
        "def bootstrap_mean(x, sample_size, n_bootstraps):\n",
        "\t# <---INSERT YOUR CODE HERE--->\n",
        "  sam=np.random.choice(x, size=(n_bootstraps, sample_size), replace=True, p=None)\n",
        "  data_mean=np.mean(sam)\n",
        "  av= np.mean(sam, axis=1)\n",
        "  per=np.percentile(av, [(100-95)/2,100-((100-95)/2)], axis=None, out=None) \n",
        "  lower=per[0]\n",
        "  upper=per[len(per)-1]\n",
        "  return data_mean, lower, upper"
      ],
      "execution_count": null,
      "outputs": []
    },
    {
      "cell_type": "code",
      "metadata": {
        "id": "AN7sEOcMYC4P",
        "pycharm": {
          "name": "#%%\n"
        },
        "colab": {
          "base_uri": "https://localhost:8080/",
          "height": 454
        },
        "outputId": "9c0e1355-4d40-4483-ba78-2dad3c7d13c8"
      },
      "source": [
        "# Call your bootstrap function and plot the results\n",
        "\n",
        "boots = []\n",
        "for i in range(100, 50000, 1000):\n",
        "    boot = bootstrap_mean(data, data.shape[0], i)\n",
        "    boots.append([i, boot[0], \"mean\"])\n",
        "    boots.append([i, boot[1], \"lower\"])\n",
        "    boots.append([i, boot[2], \"upper\"])\n",
        "\n",
        "df_boot = pd.DataFrame(boots, columns=['Bootstrap Iterations', 'Mean', \"Value\"])\n",
        "sns_plot = sns.lmplot(df_boot.columns[0], df_boot.columns[1], data=df_boot, fit_reg=False, hue=\"Value\")\n",
        "\n",
        "sns_plot.axes[0, 0].set_ylim(0,)\n",
        "sns_plot.axes[0, 0].set_xlim(0, 100000)"
      ],
      "execution_count": null,
      "outputs": [
        {
          "output_type": "stream",
          "text": [
            "/usr/local/lib/python3.6/dist-packages/seaborn/_decorators.py:43: FutureWarning: Pass the following variables as keyword args: x, y. From version 0.12, the only valid positional argument will be `data`, and passing other arguments without an explicit keyword will result in an error or misinterpretation.\n",
            "  FutureWarning\n"
          ],
          "name": "stderr"
        },
        {
          "output_type": "execute_result",
          "data": {
            "text/plain": [
              "(0.0, 100000.0)"
            ]
          },
          "metadata": {
            "tags": []
          },
          "execution_count": 14
        },
        {
          "output_type": "display_data",
          "data": {
            "image/png": "[encoded data removed]",
            "text/plain": [
              "<Figure size 425.125x360 with 1 Axes>"
            ]
          },
          "metadata": {
            "tags": [],
            "needs_background": "light"
          }
        }
      ]
    },
    {
      "cell_type": "markdown",
      "metadata": {
        "id": "MjtP4e2_YC4V"
      },
      "source": [
        "\n",
        "Now, modify the bootstrap function you created above so that you can pass your desired confidence interval as a parameter.\n",
        "\n"
      ]
    },
    {
      "cell_type": "code",
      "metadata": {
        "id": "3K9j0FuGYhHs"
      },
      "source": [
        "def bootstrap_mean_ci(sample, sample_size, n_bootstraps, ci):\n",
        "\t# <---INSERT YOUR CODE HERE--->\n",
        "  sam=np.random.choice(sample, size=(n_bootstraps, sample_size), replace=True, p=None)\n",
        "  data_mean=np.mean(sam)\n",
        "  av= np.mean(sam, axis=1)\n",
        "\n",
        "  #data_std= np.std(sam)                        #standard deviation\n",
        "  #std_row= np.std(sam, axis=1)\n",
        "\n",
        "  per=np.percentile(av, [(100-ci)/2,100-((100-ci)/2)], axis=None, out=None)\n",
        "  #per=np.percentile(std_row, [(100-ci)/2,100-((100-ci)/2)], axis=None, out=None) #standard deviation\n",
        "  \n",
        "  lower=per[0]\n",
        "  upper=per[len(per)-1]\n",
        "\n",
        "  print(per)\n",
        "\n",
        "  return data_mean, lower, upper      #while using standard deviation return change with data_std"
      ],
      "execution_count": null,
      "outputs": []
    },
    {
      "cell_type": "code",
      "metadata": {
        "id": "uDnjq08GYl-C",
        "colab": {
          "base_uri": "https://localhost:8080/",
          "height": 823
        },
        "outputId": "e326a020-86f8-497e-a5a1-b7c323022eae"
      },
      "source": [
        "boots = []\n",
        "for i in range(1, 10002, 1000):\n",
        "    print(i)\n",
        "    boot = bootstrap_mean_ci(data, data.shape[0], i, 95)\n",
        "    boots.append([i, boot[0], \"mean\"])\n",
        "    boots.append([i, boot[1], \"lower\"])\n",
        "    boots.append([i, boot[2], \"upper\"])\n",
        "\n",
        "df_boot = pd.DataFrame(boots, columns=['Boostrap Iterations', 'Mean', \"Value\"])\n",
        "sns_plot = sns.lmplot(df_boot.columns[0], df_boot.columns[1], data=df_boot, fit_reg=False, hue=\"Value\")\n",
        "\n",
        "sns_plot.axes[0, 0].set_ylim(0,)\n",
        "sns_plot.axes[0, 0].set_xlim(0, 100000)\n",
        "\n",
        "#sns_plot.savefig(\"bootstrap_confidence_80.pdf\", bbox_inches='tight')\n"
      ],
      "execution_count": null,
      "outputs": [
        {
          "output_type": "stream",
          "text": [
            "1\n",
            "[3.80989582 3.80989582]\n",
            "1001\n",
            "[2.76364887 7.40380487]\n",
            "2001\n",
            "[2.73674915 7.42032509]\n",
            "3001\n",
            "[2.68404203 7.35020477]\n",
            "4001\n",
            "[2.7114647  7.36268862]\n",
            "5001\n",
            "[2.68879003 7.3456915 ]\n",
            "6001\n",
            "[2.75625448 7.38586626]\n",
            "7001\n",
            "[2.72179413 7.38586626]\n",
            "8001\n",
            "[2.6849923  7.32621795]\n",
            "9001\n",
            "[2.7114647  7.37618894]\n",
            "10001\n",
            "[2.7039276  7.41241375]\n"
          ],
          "name": "stdout"
        },
        {
          "output_type": "stream",
          "text": [
            "/usr/local/lib/python3.6/dist-packages/seaborn/_decorators.py:43: FutureWarning: Pass the following variables as keyword args: x, y. From version 0.12, the only valid positional argument will be `data`, and passing other arguments without an explicit keyword will result in an error or misinterpretation.\n",
            "  FutureWarning\n"
          ],
          "name": "stderr"
        },
        {
          "output_type": "execute_result",
          "data": {
            "text/plain": [
              "(0.0, 100000.0)"
            ]
          },
          "metadata": {
            "tags": []
          },
          "execution_count": 77
        },
        {
          "output_type": "display_data",
          "data": {
            "image/png": "[encoded data removed]",
            "text/plain": [
              "<Figure size 425.125x360 with 1 Axes>"
            ]
          },
          "metadata": {
            "tags": [],
            "needs_background": "light"
          }
        }
      ]
    },
    {
      "cell_type": "markdown",
      "metadata": {
        "id": "qjNgXW6wdd7r"
      },
      "source": [
        "# Vehicles dataset\n",
        "\n",
        "Now let's work on a different dataset, which is stored in the vehicles.csv file.\n"
      ]
    },
    {
      "cell_type": "code",
      "metadata": {
        "id": "avWv4ipFdpka"
      },
      "source": [
        "# Load and visualise the vehicles dataset\n",
        "# To load the dataset: https://neptune.ai/blog/google-colab-dealing-with-files (check section \"Load individual files directly from GitHub\")\n",
        "\n",
        "\n",
        "# Note that the current and new fleets are in different columns and have different lengths, so bear this in mind when you're plotting.\n",
        "# You can create separate scatterplots for the two fleets, as you would with the histograms, \n",
        "# or plot them both in one plot (but not one against the other).\n",
        "# <---INSERT YOUR CODE HERE--->\n",
        "# Note: you can add more cells as needed to organise your code and your plots\n"
      ],
      "execution_count": null,
      "outputs": []
    },
    {
      "cell_type": "code",
      "metadata": {
        "id": "j3nW-dqRMoTf"
      },
      "source": [
        "df = pd.read_csv('https://raw.githubusercontent.com/albanda/CE888/master/lab2%20-%20bootstrap/vehicles.csv')\r\n",
        "data_f1 = df.values.T[0]\r\n",
        "data_f2t = df.values.T[1]\r\n",
        "data_f2=data_f2t[:79]"
      ],
      "execution_count": null,
      "outputs": []
    },
    {
      "cell_type": "code",
      "metadata": {
        "colab": {
          "base_uri": "https://localhost:8080/"
        },
        "id": "z5vunXckq9q_",
        "outputId": "912edf34-202a-49e0-8211-8472b57c5f50"
      },
      "source": [
        "boots = []\n",
        "for i in range(1, 10002, 1000):\n",
        "    print(i)\n",
        "    boot = bootstrap_mean_ci(data_f2, data_f2.shape[0], i, 99)\n",
        "    boots.append([i, boot[0], \"mean\"])\n",
        "    boots.append([i, boot[1], \"lower\"])\n",
        "    boots.append([i, boot[2], \"upper\"])"
      ],
      "execution_count": null,
      "outputs": [
        {
          "output_type": "stream",
          "text": [
            "1\n",
            "[5.63855499 5.63855499]\n",
            "1001\n",
            "[4.90848798 7.11833729]\n",
            "2001\n",
            "[4.93086314 7.20707961]\n",
            "3001\n",
            "[4.84236366 7.19252492]\n",
            "4001\n",
            "[4.86751245 7.17126313]\n",
            "5001\n",
            "[4.90825947 7.2491539 ]\n",
            "6001\n",
            "[4.9000587  7.28075914]\n",
            "7001\n",
            "[4.89141834 7.20996924]\n",
            "8001\n",
            "[4.87162551 7.20850234]\n",
            "9001\n",
            "[4.88013675 7.20352154]\n",
            "10001\n",
            "[4.88391111 7.16243203]\n"
          ],
          "name": "stdout"
        }
      ]
    },
    {
      "cell_type": "code",
      "metadata": {
        "id": "_1ekMvn-U8EF"
      },
      "source": [
        "x=[]\r\n",
        "for i in range(249):\r\n",
        "  x.append(i)"
      ],
      "execution_count": null,
      "outputs": []
    },
    {
      "cell_type": "code",
      "metadata": {
        "colab": {
          "base_uri": "https://localhost:8080/",
          "height": 266
        },
        "id": "NGQjFEhEWWka",
        "outputId": "b520d632-8bdf-4a08-d268-87d2bc0e5116"
      },
      "source": [
        "import matplotlib.pyplot as plt\r\n",
        "plt.scatter(x, data_f1)\r\n",
        "plt.show()"
      ],
      "execution_count": null,
      "outputs": [
        {
          "output_type": "display_data",
          "data": {
            "image/png": "[encoded data removed]",
            "text/plain": [
              "<Figure size 432x288 with 1 Axes>"
            ]
          },
          "metadata": {
            "tags": [],
            "needs_background": "light"
          }
        }
      ]
    },
    {
      "cell_type": "code",
      "metadata": {
        "colab": {
          "base_uri": "https://localhost:8080/",
          "height": 265
        },
        "id": "265-VWN_WnV5",
        "outputId": "be19555e-98bc-478d-b7ab-7232cf3aae3f"
      },
      "source": [
        "plt.scatter(x, data_f2t)\r\n",
        "plt.show()"
      ],
      "execution_count": null,
      "outputs": [
        {
          "output_type": "display_data",
          "data": {
            "image/png": "[encoded data removed]",
            "text/plain": [
              "<Figure size 432x288 with 1 Axes>"
            ]
          },
          "metadata": {
            "tags": [],
            "needs_background": "light"
          }
        }
      ]
    },
    {
      "cell_type": "markdown",
      "metadata": {
        "id": "B5d0tXDpIEj8"
      },
      "source": [
        "## Compare the two fleets\r\n",
        "\r\n",
        "The business analysts come up a comparison algorithm that requires the upper and lower bounds for the mean in order to say which fleet is better.\r\n",
        "1. Calculate the mean of both samples.\r\n",
        "2. Using the bootstrap function that you created:\r\n",
        "    - Construct the 95% CI of the mean of the current fleet.\r\n",
        "    - Construct the 95% CI of the mean of the new fleet.\r\n",
        "    - Are they comparable? (i.e., is one better than the other?) -- you can do this with a permutation test (check the lecture notes!)"
      ]
    },
    {
      "cell_type": "code",
      "metadata": {
        "id": "po4mp6zRHC0m",
        "colab": {
          "base_uri": "https://localhost:8080/"
        },
        "outputId": "ad953ceb-ca9c-4cf6-cf18-95e2262defbd"
      },
      "source": [
        "# <---INSERT YOUR CODE HERE--->\n",
        "mf1=np.mean(data_f1)\n",
        "mf2=np.mean(data_f2)\n",
        "bf1=bootstrap_mean_ci(data_f1, data_f1.shape[0], 100, 95)\n",
        "bf2=bootstrap_mean_ci(data_f2, data_f2.shape[0], 100, 95)"
      ],
      "execution_count": null,
      "outputs": [
        {
          "output_type": "stream",
          "text": [
            "[19.26285141 20.93985944]\n",
            "[29.30981013 31.56677215]\n"
          ],
          "name": "stdout"
        }
      ]
    },
    {
      "cell_type": "code",
      "metadata": {
        "id": "MkxvDZG4HC0n"
      },
      "source": [
        "# Create your own function for a permutation test here (you will need it for the lab quiz!):\n",
        "def permut_test(sample1, sample2, n_permutations):\n",
        "    \"\"\"\n",
        "    sample1: 1D array\n",
        "    sample2: 1D array (note that the size of the two arrays can be different)\n",
        "    n_permutations: number of permutations to calculate the p-value\n",
        "    \"\"\"\n",
        "    c=0\n",
        "    to=np.mean(sample2)-np.mean(sample1)\n",
        "    # print(np.mean(sample1))\n",
        "    # print(np.mean(sample2))\n",
        "    # print(to)\n",
        "    concat = np.concatenate((sample1, sample2))\n",
        "    for i in range(n_permutations):\n",
        "      perm = np.random.permutation(concat)\n",
        "      psample1 = perm[:int(len(sample1))]\n",
        "      psample2 = perm[int(len(sample1)):]\n",
        "      tp=np.mean(psample2)-np.mean(psample1)\n",
        "      # print(tp)\n",
        "      if tp>to:\n",
        "        c+=1\n",
        "    pvalue=c/n_permutations\n",
        "    # print(pvalue)\n",
        "    return pvalue"
      ],
      "execution_count": null,
      "outputs": []
    },
    {
      "cell_type": "code",
      "metadata": {
        "id": "E2jErWkiY03S"
      },
      "source": [
        "p=permut_test(data_f1,data_f2,30000)"
      ],
      "execution_count": null,
      "outputs": []
    },
    {
      "cell_type": "code",
      "metadata": {
        "id": "lO6-EVThjn-K"
      },
      "source": [
        "#voting_data.py \n",
        "# The variables below represent the percentages of democratic votes in Pennsylvania and Ohio (one value for each state).\n",
        "dem_share_PA = [60.08, 40.64, 36.07, 41.21, 31.04, 43.78, 44.08, 46.85, 44.71, 46.15, 63.10, 52.20, 43.18, 40.24, 39.92, 47.87, 37.77, 40.11, 49.85, 48.61, 38.62, 54.25, 34.84, 47.75, 43.82, 55.97, 58.23, 42.97, 42.38, 36.11, 37.53, 42.65, 50.96, 47.43, 56.24, 45.60, 46.39, 35.22, 48.56, 32.97, 57.88, 36.05, 37.72, 50.36, 32.12, 41.55, 54.66, 57.81, 54.58, 32.88, 54.37, 40.45, 47.61, 60.49, 43.11, 27.32, 44.03, 33.56, 37.26, 54.64, 43.12, 25.34, 49.79, 83.56, 40.09, 60.81, 49.81]\n",
        "dem_share_OH = [56.94, 50.46, 65.99, 45.88, 42.23, 45.26, 57.01, 53.61, 59.10, 61.48, 43.43, 44.69, 54.59, 48.36, 45.89, 48.62, 43.92, 38.23, 28.79, 63.57, 38.07, 40.18, 43.05, 41.56, 42.49, 36.06, 52.76, 46.07, 39.43, 39.26, 47.47, 27.92, 38.01, 45.45, 29.07, 28.94, 51.28, 50.10, 39.84, 36.43, 35.71, 31.47, 47.01, 40.10, 48.76, 31.56, 39.86, 45.31, 35.47, 51.38, 46.33, 48.73, 41.77, 41.32, 48.46, 53.14, 34.01, 54.74, 40.67, 38.96, 46.29, 38.25, 6.80, 31.75, 46.33, 44.90, 33.57, 38.10, 39.67, 40.47, 49.44, 37.62, 36.71, 46.73, 42.20, 53.16, 52.40, 58.36, 68.02, 38.53, 34.58, 69.64, 60.50, 53.53, 36.54, 49.58, 41.97, 38.11]"
      ],
      "execution_count": null,
      "outputs": []
    },
    {
      "cell_type": "code",
      "metadata": {
        "colab": {
          "base_uri": "https://localhost:8080/"
        },
        "id": "Xz_jFHGd_ULY",
        "outputId": "83af6188-55fe-417b-ab27-59b68afbd184"
      },
      "source": [
        "print(len(dem_share_PA))\r\n",
        "print(len(dem_share_OH))"
      ],
      "execution_count": null,
      "outputs": [
        {
          "output_type": "stream",
          "text": [
            "67\n",
            "88\n"
          ],
          "name": "stdout"
        }
      ]
    },
    {
      "cell_type": "code",
      "metadata": {
        "colab": {
          "base_uri": "https://localhost:8080/"
        },
        "id": "RSv9N0GMA3Ce",
        "outputId": "72a886ae-509a-4a0e-bad7-08b92f460ca3"
      },
      "source": [
        "print(np.mean(dem_share_PA))\r\n",
        "print(np.mean(dem_share_OH))"
      ],
      "execution_count": null,
      "outputs": [
        {
          "output_type": "stream",
          "text": [
            "45.476417910447765\n",
            "44.31818181818182\n"
          ],
          "name": "stdout"
        }
      ]
    },
    {
      "cell_type": "code",
      "metadata": {
        "colab": {
          "base_uri": "https://localhost:8080/"
        },
        "id": "FBZPzB0RBFCO",
        "outputId": "d9151552-da62-4f06-e329-8a26843aa6a7"
      },
      "source": [
        "boots = []\r\n",
        "for i in range(1, 20002 , 1000):\r\n",
        "    print(i)\r\n",
        "    boot = bootstrap_mean_ci(np.array(dem_share_PA), np.array(dem_share_PA).shape[0], i, 95)\r\n",
        "    boots.append([i, boot[0], \"mean\"])\r\n",
        "    boots.append([i, boot[1], \"lower\"])\r\n",
        "    boots.append([i, boot[2], \"upper\"])"
      ],
      "execution_count": null,
      "outputs": [
        {
          "output_type": "stream",
          "text": [
            "1\n",
            "[46.37940299 46.37940299]\n",
            "1001\n",
            "[43.26731343 48.15522388]\n",
            "2001\n",
            "[43.14402985 47.79358209]\n",
            "3001\n",
            "[43.14074627 47.85701493]\n",
            "4001\n",
            "[43.14358209 47.80044776]\n",
            "5001\n",
            "[43.20373134 47.91656716]\n",
            "6001\n",
            "[43.0841791  47.93567164]\n",
            "7001\n",
            "[43.17179104 47.90492537]\n",
            "8001\n",
            "[43.1719403  47.91164179]\n",
            "9001\n",
            "[43.14940299 47.82626866]\n",
            "10001\n",
            "[43.20328358 47.84835821]\n",
            "11001\n",
            "[43.13761194 47.78253731]\n",
            "12001\n",
            "[43.20223881 47.85358209]\n",
            "13001\n",
            "[43.22089552 47.83746269]\n",
            "14001\n",
            "[43.18       47.80641791]\n",
            "15001\n",
            "[43.17656716 47.84895522]\n",
            "16001\n",
            "[43.22059701 47.85955224]\n",
            "17001\n",
            "[43.16029851 47.88223881]\n",
            "18001\n",
            "[43.18925373 47.84462687]\n",
            "19001\n",
            "[43.24238806 47.81910448]\n",
            "20001\n",
            "[43.19328358 47.86671642]\n"
          ],
          "name": "stdout"
        }
      ]
    },
    {
      "cell_type": "code",
      "metadata": {
        "colab": {
          "base_uri": "https://localhost:8080/"
        },
        "id": "g2yxIT2jCkQN",
        "outputId": "556166bc-26f2-4809-9b8a-5ca059f5917b"
      },
      "source": [
        "boots = []\r\n",
        "for i in range(1, 20002 , 1000):\r\n",
        "    print(i)\r\n",
        "    boot = bootstrap_mean_ci(np.array(dem_share_OH), np.array(dem_share_OH).shape[0], i, 95)\r\n",
        "    boots.append([i, boot[0], \"mean\"])\r\n",
        "    boots.append([i, boot[1], \"lower\"])\r\n",
        "    boots.append([i, boot[2], \"upper\"])"
      ],
      "execution_count": null,
      "outputs": [
        {
          "output_type": "stream",
          "text": [
            "1\n",
            "[43.83352273 43.83352273]\n",
            "1001\n",
            "[42.37988636 46.33681818]\n",
            "2001\n",
            "[42.22647727 46.48431818]\n",
            "3001\n",
            "[42.28068182 46.41147727]\n",
            "4001\n",
            "[42.28045455 46.29954545]\n",
            "5001\n",
            "[42.22022727 46.31397727]\n",
            "6001\n",
            "[42.22590909 46.37670455]\n",
            "7001\n",
            "[42.23090909 46.33056818]\n",
            "8001\n",
            "[42.26852273 46.40579545]\n",
            "9001\n",
            "[42.2775     46.34227273]\n",
            "10001\n",
            "[42.27488636 46.36136364]\n",
            "11001\n",
            "[42.21181818 46.33795455]\n",
            "12001\n",
            "[42.24670455 46.36068182]\n",
            "13001\n",
            "[42.25727273 46.41079545]\n",
            "14001\n",
            "[42.25886364 46.37284091]\n",
            "15001\n",
            "[42.27125    46.38522727]\n",
            "16001\n",
            "[42.25284091 46.38647727]\n",
            "17001\n",
            "[42.22693182 46.35261364]\n",
            "18001\n",
            "[42.27340909 46.3875    ]\n",
            "19001\n",
            "[42.25181818 46.36136364]\n",
            "20001\n",
            "[42.24602273 46.37647727]\n"
          ],
          "name": "stdout"
        }
      ]
    },
    {
      "cell_type": "code",
      "metadata": {
        "colab": {
          "base_uri": "https://localhost:8080/"
        },
        "id": "2f_9U-cWBbuJ",
        "outputId": "ff2f65a6-61f7-49f9-f83c-3df4d1bc282d"
      },
      "source": [
        "print(permut_test(dem_share_PA,dem_share_OH,10000))"
      ],
      "execution_count": null,
      "outputs": [
        {
          "output_type": "stream",
          "text": [
            "0.7628\n"
          ],
          "name": "stdout"
        }
      ]
    },
    {
      "cell_type": "code",
      "metadata": {
        "id": "meY3eSP2B1Oi"
      },
      "source": [
        ""
      ],
      "execution_count": null,
      "outputs": []
    }
  ]
}