{
  "nbformat": 4,
  "nbformat_minor": 0,
  "metadata": {
    "colab": {
      "name": "bootstrap.ipynb",
      "provenance": [],
      "collapsed_sections": [],
      "include_colab_link": true
    },
    "kernelspec": {
      "display_name": "Python 3",
      "language": "python",
      "name": "python3"
    },
    "language_info": {
      "codemirror_mode": {
        "name": "ipython",
        "version": 3
      },
      "file_extension": ".py",
      "mimetype": "text/x-python",
      "name": "python",
      "nbconvert_exporter": "python",
      "pygments_lexer": "ipython3",
      "version": "3.7.6"
    },
    "pycharm": {
      "stem_cell": {
        "cell_type": "raw",
        "metadata": {
          "collapsed": false
        },
        "source": []
      }
    }
  },
  "cells": [
    {
      "cell_type": "markdown",
      "metadata": {
        "id": "view-in-github",
        "colab_type": "text"
      },
      "source": [
        "<a href=\"https://colab.research.google.com/github/pateljay7018/CE888-7-SP-D.S.-and-decision-making-/blob/main/Lab-2/bootstrap.ipynb\" target=\"_parent\"><img src=\"https://colab.research.google.com/assets/colab-badge.svg\" alt=\"Open In Colab\"/></a>"
      ]
    },
    {
      "cell_type": "markdown",
      "metadata": {
        "id": "nCi_99yMYIb1"
      },
      "source": [
        "In this notebook you'll create your own bootstrap function following the bootstrap algorithm (check the lecture notes!)"
      ]
    },
    {
      "cell_type": "code",
      "metadata": {
        "id": "LY5zujI2YC37",
        "pycharm": {
          "name": "#%%# Imports\n"
        }
      },
      "source": [
        "import matplotlib\n",
        "import pandas as pd\n",
        "import seaborn as sns\n",
        "import numpy as np\n",
        "import statistics as st\n"
      ],
      "execution_count": 18,
      "outputs": []
    },
    {
      "cell_type": "code",
      "metadata": {
        "id": "Eqkwj4SMY38t"
      },
      "source": [
        "# Load the data\n",
        "df = pd.read_csv('https://raw.githubusercontent.com/albanda/CE888/master/lab2%20-%20bootstrap/customers.csv')\n",
        "data = df.values.T[1]"
      ],
      "execution_count": 19,
      "outputs": []
    },
    {
      "cell_type": "code",
      "metadata": {
        "id": "Gxvc_bScYC4H",
        "pycharm": {
          "name": "#%%\n"
        }
      },
      "source": [
        "# Checking the notes from the lecture, create here your own bootstrap function:\n",
        "# 1. Sample from the input array x to create an array of samples of shape (n_bootstraps, sample_size)\n",
        "# Hint: Check the function random.choice() on Numpy\n",
        "# 2. Calculate and save the mean of the array (this is \"data_mean\" that is returned by the function)\n",
        "# 3. Calculate the mean from each bootstrap (i.e., row) and store it.\n",
        "# (This should be an array of n_bootstraps values)\n",
        "# 4. Calculate the lower and upper bounds for a 95% CI (hint: check the percentile function on Numpy)\n",
        "# 5. Return data_mean, and the lower and upper bounds of your interval\n",
        "def bootstrap_mean(x, sample_size, n_bootstraps):\n",
        "\t# <---INSERT YOUR CODE HERE--->\n",
        "  sam=np.random.choice(x, size=(n_bootstraps, sample_size), replace=True, p=None)\n",
        "  data_mean=np.mean(sam)\n",
        "  av= np.mean(sam, axis=1)\n",
        "  per=np.percentile(av, [(100-95)/2,100-((100-95)/2)], axis=None, out=None) \n",
        "  lower=per[0]\n",
        "  upper=per[len(per)-1]\n",
        "  return data_mean, lower, upper"
      ],
      "execution_count": 20,
      "outputs": []
    },
    {
      "cell_type": "code",
      "metadata": {
        "id": "AN7sEOcMYC4P",
        "pycharm": {
          "name": "#%%\n"
        },
        "colab": {
          "base_uri": "https://localhost:8080/",
          "height": 454
        },
        "outputId": "862aa52a-0d14-4c4d-d95e-db3baf013653"
      },
      "source": [
        "# Call your bootstrap function and plot the results\n",
        "\n",
        "boots = []\n",
        "for i in range(100, 50000, 1000):\n",
        "    boot = bootstrap_mean(data, data.shape[0], i)\n",
        "    boots.append([i, boot[0], \"mean\"])\n",
        "    boots.append([i, boot[1], \"lower\"])\n",
        "    boots.append([i, boot[2], \"upper\"])\n",
        "\n",
        "df_boot = pd.DataFrame(boots, columns=['Bootstrap Iterations', 'Mean', \"Value\"])\n",
        "sns_plot = sns.lmplot(df_boot.columns[0], df_boot.columns[1], data=df_boot, fit_reg=False, hue=\"Value\")\n",
        "\n",
        "sns_plot.axes[0, 0].set_ylim(0,)\n",
        "sns_plot.axes[0, 0].set_xlim(0, 100000)"
      ],
      "execution_count": 21,
      "outputs": [
        {
          "output_type": "stream",
          "text": [
            "/usr/local/lib/python3.6/dist-packages/seaborn/_decorators.py:43: FutureWarning: Pass the following variables as keyword args: x, y. From version 0.12, the only valid positional argument will be `data`, and passing other arguments without an explicit keyword will result in an error or misinterpretation.\n",
            "  FutureWarning\n"
          ],
          "name": "stderr"
        },
        {
          "output_type": "execute_result",
          "data": {
            "text/plain": [
              "(0.0, 100000.0)"
            ]
          },
          "metadata": {
            "tags": []
          },
          "execution_count": 21
        },
        {
          "output_type": "display_data",
          "data": {
            "image/png": "[encoded data removed]",
            "text/plain": [
              "<Figure size 425.125x360 with 1 Axes>"
            ]
          },
          "metadata": {
            "tags": [],
            "needs_background": "light"
          }
        }
      ]
    },
    {
      "cell_type": "markdown",
      "metadata": {
        "id": "MjtP4e2_YC4V"
      },
      "source": [
        "\n",
        "Now, modify the bootstrap function you created above so that you can pass your desired confidence interval as a parameter.\n",
        "\n"
      ]
    },
    {
      "cell_type": "code",
      "metadata": {
        "id": "3K9j0FuGYhHs"
      },
      "source": [
        "def bootstrap_mean_ci(sample, sample_size, n_bootstraps, ci):\n",
        "\t# <---INSERT YOUR CODE HERE--->\n",
        "  sam=np.random.choice(sample, size=(n_bootstraps, sample_size), replace=True, p=None)\n",
        "  data_mean=np.mean(sam)            #mean\n",
        "  av= np.mean(sam, axis=1)          #mean\n",
        "\n",
        "  #data_std= np.std(sam)            #standard deviation\n",
        "  #std_row= np.std(sam, axis=1)     #standard deviation\n",
        "\n",
        "  per=np.percentile(av, [(100-ci)/2,100-((100-ci)/2)], axis=None, out=None) # mean\n",
        "  #per=np.percentile(std_row, [(100-ci)/2,100-((100-ci)/2)], axis=None, out=None) #standard deviation\n",
        "  \n",
        "  lower=per[0]\n",
        "  upper=per[len(per)-1]\n",
        "\n",
        "  print(per)\n",
        "\n",
        "  return data_mean, lower, upper      #for standard deviation return data_std while you use mean to return data_mean"
      ],
      "execution_count": 22,
      "outputs": []
    },
    {
      "cell_type": "code",
      "metadata": {
        "id": "uDnjq08GYl-C",
        "colab": {
          "base_uri": "https://localhost:8080/",
          "height": 823
        },
        "outputId": "8e525972-42eb-484f-a88d-c4d947e50e90"
      },
      "source": [
        "boots = []\n",
        "for i in range(1, 10002, 1000):\n",
        "    print(i)\n",
        "    boot = bootstrap_mean_ci(data, data.shape[0], i, 95)\n",
        "    boots.append([i, boot[0], \"mean\"])\n",
        "    boots.append([i, boot[1], \"lower\"])\n",
        "    boots.append([i, boot[2], \"upper\"])\n",
        "\n",
        "df_boot = pd.DataFrame(boots, columns=['Boostrap Iterations', 'Mean', \"Value\"])\n",
        "sns_plot = sns.lmplot(df_boot.columns[0], df_boot.columns[1], data=df_boot, fit_reg=False, hue=\"Value\")\n",
        "\n",
        "sns_plot.axes[0, 0].set_ylim(0,)\n",
        "sns_plot.axes[0, 0].set_xlim(0, 100000)\n",
        "\n",
        "#sns_plot.savefig(\"bootstrap_confidence_80.pdf\", bbox_inches='tight')\n"
      ],
      "execution_count": 23,
      "outputs": [
        {
          "output_type": "stream",
          "text": [
            "1\n",
            "[8. 8.]\n",
            "1001\n",
            "[ 6.42857143 12.21428571]\n",
            "2001\n",
            "[ 6.35714286 12.21428571]\n",
            "3001\n",
            "[ 6.42857143 12.5       ]\n",
            "4001\n",
            "[ 6.42857143 12.35714286]\n",
            "5001\n",
            "[ 6.42857143 12.35714286]\n",
            "6001\n",
            "[ 6.42857143 12.35714286]\n",
            "7001\n",
            "[ 6.42857143 12.35714286]\n",
            "8001\n",
            "[ 6.42857143 12.35714286]\n",
            "9001\n",
            "[ 6.42857143 12.28571429]\n",
            "10001\n",
            "[ 6.42857143 12.28571429]\n"
          ],
          "name": "stdout"
        },
        {
          "output_type": "stream",
          "text": [
            "/usr/local/lib/python3.6/dist-packages/seaborn/_decorators.py:43: FutureWarning: Pass the following variables as keyword args: x, y. From version 0.12, the only valid positional argument will be `data`, and passing other arguments without an explicit keyword will result in an error or misinterpretation.\n",
            "  FutureWarning\n"
          ],
          "name": "stderr"
        },
        {
          "output_type": "execute_result",
          "data": {
            "text/plain": [
              "(0.0, 100000.0)"
            ]
          },
          "metadata": {
            "tags": []
          },
          "execution_count": 23
        },
        {
          "output_type": "display_data",
          "data": {
            "image/png": "[encoded data removed]",
            "text/plain": [
              "<Figure size 425.125x360 with 1 Axes>"
            ]
          },
          "metadata": {
            "tags": [],
            "needs_background": "light"
          }
        }
      ]
    },
    {
      "cell_type": "markdown",
      "metadata": {
        "id": "qjNgXW6wdd7r"
      },
      "source": [
        "# Vehicles dataset\n",
        "\n",
        "Now let's work on a different dataset, which is stored in the vehicles.csv file.\n"
      ]
    },
    {
      "cell_type": "code",
      "metadata": {
        "id": "avWv4ipFdpka"
      },
      "source": [
        "# Load and visualise the vehicles dataset\n",
        "# To load the dataset: https://neptune.ai/blog/google-colab-dealing-with-files (check section \"Load individual files directly from GitHub\")\n",
        "\n",
        "\n",
        "# Note that the current and new fleets are in different columns and have different lengths, so bear this in mind when you're plotting.\n",
        "# You can create separate scatterplots for the two fleets, as you would with the histograms, \n",
        "# or plot them both in one plot (but not one against the other).\n",
        "# <---INSERT YOUR CODE HERE--->\n",
        "# Note: you can add more cells as needed to organise your code and your plots\n"
      ],
      "execution_count": 24,
      "outputs": []
    },
    {
      "cell_type": "code",
      "metadata": {
        "id": "j3nW-dqRMoTf"
      },
      "source": [
        "df = pd.read_csv('https://raw.githubusercontent.com/albanda/CE888/master/lab2%20-%20bootstrap/vehicles.csv')\r\n",
        "data_f1 = df.values.T[0] #new data \r\n",
        "data_f2=data_f2t[:79] #old data"
      ],
      "execution_count": 25,
      "outputs": []
    },
    {
      "cell_type": "code",
      "metadata": {
        "colab": {
          "base_uri": "https://localhost:8080/"
        },
        "id": "z5vunXckq9q_",
        "outputId": "813c44f1-4ba3-472a-c4cd-833c8e57f517"
      },
      "source": [
        "boots = []\n",
        "for i in range(1, 10002, 1000):\n",
        "    print(i)\n",
        "    boot = bootstrap_mean_ci(data_f2, data_f2.shape[0], i, 99)\n",
        "    boots.append([i, boot[0], \"mean\"])\n",
        "    boots.append([i, boot[1], \"lower\"])\n",
        "    boots.append([i, boot[2], \"upper\"])"
      ],
      "execution_count": 26,
      "outputs": [
        {
          "output_type": "stream",
          "text": [
            "1\n",
            "[30.3164557 30.3164557]\n",
            "1001\n",
            "[28.86075949 32.39240506]\n",
            "2001\n",
            "[28.73417722 32.12658228]\n",
            "3001\n",
            "[28.69620253 32.25316456]\n",
            "4001\n",
            "[28.69620253 32.26582278]\n",
            "5001\n",
            "[28.73417722 32.15189873]\n",
            "6001\n",
            "[28.74683544 32.24050633]\n",
            "7001\n",
            "[28.7721519  32.26582278]\n",
            "8001\n",
            "[28.7721519  32.29113924]\n",
            "9001\n",
            "[28.73417722 32.24050633]\n",
            "10001\n",
            "[28.72151899 32.2278481 ]\n"
          ],
          "name": "stdout"
        }
      ]
    },
    {
      "cell_type": "code",
      "metadata": {
        "id": "_1ekMvn-U8EF"
      },
      "source": [
        "x=[]\r\n",
        "for i in range(249):\r\n",
        "  x.append(i)"
      ],
      "execution_count": 27,
      "outputs": []
    },
    {
      "cell_type": "code",
      "metadata": {
        "colab": {
          "base_uri": "https://localhost:8080/",
          "height": 266
        },
        "id": "NGQjFEhEWWka",
        "outputId": "0b2b7d44-2b83-483a-e338-ce03027018f6"
      },
      "source": [
        "import matplotlib.pyplot as plt\r\n",
        "plt.scatter(x, data_f1)\r\n",
        "plt.show()"
      ],
      "execution_count": 28,
      "outputs": [
        {
          "output_type": "display_data",
          "data": {
            "image/png": "[encoded data removed]",
            "text/plain": [
              "<Figure size 432x288 with 1 Axes>"
            ]
          },
          "metadata": {
            "tags": [],
            "needs_background": "light"
          }
        }
      ]
    },
    {
      "cell_type": "code",
      "metadata": {
        "colab": {
          "base_uri": "https://localhost:8080/",
          "height": 265
        },
        "id": "265-VWN_WnV5",
        "outputId": "f432d69d-f4ac-4918-a981-73646ac0ba40"
      },
      "source": [
        "plt.scatter(x, data_f2t)\r\n",
        "plt.show()"
      ],
      "execution_count": 29,
      "outputs": [
        {
          "output_type": "display_data",
          "data": {
            "image/png": "[encoded data removed]",
            "text/plain": [
              "<Figure size 432x288 with 1 Axes>"
            ]
          },
          "metadata": {
            "tags": [],
            "needs_background": "light"
          }
        }
      ]
    },
    {
      "cell_type": "markdown",
      "metadata": {
        "id": "B5d0tXDpIEj8"
      },
      "source": [
        "## Compare the two fleets\r\n",
        "\r\n",
        "The business analysts come up a comparison algorithm that requires the upper and lower bounds for the mean in order to say which fleet is better.\r\n",
        "1. Calculate the mean of both samples.\r\n",
        "2. Using the bootstrap function that you created:\r\n",
        "    - Construct the 95% CI of the mean of the current fleet.\r\n",
        "    - Construct the 95% CI of the mean of the new fleet.\r\n",
        "    - Are they comparable? (i.e., is one better than the other?) -- you can do this with a permutation test (check the lecture notes!)"
      ]
    },
    {
      "cell_type": "code",
      "metadata": {
        "id": "po4mp6zRHC0m",
        "colab": {
          "base_uri": "https://localhost:8080/"
        },
        "outputId": "98fd4dba-6999-4a10-8580-8f568093821d"
      },
      "source": [
        "# <---INSERT YOUR CODE HERE--->\n",
        "mf1=np.mean(data_f1)\n",
        "mf2=np.mean(data_f2)\n",
        "bf1=bootstrap_mean_ci(data_f1, data_f1.shape[0], 100, 95)\n",
        "bf2=bootstrap_mean_ci(data_f2, data_f2.shape[0], 100, 95)"
      ],
      "execution_count": 30,
      "outputs": [
        {
          "output_type": "stream",
          "text": [
            "[19.22409639 20.80230924]\n",
            "[28.56170886 31.62025316]\n"
          ],
          "name": "stdout"
        }
      ]
    },
    {
      "cell_type": "code",
      "metadata": {
        "id": "MkxvDZG4HC0n"
      },
      "source": [
        "# Create your own function for a permutation test here (you will need it for the lab quiz!):\n",
        "def permut_test(sample1, sample2, n_permutations):\n",
        "    \"\"\"\n",
        "    sample1: 1D array\n",
        "    sample2: 1D array (note that the size of the two arrays can be different)\n",
        "    n_permutations: number of permutations to calculate the p-value\n",
        "    \"\"\"\n",
        "    c=0\n",
        "    to=np.mean(sample2)-np.mean(sample1)\n",
        "    # print(np.mean(sample1))\n",
        "    # print(np.mean(sample2))\n",
        "    # print(to)\n",
        "    concat = np.concatenate((sample1, sample2))\n",
        "    for i in range(n_permutations):\n",
        "      perm = np.random.permutation(concat)\n",
        "      psample1 = perm[:int(len(sample1))]\n",
        "      psample2 = perm[int(len(sample1)):]\n",
        "      tp=np.mean(psample2)-np.mean(psample1)\n",
        "      # print(tp)\n",
        "      if tp>to:\n",
        "        c+=1\n",
        "    pvalue=c/n_permutations\n",
        "    # print(pvalue)\n",
        "    return pvalue"
      ],
      "execution_count": 31,
      "outputs": []
    },
    {
      "cell_type": "code",
      "metadata": {
        "id": "E2jErWkiY03S"
      },
      "source": [
        "p=permut_test(data_f1,data_f2,30000)"
      ],
      "execution_count": 32,
      "outputs": []
    },
    {
      "cell_type": "code",
      "metadata": {
        "id": "lO6-EVThjn-K"
      },
      "source": [
        "#voting_data.py \n",
        "# The variables below represent the percentages of democratic votes in Pennsylvania and Ohio (one value for each state).\n",
        "dem_share_PA = [60.08, 40.64, 36.07, 41.21, 31.04, 43.78, 44.08, 46.85, 44.71, 46.15, 63.10, 52.20, 43.18, 40.24, 39.92, 47.87, 37.77, 40.11, 49.85, 48.61, 38.62, 54.25, 34.84, 47.75, 43.82, 55.97, 58.23, 42.97, 42.38, 36.11, 37.53, 42.65, 50.96, 47.43, 56.24, 45.60, 46.39, 35.22, 48.56, 32.97, 57.88, 36.05, 37.72, 50.36, 32.12, 41.55, 54.66, 57.81, 54.58, 32.88, 54.37, 40.45, 47.61, 60.49, 43.11, 27.32, 44.03, 33.56, 37.26, 54.64, 43.12, 25.34, 49.79, 83.56, 40.09, 60.81, 49.81]\n",
        "dem_share_OH = [56.94, 50.46, 65.99, 45.88, 42.23, 45.26, 57.01, 53.61, 59.10, 61.48, 43.43, 44.69, 54.59, 48.36, 45.89, 48.62, 43.92, 38.23, 28.79, 63.57, 38.07, 40.18, 43.05, 41.56, 42.49, 36.06, 52.76, 46.07, 39.43, 39.26, 47.47, 27.92, 38.01, 45.45, 29.07, 28.94, 51.28, 50.10, 39.84, 36.43, 35.71, 31.47, 47.01, 40.10, 48.76, 31.56, 39.86, 45.31, 35.47, 51.38, 46.33, 48.73, 41.77, 41.32, 48.46, 53.14, 34.01, 54.74, 40.67, 38.96, 46.29, 38.25, 6.80, 31.75, 46.33, 44.90, 33.57, 38.10, 39.67, 40.47, 49.44, 37.62, 36.71, 46.73, 42.20, 53.16, 52.40, 58.36, 68.02, 38.53, 34.58, 69.64, 60.50, 53.53, 36.54, 49.58, 41.97, 38.11]"
      ],
      "execution_count": 33,
      "outputs": []
    },
    {
      "cell_type": "code",
      "metadata": {
        "colab": {
          "base_uri": "https://localhost:8080/"
        },
        "id": "Xz_jFHGd_ULY",
        "outputId": "3eb2f215-2378-4425-9c47-e436a3103871"
      },
      "source": [
        "print(len(dem_share_PA))\r\n",
        "print(len(dem_share_OH))"
      ],
      "execution_count": 34,
      "outputs": [
        {
          "output_type": "stream",
          "text": [
            "67\n",
            "88\n"
          ],
          "name": "stdout"
        }
      ]
    },
    {
      "cell_type": "code",
      "metadata": {
        "colab": {
          "base_uri": "https://localhost:8080/"
        },
        "id": "RSv9N0GMA3Ce",
        "outputId": "18f03f08-7b27-44db-bc4c-64b06fe3d79c"
      },
      "source": [
        "print(np.mean(dem_share_PA))\r\n",
        "print(np.mean(dem_share_OH))"
      ],
      "execution_count": 35,
      "outputs": [
        {
          "output_type": "stream",
          "text": [
            "45.476417910447765\n",
            "44.31818181818182\n"
          ],
          "name": "stdout"
        }
      ]
    },
    {
      "cell_type": "code",
      "metadata": {
        "colab": {
          "base_uri": "https://localhost:8080/"
        },
        "id": "FBZPzB0RBFCO",
        "outputId": "e3b8b92a-41d1-4105-b8e6-5b7447fcb848"
      },
      "source": [
        "boots = []\r\n",
        "for i in range(1, 20002 , 1000):\r\n",
        "    print(i)\r\n",
        "    boot = bootstrap_mean_ci(np.array(dem_share_OH), np.array(dem_share_OH).shape[0], i, 95)\r\n",
        "    boots.append([i, boot[0], \"mean\"])\r\n",
        "    boots.append([i, boot[1], \"lower\"])\r\n",
        "    boots.append([i, boot[2], \"upper\"])"
      ],
      "execution_count": 41,
      "outputs": [
        {
          "output_type": "stream",
          "text": [
            "1\n",
            "[47.89965909 47.89965909]\n",
            "1001\n",
            "[42.17465909 46.38613636]\n",
            "2001\n",
            "[42.16886364 46.36715909]\n",
            "3001\n",
            "[42.32965909 46.47965909]\n",
            "4001\n",
            "[42.15590909 46.34090909]\n",
            "5001\n",
            "[42.26681818 46.37602273]\n",
            "6001\n",
            "[42.30897727 46.38477273]\n",
            "7001\n",
            "[42.27352273 46.38159091]\n",
            "8001\n",
            "[42.26045455 46.39897727]\n",
            "9001\n",
            "[42.21852273 46.36636364]\n",
            "10001\n",
            "[42.26011364 46.39340909]\n",
            "11001\n",
            "[42.21897727 46.36056818]\n",
            "12001\n",
            "[42.22636364 46.37556818]\n",
            "13001\n",
            "[42.265      46.39613636]\n",
            "14001\n",
            "[42.25295455 46.36715909]\n",
            "15001\n",
            "[42.24420455 46.36170455]\n",
            "16001\n",
            "[42.28840909 46.37465909]\n",
            "17001\n",
            "[42.24318182 46.38318182]\n",
            "18001\n",
            "[42.26488636 46.37045455]\n",
            "19001\n",
            "[42.26636364 46.38590909]\n",
            "20001\n",
            "[42.25681818 46.39647727]\n"
          ],
          "name": "stdout"
        }
      ]
    },
    {
      "cell_type": "code",
      "metadata": {
        "colab": {
          "base_uri": "https://localhost:8080/"
        },
        "id": "g2yxIT2jCkQN",
        "outputId": "54ff101d-d7be-4372-ae76-7ba132098589"
      },
      "source": [
        "boots = []\r\n",
        "for i in range(1, 20002 , 1000):\r\n",
        "    print(i)\r\n",
        "    boot = bootstrap_mean_ci(np.array(dem_share_PA), np.array(dem_share_PA).shape[0], i, 95)\r\n",
        "    boots.append([i, boot[0], \"mean\"])\r\n",
        "    boots.append([i, boot[1], \"lower\"])\r\n",
        "    boots.append([i, boot[2], \"upper\"])"
      ],
      "execution_count": 42,
      "outputs": [
        {
          "output_type": "stream",
          "text": [
            "1\n",
            "[44.2819403 44.2819403]\n",
            "1001\n",
            "[43.27328358 47.91940299]\n",
            "2001\n",
            "[43.31313433 47.89492537]\n",
            "3001\n",
            "[43.19328358 47.87134328]\n",
            "4001\n",
            "[43.26761194 47.85850746]\n",
            "5001\n",
            "[43.19716418 47.82925373]\n",
            "6001\n",
            "[43.2119403 47.7558209]\n",
            "7001\n",
            "[43.21343284 47.85925373]\n",
            "8001\n",
            "[43.20313433 47.90507463]\n",
            "9001\n",
            "[43.27104478 47.83940299]\n",
            "10001\n",
            "[43.23029851 47.90089552]\n",
            "11001\n",
            "[43.18910448 47.8761194 ]\n",
            "12001\n",
            "[43.21373134 47.88343284]\n",
            "13001\n",
            "[43.19985075 47.82238806]\n",
            "14001\n",
            "[43.15567164 47.85447761]\n",
            "15001\n",
            "[43.21492537 47.85641791]\n",
            "16001\n",
            "[43.19820896 47.86223881]\n",
            "17001\n",
            "[43.19238806 47.86089552]\n",
            "18001\n",
            "[43.23238806 47.83029851]\n",
            "19001\n",
            "[43.1858209  47.87074627]\n",
            "20001\n",
            "[43.20074627 47.88432836]\n"
          ],
          "name": "stdout"
        }
      ]
    },
    {
      "cell_type": "code",
      "metadata": {
        "colab": {
          "base_uri": "https://localhost:8080/"
        },
        "id": "2f_9U-cWBbuJ",
        "outputId": "62f6de89-d64d-4e77-e191-ebc8db56faef"
      },
      "source": [
        "print(permut_test(dem_share_PA,dem_share_OH,10000))"
      ],
      "execution_count": 43,
      "outputs": [
        {
          "output_type": "stream",
          "text": [
            "0.7675\n"
          ],
          "name": "stdout"
        }
      ]
    },
    {
      "cell_type": "code",
      "metadata": {
        "id": "meY3eSP2B1Oi"
      },
      "source": [
        ""
      ],
      "execution_count": null,
      "outputs": []
    }
  ]
}