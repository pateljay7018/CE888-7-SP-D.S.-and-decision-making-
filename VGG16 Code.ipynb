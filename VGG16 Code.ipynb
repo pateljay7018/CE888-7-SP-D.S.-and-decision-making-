{
 "cells": [
  {
   "cell_type": "code",
   "execution_count": 2,
   "metadata": {},
   "outputs": [],
   "source": [
    "from keras.applications import VGG16\n",
    "\n",
    "# VGG16 was designed to work on 224 x 224 pixel input images sizes\n",
    "img_rows = 224\n",
    "img_cols = 224 \n",
    "\n",
    "#Loads the VGG16 model \n",
    "model = VGG16(weights = 'imagenet', \n",
    "                 include_top = False, \n",
    "                 input_shape = (img_rows, img_cols, 3))"
   ]
  },
  {
   "cell_type": "code",
   "execution_count": 3,
   "metadata": {},
   "outputs": [
    {
     "name": "stdout",
     "output_type": "stream",
     "text": [
      "0 InputLayer True\n",
      "1 Conv2D True\n",
      "2 Conv2D True\n",
      "3 MaxPooling2D True\n",
      "4 Conv2D True\n",
      "5 Conv2D True\n",
      "6 MaxPooling2D True\n",
      "7 Conv2D True\n",
      "8 Conv2D True\n",
      "9 Conv2D True\n",
      "10 MaxPooling2D True\n",
      "11 Conv2D True\n",
      "12 Conv2D True\n",
      "13 Conv2D True\n",
      "14 MaxPooling2D True\n",
      "15 Conv2D True\n",
      "16 Conv2D True\n",
      "17 Conv2D True\n",
      "18 MaxPooling2D True\n"
     ]
    }
   ],
   "source": [
    "# Let's print our layers \n",
    "for (i,layer) in enumerate(model.layers):\n",
    "    print(str(i) + \" \"+ layer.__class__.__name__, layer.trainable)"
   ]
  },
  {
   "cell_type": "code",
   "execution_count": 4,
   "metadata": {},
   "outputs": [
    {
     "name": "stdout",
     "output_type": "stream",
     "text": [
      "0 InputLayer False\n",
      "1 Conv2D False\n",
      "2 Conv2D False\n",
      "3 MaxPooling2D False\n",
      "4 Conv2D False\n",
      "5 Conv2D False\n",
      "6 MaxPooling2D False\n",
      "7 Conv2D False\n",
      "8 Conv2D False\n",
      "9 Conv2D False\n",
      "10 MaxPooling2D False\n",
      "11 Conv2D False\n",
      "12 Conv2D False\n",
      "13 Conv2D False\n",
      "14 MaxPooling2D False\n",
      "15 Conv2D False\n",
      "16 Conv2D False\n",
      "17 Conv2D False\n",
      "18 MaxPooling2D False\n"
     ]
    }
   ],
   "source": [
    "from keras.applications import VGG16\n",
    "\n",
    "# VGG16 was designed to work on 224 x 224 pixel input images sizes\n",
    "img_rows = 224\n",
    "img_cols = 224 \n",
    "\n",
    "# Re-loads the VGG16 model without the top or FC layers\n",
    "model = VGG16(weights = 'imagenet', \n",
    "                 include_top = False, \n",
    "                 input_shape = (img_rows, img_cols, 3))\n",
    "\n",
    "# Here we freeze the last 4 layers \n",
    "# Layers are set to trainable as True by default\n",
    "for layer in model.layers:\n",
    "    layer.trainable = False\n",
    "    \n",
    "# Let's print our layers \n",
    "for (i,layer) in enumerate(model.layers):\n",
    "    print(str(i) + \" \"+ layer.__class__.__name__, layer.trainable)"
   ]
  },
  {
   "cell_type": "code",
   "execution_count": 24,
   "metadata": {},
   "outputs": [],
   "source": [
    "def addTopModel(bottom_model, num_classes, D=256):\n",
    "    \"\"\"creates the top or head of the model that will be \n",
    "    placed ontop of the bottom layers\"\"\"\n",
    "    top_model = bottom_model.output\n",
    "    top_model = Flatten(name = \"flatten\")(top_model)\n",
    "    top_model = Dense(D, activation = \"relu\")(top_model)\n",
    "    top_model = Dropout(0.25)(top_model)\n",
    "    top_model = Dense(num_classes, activation = \"softmax\")(top_model)\n",
    "    return top_model"
   ]
  },
  {
   "cell_type": "code",
   "execution_count": 25,
   "metadata": {},
   "outputs": [
    {
     "data": {
      "text/plain": [
       "<tf.Tensor 'input_2:0' shape=(None, 224, 224, 3) dtype=float32>"
      ]
     },
     "execution_count": 25,
     "metadata": {},
     "output_type": "execute_result"
    }
   ],
   "source": [
    "model.input"
   ]
  },
  {
   "cell_type": "code",
   "execution_count": 26,
   "metadata": {},
   "outputs": [
    {
     "data": {
      "text/plain": [
       "[<tensorflow.python.keras.engine.input_layer.InputLayer at 0x2890c1c2070>,\n",
       " <tensorflow.python.keras.layers.convolutional.Conv2D at 0x2890c1c2550>,\n",
       " <tensorflow.python.keras.layers.convolutional.Conv2D at 0x2890c1c25e0>,\n",
       " <tensorflow.python.keras.layers.pooling.MaxPooling2D at 0x2890c1c2eb0>,\n",
       " <tensorflow.python.keras.layers.convolutional.Conv2D at 0x2890c1bfdf0>,\n",
       " <tensorflow.python.keras.layers.convolutional.Conv2D at 0x2890c1c73d0>,\n",
       " <tensorflow.python.keras.layers.pooling.MaxPooling2D at 0x28902b27f70>,\n",
       " <tensorflow.python.keras.layers.convolutional.Conv2D at 0x2890c1d55b0>,\n",
       " <tensorflow.python.keras.layers.convolutional.Conv2D at 0x2890c1d59d0>,\n",
       " <tensorflow.python.keras.layers.convolutional.Conv2D at 0x2890c1db790>,\n",
       " <tensorflow.python.keras.layers.pooling.MaxPooling2D at 0x2890c1e30d0>,\n",
       " <tensorflow.python.keras.layers.convolutional.Conv2D at 0x2890c1e8b20>,\n",
       " <tensorflow.python.keras.layers.convolutional.Conv2D at 0x2890c330280>,\n",
       " <tensorflow.python.keras.layers.convolutional.Conv2D at 0x2890c334850>,\n",
       " <tensorflow.python.keras.layers.pooling.MaxPooling2D at 0x2890c1e3b80>,\n",
       " <tensorflow.python.keras.layers.convolutional.Conv2D at 0x2890c342940>,\n",
       " <tensorflow.python.keras.layers.convolutional.Conv2D at 0x2890c34b7c0>,\n",
       " <tensorflow.python.keras.layers.convolutional.Conv2D at 0x2890c34b5b0>,\n",
       " <tensorflow.python.keras.layers.pooling.MaxPooling2D at 0x2890c34fd00>]"
      ]
     },
     "execution_count": 26,
     "metadata": {},
     "output_type": "execute_result"
    }
   ],
   "source": [
    "model.layers"
   ]
  },
  {
   "cell_type": "code",
   "execution_count": 27,
   "metadata": {
    "scrolled": true
   },
   "outputs": [
    {
     "name": "stdout",
     "output_type": "stream",
     "text": [
      "Model: \"functional_5\"\n",
      "_________________________________________________________________\n",
      "Layer (type)                 Output Shape              Param #   \n",
      "=================================================================\n",
      "input_2 (InputLayer)         [(None, 224, 224, 3)]     0         \n",
      "_________________________________________________________________\n",
      "block1_conv1 (Conv2D)        (None, 224, 224, 64)      1792      \n",
      "_________________________________________________________________\n",
      "block1_conv2 (Conv2D)        (None, 224, 224, 64)      36928     \n",
      "_________________________________________________________________\n",
      "block1_pool (MaxPooling2D)   (None, 112, 112, 64)      0         \n",
      "_________________________________________________________________\n",
      "block2_conv1 (Conv2D)        (None, 112, 112, 128)     73856     \n",
      "_________________________________________________________________\n",
      "block2_conv2 (Conv2D)        (None, 112, 112, 128)     147584    \n",
      "_________________________________________________________________\n",
      "block2_pool (MaxPooling2D)   (None, 56, 56, 128)       0         \n",
      "_________________________________________________________________\n",
      "block3_conv1 (Conv2D)        (None, 56, 56, 256)       295168    \n",
      "_________________________________________________________________\n",
      "block3_conv2 (Conv2D)        (None, 56, 56, 256)       590080    \n",
      "_________________________________________________________________\n",
      "block3_conv3 (Conv2D)        (None, 56, 56, 256)       590080    \n",
      "_________________________________________________________________\n",
      "block3_pool (MaxPooling2D)   (None, 28, 28, 256)       0         \n",
      "_________________________________________________________________\n",
      "block4_conv1 (Conv2D)        (None, 28, 28, 512)       1180160   \n",
      "_________________________________________________________________\n",
      "block4_conv2 (Conv2D)        (None, 28, 28, 512)       2359808   \n",
      "_________________________________________________________________\n",
      "block4_conv3 (Conv2D)        (None, 28, 28, 512)       2359808   \n",
      "_________________________________________________________________\n",
      "block4_pool (MaxPooling2D)   (None, 14, 14, 512)       0         \n",
      "_________________________________________________________________\n",
      "block5_conv1 (Conv2D)        (None, 14, 14, 512)       2359808   \n",
      "_________________________________________________________________\n",
      "block5_conv2 (Conv2D)        (None, 14, 14, 512)       2359808   \n",
      "_________________________________________________________________\n",
      "block5_conv3 (Conv2D)        (None, 14, 14, 512)       2359808   \n",
      "_________________________________________________________________\n",
      "block5_pool (MaxPooling2D)   (None, 7, 7, 512)         0         \n",
      "_________________________________________________________________\n",
      "flatten (Flatten)            (None, 25088)             0         \n",
      "_________________________________________________________________\n",
      "dense_4 (Dense)              (None, 256)               6422784   \n",
      "_________________________________________________________________\n",
      "dropout_2 (Dropout)          (None, 256)               0         \n",
      "_________________________________________________________________\n",
      "dense_5 (Dense)              (None, 2)                 514       \n",
      "=================================================================\n",
      "Total params: 21,137,986\n",
      "Trainable params: 6,423,298\n",
      "Non-trainable params: 14,714,688\n",
      "_________________________________________________________________\n",
      "None\n"
     ]
    }
   ],
   "source": [
    "from keras.models import Sequential\n",
    "from keras.layers import Dense, Dropout, Activation, Flatten\n",
    "from keras.layers import Conv2D, MaxPooling2D, ZeroPadding2D\n",
    "from keras.layers.normalization import BatchNormalization\n",
    "from keras.models import Model\n",
    "\n",
    "num_classes = 2\n",
    "\n",
    "FC_Head = addTopModel(model, num_classes)\n",
    "\n",
    "modelnew = Model(inputs=model.input, outputs=FC_Head)\n",
    "\n",
    "print(modelnew.summary())"
   ]
  },
  {
   "cell_type": "code",
   "execution_count": 28,
   "metadata": {},
   "outputs": [
    {
     "name": "stdout",
     "output_type": "stream",
     "text": [
      "Found 520 images belonging to 2 classes.\n",
      "Found 120 images belonging to 2 classes.\n"
     ]
    }
   ],
   "source": [
    "from keras.preprocessing.image import ImageDataGenerator\n",
    "\n",
    "#train_data_dir = '/home/gehu/Downloads/Untitled Folder 3/EXTERNALEYE DISEASES/Eye Diseases Vol.1/train3'\n",
    "#validation_data_dir = '/home/gehu/Downloads/Untitled Folder 3/EXTERNALEYE DISEASES/Eye Diseases Vol.1/test1'\n",
    "\n",
    "train_data_dir = 'D:/Amit/Umang Data/24 Aug 2021/Train'\n",
    "validation_data_dir = 'D:/Amit/Umang Data/24 Aug 2021/Test'\n",
    "\n",
    "train_datagen = ImageDataGenerator(\n",
    "      rescale=1./255,\n",
    "      rotation_range=20,\n",
    "      width_shift_range=0.2,\n",
    "      height_shift_range=0.2,\n",
    "      horizontal_flip=True,\n",
    "      fill_mode='nearest')\n",
    " \n",
    "validation_datagen = ImageDataGenerator(rescale=1./255)\n",
    " \n",
    "# Change the batchsize according to your system RAM\n",
    "train_batchsize = 10\n",
    "val_batchsize = 10\n",
    " \n",
    "train_generator = train_datagen.flow_from_directory(\n",
    "        train_data_dir,\n",
    "        target_size=(img_rows, img_cols),\n",
    "        batch_size=train_batchsize,\n",
    "        class_mode='categorical')\n",
    " \n",
    "validation_generator = validation_datagen.flow_from_directory(\n",
    "        validation_data_dir,\n",
    "        target_size=(img_rows, img_cols),\n",
    "        batch_size=val_batchsize,\n",
    "        class_mode='categorical',\n",
    "        shuffle=False)"
   ]
  },
  {
   "cell_type": "code",
   "execution_count": 31,
   "metadata": {
    "scrolled": true
   },
   "outputs": [
    {
     "name": "stdout",
     "output_type": "stream",
     "text": [
      "Epoch 1/25\n",
      "52/52 [==============================] - 88s 2s/step - loss: 0.5746 - accuracy: 0.7288 - val_loss: 0.8204 - val_accuracy: 0.5917\n",
      "Epoch 2/25\n",
      "52/52 [==============================] - 94s 2s/step - loss: 0.5461 - accuracy: 0.7308 - val_loss: 0.5676 - val_accuracy: 0.7417\n",
      "Epoch 3/25\n",
      "52/52 [==============================] - 97s 2s/step - loss: 0.5195 - accuracy: 0.7385 - val_loss: 0.7386 - val_accuracy: 0.6667\n",
      "Epoch 4/25\n",
      "52/52 [==============================] - 230s 4s/step - loss: 0.5790 - accuracy: 0.7308 - val_loss: 0.4332 - val_accuracy: 0.8417\n",
      "Epoch 5/25\n",
      "52/52 [==============================] - 99s 2s/step - loss: 0.5607 - accuracy: 0.7154 - val_loss: 0.7298 - val_accuracy: 0.6833\n",
      "Epoch 6/25\n",
      "52/52 [==============================] - 112s 2s/step - loss: 0.4838 - accuracy: 0.7654 - val_loss: 0.7839 - val_accuracy: 0.6583\n",
      "Epoch 7/25\n",
      "52/52 [==============================] - 366s 7s/step - loss: 0.5079 - accuracy: 0.7481 - val_loss: 0.9778 - val_accuracy: 0.5083\n",
      "Epoch 8/25\n",
      "52/52 [==============================] - 93s 2s/step - loss: 0.5010 - accuracy: 0.7558 - val_loss: 0.2525 - val_accuracy: 0.9583\n",
      "Epoch 9/25\n",
      "52/52 [==============================] - 104s 2s/step - loss: 0.4918 - accuracy: 0.7654 - val_loss: 0.8883 - val_accuracy: 0.5583\n",
      "Epoch 10/25\n",
      "52/52 [==============================] - 110s 2s/step - loss: 0.4564 - accuracy: 0.7731 - val_loss: 0.8372 - val_accuracy: 0.6083\n",
      "Epoch 11/25\n",
      "52/52 [==============================] - 110s 2s/step - loss: 0.4592 - accuracy: 0.8115 - val_loss: 0.9778 - val_accuracy: 0.5750\n",
      "Epoch 12/25\n",
      "52/52 [==============================] - 110s 2s/step - loss: 0.4934 - accuracy: 0.7692 - val_loss: 0.4188 - val_accuracy: 0.8083\n",
      "Epoch 13/25\n",
      "52/52 [==============================] - 111s 2s/step - loss: 0.4237 - accuracy: 0.7904 - val_loss: 0.5382 - val_accuracy: 0.7750\n",
      "Epoch 14/25\n",
      "52/52 [==============================] - 194s 4s/step - loss: 0.4684 - accuracy: 0.7904 - val_loss: 1.4660 - val_accuracy: 0.3083\n",
      "Epoch 15/25\n",
      "52/52 [==============================] - 97s 2s/step - loss: 0.4341 - accuracy: 0.8038 - val_loss: 0.8164 - val_accuracy: 0.5417\n",
      "Epoch 16/25\n",
      "52/52 [==============================] - 101s 2s/step - loss: 0.4528 - accuracy: 0.7731 - val_loss: 0.8290 - val_accuracy: 0.6667\n",
      "Epoch 17/25\n",
      "52/52 [==============================] - 109s 2s/step - loss: 0.4245 - accuracy: 0.8115 - val_loss: 0.9029 - val_accuracy: 0.6750\n",
      "Epoch 18/25\n",
      "52/52 [==============================] - 110s 2s/step - loss: 0.3904 - accuracy: 0.8250 - val_loss: 0.9115 - val_accuracy: 0.5833\n",
      "Epoch 19/25\n",
      "52/52 [==============================] - 110s 2s/step - loss: 0.4146 - accuracy: 0.7981 - val_loss: 0.7035 - val_accuracy: 0.7083\n",
      "Epoch 20/25\n",
      "52/52 [==============================] - 110s 2s/step - loss: 0.4051 - accuracy: 0.8192 - val_loss: 0.6074 - val_accuracy: 0.7083\n",
      "Epoch 21/25\n",
      "52/52 [==============================] - 110s 2s/step - loss: 0.4050 - accuracy: 0.8308 - val_loss: 0.4803 - val_accuracy: 0.7917\n",
      "Epoch 22/25\n",
      "52/52 [==============================] - 110s 2s/step - loss: 0.3896 - accuracy: 0.8154 - val_loss: 0.7733 - val_accuracy: 0.7083\n",
      "Epoch 23/25\n",
      "52/52 [==============================] - 111s 2s/step - loss: 0.4408 - accuracy: 0.7942 - val_loss: 0.5518 - val_accuracy: 0.7333\n",
      "Epoch 24/25\n",
      "52/52 [==============================] - 110s 2s/step - loss: 0.4248 - accuracy: 0.8058 - val_loss: 2.7389 - val_accuracy: 0.1083\n",
      "Epoch 25/25\n",
      "52/52 [==============================] - 152s 3s/step - loss: 0.3923 - accuracy: 0.8288 - val_loss: 0.6350 - val_accuracy: 0.6833\n"
     ]
    }
   ],
   "source": [
    "from keras.optimizers import RMSprop, Adam\n",
    "from keras.callbacks import ModelCheckpoint, EarlyStopping\n",
    "checkpoint = ModelCheckpoint(\"model.h5\",\n",
    "                             monitor=\"val_accuracy\",\n",
    "                             mode=\"max\",\n",
    "                             save_best_only = True,\n",
    "                             verbose=1)\n",
    "\n",
    "earlystop = EarlyStopping(monitor = 'val_accuracy', \n",
    "                          min_delta = 0, \n",
    "                          patience = 5,\n",
    "                          verbose = 1,\n",
    "                          restore_best_weights = True)\n",
    "\n",
    "# we put our call backs into a callback list\n",
    "callbacks = [earlystop, checkpoint]                 \n",
    "\n",
    "\n",
    "# Note we use a very small learning rate \n",
    "modelnew.compile(loss = 'categorical_crossentropy',\n",
    "              optimizer = RMSprop(lr = 0.001),\n",
    "              metrics = ['accuracy'])\n",
    "\n",
    "nb_train_samples = 520\n",
    "nb_validation_samples =120\n",
    "epochs = 25\n",
    "batch_size = 10\n",
    "\n",
    "history = modelnew.fit_generator(\n",
    "    train_generator,\n",
    "    steps_per_epoch = nb_train_samples // batch_size,\n",
    "    epochs = epochs,\n",
    "   # callbacks = callbacks,\n",
    "    validation_data = validation_generator,\n",
    "    validation_steps = nb_validation_samples // batch_size)\n",
    "\n",
    "modelnew.save(\"model.h5\")"
   ]
  },
  {
   "cell_type": "code",
   "execution_count": 32,
   "metadata": {},
   "outputs": [
    {
     "data": {
      "image/png": "[encoded data removed]",
      "text/plain": [
       "<Figure size 432x288 with 1 Axes>"
      ]
     },
     "metadata": {
      "needs_background": "light"
     },
     "output_type": "display_data"
    }
   ],
   "source": [
    "import matplotlib.pyplot as plt\n",
    "plt.plot(history.history[\"accuracy\"])\n",
    "plt.plot(history.history['val_accuracy'])\n",
    "plt.plot(history.history['loss'])\n",
    "plt.plot(history.history['val_loss'])\n",
    "plt.title(\"model accuracy\")\n",
    "plt.ylabel(\"Accuracy\")\n",
    "plt.xlabel(\"Epoch\")\n",
    "plt.legend([\"Accuracy\",\"Validation Accuracy\",\"loss\",\"Validation Loss\"])\n",
    "plt.show()"
   ]
  },
  {
   "cell_type": "code",
   "execution_count": null,
   "metadata": {},
   "outputs": [],
   "source": []
  }
 ],
 "metadata": {
  "kernelspec": {
   "display_name": "Python 3",
   "language": "python",
   "name": "python3"
  },
  "language_info": {
   "codemirror_mode": {
    "name": "ipython",
    "version": 3
   },
   "file_extension": ".py",
   "mimetype": "text/x-python",
   "name": "python",
   "nbconvert_exporter": "python",
   "pygments_lexer": "ipython3",
   "version": "3.8.8"
  }
 },
 "nbformat": 4,
 "nbformat_minor": 2
}
