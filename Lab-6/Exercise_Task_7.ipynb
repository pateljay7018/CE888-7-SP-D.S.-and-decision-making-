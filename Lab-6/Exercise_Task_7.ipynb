{
  "nbformat": 4,
  "nbformat_minor": 0,
  "metadata": {
    "colab": {
      "name": "Copy of Lab_6_Exercise_Task_7.ipynb",
      "provenance": [],
      "collapsed_sections": [],
      "include_colab_link": true
    },
    "kernelspec": {
      "name": "python3",
      "display_name": "Python 3"
    },
    "accelerator": "GPU"
  },
  "cells": [
    {
      "cell_type": "markdown",
      "metadata": {
        "id": "view-in-github",
        "colab_type": "text"
      },
      "source": [
        "<a href=\"https://colab.research.google.com/github/pateljay7018/CE888-7-SP-D.S.-and-decision-making-/blob/main/Lab-6/Exercise_Task_7.ipynb\" target=\"_parent\"><img src=\"https://colab.research.google.com/assets/colab-badge.svg\" alt=\"Open In Colab\"/></a>"
      ]
    },
    {
      "cell_type": "markdown",
      "metadata": {
        "id": "N6bCeojXJpsc"
      },
      "source": [
        "### Task 7: To complete this task, please create a new notebook in Google Colab. \n",
        "\n",
        "Note: Please create a new notebook for this task.\n",
        "\n",
        "Your data is stored in Lab_6/Data folder. There are two .csv files: 1) Country-data.csv and 2) data-dictionary.csv. Please explore the data and use any clustering method to find the list of countries, which can categorised as follows:\n",
        "\n",
        "| S.No      | Categories |\n",
        "| ----------- | ----------- |\n",
        "| 1   | under-developing country |\n",
        "| 2   | developing country       |\n",
        "| 3   | developed country        |\n",
        "\n",
        "\n",
        "Note: please justify your reason, why and how you have concluded your answer."
      ]
    },
    {
      "cell_type": "code",
      "metadata": {
        "id": "vYcYWp5NGabe"
      },
      "source": [
        "import pandas as pd\n",
        "import numpy as np\n",
        "import warnings\n",
        "warnings.filterwarnings('ignore')\n",
        "from sklearn import cluster, datasets, metrics\n",
        "from sklearn.decomposition import PCA"
      ],
      "execution_count": null,
      "outputs": []
    },
    {
      "cell_type": "code",
      "metadata": {
        "colab": {
          "base_uri": "https://localhost:8080/"
        },
        "id": "a9FhH_XtI2Ho",
        "outputId": "122a8210-a6e6-4cbe-bb6a-ca9c24362e9f"
      },
      "source": [
        "df_dic = pd.read_csv('https://raw.githubusercontent.com/sagihaider/CE888_2021/main/Lab_6/Data/data-dictionary.csv')\n",
        "df_country = pd.read_csv('https://raw.githubusercontent.com/sagihaider/CE888_2021/main/Lab_6/Data/Country-data.csv')\n",
        "print(df_dic)\n",
        "print(df_country)"
      ],
      "execution_count": null,
      "outputs": [
        {
          "output_type": "stream",
          "text": [
            "  Column Name                                        Description\n",
            "0     country                                Name of the country\n",
            "1  child_mort  Death of children under 5 years of age per 100...\n",
            "2     exports  Exports of goods and services per capita. Give...\n",
            "3      health  Total health spending per capita. Given as %ag...\n",
            "4     imports  Imports of goods and services per capita. Give...\n",
            "5      Income                              Net income per person\n",
            "6   Inflation  The measurement of the annual growth rate of t...\n",
            "7  life_expec  The average number of years a new born child w...\n",
            "8   total_fer  The number of children that would be born to e...\n",
            "9        gdpp  The GDP per capita. Calculated as the Total GD...\n",
            "                 country  child_mort  exports  ...  life_expec  total_fer   gdpp\n",
            "0            Afghanistan        90.2     10.0  ...        56.2       5.82    553\n",
            "1                Albania        16.6     28.0  ...        76.3       1.65   4090\n",
            "2                Algeria        27.3     38.4  ...        76.5       2.89   4460\n",
            "3                 Angola       119.0     62.3  ...        60.1       6.16   3530\n",
            "4    Antigua and Barbuda        10.3     45.5  ...        76.8       2.13  12200\n",
            "..                   ...         ...      ...  ...         ...        ...    ...\n",
            "162              Vanuatu        29.2     46.6  ...        63.0       3.50   2970\n",
            "163            Venezuela        17.1     28.5  ...        75.4       2.47  13500\n",
            "164              Vietnam        23.3     72.0  ...        73.1       1.95   1310\n",
            "165                Yemen        56.3     30.0  ...        67.5       4.67   1310\n",
            "166               Zambia        83.1     37.0  ...        52.0       5.40   1460\n",
            "\n",
            "[167 rows x 10 columns]\n"
          ],
          "name": "stdout"
        }
      ]
    },
    {
      "cell_type": "code",
      "metadata": {
        "colab": {
          "base_uri": "https://localhost:8080/"
        },
        "id": "WnRoQdwJZbft",
        "outputId": "864a9ab5-f9c3-410f-85dc-d8ceeec32c4f"
      },
      "source": [
        "scikit_pca = PCA(n_components=2)\n",
        "X = scikit_pca.fit_transform(df_country.iloc[:,8:].values)\n",
        "X\n",
        "model = cluster.KMeans(n_clusters=3, random_state=5000).fit(X)\n",
        "df_country['Class'] = model.labels_\n",
        "\n",
        "df_country['Class']"
      ],
      "execution_count": null,
      "outputs": [
        {
          "output_type": "execute_result",
          "data": {
            "text/plain": [
              "0      0\n",
              "1      0\n",
              "2      0\n",
              "3      0\n",
              "4      0\n",
              "      ..\n",
              "162    0\n",
              "163    0\n",
              "164    0\n",
              "165    0\n",
              "166    0\n",
              "Name: Class, Length: 167, dtype: int32"
            ]
          },
          "metadata": {
            "tags": []
          },
          "execution_count": 13
        }
      ]
    },
    {
      "cell_type": "markdown",
      "metadata": {
        "id": "FNV2HJgl07is"
      },
      "source": [
        "# I choose gdpp and income column for findout country category\n",
        "\n",
        "Low- income economies are usually referred to as under-developing economies, middle-income economies are usually referred to as developing economies, and the Upper Middle Income and the High Income are referred to as Developed Countries.\n",
        "\n",
        "GDPP - The GDP per capita. Calculated as the Total GDP divided by the total population. Low gdp means under-developing, Medium means developing and High gdp means developed country "
      ]
    },
    {
      "cell_type": "code",
      "metadata": {
        "id": "-f-KG6ysPDlm",
        "colab": {
          "base_uri": "https://localhost:8080/",
          "height": 204
        },
        "outputId": "6d4ffacb-5dff-4c29-f16a-14d3ce688920"
      },
      "source": [
        "test= []\n",
        "df_country[df_country['Class'] == 0].head()"
      ],
      "execution_count": null,
      "outputs": [
        {
          "output_type": "execute_result",
          "data": {
            "text/html": [
              "<div>\n",
              "<style scoped>\n",
              "    .dataframe tbody tr th:only-of-type {\n",
              "        vertical-align: middle;\n",
              "    }\n",
              "\n",
              "    .dataframe tbody tr th {\n",
              "        vertical-align: top;\n",
              "    }\n",
              "\n",
              "    .dataframe thead th {\n",
              "        text-align: right;\n",
              "    }\n",
              "</style>\n",
              "<table border=\"1\" class=\"dataframe\">\n",
              "  <thead>\n",
              "    <tr style=\"text-align: right;\">\n",
              "      <th></th>\n",
              "      <th>country</th>\n",
              "      <th>child_mort</th>\n",
              "      <th>exports</th>\n",
              "      <th>health</th>\n",
              "      <th>imports</th>\n",
              "      <th>income</th>\n",
              "      <th>inflation</th>\n",
              "      <th>life_expec</th>\n",
              "      <th>total_fer</th>\n",
              "      <th>gdpp</th>\n",
              "      <th>Class</th>\n",
              "    </tr>\n",
              "  </thead>\n",
              "  <tbody>\n",
              "    <tr>\n",
              "      <th>0</th>\n",
              "      <td>Afghanistan</td>\n",
              "      <td>90.2</td>\n",
              "      <td>10.0</td>\n",
              "      <td>7.58</td>\n",
              "      <td>44.9</td>\n",
              "      <td>1610</td>\n",
              "      <td>9.44</td>\n",
              "      <td>56.2</td>\n",
              "      <td>5.82</td>\n",
              "      <td>553</td>\n",
              "      <td>0</td>\n",
              "    </tr>\n",
              "    <tr>\n",
              "      <th>1</th>\n",
              "      <td>Albania</td>\n",
              "      <td>16.6</td>\n",
              "      <td>28.0</td>\n",
              "      <td>6.55</td>\n",
              "      <td>48.6</td>\n",
              "      <td>9930</td>\n",
              "      <td>4.49</td>\n",
              "      <td>76.3</td>\n",
              "      <td>1.65</td>\n",
              "      <td>4090</td>\n",
              "      <td>0</td>\n",
              "    </tr>\n",
              "    <tr>\n",
              "      <th>2</th>\n",
              "      <td>Algeria</td>\n",
              "      <td>27.3</td>\n",
              "      <td>38.4</td>\n",
              "      <td>4.17</td>\n",
              "      <td>31.4</td>\n",
              "      <td>12900</td>\n",
              "      <td>16.10</td>\n",
              "      <td>76.5</td>\n",
              "      <td>2.89</td>\n",
              "      <td>4460</td>\n",
              "      <td>0</td>\n",
              "    </tr>\n",
              "    <tr>\n",
              "      <th>3</th>\n",
              "      <td>Angola</td>\n",
              "      <td>119.0</td>\n",
              "      <td>62.3</td>\n",
              "      <td>2.85</td>\n",
              "      <td>42.9</td>\n",
              "      <td>5900</td>\n",
              "      <td>22.40</td>\n",
              "      <td>60.1</td>\n",
              "      <td>6.16</td>\n",
              "      <td>3530</td>\n",
              "      <td>0</td>\n",
              "    </tr>\n",
              "    <tr>\n",
              "      <th>4</th>\n",
              "      <td>Antigua and Barbuda</td>\n",
              "      <td>10.3</td>\n",
              "      <td>45.5</td>\n",
              "      <td>6.03</td>\n",
              "      <td>58.9</td>\n",
              "      <td>19100</td>\n",
              "      <td>1.44</td>\n",
              "      <td>76.8</td>\n",
              "      <td>2.13</td>\n",
              "      <td>12200</td>\n",
              "      <td>0</td>\n",
              "    </tr>\n",
              "  </tbody>\n",
              "</table>\n",
              "</div>"
            ],
            "text/plain": [
              "               country  child_mort  exports  ...  total_fer   gdpp  Class\n",
              "0          Afghanistan        90.2     10.0  ...       5.82    553      0\n",
              "1              Albania        16.6     28.0  ...       1.65   4090      0\n",
              "2              Algeria        27.3     38.4  ...       2.89   4460      0\n",
              "3               Angola       119.0     62.3  ...       6.16   3530      0\n",
              "4  Antigua and Barbuda        10.3     45.5  ...       2.13  12200      0\n",
              "\n",
              "[5 rows x 11 columns]"
            ]
          },
          "metadata": {
            "tags": []
          },
          "execution_count": 14
        }
      ]
    },
    {
      "cell_type": "code",
      "metadata": {
        "colab": {
          "base_uri": "https://localhost:8080/"
        },
        "id": "-Ca2C9OlvXBj",
        "outputId": "cb4cd059-a9c6-4d46-c79b-31c7d1b1c408"
      },
      "source": [
        "for country in df_country[df_country['Class'] == 0].iloc[:,0].head().values:\n",
        "  test.append(['under-developing country',country])\n",
        "test"
      ],
      "execution_count": null,
      "outputs": [
        {
          "output_type": "execute_result",
          "data": {
            "text/plain": [
              "[['under-developing country', 'Afghanistan'],\n",
              " ['under-developing country', 'Albania'],\n",
              " ['under-developing country', 'Algeria'],\n",
              " ['under-developing country', 'Angola'],\n",
              " ['under-developing country', 'Antigua and Barbuda'],\n",
              " ['under-developing country', 'Afghanistan'],\n",
              " ['under-developing country', 'Albania'],\n",
              " ['under-developing country', 'Algeria'],\n",
              " ['under-developing country', 'Angola'],\n",
              " ['under-developing country', 'Antigua and Barbuda']]"
            ]
          },
          "metadata": {
            "tags": []
          },
          "execution_count": 16
        }
      ]
    },
    {
      "cell_type": "code",
      "metadata": {
        "id": "G14FAfg6PFEw",
        "colab": {
          "base_uri": "https://localhost:8080/",
          "height": 204
        },
        "outputId": "0c22e347-a9a0-45f8-cb44-cc547314a47a"
      },
      "source": [
        "df_country[df_country['Class'] == 1].head()"
      ],
      "execution_count": null,
      "outputs": [
        {
          "output_type": "execute_result",
          "data": {
            "text/html": [
              "<div>\n",
              "<style scoped>\n",
              "    .dataframe tbody tr th:only-of-type {\n",
              "        vertical-align: middle;\n",
              "    }\n",
              "\n",
              "    .dataframe tbody tr th {\n",
              "        vertical-align: top;\n",
              "    }\n",
              "\n",
              "    .dataframe thead th {\n",
              "        text-align: right;\n",
              "    }\n",
              "</style>\n",
              "<table border=\"1\" class=\"dataframe\">\n",
              "  <thead>\n",
              "    <tr style=\"text-align: right;\">\n",
              "      <th></th>\n",
              "      <th>country</th>\n",
              "      <th>child_mort</th>\n",
              "      <th>exports</th>\n",
              "      <th>health</th>\n",
              "      <th>imports</th>\n",
              "      <th>income</th>\n",
              "      <th>inflation</th>\n",
              "      <th>life_expec</th>\n",
              "      <th>total_fer</th>\n",
              "      <th>gdpp</th>\n",
              "      <th>Class</th>\n",
              "    </tr>\n",
              "  </thead>\n",
              "  <tbody>\n",
              "    <tr>\n",
              "      <th>7</th>\n",
              "      <td>Australia</td>\n",
              "      <td>4.8</td>\n",
              "      <td>19.8</td>\n",
              "      <td>8.73</td>\n",
              "      <td>20.9</td>\n",
              "      <td>41400</td>\n",
              "      <td>1.160</td>\n",
              "      <td>82.0</td>\n",
              "      <td>1.93</td>\n",
              "      <td>51900</td>\n",
              "      <td>1</td>\n",
              "    </tr>\n",
              "    <tr>\n",
              "      <th>8</th>\n",
              "      <td>Austria</td>\n",
              "      <td>4.3</td>\n",
              "      <td>51.3</td>\n",
              "      <td>11.00</td>\n",
              "      <td>47.8</td>\n",
              "      <td>43200</td>\n",
              "      <td>0.873</td>\n",
              "      <td>80.5</td>\n",
              "      <td>1.44</td>\n",
              "      <td>46900</td>\n",
              "      <td>1</td>\n",
              "    </tr>\n",
              "    <tr>\n",
              "      <th>10</th>\n",
              "      <td>Bahamas</td>\n",
              "      <td>13.8</td>\n",
              "      <td>35.0</td>\n",
              "      <td>7.89</td>\n",
              "      <td>43.7</td>\n",
              "      <td>22900</td>\n",
              "      <td>-0.393</td>\n",
              "      <td>73.8</td>\n",
              "      <td>1.86</td>\n",
              "      <td>28000</td>\n",
              "      <td>1</td>\n",
              "    </tr>\n",
              "    <tr>\n",
              "      <th>15</th>\n",
              "      <td>Belgium</td>\n",
              "      <td>4.5</td>\n",
              "      <td>76.4</td>\n",
              "      <td>10.70</td>\n",
              "      <td>74.7</td>\n",
              "      <td>41100</td>\n",
              "      <td>1.880</td>\n",
              "      <td>80.0</td>\n",
              "      <td>1.86</td>\n",
              "      <td>44400</td>\n",
              "      <td>1</td>\n",
              "    </tr>\n",
              "    <tr>\n",
              "      <th>23</th>\n",
              "      <td>Brunei</td>\n",
              "      <td>10.5</td>\n",
              "      <td>67.4</td>\n",
              "      <td>2.84</td>\n",
              "      <td>28.0</td>\n",
              "      <td>80600</td>\n",
              "      <td>16.700</td>\n",
              "      <td>77.1</td>\n",
              "      <td>1.84</td>\n",
              "      <td>35300</td>\n",
              "      <td>1</td>\n",
              "    </tr>\n",
              "  </tbody>\n",
              "</table>\n",
              "</div>"
            ],
            "text/plain": [
              "      country  child_mort  exports  health  ...  life_expec  total_fer   gdpp  Class\n",
              "7   Australia         4.8     19.8    8.73  ...        82.0       1.93  51900      1\n",
              "8     Austria         4.3     51.3   11.00  ...        80.5       1.44  46900      1\n",
              "10    Bahamas        13.8     35.0    7.89  ...        73.8       1.86  28000      1\n",
              "15    Belgium         4.5     76.4   10.70  ...        80.0       1.86  44400      1\n",
              "23     Brunei        10.5     67.4    2.84  ...        77.1       1.84  35300      1\n",
              "\n",
              "[5 rows x 11 columns]"
            ]
          },
          "metadata": {
            "tags": []
          },
          "execution_count": 17
        }
      ]
    },
    {
      "cell_type": "code",
      "metadata": {
        "colab": {
          "base_uri": "https://localhost:8080/"
        },
        "id": "nFJMdzSKvegv",
        "outputId": "e6472319-b563-4281-d7b3-a675b7f3a663"
      },
      "source": [
        "for country in df_country[df_country['Class'] == 1].iloc[:,0].head().values:\n",
        "  test.append(['developing country',country])\n",
        "test"
      ],
      "execution_count": null,
      "outputs": [
        {
          "output_type": "execute_result",
          "data": {
            "text/plain": [
              "[['under-developing country', 'Afghanistan'],\n",
              " ['under-developing country', 'Albania'],\n",
              " ['under-developing country', 'Algeria'],\n",
              " ['under-developing country', 'Angola'],\n",
              " ['under-developing country', 'Antigua and Barbuda'],\n",
              " ['under-developing country', 'Afghanistan'],\n",
              " ['under-developing country', 'Albania'],\n",
              " ['under-developing country', 'Algeria'],\n",
              " ['under-developing country', 'Angola'],\n",
              " ['under-developing country', 'Antigua and Barbuda'],\n",
              " ['developing country', 'Australia'],\n",
              " ['developing country', 'Austria'],\n",
              " ['developing country', 'Bahamas'],\n",
              " ['developing country', 'Belgium'],\n",
              " ['developing country', 'Brunei'],\n",
              " ['developing country', 'Australia'],\n",
              " ['developing country', 'Austria'],\n",
              " ['developing country', 'Bahamas'],\n",
              " ['developing country', 'Belgium'],\n",
              " ['developing country', 'Brunei']]"
            ]
          },
          "metadata": {
            "tags": []
          },
          "execution_count": 19
        }
      ]
    },
    {
      "cell_type": "code",
      "metadata": {
        "id": "DuIiB7v0PIby",
        "colab": {
          "base_uri": "https://localhost:8080/",
          "height": 173
        },
        "outputId": "4bc6df07-0f76-46b5-c0a4-a6ad3bdc2db9"
      },
      "source": [
        "df_country[df_country['Class'] == 2].head()"
      ],
      "execution_count": null,
      "outputs": [
        {
          "output_type": "execute_result",
          "data": {
            "text/html": [
              "<div>\n",
              "<style scoped>\n",
              "    .dataframe tbody tr th:only-of-type {\n",
              "        vertical-align: middle;\n",
              "    }\n",
              "\n",
              "    .dataframe tbody tr th {\n",
              "        vertical-align: top;\n",
              "    }\n",
              "\n",
              "    .dataframe thead th {\n",
              "        text-align: right;\n",
              "    }\n",
              "</style>\n",
              "<table border=\"1\" class=\"dataframe\">\n",
              "  <thead>\n",
              "    <tr style=\"text-align: right;\">\n",
              "      <th></th>\n",
              "      <th>country</th>\n",
              "      <th>child_mort</th>\n",
              "      <th>exports</th>\n",
              "      <th>health</th>\n",
              "      <th>imports</th>\n",
              "      <th>income</th>\n",
              "      <th>inflation</th>\n",
              "      <th>life_expec</th>\n",
              "      <th>total_fer</th>\n",
              "      <th>gdpp</th>\n",
              "      <th>Class</th>\n",
              "    </tr>\n",
              "  </thead>\n",
              "  <tbody>\n",
              "    <tr>\n",
              "      <th>91</th>\n",
              "      <td>Luxembourg</td>\n",
              "      <td>2.8</td>\n",
              "      <td>175.0</td>\n",
              "      <td>7.77</td>\n",
              "      <td>142.0</td>\n",
              "      <td>91700</td>\n",
              "      <td>3.620</td>\n",
              "      <td>81.3</td>\n",
              "      <td>1.63</td>\n",
              "      <td>105000</td>\n",
              "      <td>2</td>\n",
              "    </tr>\n",
              "    <tr>\n",
              "      <th>114</th>\n",
              "      <td>Norway</td>\n",
              "      <td>3.2</td>\n",
              "      <td>39.7</td>\n",
              "      <td>9.48</td>\n",
              "      <td>28.5</td>\n",
              "      <td>62300</td>\n",
              "      <td>5.950</td>\n",
              "      <td>81.0</td>\n",
              "      <td>1.95</td>\n",
              "      <td>87800</td>\n",
              "      <td>2</td>\n",
              "    </tr>\n",
              "    <tr>\n",
              "      <th>123</th>\n",
              "      <td>Qatar</td>\n",
              "      <td>9.0</td>\n",
              "      <td>62.3</td>\n",
              "      <td>1.81</td>\n",
              "      <td>23.8</td>\n",
              "      <td>125000</td>\n",
              "      <td>6.980</td>\n",
              "      <td>79.5</td>\n",
              "      <td>2.07</td>\n",
              "      <td>70300</td>\n",
              "      <td>2</td>\n",
              "    </tr>\n",
              "    <tr>\n",
              "      <th>145</th>\n",
              "      <td>Switzerland</td>\n",
              "      <td>4.5</td>\n",
              "      <td>64.0</td>\n",
              "      <td>11.50</td>\n",
              "      <td>53.3</td>\n",
              "      <td>55500</td>\n",
              "      <td>0.317</td>\n",
              "      <td>82.2</td>\n",
              "      <td>1.52</td>\n",
              "      <td>74600</td>\n",
              "      <td>2</td>\n",
              "    </tr>\n",
              "  </tbody>\n",
              "</table>\n",
              "</div>"
            ],
            "text/plain": [
              "         country  child_mort  exports  ...  total_fer    gdpp  Class\n",
              "91    Luxembourg         2.8    175.0  ...       1.63  105000      2\n",
              "114       Norway         3.2     39.7  ...       1.95   87800      2\n",
              "123        Qatar         9.0     62.3  ...       2.07   70300      2\n",
              "145  Switzerland         4.5     64.0  ...       1.52   74600      2\n",
              "\n",
              "[4 rows x 11 columns]"
            ]
          },
          "metadata": {
            "tags": []
          },
          "execution_count": 20
        }
      ]
    },
    {
      "cell_type": "code",
      "metadata": {
        "colab": {
          "base_uri": "https://localhost:8080/"
        },
        "id": "0UH2T_6wvkgD",
        "outputId": "2fc4ac30-3bee-4a11-ff40-29c6e341c385"
      },
      "source": [
        "for country in df_country[df_country['Class'] == 2].iloc[:,0].head().values:\n",
        "  test.append(['developed country',country])\n",
        "test"
      ],
      "execution_count": null,
      "outputs": [
        {
          "output_type": "execute_result",
          "data": {
            "text/plain": [
              "[['under-developing country', 'Afghanistan'],\n",
              " ['under-developing country', 'Albania'],\n",
              " ['under-developing country', 'Algeria'],\n",
              " ['under-developing country', 'Angola'],\n",
              " ['under-developing country', 'Antigua and Barbuda'],\n",
              " ['under-developing country', 'Afghanistan'],\n",
              " ['under-developing country', 'Albania'],\n",
              " ['under-developing country', 'Algeria'],\n",
              " ['under-developing country', 'Angola'],\n",
              " ['under-developing country', 'Antigua and Barbuda'],\n",
              " ['developing country', 'Australia'],\n",
              " ['developing country', 'Austria'],\n",
              " ['developing country', 'Bahamas'],\n",
              " ['developing country', 'Belgium'],\n",
              " ['developing country', 'Brunei'],\n",
              " ['developing country', 'Australia'],\n",
              " ['developing country', 'Austria'],\n",
              " ['developing country', 'Bahamas'],\n",
              " ['developing country', 'Belgium'],\n",
              " ['developing country', 'Brunei'],\n",
              " ['developed country', 'Luxembourg'],\n",
              " ['developed country', 'Norway'],\n",
              " ['developed country', 'Qatar'],\n",
              " ['developed country', 'Switzerland'],\n",
              " ['developed country', 'Luxembourg'],\n",
              " ['developed country', 'Norway'],\n",
              " ['developed country', 'Qatar'],\n",
              " ['developed country', 'Switzerland']]"
            ]
          },
          "metadata": {
            "tags": []
          },
          "execution_count": 22
        }
      ]
    }
  ]
}