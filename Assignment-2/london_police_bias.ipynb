{
  "nbformat": 4,
  "nbformat_minor": 0,
  "metadata": {
    "colab": {
      "name": "Copy of Untitled3.ipynb",
      "provenance": [],
      "collapsed_sections": [],
      "include_colab_link": true
    },
    "kernelspec": {
      "name": "python3",
      "display_name": "Python 3"
    }
  },
  "cells": [
    {
      "cell_type": "markdown",
      "metadata": {
        "id": "view-in-github",
        "colab_type": "text"
      },
      "source": [
        "<a href=\"https://colab.research.google.com/github/pateljay7018/CE888-7-SP-D.S.-and-decision-making-/blob/main/Assignment-2/london_police_bias.ipynb\" target=\"_parent\"><img src=\"https://colab.research.google.com/assets/colab-badge.svg\" alt=\"Open In Colab\"/></a>"
      ]
    },
    {
      "cell_type": "markdown",
      "metadata": {
        "id": "1zO4JRyJ7El1"
      },
      "source": [
        "\n",
        "# Is the UK Police Biased?"
      ]
    },
    {
      "cell_type": "code",
      "metadata": {
        "id": "BiOKq3gLaPsk"
      },
      "source": [
        "#import libraries\n",
        "import numpy as np\n",
        "import pandas as pd\n",
        "import warnings\n",
        "from google.colab import files\n",
        "from datetime import datetime \n",
        "\n",
        "#data visualization\n",
        "import matplotlib.pyplot as plt\n",
        "import seaborn as sns\n"
      ],
      "execution_count": null,
      "outputs": []
    },
    {
      "cell_type": "markdown",
      "metadata": {
        "id": "vW2bK4l82lL3"
      },
      "source": [
        "**Get Data-set from google drive, while it's combined to gather and store into new data-set in the GitHub:**"
      ]
    },
    {
      "cell_type": "code",
      "metadata": {
        "id": "yLLD-zfec_dh"
      },
      "source": [
        "#connecting google drive for importing datasets\n",
        "\n",
        "#from google.colab import drive\n",
        "#drive.mount(\"/content/gdrive\")"
      ],
      "execution_count": null,
      "outputs": []
    },
    {
      "cell_type": "markdown",
      "metadata": {
        "id": "r5_d_mK87Urp"
      },
      "source": [
        "**This data set has been taken from the \"https://data.police.uk/data/.\" website, which's data set from the \"Jan-2020\" to \"Dec-2020\" about the city of London and contains records of search and stop objects.**"
      ]
    },
    {
      "cell_type": "code",
      "metadata": {
        "id": "ZBkvBdtT0d95"
      },
      "source": [
        "#LONDON\n",
        "\n",
        "#london20_1 = pd.read_csv('/content/gdrive/My Drive/CE888/2020-01/2020-01-city-of-london-stop-and-search.csv')\n",
        "#london20_1[\"Date\"] = \"2020-01\"\n",
        "#london20_2 = pd.read_csv('/content/gdrive/My Drive/CE888/2020-02/2020-02-city-of-london-stop-and-search.csv')\n",
        "#london20_2[\"Date\"] = \"2020-02\"\n",
        "#london20_3 = pd.read_csv('/content/gdrive/My Drive/CE888/2020-03/2020-03-city-of-london-stop-and-search.csv')\n",
        "#london20_3[\"Date\"] = \"2020-03\"\n",
        "#london20_4 = pd.read_csv('/content/gdrive/My Drive/CE888/2020-04/2020-04-city-of-london-stop-and-search.csv')\n",
        "#london20_4[\"Date\"] = \"2020-04\"\n",
        "#london20_5 = pd.read_csv('/content/gdrive/My Drive/CE888/2020-05/2020-05-city-of-london-stop-and-search.csv')\n",
        "#london20_5[\"Date\"] = \"2020-05\"\n",
        "#london20_6 = pd.read_csv('/content/gdrive/My Drive/CE888/2020-06/2020-06-city-of-london-stop-and-search.csv')\n",
        "#london20_6[\"Date\"] = \"2020-06\"\n",
        "#london20_7 = pd.read_csv('/content/gdrive/My Drive/CE888/2020-07/2020-07-city-of-london-stop-and-search.csv')\n",
        "#london20_7[\"Date\"] = \"2020-07\"\n",
        "#london20_8 = pd.read_csv('/content/gdrive/My Drive/CE888/2020-08/2020-08-city-of-london-stop-and-search.csv')\n",
        "#london20_8[\"Date\"] = \"2020-08\"\n",
        "#london20_9 = pd.read_csv('/content/gdrive/My Drive/CE888/2020-09/2020-09-city-of-london-stop-and-search.csv')\n",
        "#london20_9[\"Date\"] = \"2020-09\"\n",
        "#london20_10 = pd.read_csv('/content/gdrive/My Drive/CE888/2020-10/2020-10-city-of-london-stop-and-search.csv')\n",
        "#london20_10[\"Date\"] = \"2020-10\"\n",
        "#london20_11 = pd.read_csv('/content/gdrive/My Drive/CE888/2020-11/2020-11-city-of-london-stop-and-search.csv')\n",
        "#london20_11[\"Date\"] = \"2020-11\"\n",
        "#london20_12 = pd.read_csv('/content/gdrive/My Drive/CE888/2020-12/2020-12-city-of-london-stop-and-search.csv')\n",
        "#london20 = pd.concat([london20_1,london20_2,london20_3,london20_4,london20_5,london20_6,london20_7,london20_8,london20_9,london20_10,london20_11,london20_12])\n",
        "#london = pd.concat([london20])\n",
        "#london[\"City\"] = \"London\"\n",
        "#london= pd.DataFrame(london)\n",
        "#london.head()"
      ],
      "execution_count": null,
      "outputs": []
    },
    {
      "cell_type": "code",
      "metadata": {
        "id": "or2o5Qd6RfF7"
      },
      "source": [
        "#Getting subset and remove N/A values\n",
        "#df= pd.concat([london])\n",
        "#sort = df[['City','Date','Officer-defined ethnicity','Type','Self-defined ethnicity','Gender','Age range','Removal of more than just outer clothing','Outcome']]\n",
        "#data = sort.dropna()\n",
        "#data = data.reset_index(drop=True)\n",
        "#data.head()"
      ],
      "execution_count": null,
      "outputs": []
    },
    {
      "cell_type": "code",
      "metadata": {
        "id": "bR0Ng3AYWMfd"
      },
      "source": [
        "#shape of datae\n",
        "#data.shape"
      ],
      "execution_count": null,
      "outputs": []
    },
    {
      "cell_type": "code",
      "metadata": {
        "id": "a9tdHrs2XcJe"
      },
      "source": [
        "#To save file in my google drive\n",
        "#data.to_csv('/content/gdrive/My Drive/CE888/2020-city-of-london_final.csv')"
      ],
      "execution_count": null,
      "outputs": []
    },
    {
      "cell_type": "markdown",
      "metadata": {
        "id": "Cz3SajIq22OQ"
      },
      "source": [
        "**Read new combined data set from Github:**"
      ]
    },
    {
      "cell_type": "code",
      "metadata": {
        "id": "MSgxv8ON1kdE"
      },
      "source": [
        "data = pd.read_csv(\"https://raw.githubusercontent.com/pateljay7018/CE888-7-SP-D.S.-and-decision-making-/main/Assignment-1/2020-city-of-london_final.csv\")"
      ],
      "execution_count": null,
      "outputs": []
    },
    {
      "cell_type": "code",
      "metadata": {
        "colab": {
          "base_uri": "https://localhost:8080/"
        },
        "id": "mTZIMU-93uKe",
        "outputId": "198c6371-4a92-491e-8258-93b3d1625199"
      },
      "source": [
        "data.shape"
      ],
      "execution_count": null,
      "outputs": [
        {
          "output_type": "execute_result",
          "data": {
            "text/plain": [
              "(2850, 10)"
            ]
          },
          "metadata": {
            "tags": []
          },
          "execution_count": 13
        }
      ]
    },
    {
      "cell_type": "code",
      "metadata": {
        "colab": {
          "base_uri": "https://localhost:8080/",
          "height": 296
        },
        "id": "5-c8LKBYYkye",
        "outputId": "c3f3d010-e073-4993-d5f8-e246e4bd386a"
      },
      "source": [
        "data.head()"
      ],
      "execution_count": null,
      "outputs": [
        {
          "output_type": "execute_result",
          "data": {
            "text/html": [
              "<div>\n",
              "<style scoped>\n",
              "    .dataframe tbody tr th:only-of-type {\n",
              "        vertical-align: middle;\n",
              "    }\n",
              "\n",
              "    .dataframe tbody tr th {\n",
              "        vertical-align: top;\n",
              "    }\n",
              "\n",
              "    .dataframe thead th {\n",
              "        text-align: right;\n",
              "    }\n",
              "</style>\n",
              "<table border=\"1\" class=\"dataframe\">\n",
              "  <thead>\n",
              "    <tr style=\"text-align: right;\">\n",
              "      <th></th>\n",
              "      <th>Unnamed: 0</th>\n",
              "      <th>City</th>\n",
              "      <th>Date</th>\n",
              "      <th>Officer-defined ethnicity</th>\n",
              "      <th>Type</th>\n",
              "      <th>Self-defined ethnicity</th>\n",
              "      <th>Gender</th>\n",
              "      <th>Age range</th>\n",
              "      <th>Removal of more than just outer clothing</th>\n",
              "      <th>Outcome</th>\n",
              "    </tr>\n",
              "  </thead>\n",
              "  <tbody>\n",
              "    <tr>\n",
              "      <th>0</th>\n",
              "      <td>0</td>\n",
              "      <td>London</td>\n",
              "      <td>2020-01</td>\n",
              "      <td>White</td>\n",
              "      <td>Person search</td>\n",
              "      <td>Other ethnic group - Any other ethnic group</td>\n",
              "      <td>Male</td>\n",
              "      <td>18-24</td>\n",
              "      <td>False</td>\n",
              "      <td>A no further action disposal</td>\n",
              "    </tr>\n",
              "    <tr>\n",
              "      <th>1</th>\n",
              "      <td>1</td>\n",
              "      <td>London</td>\n",
              "      <td>2020-01</td>\n",
              "      <td>Black</td>\n",
              "      <td>Person search</td>\n",
              "      <td>Other ethnic group - Not stated</td>\n",
              "      <td>Male</td>\n",
              "      <td>10-17</td>\n",
              "      <td>False</td>\n",
              "      <td>A no further action disposal</td>\n",
              "    </tr>\n",
              "    <tr>\n",
              "      <th>2</th>\n",
              "      <td>2</td>\n",
              "      <td>London</td>\n",
              "      <td>2020-01</td>\n",
              "      <td>Black</td>\n",
              "      <td>Person search</td>\n",
              "      <td>Black/African/Caribbean/Black British - African</td>\n",
              "      <td>Male</td>\n",
              "      <td>10-17</td>\n",
              "      <td>False</td>\n",
              "      <td>A no further action disposal</td>\n",
              "    </tr>\n",
              "    <tr>\n",
              "      <th>3</th>\n",
              "      <td>3</td>\n",
              "      <td>London</td>\n",
              "      <td>2020-01</td>\n",
              "      <td>Black</td>\n",
              "      <td>Person search</td>\n",
              "      <td>Other ethnic group - Not stated</td>\n",
              "      <td>Male</td>\n",
              "      <td>10-17</td>\n",
              "      <td>False</td>\n",
              "      <td>A no further action disposal</td>\n",
              "    </tr>\n",
              "    <tr>\n",
              "      <th>4</th>\n",
              "      <td>4</td>\n",
              "      <td>London</td>\n",
              "      <td>2020-01</td>\n",
              "      <td>Asian</td>\n",
              "      <td>Person search</td>\n",
              "      <td>Other ethnic group - Not stated</td>\n",
              "      <td>Male</td>\n",
              "      <td>18-24</td>\n",
              "      <td>False</td>\n",
              "      <td>A no further action disposal</td>\n",
              "    </tr>\n",
              "  </tbody>\n",
              "</table>\n",
              "</div>"
            ],
            "text/plain": [
              "   Unnamed: 0  ...                       Outcome\n",
              "0           0  ...  A no further action disposal\n",
              "1           1  ...  A no further action disposal\n",
              "2           2  ...  A no further action disposal\n",
              "3           3  ...  A no further action disposal\n",
              "4           4  ...  A no further action disposal\n",
              "\n",
              "[5 rows x 10 columns]"
            ]
          },
          "metadata": {
            "tags": []
          },
          "execution_count": 14
        }
      ]
    },
    {
      "cell_type": "markdown",
      "metadata": {
        "id": "LLiBfMnpjd11"
      },
      "source": [
        "**Data transformation and sensitive features:**"
      ]
    },
    {
      "cell_type": "code",
      "metadata": {
        "colab": {
          "base_uri": "https://localhost:8080/"
        },
        "id": "KBdzdNOVjjfi",
        "outputId": "eb164ca6-17f0-41b4-a07c-5decdae799c8"
      },
      "source": [
        "#Stops By Race\n",
        "data[\"Officer-defined ethnicity\"].value_counts()"
      ],
      "execution_count": null,
      "outputs": [
        {
          "output_type": "execute_result",
          "data": {
            "text/plain": [
              "White    1424\n",
              "Black     668\n",
              "Asian     577\n",
              "Other     181\n",
              "Name: Officer-defined ethnicity, dtype: int64"
            ]
          },
          "metadata": {
            "tags": []
          },
          "execution_count": 15
        }
      ]
    },
    {
      "cell_type": "code",
      "metadata": {
        "colab": {
          "base_uri": "https://localhost:8080/"
        },
        "id": "4SoqesnmjnCg",
        "outputId": "267800fe-d089-44d5-b2ea-e81971e32e05"
      },
      "source": [
        "#Stops By Gender\n",
        "data[\"Gender\"].value_counts()"
      ],
      "execution_count": null,
      "outputs": [
        {
          "output_type": "execute_result",
          "data": {
            "text/plain": [
              "Male      2581\n",
              "Female     269\n",
              "Name: Gender, dtype: int64"
            ]
          },
          "metadata": {
            "tags": []
          },
          "execution_count": 16
        }
      ]
    },
    {
      "cell_type": "code",
      "metadata": {
        "colab": {
          "base_uri": "https://localhost:8080/"
        },
        "id": "Ce5gYWNijp7Z",
        "outputId": "7d78321f-1d04-4e94-934c-4469057821c7"
      },
      "source": [
        "#Age\n",
        "data['Age range'].value_counts()"
      ],
      "execution_count": null,
      "outputs": [
        {
          "output_type": "execute_result",
          "data": {
            "text/plain": [
              "18-24       1047\n",
              "25-34        949\n",
              "over 34      639\n",
              "10-17        212\n",
              "under 10       3\n",
              "Name: Age range, dtype: int64"
            ]
          },
          "metadata": {
            "tags": []
          },
          "execution_count": 17
        }
      ]
    },
    {
      "cell_type": "code",
      "metadata": {
        "colab": {
          "base_uri": "https://localhost:8080/"
        },
        "id": "DfUFhGcWYr4H",
        "outputId": "3a234582-e7df-4071-95be-731eda8788a1"
      },
      "source": [
        "#EDA frequency distribution of categorical data\n",
        "\n",
        "print(data['Self-defined ethnicity'].value_counts())"
      ],
      "execution_count": null,
      "outputs": [
        {
          "output_type": "stream",
          "text": [
            "Other ethnic group - Not stated                                                         1062\n",
            "White - English/Welsh/Scottish/Northern Irish/British                                    583\n",
            "White - Any other White background                                                       363\n",
            "Black/African/Caribbean/Black British - African                                          209\n",
            "Asian/Asian British - Bangladeshi                                                        157\n",
            "Black/African/Caribbean/Black British - Caribbean                                         96\n",
            "Asian/Asian British - Any other Asian background                                          89\n",
            "Asian/Asian British - Pakistani                                                           50\n",
            "Other ethnic group - Any other ethnic group                                               49\n",
            "Mixed/Multiple ethnic groups - Any other Mixed/Multiple ethnic background                 39\n",
            "Black/African/Caribbean/Black British - Any other Black/African/Caribbean background      39\n",
            "Asian/Asian British - Indian                                                              31\n",
            "White - Irish                                                                             27\n",
            "Mixed/Multiple ethnic groups - White and Black African                                    21\n",
            "Mixed/Multiple ethnic groups - White and Black Caribbean                                  21\n",
            "Mixed/Multiple ethnic groups - White and Asian                                            10\n",
            "Asian/Asian British - Chinese                                                              4\n",
            "Name: Self-defined ethnicity, dtype: int64\n"
          ],
          "name": "stdout"
        }
      ]
    },
    {
      "cell_type": "markdown",
      "metadata": {
        "id": "TW5EldoSj2-u"
      },
      "source": [
        "**Pre Processing and Data visualization:**"
      ]
    },
    {
      "cell_type": "code",
      "metadata": {
        "colab": {
          "base_uri": "https://localhost:8080/",
          "height": 488
        },
        "id": "TvtIqsuUkAs_",
        "outputId": "a347e170-4cea-4796-dade-24803dfac5d9"
      },
      "source": [
        "\n",
        "ax = data['Gender'].value_counts().plot(kind='bar', figsize=(10,7));\n",
        "ax.set_alpha(0.8)\n",
        "ax.set_title(\"Frequency Distribution of Police Officers\", fontsize=12)\n",
        "ax.set_ylabel('Number of Occurrences in policing', fontsize=12)\n",
        "ax.set_xlabel('Police', fontsize=12)\n",
        "# create a list to collect the plt.patches data\n",
        "y = []\n",
        "# find the values and append to list\n",
        "for i in ax.patches:\n",
        "    y.append(i.get_height())\n",
        "# set individual bar lables using above list\n",
        "y = sum(y)\n",
        "\n"
      ],
      "execution_count": null,
      "outputs": [
        {
          "output_type": "display_data",
          "data": {
            "image/png": "[encoded data removed]",
            "text/plain": [
              "<Figure size 720x504 with 1 Axes>"
            ]
          },
          "metadata": {
            "tags": [],
            "needs_background": "light"
          }
        }
      ]
    },
    {
      "cell_type": "code",
      "metadata": {
        "colab": {
          "base_uri": "https://localhost:8080/",
          "height": 497
        },
        "id": "-Xdy5DbzkTR7",
        "outputId": "cefe547f-e2b3-4161-aa15-72b39bde16ce"
      },
      "source": [
        "\n",
        "ax = data['Age range'].value_counts().plot(kind='bar', figsize=(10,7));\n",
        "ax.set_title(\"Frequency Distribution of Police Officers\", fontsize=12)\n",
        "ax.set_ylabel('Number of Occurrences in policing', fontsize=12)\n",
        "ax.set_xlabel('Police', fontsize=12)\n",
        "# create a list to collect the plt.patches data\n",
        "y = []\n",
        "# find the values and append to list\n",
        "for i in ax.patches:\n",
        "    y.append(i.get_height())\n",
        "# set individual bar lables using above list\n",
        "y = sum(y)\n",
        "\n"
      ],
      "execution_count": null,
      "outputs": [
        {
          "output_type": "display_data",
          "data": {
            "image/png": "[encoded data removed]",
            "text/plain": [
              "<Figure size 720x504 with 1 Axes>"
            ]
          },
          "metadata": {
            "tags": [],
            "needs_background": "light"
          }
        }
      ]
    },
    {
      "cell_type": "code",
      "metadata": {
        "colab": {
          "base_uri": "https://localhost:8080/",
          "height": 481
        },
        "id": "uwryRvufkfBn",
        "outputId": "e1f70c95-df1f-427d-da9f-4316dfb736e7"
      },
      "source": [
        "ax = data['Officer-defined ethnicity'].value_counts().plot(kind='bar', figsize=(10,7));\n",
        "ax.set_title(\"Frequency Distribution of Police Officers\", fontsize=12)\n",
        "ax.set_ylabel('Number of Occurrences in policing', fontsize=12)\n",
        "ax.set_xlabel('Police', fontsize=12)\n",
        "# create a list to collect the plt.patches data\n",
        "y = []\n",
        "# find the values and append to list\n",
        "for i in ax.patches:\n",
        "    y.append(i.get_height())\n",
        "# set individual bar lables using above list\n",
        "y = sum(y)\n",
        "\n"
      ],
      "execution_count": null,
      "outputs": [
        {
          "output_type": "display_data",
          "data": {
            "image/png": "[encoded data removed]",
            "text/plain": [
              "<Figure size 720x504 with 1 Axes>"
            ]
          },
          "metadata": {
            "tags": [],
            "needs_background": "light"
          }
        }
      ]
    },
    {
      "cell_type": "code",
      "metadata": {
        "colab": {
          "base_uri": "https://localhost:8080/",
          "height": 498
        },
        "id": "OYmC9eD4YvuN",
        "outputId": "565e74b2-7a43-4c1f-ffcc-520d95205be7"
      },
      "source": [
        "ax = data['Officer-defined ethnicity'].value_counts().plot(kind='bar', figsize=(10,7));\n",
        "ax.set_alpha(0.8)\n",
        "ax.set_title(\"Frequency Distribution of Police Officers\", fontsize=12)\n",
        "ax.set_ylabel('Number of Occurrences in police', fontsize=12)\n",
        "ax.set_xlabel('Police', fontsize=12)\n",
        "\n"
      ],
      "execution_count": null,
      "outputs": [
        {
          "output_type": "execute_result",
          "data": {
            "text/plain": [
              "Text(0.5, 0, 'Police')"
            ]
          },
          "metadata": {
            "tags": []
          },
          "execution_count": 22
        },
        {
          "output_type": "display_data",
          "data": {
            "image/png": "[encoded data removed]",
            "text/plain": [
              "<Figure size 720x504 with 1 Axes>"
            ]
          },
          "metadata": {
            "tags": [],
            "needs_background": "light"
          }
        }
      ]
    },
    {
      "cell_type": "code",
      "metadata": {
        "colab": {
          "base_uri": "https://localhost:8080/"
        },
        "id": "EfaBhzilaJvi",
        "outputId": "6947ddb9-f75e-46fb-c985-a5b20811cbad"
      },
      "source": [
        "# set individual bar lables using above list\n",
        "print(\"percentage of while, black , asian and other police:\")\n",
        "for i in ax.patches:\n",
        "    # get_x pulls left or right; get_height pushes up or down\n",
        "    a = str(round((i.get_height()/y)*100, 2))\n",
        "    print(a)"
      ],
      "execution_count": null,
      "outputs": [
        {
          "output_type": "stream",
          "text": [
            "percentage of while, black , asian and other police:\n",
            "49.96\n",
            "23.44\n",
            "20.25\n",
            "6.35\n"
          ],
          "name": "stdout"
        }
      ]
    },
    {
      "cell_type": "code",
      "metadata": {
        "colab": {
          "base_uri": "https://localhost:8080/",
          "height": 898
        },
        "id": "o32MNYVob-FJ",
        "outputId": "f969118a-b1ec-47b0-d269-309f6e8ddde5"
      },
      "source": [
        "cx = data['Self-defined ethnicity'].value_counts().plot(kind='bar', figsize=(10,7));\n",
        "cx.set_alpha(0.8)\n",
        "cx.set_title(\"Arrests\", fontsize=12)\n",
        "cx.set_ylabel('Ethnicity of people who was searched', fontsize=12)\n",
        "cx.set_xlabel('Number of search', fontsize=12)\n"
      ],
      "execution_count": null,
      "outputs": [
        {
          "output_type": "execute_result",
          "data": {
            "text/plain": [
              "Text(0.5, 0, 'Number of search')"
            ]
          },
          "metadata": {
            "tags": []
          },
          "execution_count": 24
        },
        {
          "output_type": "display_data",
          "data": {
            "image/png": "[encoded data removed]",
            "text/plain": [
              "<Figure size 720x504 with 1 Axes>"
            ]
          },
          "metadata": {
            "tags": [],
            "needs_background": "light"
          }
        }
      ]
    },
    {
      "cell_type": "code",
      "metadata": {
        "colab": {
          "base_uri": "https://localhost:8080/",
          "height": 195
        },
        "id": "wWG5jcSFc69p",
        "outputId": "42ddbffc-b6cb-42e2-a622-ee72f7cdae5c"
      },
      "source": [
        "one = data[[\"City\",\"Officer-defined ethnicity\",\"Self-defined ethnicity\",\"Removal of more than just outer clothing\"]]\n",
        "one.head()"
      ],
      "execution_count": null,
      "outputs": [
        {
          "output_type": "execute_result",
          "data": {
            "text/html": [
              "<div>\n",
              "<style scoped>\n",
              "    .dataframe tbody tr th:only-of-type {\n",
              "        vertical-align: middle;\n",
              "    }\n",
              "\n",
              "    .dataframe tbody tr th {\n",
              "        vertical-align: top;\n",
              "    }\n",
              "\n",
              "    .dataframe thead th {\n",
              "        text-align: right;\n",
              "    }\n",
              "</style>\n",
              "<table border=\"1\" class=\"dataframe\">\n",
              "  <thead>\n",
              "    <tr style=\"text-align: right;\">\n",
              "      <th></th>\n",
              "      <th>City</th>\n",
              "      <th>Officer-defined ethnicity</th>\n",
              "      <th>Self-defined ethnicity</th>\n",
              "      <th>Removal of more than just outer clothing</th>\n",
              "    </tr>\n",
              "  </thead>\n",
              "  <tbody>\n",
              "    <tr>\n",
              "      <th>0</th>\n",
              "      <td>London</td>\n",
              "      <td>White</td>\n",
              "      <td>Other ethnic group - Any other ethnic group</td>\n",
              "      <td>False</td>\n",
              "    </tr>\n",
              "    <tr>\n",
              "      <th>1</th>\n",
              "      <td>London</td>\n",
              "      <td>Black</td>\n",
              "      <td>Other ethnic group - Not stated</td>\n",
              "      <td>False</td>\n",
              "    </tr>\n",
              "    <tr>\n",
              "      <th>2</th>\n",
              "      <td>London</td>\n",
              "      <td>Black</td>\n",
              "      <td>Black/African/Caribbean/Black British - African</td>\n",
              "      <td>False</td>\n",
              "    </tr>\n",
              "    <tr>\n",
              "      <th>3</th>\n",
              "      <td>London</td>\n",
              "      <td>Black</td>\n",
              "      <td>Other ethnic group - Not stated</td>\n",
              "      <td>False</td>\n",
              "    </tr>\n",
              "    <tr>\n",
              "      <th>4</th>\n",
              "      <td>London</td>\n",
              "      <td>Asian</td>\n",
              "      <td>Other ethnic group - Not stated</td>\n",
              "      <td>False</td>\n",
              "    </tr>\n",
              "  </tbody>\n",
              "</table>\n",
              "</div>"
            ],
            "text/plain": [
              "     City  ... Removal of more than just outer clothing\n",
              "0  London  ...                                    False\n",
              "1  London  ...                                    False\n",
              "2  London  ...                                    False\n",
              "3  London  ...                                    False\n",
              "4  London  ...                                    False\n",
              "\n",
              "[5 rows x 4 columns]"
            ]
          },
          "metadata": {
            "tags": []
          },
          "execution_count": 25
        }
      ]
    },
    {
      "cell_type": "code",
      "metadata": {
        "colab": {
          "base_uri": "https://localhost:8080/"
        },
        "id": "90qD7eRzluaG",
        "outputId": "d86b0f69-2500-428a-f3ea-d915e2ee8496"
      },
      "source": [
        "from sklearn.preprocessing import LabelEncoder\n",
        "labelencoder = LabelEncoder()\n",
        "one['Removal of more than just outer clothing'] = labelencoder.fit_transform(one['Removal of more than just outer clothing'])\n",
        "one['City'] = labelencoder.fit_transform(one['City'])\n",
        "one = pd.get_dummies(one, columns=['Self-defined ethnicity'], prefix = ['self'])\n",
        "print(one.head())"
      ],
      "execution_count": null,
      "outputs": [
        {
          "output_type": "stream",
          "text": [
            "   City  ... self_White - Irish\n",
            "0     0  ...                  0\n",
            "1     0  ...                  0\n",
            "2     0  ...                  0\n",
            "3     0  ...                  0\n",
            "4     0  ...                  0\n",
            "\n",
            "[5 rows x 20 columns]\n"
          ],
          "name": "stdout"
        },
        {
          "output_type": "stream",
          "text": [
            "/usr/local/lib/python3.7/dist-packages/ipykernel_launcher.py:3: SettingWithCopyWarning: \n",
            "A value is trying to be set on a copy of a slice from a DataFrame.\n",
            "Try using .loc[row_indexer,col_indexer] = value instead\n",
            "\n",
            "See the caveats in the documentation: https://pandas.pydata.org/pandas-docs/stable/user_guide/indexing.html#returning-a-view-versus-a-copy\n",
            "  This is separate from the ipykernel package so we can avoid doing imports until\n",
            "/usr/local/lib/python3.7/dist-packages/ipykernel_launcher.py:4: SettingWithCopyWarning: \n",
            "A value is trying to be set on a copy of a slice from a DataFrame.\n",
            "Try using .loc[row_indexer,col_indexer] = value instead\n",
            "\n",
            "See the caveats in the documentation: https://pandas.pydata.org/pandas-docs/stable/user_guide/indexing.html#returning-a-view-versus-a-copy\n",
            "  after removing the cwd from sys.path.\n"
          ],
          "name": "stderr"
        }
      ]
    },
    {
      "cell_type": "markdown",
      "metadata": {
        "id": "hSi6POIb4DIa"
      },
      "source": [
        "**Compute statistics regarding the relative quanties of warnings, arrests, and citations:**"
      ]
    },
    {
      "cell_type": "code",
      "metadata": {
        "colab": {
          "base_uri": "https://localhost:8080/"
        },
        "id": "7zwSaA2Tk_8I",
        "outputId": "40406c3d-3c43-4a56-c027-e0d8d1c3d8e3"
      },
      "source": [
        "#helper function\n",
        "def compute_outcome_stats(dfdf):\n",
        "    n_total = len(dfdf)\n",
        "    n_warnings = len(dfdf[dfdf['Outcome'] == 'Khat or Cannabis warning'])\n",
        "    n_penalty = len(dfdf[dfdf['Outcome'] == 'Penalty Notice for Disorder'])\n",
        "    n_arrests = len(dfdf[dfdf['Outcome'] == 'Arrest'])\n",
        "    penalty_per_warning = n_penalty / n_warnings\n",
        "    arrest_rate = n_arrests / n_total\n",
        "\n",
        "    return(pd.Series(data = {\n",
        "        'n_total': n_total,\n",
        "        'n_warnings': n_warnings,\n",
        "        'n_penalty': n_penalty,\n",
        "        'n_arrests': n_arrests,\n",
        "        'penalty_per_warning': penalty_per_warning,\n",
        "        'arrest_rate': arrest_rate\n",
        "    }))\n",
        "compute_outcome_stats(data)"
      ],
      "execution_count": null,
      "outputs": [
        {
          "output_type": "execute_result",
          "data": {
            "text/plain": [
              "n_total                2850.000000\n",
              "n_warnings              165.000000\n",
              "n_penalty                12.000000\n",
              "n_arrests               513.000000\n",
              "penalty_per_warning       0.072727\n",
              "arrest_rate               0.180000\n",
              "dtype: float64"
            ]
          },
          "metadata": {
            "tags": []
          },
          "execution_count": 27
        }
      ]
    },
    {
      "cell_type": "code",
      "metadata": {
        "colab": {
          "base_uri": "https://localhost:8080/",
          "height": 136
        },
        "id": "BLBCOY5RlDlS",
        "outputId": "d7064b2c-d991-49e8-f909-41e9b1ec2e2b"
      },
      "source": [
        "#breakdown by gender (using helper function)\n",
        "data.groupby('Gender').apply(compute_outcome_stats)"
      ],
      "execution_count": null,
      "outputs": [
        {
          "output_type": "execute_result",
          "data": {
            "text/html": [
              "<div>\n",
              "<style scoped>\n",
              "    .dataframe tbody tr th:only-of-type {\n",
              "        vertical-align: middle;\n",
              "    }\n",
              "\n",
              "    .dataframe tbody tr th {\n",
              "        vertical-align: top;\n",
              "    }\n",
              "\n",
              "    .dataframe thead th {\n",
              "        text-align: right;\n",
              "    }\n",
              "</style>\n",
              "<table border=\"1\" class=\"dataframe\">\n",
              "  <thead>\n",
              "    <tr style=\"text-align: right;\">\n",
              "      <th></th>\n",
              "      <th>n_total</th>\n",
              "      <th>n_warnings</th>\n",
              "      <th>n_penalty</th>\n",
              "      <th>n_arrests</th>\n",
              "      <th>penalty_per_warning</th>\n",
              "      <th>arrest_rate</th>\n",
              "    </tr>\n",
              "    <tr>\n",
              "      <th>Gender</th>\n",
              "      <th></th>\n",
              "      <th></th>\n",
              "      <th></th>\n",
              "      <th></th>\n",
              "      <th></th>\n",
              "      <th></th>\n",
              "    </tr>\n",
              "  </thead>\n",
              "  <tbody>\n",
              "    <tr>\n",
              "      <th>Female</th>\n",
              "      <td>269.0</td>\n",
              "      <td>16.0</td>\n",
              "      <td>2.0</td>\n",
              "      <td>47.0</td>\n",
              "      <td>0.125000</td>\n",
              "      <td>0.174721</td>\n",
              "    </tr>\n",
              "    <tr>\n",
              "      <th>Male</th>\n",
              "      <td>2581.0</td>\n",
              "      <td>149.0</td>\n",
              "      <td>10.0</td>\n",
              "      <td>466.0</td>\n",
              "      <td>0.067114</td>\n",
              "      <td>0.180550</td>\n",
              "    </tr>\n",
              "  </tbody>\n",
              "</table>\n",
              "</div>"
            ],
            "text/plain": [
              "        n_total  n_warnings  ...  penalty_per_warning  arrest_rate\n",
              "Gender                       ...                                  \n",
              "Female    269.0        16.0  ...             0.125000     0.174721\n",
              "Male     2581.0       149.0  ...             0.067114     0.180550\n",
              "\n",
              "[2 rows x 6 columns]"
            ]
          },
          "metadata": {
            "tags": []
          },
          "execution_count": 28
        }
      ]
    },
    {
      "cell_type": "code",
      "metadata": {
        "colab": {
          "base_uri": "https://localhost:8080/",
          "height": 369
        },
        "id": "t7MYuEs3oYjb",
        "outputId": "a958d583-87c7-4df9-9e30-539f17c1d891"
      },
      "source": [
        "#penalty Gender and arrest gender by gender\n",
        "figsize = (10,5)\n",
        "race_agg = data.groupby(['Gender']).apply(compute_outcome_stats)\n",
        "fig, axes = plt.subplots(nrows=1, ncols=2, figsize=figsize)\n",
        "race_agg['penalty_per_warning'].plot.bar(ax=axes[0], figsize=figsize,  edgecolor='blue', title=\"Penalty Rate By Race\")\n",
        "race_agg['arrest_rate'].plot.bar(ax=axes[1], figsize=figsize, edgecolor='blue', title='Arrest Rate By Race')\n",
        "plt.tight_layout()"
      ],
      "execution_count": null,
      "outputs": [
        {
          "output_type": "display_data",
          "data": {
            "image/png": "[encoded data removed]",
            "text/plain": [
              "<Figure size 720x360 with 2 Axes>"
            ]
          },
          "metadata": {
            "tags": [],
            "needs_background": "light"
          }
        }
      ]
    },
    {
      "cell_type": "code",
      "metadata": {
        "colab": {
          "base_uri": "https://localhost:8080/",
          "height": 195
        },
        "id": "uvZYyeFilMQI",
        "outputId": "241a71aa-ac6b-47d2-f2e4-97a1fa168425"
      },
      "source": [
        "#breakdown by race (using helper function)\n",
        "data.groupby('Officer-defined ethnicity').apply(compute_outcome_stats)"
      ],
      "execution_count": null,
      "outputs": [
        {
          "output_type": "execute_result",
          "data": {
            "text/html": [
              "<div>\n",
              "<style scoped>\n",
              "    .dataframe tbody tr th:only-of-type {\n",
              "        vertical-align: middle;\n",
              "    }\n",
              "\n",
              "    .dataframe tbody tr th {\n",
              "        vertical-align: top;\n",
              "    }\n",
              "\n",
              "    .dataframe thead th {\n",
              "        text-align: right;\n",
              "    }\n",
              "</style>\n",
              "<table border=\"1\" class=\"dataframe\">\n",
              "  <thead>\n",
              "    <tr style=\"text-align: right;\">\n",
              "      <th></th>\n",
              "      <th>n_total</th>\n",
              "      <th>n_warnings</th>\n",
              "      <th>n_penalty</th>\n",
              "      <th>n_arrests</th>\n",
              "      <th>penalty_per_warning</th>\n",
              "      <th>arrest_rate</th>\n",
              "    </tr>\n",
              "    <tr>\n",
              "      <th>Officer-defined ethnicity</th>\n",
              "      <th></th>\n",
              "      <th></th>\n",
              "      <th></th>\n",
              "      <th></th>\n",
              "      <th></th>\n",
              "      <th></th>\n",
              "    </tr>\n",
              "  </thead>\n",
              "  <tbody>\n",
              "    <tr>\n",
              "      <th>Asian</th>\n",
              "      <td>577.0</td>\n",
              "      <td>36.0</td>\n",
              "      <td>5.0</td>\n",
              "      <td>94.0</td>\n",
              "      <td>0.138889</td>\n",
              "      <td>0.162912</td>\n",
              "    </tr>\n",
              "    <tr>\n",
              "      <th>Black</th>\n",
              "      <td>668.0</td>\n",
              "      <td>37.0</td>\n",
              "      <td>2.0</td>\n",
              "      <td>136.0</td>\n",
              "      <td>0.054054</td>\n",
              "      <td>0.203593</td>\n",
              "    </tr>\n",
              "    <tr>\n",
              "      <th>Other</th>\n",
              "      <td>181.0</td>\n",
              "      <td>4.0</td>\n",
              "      <td>2.0</td>\n",
              "      <td>38.0</td>\n",
              "      <td>0.500000</td>\n",
              "      <td>0.209945</td>\n",
              "    </tr>\n",
              "    <tr>\n",
              "      <th>White</th>\n",
              "      <td>1424.0</td>\n",
              "      <td>88.0</td>\n",
              "      <td>3.0</td>\n",
              "      <td>245.0</td>\n",
              "      <td>0.034091</td>\n",
              "      <td>0.172051</td>\n",
              "    </tr>\n",
              "  </tbody>\n",
              "</table>\n",
              "</div>"
            ],
            "text/plain": [
              "                           n_total  ...  arrest_rate\n",
              "Officer-defined ethnicity           ...             \n",
              "Asian                        577.0  ...     0.162912\n",
              "Black                        668.0  ...     0.203593\n",
              "Other                        181.0  ...     0.209945\n",
              "White                       1424.0  ...     0.172051\n",
              "\n",
              "[4 rows x 6 columns]"
            ]
          },
          "metadata": {
            "tags": []
          },
          "execution_count": 30
        }
      ]
    },
    {
      "cell_type": "code",
      "metadata": {
        "colab": {
          "base_uri": "https://localhost:8080/",
          "height": 369
        },
        "id": "p9J87RUGlziE",
        "outputId": "45d42307-33ad-47a4-9772-388cb443017b"
      },
      "source": [
        "#penalty rate and arrest rate by race\n",
        "figsize = (10,5)\n",
        "race_agg = data.groupby(['Officer-defined ethnicity']).apply(compute_outcome_stats)\n",
        "fig, axes = plt.subplots(nrows=1, ncols=2, figsize=figsize)\n",
        "race_agg['penalty_per_warning'].plot.bar(ax=axes[0], figsize=figsize,  edgecolor='blue', title=\"Penalty Rate By Race\")\n",
        "race_agg['arrest_rate'].plot.bar(ax=axes[1], figsize=figsize,  edgecolor='blue', title='Arrest Rate By Race')\n",
        "plt.tight_layout()"
      ],
      "execution_count": null,
      "outputs": [
        {
          "output_type": "display_data",
          "data": {
            "image/png": "[encoded data removed]",
            "text/plain": [
              "<Figure size 720x360 with 2 Axes>"
            ]
          },
          "metadata": {
            "tags": [],
            "needs_background": "light"
          }
        }
      ]
    },
    {
      "cell_type": "code",
      "metadata": {
        "id": "XGQM3qadyYUE",
        "colab": {
          "base_uri": "https://localhost:8080/",
          "height": 296
        },
        "outputId": "15a4680d-b7b8-4762-d6d4-ca1310addfe2"
      },
      "source": [
        "#Racial bias\n",
        "privileged_group = data[data[\"Officer-defined ethnicity\"] == \"White\"]\n",
        "privileged_group.head()\n",
        "underprivileged_group = data[data[\"Officer-defined ethnicity\"] != \"White\"]\n",
        "underprivileged_group.head()"
      ],
      "execution_count": null,
      "outputs": [
        {
          "output_type": "execute_result",
          "data": {
            "text/html": [
              "<div>\n",
              "<style scoped>\n",
              "    .dataframe tbody tr th:only-of-type {\n",
              "        vertical-align: middle;\n",
              "    }\n",
              "\n",
              "    .dataframe tbody tr th {\n",
              "        vertical-align: top;\n",
              "    }\n",
              "\n",
              "    .dataframe thead th {\n",
              "        text-align: right;\n",
              "    }\n",
              "</style>\n",
              "<table border=\"1\" class=\"dataframe\">\n",
              "  <thead>\n",
              "    <tr style=\"text-align: right;\">\n",
              "      <th></th>\n",
              "      <th>Unnamed: 0</th>\n",
              "      <th>City</th>\n",
              "      <th>Date</th>\n",
              "      <th>Officer-defined ethnicity</th>\n",
              "      <th>Type</th>\n",
              "      <th>Self-defined ethnicity</th>\n",
              "      <th>Gender</th>\n",
              "      <th>Age range</th>\n",
              "      <th>Removal of more than just outer clothing</th>\n",
              "      <th>Outcome</th>\n",
              "    </tr>\n",
              "  </thead>\n",
              "  <tbody>\n",
              "    <tr>\n",
              "      <th>1</th>\n",
              "      <td>1</td>\n",
              "      <td>London</td>\n",
              "      <td>2020-01</td>\n",
              "      <td>Black</td>\n",
              "      <td>Person search</td>\n",
              "      <td>Other ethnic group - Not stated</td>\n",
              "      <td>Male</td>\n",
              "      <td>10-17</td>\n",
              "      <td>False</td>\n",
              "      <td>A no further action disposal</td>\n",
              "    </tr>\n",
              "    <tr>\n",
              "      <th>2</th>\n",
              "      <td>2</td>\n",
              "      <td>London</td>\n",
              "      <td>2020-01</td>\n",
              "      <td>Black</td>\n",
              "      <td>Person search</td>\n",
              "      <td>Black/African/Caribbean/Black British - African</td>\n",
              "      <td>Male</td>\n",
              "      <td>10-17</td>\n",
              "      <td>False</td>\n",
              "      <td>A no further action disposal</td>\n",
              "    </tr>\n",
              "    <tr>\n",
              "      <th>3</th>\n",
              "      <td>3</td>\n",
              "      <td>London</td>\n",
              "      <td>2020-01</td>\n",
              "      <td>Black</td>\n",
              "      <td>Person search</td>\n",
              "      <td>Other ethnic group - Not stated</td>\n",
              "      <td>Male</td>\n",
              "      <td>10-17</td>\n",
              "      <td>False</td>\n",
              "      <td>A no further action disposal</td>\n",
              "    </tr>\n",
              "    <tr>\n",
              "      <th>4</th>\n",
              "      <td>4</td>\n",
              "      <td>London</td>\n",
              "      <td>2020-01</td>\n",
              "      <td>Asian</td>\n",
              "      <td>Person search</td>\n",
              "      <td>Other ethnic group - Not stated</td>\n",
              "      <td>Male</td>\n",
              "      <td>18-24</td>\n",
              "      <td>False</td>\n",
              "      <td>A no further action disposal</td>\n",
              "    </tr>\n",
              "    <tr>\n",
              "      <th>5</th>\n",
              "      <td>5</td>\n",
              "      <td>London</td>\n",
              "      <td>2020-01</td>\n",
              "      <td>Black</td>\n",
              "      <td>Person and Vehicle search</td>\n",
              "      <td>Black/African/Caribbean/Black British - African</td>\n",
              "      <td>Male</td>\n",
              "      <td>18-24</td>\n",
              "      <td>False</td>\n",
              "      <td>A no further action disposal</td>\n",
              "    </tr>\n",
              "  </tbody>\n",
              "</table>\n",
              "</div>"
            ],
            "text/plain": [
              "   Unnamed: 0  ...                       Outcome\n",
              "1           1  ...  A no further action disposal\n",
              "2           2  ...  A no further action disposal\n",
              "3           3  ...  A no further action disposal\n",
              "4           4  ...  A no further action disposal\n",
              "5           5  ...  A no further action disposal\n",
              "\n",
              "[5 rows x 10 columns]"
            ]
          },
          "metadata": {
            "tags": []
          },
          "execution_count": 35
        }
      ]
    },
    {
      "cell_type": "code",
      "metadata": {
        "id": "V6sNP9dOybGY",
        "colab": {
          "base_uri": "https://localhost:8080/",
          "height": 47
        },
        "outputId": "3a7a004d-1062-47c9-f3ac-f797c6599c72"
      },
      "source": [
        "#gender bias\n",
        "privileged_group = data[data[\"Gender\"] == \"FEMALE\"]\n",
        "privileged_group.head()\n",
        "underprivileged_group = data[data[\"Gender\"] == \"MALE\"]\n",
        "underprivileged_group.head()"
      ],
      "execution_count": null,
      "outputs": [
        {
          "output_type": "execute_result",
          "data": {
            "text/html": [
              "<div>\n",
              "<style scoped>\n",
              "    .dataframe tbody tr th:only-of-type {\n",
              "        vertical-align: middle;\n",
              "    }\n",
              "\n",
              "    .dataframe tbody tr th {\n",
              "        vertical-align: top;\n",
              "    }\n",
              "\n",
              "    .dataframe thead th {\n",
              "        text-align: right;\n",
              "    }\n",
              "</style>\n",
              "<table border=\"1\" class=\"dataframe\">\n",
              "  <thead>\n",
              "    <tr style=\"text-align: right;\">\n",
              "      <th></th>\n",
              "      <th>Unnamed: 0</th>\n",
              "      <th>City</th>\n",
              "      <th>Date</th>\n",
              "      <th>Officer-defined ethnicity</th>\n",
              "      <th>Type</th>\n",
              "      <th>Self-defined ethnicity</th>\n",
              "      <th>Gender</th>\n",
              "      <th>Age range</th>\n",
              "      <th>Removal of more than just outer clothing</th>\n",
              "      <th>Outcome</th>\n",
              "    </tr>\n",
              "  </thead>\n",
              "  <tbody>\n",
              "  </tbody>\n",
              "</table>\n",
              "</div>"
            ],
            "text/plain": [
              "Empty DataFrame\n",
              "Columns: [Unnamed: 0, City, Date, Officer-defined ethnicity, Type, Self-defined ethnicity, Gender, Age range, Removal of more than just outer clothing, Outcome]\n",
              "Index: []"
            ]
          },
          "metadata": {
            "tags": []
          },
          "execution_count": 36
        }
      ]
    }
  ]
}